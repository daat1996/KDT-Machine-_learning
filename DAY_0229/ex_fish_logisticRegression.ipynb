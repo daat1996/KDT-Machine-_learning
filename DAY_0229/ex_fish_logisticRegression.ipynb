{
 "cells": [
  {
   "cell_type": "markdown",
   "source": [
    "### 목표: 생선 분류 모델\n",
    "- 데이터 : fish.csv\n",
    "- 피쳐 : 5개 Weight,Length,Diagonal,Height,Width\n",
    "- 타겟 : 1개 Species\n",
    "- 방법 : 지도학습 + 다중분류"
   ],
   "metadata": {
    "collapsed": false
   },
   "id": "d206684ae3666053"
  },
  {
   "cell_type": "code",
   "outputs": [],
   "source": [
    "# 모듈로딩\n",
    "import pandas as pd\n",
    "import numpy as np\n",
    "import matplotlib.pyplot as plt\n"
   ],
   "metadata": {
    "collapsed": false,
    "ExecuteTime": {
     "end_time": "2024-03-04T11:58:48.620357600Z",
     "start_time": "2024-03-04T11:58:48.488078Z"
    }
   },
   "id": "d1941de06f843e56",
   "execution_count": 164
  },
  {
   "cell_type": "code",
   "outputs": [
    {
     "data": {
      "text/plain": "  Species  Weight  Length  Diagonal  Height   Width\n0   Bream   242.0    25.4      30.0   11.52  4.0200\n1   Bream   290.0    26.3      31.2   12.48  4.3056",
      "text/html": "<div>\n<style scoped>\n    .dataframe tbody tr th:only-of-type {\n        vertical-align: middle;\n    }\n\n    .dataframe tbody tr th {\n        vertical-align: top;\n    }\n\n    .dataframe thead th {\n        text-align: right;\n    }\n</style>\n<table border=\"1\" class=\"dataframe\">\n  <thead>\n    <tr style=\"text-align: right;\">\n      <th></th>\n      <th>Species</th>\n      <th>Weight</th>\n      <th>Length</th>\n      <th>Diagonal</th>\n      <th>Height</th>\n      <th>Width</th>\n    </tr>\n  </thead>\n  <tbody>\n    <tr>\n      <th>0</th>\n      <td>Bream</td>\n      <td>242.0</td>\n      <td>25.4</td>\n      <td>30.0</td>\n      <td>11.52</td>\n      <td>4.0200</td>\n    </tr>\n    <tr>\n      <th>1</th>\n      <td>Bream</td>\n      <td>290.0</td>\n      <td>26.3</td>\n      <td>31.2</td>\n      <td>12.48</td>\n      <td>4.3056</td>\n    </tr>\n  </tbody>\n</table>\n</div>"
     },
     "execution_count": 165,
     "metadata": {},
     "output_type": "execute_result"
    }
   ],
   "source": [
    "# 데이터 준비\n",
    "data_file = '../data/fish.csv'\n",
    "fishDF = pd.read_csv(data_file)\n",
    "fishDF.head(2)"
   ],
   "metadata": {
    "collapsed": false,
    "ExecuteTime": {
     "end_time": "2024-03-04T11:58:48.686199Z",
     "start_time": "2024-03-04T11:58:48.622358100Z"
    }
   },
   "id": "e2fe638e8dd405c",
   "execution_count": 165
  },
  {
   "cell_type": "markdown",
   "source": [
    "(2) 학습위한 데이터 준비<hr>"
   ],
   "metadata": {
    "collapsed": false
   },
   "id": "19b85448df00c1a0"
  },
  {
   "cell_type": "markdown",
   "source": [
    "(2-1) 피쳐/타겟 분리"
   ],
   "metadata": {
    "collapsed": false
   },
   "id": "930437d1b05dfb8e"
  },
  {
   "cell_type": "code",
   "outputs": [],
   "source": [
    "featureDF = fishDF[fishDF.columns[1:]]\n",
    "targetDF = fishDF[fishDF.columns[0]]"
   ],
   "metadata": {
    "collapsed": false,
    "ExecuteTime": {
     "end_time": "2024-03-04T11:58:48.708691800Z",
     "start_time": "2024-03-04T11:58:48.656358500Z"
    }
   },
   "id": "99bd884620396ca0",
   "execution_count": 166
  },
  {
   "cell_type": "code",
   "outputs": [
    {
     "name": "stdout",
     "output_type": "stream",
     "text": [
      "featureDF : (159, 5), targetDF : (159,)\n"
     ]
    }
   ],
   "source": [
    "print(f'featureDF : {featureDF.shape}, targetDF : {targetDF.shape}')"
   ],
   "metadata": {
    "collapsed": false,
    "ExecuteTime": {
     "end_time": "2024-03-04T11:58:48.761535500Z",
     "start_time": "2024-03-04T11:58:48.693652400Z"
    }
   },
   "id": "ed91281d91f12f50",
   "execution_count": 167
  },
  {
   "cell_type": "code",
   "outputs": [
    {
     "data": {
      "text/plain": "LabelEncoder()",
      "text/html": "<style>#sk-container-id-18 {color: black;}#sk-container-id-18 pre{padding: 0;}#sk-container-id-18 div.sk-toggleable {background-color: white;}#sk-container-id-18 label.sk-toggleable__label {cursor: pointer;display: block;width: 100%;margin-bottom: 0;padding: 0.3em;box-sizing: border-box;text-align: center;}#sk-container-id-18 label.sk-toggleable__label-arrow:before {content: \"▸\";float: left;margin-right: 0.25em;color: #696969;}#sk-container-id-18 label.sk-toggleable__label-arrow:hover:before {color: black;}#sk-container-id-18 div.sk-estimator:hover label.sk-toggleable__label-arrow:before {color: black;}#sk-container-id-18 div.sk-toggleable__content {max-height: 0;max-width: 0;overflow: hidden;text-align: left;background-color: #f0f8ff;}#sk-container-id-18 div.sk-toggleable__content pre {margin: 0.2em;color: black;border-radius: 0.25em;background-color: #f0f8ff;}#sk-container-id-18 input.sk-toggleable__control:checked~div.sk-toggleable__content {max-height: 200px;max-width: 100%;overflow: auto;}#sk-container-id-18 input.sk-toggleable__control:checked~label.sk-toggleable__label-arrow:before {content: \"▾\";}#sk-container-id-18 div.sk-estimator input.sk-toggleable__control:checked~label.sk-toggleable__label {background-color: #d4ebff;}#sk-container-id-18 div.sk-label input.sk-toggleable__control:checked~label.sk-toggleable__label {background-color: #d4ebff;}#sk-container-id-18 input.sk-hidden--visually {border: 0;clip: rect(1px 1px 1px 1px);clip: rect(1px, 1px, 1px, 1px);height: 1px;margin: -1px;overflow: hidden;padding: 0;position: absolute;width: 1px;}#sk-container-id-18 div.sk-estimator {font-family: monospace;background-color: #f0f8ff;border: 1px dotted black;border-radius: 0.25em;box-sizing: border-box;margin-bottom: 0.5em;}#sk-container-id-18 div.sk-estimator:hover {background-color: #d4ebff;}#sk-container-id-18 div.sk-parallel-item::after {content: \"\";width: 100%;border-bottom: 1px solid gray;flex-grow: 1;}#sk-container-id-18 div.sk-label:hover label.sk-toggleable__label {background-color: #d4ebff;}#sk-container-id-18 div.sk-serial::before {content: \"\";position: absolute;border-left: 1px solid gray;box-sizing: border-box;top: 0;bottom: 0;left: 50%;z-index: 0;}#sk-container-id-18 div.sk-serial {display: flex;flex-direction: column;align-items: center;background-color: white;padding-right: 0.2em;padding-left: 0.2em;position: relative;}#sk-container-id-18 div.sk-item {position: relative;z-index: 1;}#sk-container-id-18 div.sk-parallel {display: flex;align-items: stretch;justify-content: center;background-color: white;position: relative;}#sk-container-id-18 div.sk-item::before, #sk-container-id-18 div.sk-parallel-item::before {content: \"\";position: absolute;border-left: 1px solid gray;box-sizing: border-box;top: 0;bottom: 0;left: 50%;z-index: -1;}#sk-container-id-18 div.sk-parallel-item {display: flex;flex-direction: column;z-index: 1;position: relative;background-color: white;}#sk-container-id-18 div.sk-parallel-item:first-child::after {align-self: flex-end;width: 50%;}#sk-container-id-18 div.sk-parallel-item:last-child::after {align-self: flex-start;width: 50%;}#sk-container-id-18 div.sk-parallel-item:only-child::after {width: 0;}#sk-container-id-18 div.sk-dashed-wrapped {border: 1px dashed gray;margin: 0 0.4em 0.5em 0.4em;box-sizing: border-box;padding-bottom: 0.4em;background-color: white;}#sk-container-id-18 div.sk-label label {font-family: monospace;font-weight: bold;display: inline-block;line-height: 1.2em;}#sk-container-id-18 div.sk-label-container {text-align: center;}#sk-container-id-18 div.sk-container {/* jupyter's `normalize.less` sets `[hidden] { display: none; }` but bootstrap.min.css set `[hidden] { display: none !important; }` so we also need the `!important` here to be able to override the default hidden behavior on the sphinx rendered scikit-learn.org. See: https://github.com/scikit-learn/scikit-learn/issues/21755 */display: inline-block !important;position: relative;}#sk-container-id-18 div.sk-text-repr-fallback {display: none;}</style><div id=\"sk-container-id-18\" class=\"sk-top-container\"><div class=\"sk-text-repr-fallback\"><pre>LabelEncoder()</pre><b>In a Jupyter environment, please rerun this cell to show the HTML representation or trust the notebook. <br />On GitHub, the HTML representation is unable to render, please try loading this page with nbviewer.org.</b></div><div class=\"sk-container\" hidden><div class=\"sk-item\"><div class=\"sk-estimator sk-toggleable\"><input class=\"sk-toggleable__control sk-hidden--visually\" id=\"sk-estimator-id-18\" type=\"checkbox\" checked><label for=\"sk-estimator-id-18\" class=\"sk-toggleable__label sk-toggleable__label-arrow\">LabelEncoder</label><div class=\"sk-toggleable__content\"><pre>LabelEncoder()</pre></div></div></div></div></div>"
     },
     "execution_count": 168,
     "metadata": {},
     "output_type": "execute_result"
    }
   ],
   "source": [
    "# 문자를 숫자열로\n",
    "from sklearn.preprocessing import LabelEncoder\n",
    "encoder = LabelEncoder()\n",
    "encoder.fit(targetDF)"
   ],
   "metadata": {
    "collapsed": false,
    "ExecuteTime": {
     "end_time": "2024-03-04T11:58:48.772525200Z",
     "start_time": "2024-03-04T11:58:48.751525700Z"
    }
   },
   "id": "45c6e319eb174bf",
   "execution_count": 168
  },
  {
   "cell_type": "code",
   "outputs": [
    {
     "name": "stdout",
     "output_type": "stream",
     "text": [
      "[0 0 0 0 0 0 0 0 0 0 0 0 0 0 0 0 0 0 0 0 0 0 0 0 0 0 0 0 0 0 0 0 0 0 0 4 4\n",
      " 4 4 4 4 4 4 4 4 4 4 4 4 4 4 4 4 4 4 6 6 6 6 6 6 1 1 1 1 1 1 1 1 1 1 1 2 2\n",
      " 2 2 2 2 2 2 2 2 2 2 2 2 2 2 2 2 2 2 2 2 2 2 2 2 2 2 2 2 2 2 2 2 2 2 2 2 2\n",
      " 2 2 2 2 2 2 2 2 2 2 2 2 2 2 2 2 2 3 3 3 3 3 3 3 3 3 3 3 3 3 3 3 3 3 5 5 5\n",
      " 5 5 5 5 5 5 5 5 5 5 5]\n"
     ]
    }
   ],
   "source": [
    "targetDF = encoder.transform(targetDF)\n",
    "print(targetDF)"
   ],
   "metadata": {
    "collapsed": false,
    "ExecuteTime": {
     "end_time": "2024-03-04T11:58:48.829525700Z",
     "start_time": "2024-03-04T11:58:48.776524900Z"
    }
   },
   "id": "681e8e1e97339734",
   "execution_count": 169
  },
  {
   "cell_type": "code",
   "outputs": [],
   "source": [
    "targetDF = pd.Series(targetDF)"
   ],
   "metadata": {
    "collapsed": false,
    "ExecuteTime": {
     "end_time": "2024-03-04T11:58:48.832525600Z",
     "start_time": "2024-03-04T11:58:48.805525300Z"
    }
   },
   "id": "7173b625f9e67e30",
   "execution_count": 170
  },
  {
   "cell_type": "code",
   "outputs": [
    {
     "data": {
      "text/plain": "7"
     },
     "execution_count": 171,
     "metadata": {},
     "output_type": "execute_result"
    }
   ],
   "source": [
    "# 타겟의 클래스 수 확인\n",
    "targetDF.nunique()"
   ],
   "metadata": {
    "collapsed": false,
    "ExecuteTime": {
     "end_time": "2024-03-04T11:58:48.872535900Z",
     "start_time": "2024-03-04T11:58:48.836526Z"
    }
   },
   "id": "428b657ba1e9b099",
   "execution_count": 171
  },
  {
   "cell_type": "code",
   "outputs": [
    {
     "data": {
      "text/plain": "2    35.220126\n0    22.012579\n4    12.578616\n3    10.691824\n5     8.805031\n1     6.918239\n6     3.773585\nName: count, dtype: float64"
     },
     "execution_count": 172,
     "metadata": {},
     "output_type": "execute_result"
    }
   ],
   "source": [
    "# 타겟 클래스 별 데이터 수 확인\n",
    "(targetDF.value_counts()/targetDF.shape[0])*100"
   ],
   "metadata": {
    "collapsed": false,
    "ExecuteTime": {
     "end_time": "2024-03-04T11:58:48.897532300Z",
     "start_time": "2024-03-04T11:58:48.865525500Z"
    }
   },
   "id": "7b66060708a1ea10",
   "execution_count": 172
  },
  {
   "cell_type": "markdown",
   "source": [
    "(2-2) 학습용/테스트용 데이터셋 준비"
   ],
   "metadata": {
    "collapsed": false
   },
   "id": "3be7de09ba6c8040"
  },
  {
   "cell_type": "code",
   "outputs": [],
   "source": [
    "from sklearn.model_selection import train_test_split"
   ],
   "metadata": {
    "collapsed": false,
    "ExecuteTime": {
     "end_time": "2024-03-04T11:58:48.930536400Z",
     "start_time": "2024-03-04T11:58:48.900525900Z"
    }
   },
   "id": "abb00e5b78e0d983",
   "execution_count": 173
  },
  {
   "cell_type": "code",
   "outputs": [],
   "source": [
    "x_train, x_test, y_train, y_test = train_test_split(featureDF, targetDF, stratify=targetDF, random_state=11)"
   ],
   "metadata": {
    "collapsed": false,
    "ExecuteTime": {
     "end_time": "2024-03-04T11:58:48.944525900Z",
     "start_time": "2024-03-04T11:58:48.921526500Z"
    }
   },
   "id": "757751c5e9b6fa4d",
   "execution_count": 174
  },
  {
   "cell_type": "code",
   "outputs": [
    {
     "name": "stdout",
     "output_type": "stream",
     "text": [
      "[Train Dataset] (119, 5), (119,)\n",
      "[Test Dataset] (40, 5), (40,)\n"
     ]
    }
   ],
   "source": [
    "print(f'[Train Dataset] {x_train.shape}, {y_train.shape}')\n",
    "print(f'[Test Dataset] {x_test.shape}, {y_test.shape}')"
   ],
   "metadata": {
    "collapsed": false,
    "ExecuteTime": {
     "end_time": "2024-03-04T11:58:48.960531500Z",
     "start_time": "2024-03-04T11:58:48.934525600Z"
    }
   },
   "id": "c0aca1903597855a",
   "execution_count": 175
  },
  {
   "cell_type": "markdown",
   "source": [
    "(3) 학습 진행"
   ],
   "metadata": {
    "collapsed": false
   },
   "id": "79c0c6dfacd2d530"
  },
  {
   "cell_type": "code",
   "outputs": [],
   "source": [
    "from sklearn.linear_model import LogisticRegression"
   ],
   "metadata": {
    "collapsed": false,
    "ExecuteTime": {
     "end_time": "2024-03-04T11:58:49.006526Z",
     "start_time": "2024-03-04T11:58:48.950525700Z"
    }
   },
   "id": "1e8cccb7e884514",
   "execution_count": 176
  },
  {
   "cell_type": "code",
   "outputs": [
    {
     "data": {
      "text/plain": "LogisticRegression(max_iter=50000, solver='liblinear')",
      "text/html": "<style>#sk-container-id-19 {color: black;}#sk-container-id-19 pre{padding: 0;}#sk-container-id-19 div.sk-toggleable {background-color: white;}#sk-container-id-19 label.sk-toggleable__label {cursor: pointer;display: block;width: 100%;margin-bottom: 0;padding: 0.3em;box-sizing: border-box;text-align: center;}#sk-container-id-19 label.sk-toggleable__label-arrow:before {content: \"▸\";float: left;margin-right: 0.25em;color: #696969;}#sk-container-id-19 label.sk-toggleable__label-arrow:hover:before {color: black;}#sk-container-id-19 div.sk-estimator:hover label.sk-toggleable__label-arrow:before {color: black;}#sk-container-id-19 div.sk-toggleable__content {max-height: 0;max-width: 0;overflow: hidden;text-align: left;background-color: #f0f8ff;}#sk-container-id-19 div.sk-toggleable__content pre {margin: 0.2em;color: black;border-radius: 0.25em;background-color: #f0f8ff;}#sk-container-id-19 input.sk-toggleable__control:checked~div.sk-toggleable__content {max-height: 200px;max-width: 100%;overflow: auto;}#sk-container-id-19 input.sk-toggleable__control:checked~label.sk-toggleable__label-arrow:before {content: \"▾\";}#sk-container-id-19 div.sk-estimator input.sk-toggleable__control:checked~label.sk-toggleable__label {background-color: #d4ebff;}#sk-container-id-19 div.sk-label input.sk-toggleable__control:checked~label.sk-toggleable__label {background-color: #d4ebff;}#sk-container-id-19 input.sk-hidden--visually {border: 0;clip: rect(1px 1px 1px 1px);clip: rect(1px, 1px, 1px, 1px);height: 1px;margin: -1px;overflow: hidden;padding: 0;position: absolute;width: 1px;}#sk-container-id-19 div.sk-estimator {font-family: monospace;background-color: #f0f8ff;border: 1px dotted black;border-radius: 0.25em;box-sizing: border-box;margin-bottom: 0.5em;}#sk-container-id-19 div.sk-estimator:hover {background-color: #d4ebff;}#sk-container-id-19 div.sk-parallel-item::after {content: \"\";width: 100%;border-bottom: 1px solid gray;flex-grow: 1;}#sk-container-id-19 div.sk-label:hover label.sk-toggleable__label {background-color: #d4ebff;}#sk-container-id-19 div.sk-serial::before {content: \"\";position: absolute;border-left: 1px solid gray;box-sizing: border-box;top: 0;bottom: 0;left: 50%;z-index: 0;}#sk-container-id-19 div.sk-serial {display: flex;flex-direction: column;align-items: center;background-color: white;padding-right: 0.2em;padding-left: 0.2em;position: relative;}#sk-container-id-19 div.sk-item {position: relative;z-index: 1;}#sk-container-id-19 div.sk-parallel {display: flex;align-items: stretch;justify-content: center;background-color: white;position: relative;}#sk-container-id-19 div.sk-item::before, #sk-container-id-19 div.sk-parallel-item::before {content: \"\";position: absolute;border-left: 1px solid gray;box-sizing: border-box;top: 0;bottom: 0;left: 50%;z-index: -1;}#sk-container-id-19 div.sk-parallel-item {display: flex;flex-direction: column;z-index: 1;position: relative;background-color: white;}#sk-container-id-19 div.sk-parallel-item:first-child::after {align-self: flex-end;width: 50%;}#sk-container-id-19 div.sk-parallel-item:last-child::after {align-self: flex-start;width: 50%;}#sk-container-id-19 div.sk-parallel-item:only-child::after {width: 0;}#sk-container-id-19 div.sk-dashed-wrapped {border: 1px dashed gray;margin: 0 0.4em 0.5em 0.4em;box-sizing: border-box;padding-bottom: 0.4em;background-color: white;}#sk-container-id-19 div.sk-label label {font-family: monospace;font-weight: bold;display: inline-block;line-height: 1.2em;}#sk-container-id-19 div.sk-label-container {text-align: center;}#sk-container-id-19 div.sk-container {/* jupyter's `normalize.less` sets `[hidden] { display: none; }` but bootstrap.min.css set `[hidden] { display: none !important; }` so we also need the `!important` here to be able to override the default hidden behavior on the sphinx rendered scikit-learn.org. See: https://github.com/scikit-learn/scikit-learn/issues/21755 */display: inline-block !important;position: relative;}#sk-container-id-19 div.sk-text-repr-fallback {display: none;}</style><div id=\"sk-container-id-19\" class=\"sk-top-container\"><div class=\"sk-text-repr-fallback\"><pre>LogisticRegression(max_iter=50000, solver=&#x27;liblinear&#x27;)</pre><b>In a Jupyter environment, please rerun this cell to show the HTML representation or trust the notebook. <br />On GitHub, the HTML representation is unable to render, please try loading this page with nbviewer.org.</b></div><div class=\"sk-container\" hidden><div class=\"sk-item\"><div class=\"sk-estimator sk-toggleable\"><input class=\"sk-toggleable__control sk-hidden--visually\" id=\"sk-estimator-id-19\" type=\"checkbox\" checked><label for=\"sk-estimator-id-19\" class=\"sk-toggleable__label sk-toggleable__label-arrow\">LogisticRegression</label><div class=\"sk-toggleable__content\"><pre>LogisticRegression(max_iter=50000, solver=&#x27;liblinear&#x27;)</pre></div></div></div></div></div>"
     },
     "execution_count": 177,
     "metadata": {},
     "output_type": "execute_result"
    }
   ],
   "source": [
    "# 모델 인스턴스 생성\n",
    "model = LogisticRegression(max_iter=50000, solver='liblinear')\n",
    "model.fit(x_train,y_train)"
   ],
   "metadata": {
    "collapsed": false,
    "ExecuteTime": {
     "end_time": "2024-03-04T11:58:49.009536900Z",
     "start_time": "2024-03-04T11:58:48.966525600Z"
    }
   },
   "id": "523751f889f92a92",
   "execution_count": 177
  },
  {
   "cell_type": "code",
   "outputs": [
    {
     "name": "stdout",
     "output_type": "stream",
     "text": [
      "classes_ :  [0 1 2 3 4 5 6]\n",
      "feature_names_in_ :  ['Weight' 'Length' 'Diagonal' 'Height' 'Width']\n",
      "max_inter : 50000\n",
      "coef_ : 7개\n",
      "[[ 1.31151754e-02 -1.64944470e+00  8.28009575e-01  1.41621595e+00\n",
      "  -4.15067201e-01]\n",
      " [-2.10617657e-02  3.33701594e-01 -9.64909143e-01  2.19381184e+00\n",
      "   2.66611701e-02]\n",
      " [-1.97453974e-03  2.60616873e+00 -2.66412260e+00 -7.93176743e-03\n",
      "   1.91659551e+00]\n",
      " [ 1.01422059e-02  2.55168743e-01  1.51461260e-01 -1.94779290e+00\n",
      "  -8.36602128e-01]\n",
      " [-9.89829706e-03 -1.72578825e+00  1.53807538e+00 -5.12880032e-01\n",
      "   1.65750894e+00]\n",
      " [-7.29426634e-02  3.82049401e-01  1.62783679e-01 -1.55364795e+00\n",
      "  -5.97839461e-01]\n",
      " [ 5.68775586e-03 -5.20399292e-01  2.54546484e-01 -2.46921990e-01\n",
      "   8.40269158e-01]]\n",
      "intercept_ :  [-0.27362898  0.07982094 -0.34682853 -1.23222237 -1.32590576  0.41907035\n",
      " -0.34453293]\n"
     ]
    }
   ],
   "source": [
    "# 모델 파라미터 확인\n",
    "print('classes_ : ', model.classes_)\n",
    "print('feature_names_in_ : ', model.feature_names_in_)\n",
    "print(f'max_inter : {model.max_iter}')\n",
    "print(f'coef_ : {len(model.coef_)}개\\n{model.coef_}')\n",
    "print('intercept_ : ', model.intercept_)"
   ],
   "metadata": {
    "collapsed": false,
    "ExecuteTime": {
     "end_time": "2024-03-04T11:58:49.011525900Z",
     "start_time": "2024-03-04T11:58:48.982525500Z"
    }
   },
   "id": "71110a469d7de243",
   "execution_count": 178
  },
  {
   "cell_type": "markdown",
   "source": [
    "(4) 평가 <hr>"
   ],
   "metadata": {
    "collapsed": false
   },
   "id": "a01f8bf0d41e6042"
  },
  {
   "cell_type": "code",
   "outputs": [
    {
     "name": "stdout",
     "output_type": "stream",
     "text": [
      "[Train Score] 0.9495798319327731\n",
      "[Test Score] 0.975\n"
     ]
    }
   ],
   "source": [
    "print(f'[Train Score] {model.score(x_train, y_train)}\\n[Test Score] {model.score(x_test, y_test)}')"
   ],
   "metadata": {
    "collapsed": false,
    "ExecuteTime": {
     "end_time": "2024-03-04T11:58:49.075643300Z",
     "start_time": "2024-03-04T11:58:49.000527100Z"
    }
   },
   "id": "c7eae47992ccb896",
   "execution_count": 179
  },
  {
   "cell_type": "markdown",
   "source": [
    "(5) 모델 활용 <hr>"
   ],
   "metadata": {
    "collapsed": false
   },
   "id": "f4598ac9fbf5d6fe"
  },
  {
   "cell_type": "code",
   "outputs": [
    {
     "data": {
      "text/plain": "(array([0]),\n 1    0\n dtype: int32)"
     },
     "execution_count": 180,
     "metadata": {},
     "output_type": "execute_result"
    }
   ],
   "source": [
    "y_pre=model.predict(x_test.iloc[[0]])\n",
    "\n",
    "y_pre, y_test[:1]"
   ],
   "metadata": {
    "collapsed": false,
    "ExecuteTime": {
     "end_time": "2024-03-04T11:58:49.078645300Z",
     "start_time": "2024-03-04T11:58:49.017526100Z"
    }
   },
   "id": "30d0fd2f3e9f4fbb",
   "execution_count": 180
  },
  {
   "cell_type": "code",
   "outputs": [
    {
     "name": "stdout",
     "output_type": "stream",
     "text": [
      "[0 1 2 3 4 5 6]\n"
     ]
    },
    {
     "data": {
      "text/plain": "(array([[0.504, 0.311, 0.   , 0.   , 0.173, 0.   , 0.012],\n        [0.158, 0.73 , 0.044, 0.   , 0.057, 0.   , 0.01 ],\n        [0.772, 0.024, 0.001, 0.   , 0.18 , 0.   , 0.023],\n        [0.001, 0.089, 0.719, 0.002, 0.155, 0.004, 0.03 ],\n        [0.   , 0.021, 0.753, 0.009, 0.176, 0.009, 0.031]]),\n [0, 1, 0, 2, 2])"
     },
     "execution_count": 181,
     "metadata": {},
     "output_type": "execute_result"
    }
   ],
   "source": [
    "# 5개 데이터에 대한 생선 분류 예측\n",
    "print(model.classes_)\n",
    "np.round(model.predict_proba(x_test.iloc[:5]),3), y_test[:5].to_list()"
   ],
   "metadata": {
    "collapsed": false,
    "ExecuteTime": {
     "end_time": "2024-03-04T11:58:49.093859500Z",
     "start_time": "2024-03-04T11:58:49.033526300Z"
    }
   },
   "id": "baa7d65a2002097c",
   "execution_count": 181
  },
  {
   "cell_type": "code",
   "outputs": [
    {
     "data": {
      "text/plain": "array([0, 1, 0, 2, 2], dtype=int64)"
     },
     "execution_count": 182,
     "metadata": {},
     "output_type": "execute_result"
    }
   ],
   "source": [
    "result=model.predict_proba(x_test.iloc[:5]).argmax(axis=1)\n",
    "result"
   ],
   "metadata": {
    "collapsed": false,
    "ExecuteTime": {
     "end_time": "2024-03-04T11:58:49.163161200Z",
     "start_time": "2024-03-04T11:58:49.085859700Z"
    }
   },
   "id": "775a16a6742f516a",
   "execution_count": 182
  },
  {
   "cell_type": "code",
   "outputs": [],
   "source": [
    "data = {\"Pre Y\": [model.classes_[idx] for idx in result],\n",
    "        \"True Y\" : y_test[:5].to_list()}"
   ],
   "metadata": {
    "collapsed": false,
    "ExecuteTime": {
     "end_time": "2024-03-04T11:58:49.182304700Z",
     "start_time": "2024-03-04T11:58:49.144861100Z"
    }
   },
   "id": "385a598e087b8602",
   "execution_count": 183
  },
  {
   "cell_type": "code",
   "outputs": [
    {
     "data": {
      "text/plain": "   Pre Y  True Y\n0      0       0\n1      1       1\n2      0       0\n3      2       2\n4      2       2",
      "text/html": "<div>\n<style scoped>\n    .dataframe tbody tr th:only-of-type {\n        vertical-align: middle;\n    }\n\n    .dataframe tbody tr th {\n        vertical-align: top;\n    }\n\n    .dataframe thead th {\n        text-align: right;\n    }\n</style>\n<table border=\"1\" class=\"dataframe\">\n  <thead>\n    <tr style=\"text-align: right;\">\n      <th></th>\n      <th>Pre Y</th>\n      <th>True Y</th>\n    </tr>\n  </thead>\n  <tbody>\n    <tr>\n      <th>0</th>\n      <td>0</td>\n      <td>0</td>\n    </tr>\n    <tr>\n      <th>1</th>\n      <td>1</td>\n      <td>1</td>\n    </tr>\n    <tr>\n      <th>2</th>\n      <td>0</td>\n      <td>0</td>\n    </tr>\n    <tr>\n      <th>3</th>\n      <td>2</td>\n      <td>2</td>\n    </tr>\n    <tr>\n      <th>4</th>\n      <td>2</td>\n      <td>2</td>\n    </tr>\n  </tbody>\n</table>\n</div>"
     },
     "execution_count": 184,
     "metadata": {},
     "output_type": "execute_result"
    }
   ],
   "source": [
    "pd.DataFrame(data)"
   ],
   "metadata": {
    "collapsed": false,
    "ExecuteTime": {
     "end_time": "2024-03-04T11:58:49.208303900Z",
     "start_time": "2024-03-04T11:58:49.175305200Z"
    }
   },
   "id": "201e693cce80bcad",
   "execution_count": 184
  },
  {
   "cell_type": "code",
   "outputs": [
    {
     "data": {
      "text/plain": "array([[0.   , 0.007, 0.184, 0.072, 0.183, 0.525, 0.028]])"
     },
     "execution_count": 185,
     "metadata": {},
     "output_type": "execute_result"
    }
   ],
   "source": [
    "# 각 분류 클래스에 대한 학률값\n",
    "np.round(model.predict_proba(featureDF.iloc[[-1]]), 3)"
   ],
   "metadata": {
    "collapsed": false,
    "ExecuteTime": {
     "end_time": "2024-03-04T11:58:49.225304Z",
     "start_time": "2024-03-04T11:58:49.213305200Z"
    }
   },
   "id": "461b93fe1af21f6",
   "execution_count": 185
  },
  {
   "cell_type": "code",
   "outputs": [
    {
     "data": {
      "text/plain": "array([[-7.96791828, -4.48251565, -0.87396826, -2.03264999, -0.88196047,\n         1.65628152, -3.05867378]])"
     },
     "execution_count": 186,
     "metadata": {},
     "output_type": "execute_result"
    }
   ],
   "source": [
    "# 각 분류기의 선형식에서 계산한 값\n",
    "model.decision_function(featureDF.iloc[[-1]])"
   ],
   "metadata": {
    "collapsed": false,
    "ExecuteTime": {
     "end_time": "2024-03-04T11:58:49.295314Z",
     "start_time": "2024-03-04T11:58:49.228306400Z"
    }
   },
   "id": "c9ee868b3c3c0ead",
   "execution_count": 186
  },
  {
   "cell_type": "markdown",
   "source": [
    "(6) 모델 성능 평가 <hr>\n",
    "- 정확도\n",
    "- 정밀도\n",
    "- 재현율\n",
    "- F1-Score\n",
    "- Confusion Matrix\n",
    "- Classification Report"
   ],
   "metadata": {
    "collapsed": false
   },
   "id": "ffa0360a40ae5de7"
  },
  {
   "cell_type": "code",
   "outputs": [],
   "source": [
    "from sklearn.metrics import accuracy_score, f1_score, classification_report\n",
    "from sklearn.metrics import precision_score, recall_score, confusion_matrix"
   ],
   "metadata": {
    "collapsed": false,
    "ExecuteTime": {
     "end_time": "2024-03-04T11:58:49.314314Z",
     "start_time": "2024-03-04T11:58:49.268304500Z"
    }
   },
   "id": "f7c6e404dc6b5272",
   "execution_count": 187
  },
  {
   "cell_type": "code",
   "outputs": [
    {
     "name": "stdout",
     "output_type": "stream",
     "text": [
      "              precision    recall  f1-score   support\n",
      "\n",
      "           0       1.00      1.00      1.00         9\n",
      "           1       1.00      1.00      1.00         3\n",
      "           2       0.93      1.00      0.97        14\n",
      "           3       1.00      1.00      1.00         4\n",
      "           4       1.00      1.00      1.00         5\n",
      "           5       1.00      1.00      1.00         4\n",
      "           6       0.00      0.00      0.00         1\n",
      "\n",
      "    accuracy                           0.97        40\n",
      "   macro avg       0.85      0.86      0.85        40\n",
      "weighted avg       0.95      0.97      0.96        40\n"
     ]
    }
   ],
   "source": [
    "print(classification_report(y_test, model.predict(x_test), zero_division=0))"
   ],
   "metadata": {
    "collapsed": false,
    "ExecuteTime": {
     "end_time": "2024-03-04T11:58:49.394304800Z",
     "start_time": "2024-03-04T11:58:49.305304100Z"
    }
   },
   "id": "68857b1298eee3bb",
   "execution_count": 188
  },
  {
   "cell_type": "code",
   "outputs": [
    {
     "name": "stdout",
     "output_type": "stream",
     "text": [
      "0.975\n"
     ]
    }
   ],
   "source": [
    "print(f1_score(y_test, model.predict(x_test), average='micro'))"
   ],
   "metadata": {
    "collapsed": false,
    "ExecuteTime": {
     "end_time": "2024-03-04T11:58:49.394304800Z",
     "start_time": "2024-03-04T11:58:49.333304200Z"
    }
   },
   "id": "4d1e990147238acb",
   "execution_count": 189
  },
  {
   "cell_type": "code",
   "outputs": [
    {
     "data": {
      "text/plain": "0.8571428571428571"
     },
     "execution_count": 190,
     "metadata": {},
     "output_type": "execute_result"
    }
   ],
   "source": [
    "recall_score(y_test,model.predict(x_test), average='macro')"
   ],
   "metadata": {
    "collapsed": false,
    "ExecuteTime": {
     "end_time": "2024-03-04T11:58:49.398303800Z",
     "start_time": "2024-03-04T11:58:49.361304500Z"
    }
   },
   "id": "a5097ae4e0503e97",
   "execution_count": 190
  },
  {
   "cell_type": "code",
   "outputs": [
    {
     "data": {
      "text/plain": "array([[ 9,  0,  0,  0,  0,  0,  0],\n       [ 0,  3,  0,  0,  0,  0,  0],\n       [ 0,  0, 14,  0,  0,  0,  0],\n       [ 0,  0,  0,  4,  0,  0,  0],\n       [ 0,  0,  0,  0,  5,  0,  0],\n       [ 0,  0,  0,  0,  0,  4,  0],\n       [ 0,  0,  1,  0,  0,  0,  0]], dtype=int64)"
     },
     "execution_count": 191,
     "metadata": {},
     "output_type": "execute_result"
    }
   ],
   "source": [
    "# 혼돈행렬 (confusion matrix)\n",
    "confusion_matrix(y_test,model.predict(x_test))"
   ],
   "metadata": {
    "collapsed": false,
    "ExecuteTime": {
     "end_time": "2024-03-04T11:58:49.435303700Z",
     "start_time": "2024-03-04T11:58:49.401305600Z"
    }
   },
   "id": "49f625bcb3a9d45",
   "execution_count": 191
  },
  {
   "cell_type": "code",
   "outputs": [
    {
     "name": "stdout",
     "output_type": "stream",
     "text": [
      "[0 1 2 3 4 5 6]\n",
      "타겟 문자열 라벨 ['Bream' 'Parkki' 'Perch' 'Pike' 'Roach' 'Smelt' 'Whitefish']\n"
     ]
    }
   ],
   "source": [
    "print(model.classes_) \n",
    "labels = encoder.inverse_transform(model.classes_)\n",
    "print('타겟 문자열 라벨', labels)"
   ],
   "metadata": {
    "collapsed": false,
    "ExecuteTime": {
     "end_time": "2024-03-04T11:58:49.457304200Z",
     "start_time": "2024-03-04T11:58:49.437305100Z"
    }
   },
   "id": "1ed68b0d7b9ea1e5",
   "execution_count": 192
  },
  {
   "cell_type": "code",
   "outputs": [],
   "source": [
    "from sklearn.metrics import ConfusionMatrixDisplay\n",
    "complot = confusion_matrix(y_test,model.predict(x_test))"
   ],
   "metadata": {
    "collapsed": false,
    "ExecuteTime": {
     "end_time": "2024-03-04T11:58:49.492313Z",
     "start_time": "2024-03-04T11:58:49.460304800Z"
    }
   },
   "id": "d177cc2b8a94e916",
   "execution_count": 193
  }
 ],
 "metadata": {
  "kernelspec": {
   "display_name": "Python 3",
   "language": "python",
   "name": "python3"
  },
  "language_info": {
   "codemirror_mode": {
    "name": "ipython",
    "version": 2
   },
   "file_extension": ".py",
   "mimetype": "text/x-python",
   "name": "python",
   "nbconvert_exporter": "python",
   "pygments_lexer": "ipython2",
   "version": "2.7.6"
  }
 },
 "nbformat": 4,
 "nbformat_minor": 5
}
