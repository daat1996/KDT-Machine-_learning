{
 "cells": [
  {
   "cell_type": "markdown",
   "source": [
    "### 목표 : 부족한 피쳐를 조합 생성하여 모델 성능 향상\n",
    "- 특성공학 => 피쳐 추출/선택/생성\n",
    "- 비선형의 데이터에 대한 피쳐 생성  => 곡선형태의 회귀선 수식\n",
    "- 모듈 : sklearn.preprocessing 내에 포함\n",
    "- 데이터 : fish.csv\n",
    "- 피쳐 : Perch의 Height, Length, Width\n",
    "- 타겟 : Perch의 Weight\n",
    "- 학습유형 : 지도학습"
   ],
   "metadata": {
    "collapsed": false
   },
   "id": "863605f44eba9a65"
  },
  {
   "cell_type": "markdown",
   "source": [
    "[1] 전처리 피쳐 조합 생성 살펴보기"
   ],
   "metadata": {
    "collapsed": false
   },
   "id": "ec11e12573422725"
  },
  {
   "cell_type": "code",
   "outputs": [],
   "source": [
    "# 모듈 로딩\n",
    "from sklearn.preprocessing import PolynomialFeatures"
   ],
   "metadata": {
    "collapsed": false,
    "ExecuteTime": {
     "end_time": "2024-02-28T07:47:51.929032800Z",
     "start_time": "2024-02-28T07:47:51.725031100Z"
    }
   },
   "id": "94fda46272dd6f45",
   "execution_count": 2
  },
  {
   "cell_type": "code",
   "outputs": [],
   "source": [
    "# 인스턴스 생성\n",
    "poly = PolynomialFeatures(include_bias=False, degree=5)\n"
   ],
   "metadata": {
    "collapsed": false,
    "ExecuteTime": {
     "end_time": "2024-02-28T07:47:51.945030600Z",
     "start_time": "2024-02-28T07:47:51.927031900Z"
    }
   },
   "id": "c99bccd1e8eb78f0",
   "execution_count": 3
  },
  {
   "cell_type": "code",
   "outputs": [
    {
     "data": {
      "text/plain": "PolynomialFeatures(degree=5, include_bias=False)",
      "text/html": "<style>#sk-container-id-1 {color: black;}#sk-container-id-1 pre{padding: 0;}#sk-container-id-1 div.sk-toggleable {background-color: white;}#sk-container-id-1 label.sk-toggleable__label {cursor: pointer;display: block;width: 100%;margin-bottom: 0;padding: 0.3em;box-sizing: border-box;text-align: center;}#sk-container-id-1 label.sk-toggleable__label-arrow:before {content: \"▸\";float: left;margin-right: 0.25em;color: #696969;}#sk-container-id-1 label.sk-toggleable__label-arrow:hover:before {color: black;}#sk-container-id-1 div.sk-estimator:hover label.sk-toggleable__label-arrow:before {color: black;}#sk-container-id-1 div.sk-toggleable__content {max-height: 0;max-width: 0;overflow: hidden;text-align: left;background-color: #f0f8ff;}#sk-container-id-1 div.sk-toggleable__content pre {margin: 0.2em;color: black;border-radius: 0.25em;background-color: #f0f8ff;}#sk-container-id-1 input.sk-toggleable__control:checked~div.sk-toggleable__content {max-height: 200px;max-width: 100%;overflow: auto;}#sk-container-id-1 input.sk-toggleable__control:checked~label.sk-toggleable__label-arrow:before {content: \"▾\";}#sk-container-id-1 div.sk-estimator input.sk-toggleable__control:checked~label.sk-toggleable__label {background-color: #d4ebff;}#sk-container-id-1 div.sk-label input.sk-toggleable__control:checked~label.sk-toggleable__label {background-color: #d4ebff;}#sk-container-id-1 input.sk-hidden--visually {border: 0;clip: rect(1px 1px 1px 1px);clip: rect(1px, 1px, 1px, 1px);height: 1px;margin: -1px;overflow: hidden;padding: 0;position: absolute;width: 1px;}#sk-container-id-1 div.sk-estimator {font-family: monospace;background-color: #f0f8ff;border: 1px dotted black;border-radius: 0.25em;box-sizing: border-box;margin-bottom: 0.5em;}#sk-container-id-1 div.sk-estimator:hover {background-color: #d4ebff;}#sk-container-id-1 div.sk-parallel-item::after {content: \"\";width: 100%;border-bottom: 1px solid gray;flex-grow: 1;}#sk-container-id-1 div.sk-label:hover label.sk-toggleable__label {background-color: #d4ebff;}#sk-container-id-1 div.sk-serial::before {content: \"\";position: absolute;border-left: 1px solid gray;box-sizing: border-box;top: 0;bottom: 0;left: 50%;z-index: 0;}#sk-container-id-1 div.sk-serial {display: flex;flex-direction: column;align-items: center;background-color: white;padding-right: 0.2em;padding-left: 0.2em;position: relative;}#sk-container-id-1 div.sk-item {position: relative;z-index: 1;}#sk-container-id-1 div.sk-parallel {display: flex;align-items: stretch;justify-content: center;background-color: white;position: relative;}#sk-container-id-1 div.sk-item::before, #sk-container-id-1 div.sk-parallel-item::before {content: \"\";position: absolute;border-left: 1px solid gray;box-sizing: border-box;top: 0;bottom: 0;left: 50%;z-index: -1;}#sk-container-id-1 div.sk-parallel-item {display: flex;flex-direction: column;z-index: 1;position: relative;background-color: white;}#sk-container-id-1 div.sk-parallel-item:first-child::after {align-self: flex-end;width: 50%;}#sk-container-id-1 div.sk-parallel-item:last-child::after {align-self: flex-start;width: 50%;}#sk-container-id-1 div.sk-parallel-item:only-child::after {width: 0;}#sk-container-id-1 div.sk-dashed-wrapped {border: 1px dashed gray;margin: 0 0.4em 0.5em 0.4em;box-sizing: border-box;padding-bottom: 0.4em;background-color: white;}#sk-container-id-1 div.sk-label label {font-family: monospace;font-weight: bold;display: inline-block;line-height: 1.2em;}#sk-container-id-1 div.sk-label-container {text-align: center;}#sk-container-id-1 div.sk-container {/* jupyter's `normalize.less` sets `[hidden] { display: none; }` but bootstrap.min.css set `[hidden] { display: none !important; }` so we also need the `!important` here to be able to override the default hidden behavior on the sphinx rendered scikit-learn.org. See: https://github.com/scikit-learn/scikit-learn/issues/21755 */display: inline-block !important;position: relative;}#sk-container-id-1 div.sk-text-repr-fallback {display: none;}</style><div id=\"sk-container-id-1\" class=\"sk-top-container\"><div class=\"sk-text-repr-fallback\"><pre>PolynomialFeatures(degree=5, include_bias=False)</pre><b>In a Jupyter environment, please rerun this cell to show the HTML representation or trust the notebook. <br />On GitHub, the HTML representation is unable to render, please try loading this page with nbviewer.org.</b></div><div class=\"sk-container\" hidden><div class=\"sk-item\"><div class=\"sk-estimator sk-toggleable\"><input class=\"sk-toggleable__control sk-hidden--visually\" id=\"sk-estimator-id-1\" type=\"checkbox\" checked><label for=\"sk-estimator-id-1\" class=\"sk-toggleable__label sk-toggleable__label-arrow\">PolynomialFeatures</label><div class=\"sk-toggleable__content\"><pre>PolynomialFeatures(degree=5, include_bias=False)</pre></div></div></div></div></div>"
     },
     "execution_count": 4,
     "metadata": {},
     "output_type": "execute_result"
    }
   ],
   "source": [
    "poly.fit([[2,3]])"
   ],
   "metadata": {
    "collapsed": false,
    "ExecuteTime": {
     "end_time": "2024-02-28T07:47:52.019683100Z",
     "start_time": "2024-02-28T07:47:51.944030200Z"
    }
   },
   "id": "4c678b86b2a762ac",
   "execution_count": 4
  },
  {
   "cell_type": "code",
   "outputs": [
    {
     "data": {
      "text/plain": "array([[  2.,   3.,   4.,   6.,   9.,   8.,  12.,  18.,  27.,  16.,  24.,\n         36.,  54.,  81.,  32.,  48.,  72., 108., 162., 243.]])"
     },
     "execution_count": 5,
     "metadata": {},
     "output_type": "execute_result"
    }
   ],
   "source": [
    "poly.transform([[2,3]])"
   ],
   "metadata": {
    "collapsed": false,
    "ExecuteTime": {
     "end_time": "2024-02-28T07:47:52.021686300Z",
     "start_time": "2024-02-28T07:47:51.961031Z"
    }
   },
   "id": "ab172ae172466721",
   "execution_count": 5
  },
  {
   "cell_type": "code",
   "outputs": [
    {
     "data": {
      "text/plain": "array(['x0', 'x1', 'x0^2', 'x0 x1', 'x1^2', 'x0^3', 'x0^2 x1', 'x0 x1^2',\n       'x1^3', 'x0^4', 'x0^3 x1', 'x0^2 x1^2', 'x0 x1^3', 'x1^4', 'x0^5',\n       'x0^4 x1', 'x0^3 x1^2', 'x0^2 x1^3', 'x0 x1^4', 'x1^5'],\n      dtype=object)"
     },
     "execution_count": 6,
     "metadata": {},
     "output_type": "execute_result"
    }
   ],
   "source": [
    "poly.get_feature_names_out()"
   ],
   "metadata": {
    "collapsed": false,
    "ExecuteTime": {
     "end_time": "2024-02-28T07:47:52.023684Z",
     "start_time": "2024-02-28T07:47:51.976030300Z"
    }
   },
   "id": "4c9fcfaa3b936fef",
   "execution_count": 6
  },
  {
   "cell_type": "markdown",
   "source": [
    "[2] Perch 데이터를 최대한 만족하는 회귀선을 찾기\n"
   ],
   "metadata": {
    "collapsed": false
   },
   "id": "f614264a31b75e39"
  },
  {
   "cell_type": "markdown",
   "source": [
    "[2-1] 모듈로딩 및 데이터 준비 <hr>"
   ],
   "metadata": {
    "collapsed": false
   },
   "id": "68fb153eb06e4a65"
  },
  {
   "cell_type": "code",
   "outputs": [],
   "source": [
    "import pandas as pd\n",
    "import matplotlib.pyplot as plt"
   ],
   "metadata": {
    "collapsed": false,
    "ExecuteTime": {
     "end_time": "2024-02-28T07:47:52.035680900Z",
     "start_time": "2024-02-28T07:47:51.990241700Z"
    }
   },
   "id": "e4161f87106df11c",
   "execution_count": 7
  },
  {
   "cell_type": "code",
   "outputs": [
    {
     "name": "stdout",
     "output_type": "stream",
     "text": [
      "<class 'pandas.core.frame.DataFrame'>\n",
      "RangeIndex: 159 entries, 0 to 158\n",
      "Data columns (total 6 columns):\n",
      " #   Column    Non-Null Count  Dtype  \n",
      "---  ------    --------------  -----  \n",
      " 0   Species   159 non-null    object \n",
      " 1   Weight    159 non-null    float64\n",
      " 2   Length    159 non-null    float64\n",
      " 3   Diagonal  159 non-null    float64\n",
      " 4   Height    159 non-null    float64\n",
      " 5   Width     159 non-null    float64\n",
      "dtypes: float64(5), object(1)\n",
      "memory usage: 7.6+ KB\n"
     ]
    }
   ],
   "source": [
    "# 데이터 준비\n",
    "data_file='../data/fish.csv'\n",
    "dataDF = pd.read_csv(data_file)\n",
    "dataDF.info()"
   ],
   "metadata": {
    "collapsed": false,
    "ExecuteTime": {
     "end_time": "2024-02-28T07:47:52.088833700Z",
     "start_time": "2024-02-28T07:47:52.005929800Z"
    }
   },
   "id": "8ea6a0d7a591848c",
   "execution_count": 8
  },
  {
   "cell_type": "code",
   "outputs": [],
   "source": [
    "# 불필요한 칼럼 제거\n",
    "dataDF.drop('Diagonal', axis='columns', inplace=True)"
   ],
   "metadata": {
    "collapsed": false,
    "ExecuteTime": {
     "end_time": "2024-02-28T07:47:52.091074500Z",
     "start_time": "2024-02-28T07:47:52.036681Z"
    }
   },
   "id": "5bb049020101b9b2",
   "execution_count": 9
  },
  {
   "cell_type": "code",
   "outputs": [
    {
     "data": {
      "text/plain": "  Species  Weight  Length  Height   Width\n0   Bream   242.0    25.4   11.52  4.0200\n1   Bream   290.0    26.3   12.48  4.3056",
      "text/html": "<div>\n<style scoped>\n    .dataframe tbody tr th:only-of-type {\n        vertical-align: middle;\n    }\n\n    .dataframe tbody tr th {\n        vertical-align: top;\n    }\n\n    .dataframe thead th {\n        text-align: right;\n    }\n</style>\n<table border=\"1\" class=\"dataframe\">\n  <thead>\n    <tr style=\"text-align: right;\">\n      <th></th>\n      <th>Species</th>\n      <th>Weight</th>\n      <th>Length</th>\n      <th>Height</th>\n      <th>Width</th>\n    </tr>\n  </thead>\n  <tbody>\n    <tr>\n      <th>0</th>\n      <td>Bream</td>\n      <td>242.0</td>\n      <td>25.4</td>\n      <td>11.52</td>\n      <td>4.0200</td>\n    </tr>\n    <tr>\n      <th>1</th>\n      <td>Bream</td>\n      <td>290.0</td>\n      <td>26.3</td>\n      <td>12.48</td>\n      <td>4.3056</td>\n    </tr>\n  </tbody>\n</table>\n</div>"
     },
     "execution_count": 10,
     "metadata": {},
     "output_type": "execute_result"
    }
   ],
   "source": [
    "dataDF.head(2)"
   ],
   "metadata": {
    "collapsed": false,
    "ExecuteTime": {
     "end_time": "2024-02-28T07:47:52.093094100Z",
     "start_time": "2024-02-28T07:47:52.053480400Z"
    }
   },
   "id": "f229ef231129f6db",
   "execution_count": 10
  },
  {
   "cell_type": "code",
   "outputs": [],
   "source": [
    "# Perch행만 추출\n",
    "perchDF=dataDF[dataDF.Species == 'Perch']"
   ],
   "metadata": {
    "collapsed": false,
    "ExecuteTime": {
     "end_time": "2024-02-28T07:47:52.154380Z",
     "start_time": "2024-02-28T07:47:52.068947400Z"
    }
   },
   "id": "a9ec4832fa737261",
   "execution_count": 11
  },
  {
   "cell_type": "code",
   "outputs": [],
   "source": [
    "# Species 칼럼 삭제\n",
    "perchDF = perchDF.drop('Species', axis='columns').copy()"
   ],
   "metadata": {
    "collapsed": false,
    "ExecuteTime": {
     "end_time": "2024-02-28T07:47:52.158424100Z",
     "start_time": "2024-02-28T07:47:52.082834900Z"
    }
   },
   "id": "ec8f5144b0518e7",
   "execution_count": 12
  },
  {
   "cell_type": "code",
   "outputs": [
    {
     "data": {
      "text/plain": "     Weight  Length   Height   Width\n72      5.9     8.4   2.1120  1.4080\n73     32.0    13.7   3.5280  1.9992\n74     40.0    15.0   3.8240  2.4320\n75     51.5    16.2   4.5924  2.6316\n76     70.0    17.4   4.5880  2.9415\n77    100.0    18.0   5.2224  3.3216\n78     78.0    18.7   5.1992  3.1234\n79     80.0    19.0   5.6358  3.0502\n80     85.0    19.6   5.1376  3.0368\n81     85.0    20.0   5.0820  2.7720\n82    110.0    21.0   5.6925  3.5550\n83    115.0    21.0   5.9175  3.3075\n84    125.0    21.0   5.6925  3.6675\n85    130.0    21.3   6.3840  3.5340\n86    120.0    22.0   6.1100  3.4075\n87    120.0    22.0   5.6400  3.5250\n88    130.0    22.0   6.1100  3.5250\n89    135.0    22.0   5.8750  3.5250\n90    110.0    22.0   5.5225  3.9950\n91    130.0    22.5   5.8560  3.6240\n92    150.0    22.5   6.7920  3.6240\n93    145.0    22.7   5.9532  3.6300\n94    150.0    23.0   5.2185  3.6260\n95    170.0    23.5   6.2750  3.7250\n96    225.0    24.0   7.2930  3.7230\n97    145.0    24.0   6.3750  3.8250\n98    188.0    24.6   6.7334  4.1658\n99    180.0    25.0   6.4395  3.6835\n100   197.0    25.6   6.5610  4.2390\n101   218.0    26.5   7.1680  4.1440\n102   300.0    27.3   8.3230  5.1373\n103   260.0    27.5   7.1672  4.3350\n104   265.0    27.5   7.0516  4.3350\n105   250.0    27.5   7.2828  4.5662\n106   250.0    28.0   7.8204  4.2042\n107   300.0    28.7   7.5852  4.6354\n108   320.0    30.0   7.6156  4.7716\n109   514.0    32.8  10.0300  6.0180\n110   556.0    34.5  10.2565  6.3875\n111   840.0    35.0  11.4884  7.7957\n112   685.0    36.5  10.8810  6.8640\n113   700.0    36.0  10.6091  6.7408\n114   700.0    37.0  10.8350  6.2646\n115   690.0    37.0  10.5717  6.3666\n116   900.0    39.0  11.1366  7.4934\n117   650.0    39.0  11.1366  6.0030\n118   820.0    39.0  12.4313  7.3514\n119   850.0    40.0  11.9286  7.1064\n120   900.0    40.0  11.7300  7.2250\n121  1015.0    40.0  12.3808  7.4624\n122   820.0    40.0  11.1350  6.6300\n123  1100.0    42.0  12.8002  6.8684\n124  1000.0    43.0  11.9328  7.2772\n125  1100.0    43.0  12.5125  7.4165\n126  1000.0    43.5  12.6040  8.1420\n127  1000.0    44.0  12.4888  7.5958",
      "text/html": "<div>\n<style scoped>\n    .dataframe tbody tr th:only-of-type {\n        vertical-align: middle;\n    }\n\n    .dataframe tbody tr th {\n        vertical-align: top;\n    }\n\n    .dataframe thead th {\n        text-align: right;\n    }\n</style>\n<table border=\"1\" class=\"dataframe\">\n  <thead>\n    <tr style=\"text-align: right;\">\n      <th></th>\n      <th>Weight</th>\n      <th>Length</th>\n      <th>Height</th>\n      <th>Width</th>\n    </tr>\n  </thead>\n  <tbody>\n    <tr>\n      <th>72</th>\n      <td>5.9</td>\n      <td>8.4</td>\n      <td>2.1120</td>\n      <td>1.4080</td>\n    </tr>\n    <tr>\n      <th>73</th>\n      <td>32.0</td>\n      <td>13.7</td>\n      <td>3.5280</td>\n      <td>1.9992</td>\n    </tr>\n    <tr>\n      <th>74</th>\n      <td>40.0</td>\n      <td>15.0</td>\n      <td>3.8240</td>\n      <td>2.4320</td>\n    </tr>\n    <tr>\n      <th>75</th>\n      <td>51.5</td>\n      <td>16.2</td>\n      <td>4.5924</td>\n      <td>2.6316</td>\n    </tr>\n    <tr>\n      <th>76</th>\n      <td>70.0</td>\n      <td>17.4</td>\n      <td>4.5880</td>\n      <td>2.9415</td>\n    </tr>\n    <tr>\n      <th>77</th>\n      <td>100.0</td>\n      <td>18.0</td>\n      <td>5.2224</td>\n      <td>3.3216</td>\n    </tr>\n    <tr>\n      <th>78</th>\n      <td>78.0</td>\n      <td>18.7</td>\n      <td>5.1992</td>\n      <td>3.1234</td>\n    </tr>\n    <tr>\n      <th>79</th>\n      <td>80.0</td>\n      <td>19.0</td>\n      <td>5.6358</td>\n      <td>3.0502</td>\n    </tr>\n    <tr>\n      <th>80</th>\n      <td>85.0</td>\n      <td>19.6</td>\n      <td>5.1376</td>\n      <td>3.0368</td>\n    </tr>\n    <tr>\n      <th>81</th>\n      <td>85.0</td>\n      <td>20.0</td>\n      <td>5.0820</td>\n      <td>2.7720</td>\n    </tr>\n    <tr>\n      <th>82</th>\n      <td>110.0</td>\n      <td>21.0</td>\n      <td>5.6925</td>\n      <td>3.5550</td>\n    </tr>\n    <tr>\n      <th>83</th>\n      <td>115.0</td>\n      <td>21.0</td>\n      <td>5.9175</td>\n      <td>3.3075</td>\n    </tr>\n    <tr>\n      <th>84</th>\n      <td>125.0</td>\n      <td>21.0</td>\n      <td>5.6925</td>\n      <td>3.6675</td>\n    </tr>\n    <tr>\n      <th>85</th>\n      <td>130.0</td>\n      <td>21.3</td>\n      <td>6.3840</td>\n      <td>3.5340</td>\n    </tr>\n    <tr>\n      <th>86</th>\n      <td>120.0</td>\n      <td>22.0</td>\n      <td>6.1100</td>\n      <td>3.4075</td>\n    </tr>\n    <tr>\n      <th>87</th>\n      <td>120.0</td>\n      <td>22.0</td>\n      <td>5.6400</td>\n      <td>3.5250</td>\n    </tr>\n    <tr>\n      <th>88</th>\n      <td>130.0</td>\n      <td>22.0</td>\n      <td>6.1100</td>\n      <td>3.5250</td>\n    </tr>\n    <tr>\n      <th>89</th>\n      <td>135.0</td>\n      <td>22.0</td>\n      <td>5.8750</td>\n      <td>3.5250</td>\n    </tr>\n    <tr>\n      <th>90</th>\n      <td>110.0</td>\n      <td>22.0</td>\n      <td>5.5225</td>\n      <td>3.9950</td>\n    </tr>\n    <tr>\n      <th>91</th>\n      <td>130.0</td>\n      <td>22.5</td>\n      <td>5.8560</td>\n      <td>3.6240</td>\n    </tr>\n    <tr>\n      <th>92</th>\n      <td>150.0</td>\n      <td>22.5</td>\n      <td>6.7920</td>\n      <td>3.6240</td>\n    </tr>\n    <tr>\n      <th>93</th>\n      <td>145.0</td>\n      <td>22.7</td>\n      <td>5.9532</td>\n      <td>3.6300</td>\n    </tr>\n    <tr>\n      <th>94</th>\n      <td>150.0</td>\n      <td>23.0</td>\n      <td>5.2185</td>\n      <td>3.6260</td>\n    </tr>\n    <tr>\n      <th>95</th>\n      <td>170.0</td>\n      <td>23.5</td>\n      <td>6.2750</td>\n      <td>3.7250</td>\n    </tr>\n    <tr>\n      <th>96</th>\n      <td>225.0</td>\n      <td>24.0</td>\n      <td>7.2930</td>\n      <td>3.7230</td>\n    </tr>\n    <tr>\n      <th>97</th>\n      <td>145.0</td>\n      <td>24.0</td>\n      <td>6.3750</td>\n      <td>3.8250</td>\n    </tr>\n    <tr>\n      <th>98</th>\n      <td>188.0</td>\n      <td>24.6</td>\n      <td>6.7334</td>\n      <td>4.1658</td>\n    </tr>\n    <tr>\n      <th>99</th>\n      <td>180.0</td>\n      <td>25.0</td>\n      <td>6.4395</td>\n      <td>3.6835</td>\n    </tr>\n    <tr>\n      <th>100</th>\n      <td>197.0</td>\n      <td>25.6</td>\n      <td>6.5610</td>\n      <td>4.2390</td>\n    </tr>\n    <tr>\n      <th>101</th>\n      <td>218.0</td>\n      <td>26.5</td>\n      <td>7.1680</td>\n      <td>4.1440</td>\n    </tr>\n    <tr>\n      <th>102</th>\n      <td>300.0</td>\n      <td>27.3</td>\n      <td>8.3230</td>\n      <td>5.1373</td>\n    </tr>\n    <tr>\n      <th>103</th>\n      <td>260.0</td>\n      <td>27.5</td>\n      <td>7.1672</td>\n      <td>4.3350</td>\n    </tr>\n    <tr>\n      <th>104</th>\n      <td>265.0</td>\n      <td>27.5</td>\n      <td>7.0516</td>\n      <td>4.3350</td>\n    </tr>\n    <tr>\n      <th>105</th>\n      <td>250.0</td>\n      <td>27.5</td>\n      <td>7.2828</td>\n      <td>4.5662</td>\n    </tr>\n    <tr>\n      <th>106</th>\n      <td>250.0</td>\n      <td>28.0</td>\n      <td>7.8204</td>\n      <td>4.2042</td>\n    </tr>\n    <tr>\n      <th>107</th>\n      <td>300.0</td>\n      <td>28.7</td>\n      <td>7.5852</td>\n      <td>4.6354</td>\n    </tr>\n    <tr>\n      <th>108</th>\n      <td>320.0</td>\n      <td>30.0</td>\n      <td>7.6156</td>\n      <td>4.7716</td>\n    </tr>\n    <tr>\n      <th>109</th>\n      <td>514.0</td>\n      <td>32.8</td>\n      <td>10.0300</td>\n      <td>6.0180</td>\n    </tr>\n    <tr>\n      <th>110</th>\n      <td>556.0</td>\n      <td>34.5</td>\n      <td>10.2565</td>\n      <td>6.3875</td>\n    </tr>\n    <tr>\n      <th>111</th>\n      <td>840.0</td>\n      <td>35.0</td>\n      <td>11.4884</td>\n      <td>7.7957</td>\n    </tr>\n    <tr>\n      <th>112</th>\n      <td>685.0</td>\n      <td>36.5</td>\n      <td>10.8810</td>\n      <td>6.8640</td>\n    </tr>\n    <tr>\n      <th>113</th>\n      <td>700.0</td>\n      <td>36.0</td>\n      <td>10.6091</td>\n      <td>6.7408</td>\n    </tr>\n    <tr>\n      <th>114</th>\n      <td>700.0</td>\n      <td>37.0</td>\n      <td>10.8350</td>\n      <td>6.2646</td>\n    </tr>\n    <tr>\n      <th>115</th>\n      <td>690.0</td>\n      <td>37.0</td>\n      <td>10.5717</td>\n      <td>6.3666</td>\n    </tr>\n    <tr>\n      <th>116</th>\n      <td>900.0</td>\n      <td>39.0</td>\n      <td>11.1366</td>\n      <td>7.4934</td>\n    </tr>\n    <tr>\n      <th>117</th>\n      <td>650.0</td>\n      <td>39.0</td>\n      <td>11.1366</td>\n      <td>6.0030</td>\n    </tr>\n    <tr>\n      <th>118</th>\n      <td>820.0</td>\n      <td>39.0</td>\n      <td>12.4313</td>\n      <td>7.3514</td>\n    </tr>\n    <tr>\n      <th>119</th>\n      <td>850.0</td>\n      <td>40.0</td>\n      <td>11.9286</td>\n      <td>7.1064</td>\n    </tr>\n    <tr>\n      <th>120</th>\n      <td>900.0</td>\n      <td>40.0</td>\n      <td>11.7300</td>\n      <td>7.2250</td>\n    </tr>\n    <tr>\n      <th>121</th>\n      <td>1015.0</td>\n      <td>40.0</td>\n      <td>12.3808</td>\n      <td>7.4624</td>\n    </tr>\n    <tr>\n      <th>122</th>\n      <td>820.0</td>\n      <td>40.0</td>\n      <td>11.1350</td>\n      <td>6.6300</td>\n    </tr>\n    <tr>\n      <th>123</th>\n      <td>1100.0</td>\n      <td>42.0</td>\n      <td>12.8002</td>\n      <td>6.8684</td>\n    </tr>\n    <tr>\n      <th>124</th>\n      <td>1000.0</td>\n      <td>43.0</td>\n      <td>11.9328</td>\n      <td>7.2772</td>\n    </tr>\n    <tr>\n      <th>125</th>\n      <td>1100.0</td>\n      <td>43.0</td>\n      <td>12.5125</td>\n      <td>7.4165</td>\n    </tr>\n    <tr>\n      <th>126</th>\n      <td>1000.0</td>\n      <td>43.5</td>\n      <td>12.6040</td>\n      <td>8.1420</td>\n    </tr>\n    <tr>\n      <th>127</th>\n      <td>1000.0</td>\n      <td>44.0</td>\n      <td>12.4888</td>\n      <td>7.5958</td>\n    </tr>\n  </tbody>\n</table>\n</div>"
     },
     "execution_count": 13,
     "metadata": {},
     "output_type": "execute_result"
    }
   ],
   "source": [
    "perchDF"
   ],
   "metadata": {
    "collapsed": false,
    "ExecuteTime": {
     "end_time": "2024-02-28T07:47:52.184798100Z",
     "start_time": "2024-02-28T07:47:52.098942100Z"
    }
   },
   "id": "47c2882382579afb",
   "execution_count": 13
  },
  {
   "cell_type": "code",
   "outputs": [
    {
     "data": {
      "text/plain": "    Weight  Length   Height   Width\n0      5.9     8.4   2.1120  1.4080\n1     32.0    13.7   3.5280  1.9992\n2     40.0    15.0   3.8240  2.4320\n3     51.5    16.2   4.5924  2.6316\n4     70.0    17.4   4.5880  2.9415\n5    100.0    18.0   5.2224  3.3216\n6     78.0    18.7   5.1992  3.1234\n7     80.0    19.0   5.6358  3.0502\n8     85.0    19.6   5.1376  3.0368\n9     85.0    20.0   5.0820  2.7720\n10   110.0    21.0   5.6925  3.5550\n11   115.0    21.0   5.9175  3.3075\n12   125.0    21.0   5.6925  3.6675\n13   130.0    21.3   6.3840  3.5340\n14   120.0    22.0   6.1100  3.4075\n15   120.0    22.0   5.6400  3.5250\n16   130.0    22.0   6.1100  3.5250\n17   135.0    22.0   5.8750  3.5250\n18   110.0    22.0   5.5225  3.9950\n19   130.0    22.5   5.8560  3.6240\n20   150.0    22.5   6.7920  3.6240\n21   145.0    22.7   5.9532  3.6300\n22   150.0    23.0   5.2185  3.6260\n23   170.0    23.5   6.2750  3.7250\n24   225.0    24.0   7.2930  3.7230\n25   145.0    24.0   6.3750  3.8250\n26   188.0    24.6   6.7334  4.1658\n27   180.0    25.0   6.4395  3.6835\n28   197.0    25.6   6.5610  4.2390\n29   218.0    26.5   7.1680  4.1440\n30   300.0    27.3   8.3230  5.1373\n31   260.0    27.5   7.1672  4.3350\n32   265.0    27.5   7.0516  4.3350\n33   250.0    27.5   7.2828  4.5662\n34   250.0    28.0   7.8204  4.2042\n35   300.0    28.7   7.5852  4.6354\n36   320.0    30.0   7.6156  4.7716\n37   514.0    32.8  10.0300  6.0180\n38   556.0    34.5  10.2565  6.3875\n39   840.0    35.0  11.4884  7.7957\n40   685.0    36.5  10.8810  6.8640\n41   700.0    36.0  10.6091  6.7408\n42   700.0    37.0  10.8350  6.2646\n43   690.0    37.0  10.5717  6.3666\n44   900.0    39.0  11.1366  7.4934\n45   650.0    39.0  11.1366  6.0030\n46   820.0    39.0  12.4313  7.3514\n47   850.0    40.0  11.9286  7.1064\n48   900.0    40.0  11.7300  7.2250\n49  1015.0    40.0  12.3808  7.4624\n50   820.0    40.0  11.1350  6.6300\n51  1100.0    42.0  12.8002  6.8684\n52  1000.0    43.0  11.9328  7.2772\n53  1100.0    43.0  12.5125  7.4165\n54  1000.0    43.5  12.6040  8.1420\n55  1000.0    44.0  12.4888  7.5958",
      "text/html": "<div>\n<style scoped>\n    .dataframe tbody tr th:only-of-type {\n        vertical-align: middle;\n    }\n\n    .dataframe tbody tr th {\n        vertical-align: top;\n    }\n\n    .dataframe thead th {\n        text-align: right;\n    }\n</style>\n<table border=\"1\" class=\"dataframe\">\n  <thead>\n    <tr style=\"text-align: right;\">\n      <th></th>\n      <th>Weight</th>\n      <th>Length</th>\n      <th>Height</th>\n      <th>Width</th>\n    </tr>\n  </thead>\n  <tbody>\n    <tr>\n      <th>0</th>\n      <td>5.9</td>\n      <td>8.4</td>\n      <td>2.1120</td>\n      <td>1.4080</td>\n    </tr>\n    <tr>\n      <th>1</th>\n      <td>32.0</td>\n      <td>13.7</td>\n      <td>3.5280</td>\n      <td>1.9992</td>\n    </tr>\n    <tr>\n      <th>2</th>\n      <td>40.0</td>\n      <td>15.0</td>\n      <td>3.8240</td>\n      <td>2.4320</td>\n    </tr>\n    <tr>\n      <th>3</th>\n      <td>51.5</td>\n      <td>16.2</td>\n      <td>4.5924</td>\n      <td>2.6316</td>\n    </tr>\n    <tr>\n      <th>4</th>\n      <td>70.0</td>\n      <td>17.4</td>\n      <td>4.5880</td>\n      <td>2.9415</td>\n    </tr>\n    <tr>\n      <th>5</th>\n      <td>100.0</td>\n      <td>18.0</td>\n      <td>5.2224</td>\n      <td>3.3216</td>\n    </tr>\n    <tr>\n      <th>6</th>\n      <td>78.0</td>\n      <td>18.7</td>\n      <td>5.1992</td>\n      <td>3.1234</td>\n    </tr>\n    <tr>\n      <th>7</th>\n      <td>80.0</td>\n      <td>19.0</td>\n      <td>5.6358</td>\n      <td>3.0502</td>\n    </tr>\n    <tr>\n      <th>8</th>\n      <td>85.0</td>\n      <td>19.6</td>\n      <td>5.1376</td>\n      <td>3.0368</td>\n    </tr>\n    <tr>\n      <th>9</th>\n      <td>85.0</td>\n      <td>20.0</td>\n      <td>5.0820</td>\n      <td>2.7720</td>\n    </tr>\n    <tr>\n      <th>10</th>\n      <td>110.0</td>\n      <td>21.0</td>\n      <td>5.6925</td>\n      <td>3.5550</td>\n    </tr>\n    <tr>\n      <th>11</th>\n      <td>115.0</td>\n      <td>21.0</td>\n      <td>5.9175</td>\n      <td>3.3075</td>\n    </tr>\n    <tr>\n      <th>12</th>\n      <td>125.0</td>\n      <td>21.0</td>\n      <td>5.6925</td>\n      <td>3.6675</td>\n    </tr>\n    <tr>\n      <th>13</th>\n      <td>130.0</td>\n      <td>21.3</td>\n      <td>6.3840</td>\n      <td>3.5340</td>\n    </tr>\n    <tr>\n      <th>14</th>\n      <td>120.0</td>\n      <td>22.0</td>\n      <td>6.1100</td>\n      <td>3.4075</td>\n    </tr>\n    <tr>\n      <th>15</th>\n      <td>120.0</td>\n      <td>22.0</td>\n      <td>5.6400</td>\n      <td>3.5250</td>\n    </tr>\n    <tr>\n      <th>16</th>\n      <td>130.0</td>\n      <td>22.0</td>\n      <td>6.1100</td>\n      <td>3.5250</td>\n    </tr>\n    <tr>\n      <th>17</th>\n      <td>135.0</td>\n      <td>22.0</td>\n      <td>5.8750</td>\n      <td>3.5250</td>\n    </tr>\n    <tr>\n      <th>18</th>\n      <td>110.0</td>\n      <td>22.0</td>\n      <td>5.5225</td>\n      <td>3.9950</td>\n    </tr>\n    <tr>\n      <th>19</th>\n      <td>130.0</td>\n      <td>22.5</td>\n      <td>5.8560</td>\n      <td>3.6240</td>\n    </tr>\n    <tr>\n      <th>20</th>\n      <td>150.0</td>\n      <td>22.5</td>\n      <td>6.7920</td>\n      <td>3.6240</td>\n    </tr>\n    <tr>\n      <th>21</th>\n      <td>145.0</td>\n      <td>22.7</td>\n      <td>5.9532</td>\n      <td>3.6300</td>\n    </tr>\n    <tr>\n      <th>22</th>\n      <td>150.0</td>\n      <td>23.0</td>\n      <td>5.2185</td>\n      <td>3.6260</td>\n    </tr>\n    <tr>\n      <th>23</th>\n      <td>170.0</td>\n      <td>23.5</td>\n      <td>6.2750</td>\n      <td>3.7250</td>\n    </tr>\n    <tr>\n      <th>24</th>\n      <td>225.0</td>\n      <td>24.0</td>\n      <td>7.2930</td>\n      <td>3.7230</td>\n    </tr>\n    <tr>\n      <th>25</th>\n      <td>145.0</td>\n      <td>24.0</td>\n      <td>6.3750</td>\n      <td>3.8250</td>\n    </tr>\n    <tr>\n      <th>26</th>\n      <td>188.0</td>\n      <td>24.6</td>\n      <td>6.7334</td>\n      <td>4.1658</td>\n    </tr>\n    <tr>\n      <th>27</th>\n      <td>180.0</td>\n      <td>25.0</td>\n      <td>6.4395</td>\n      <td>3.6835</td>\n    </tr>\n    <tr>\n      <th>28</th>\n      <td>197.0</td>\n      <td>25.6</td>\n      <td>6.5610</td>\n      <td>4.2390</td>\n    </tr>\n    <tr>\n      <th>29</th>\n      <td>218.0</td>\n      <td>26.5</td>\n      <td>7.1680</td>\n      <td>4.1440</td>\n    </tr>\n    <tr>\n      <th>30</th>\n      <td>300.0</td>\n      <td>27.3</td>\n      <td>8.3230</td>\n      <td>5.1373</td>\n    </tr>\n    <tr>\n      <th>31</th>\n      <td>260.0</td>\n      <td>27.5</td>\n      <td>7.1672</td>\n      <td>4.3350</td>\n    </tr>\n    <tr>\n      <th>32</th>\n      <td>265.0</td>\n      <td>27.5</td>\n      <td>7.0516</td>\n      <td>4.3350</td>\n    </tr>\n    <tr>\n      <th>33</th>\n      <td>250.0</td>\n      <td>27.5</td>\n      <td>7.2828</td>\n      <td>4.5662</td>\n    </tr>\n    <tr>\n      <th>34</th>\n      <td>250.0</td>\n      <td>28.0</td>\n      <td>7.8204</td>\n      <td>4.2042</td>\n    </tr>\n    <tr>\n      <th>35</th>\n      <td>300.0</td>\n      <td>28.7</td>\n      <td>7.5852</td>\n      <td>4.6354</td>\n    </tr>\n    <tr>\n      <th>36</th>\n      <td>320.0</td>\n      <td>30.0</td>\n      <td>7.6156</td>\n      <td>4.7716</td>\n    </tr>\n    <tr>\n      <th>37</th>\n      <td>514.0</td>\n      <td>32.8</td>\n      <td>10.0300</td>\n      <td>6.0180</td>\n    </tr>\n    <tr>\n      <th>38</th>\n      <td>556.0</td>\n      <td>34.5</td>\n      <td>10.2565</td>\n      <td>6.3875</td>\n    </tr>\n    <tr>\n      <th>39</th>\n      <td>840.0</td>\n      <td>35.0</td>\n      <td>11.4884</td>\n      <td>7.7957</td>\n    </tr>\n    <tr>\n      <th>40</th>\n      <td>685.0</td>\n      <td>36.5</td>\n      <td>10.8810</td>\n      <td>6.8640</td>\n    </tr>\n    <tr>\n      <th>41</th>\n      <td>700.0</td>\n      <td>36.0</td>\n      <td>10.6091</td>\n      <td>6.7408</td>\n    </tr>\n    <tr>\n      <th>42</th>\n      <td>700.0</td>\n      <td>37.0</td>\n      <td>10.8350</td>\n      <td>6.2646</td>\n    </tr>\n    <tr>\n      <th>43</th>\n      <td>690.0</td>\n      <td>37.0</td>\n      <td>10.5717</td>\n      <td>6.3666</td>\n    </tr>\n    <tr>\n      <th>44</th>\n      <td>900.0</td>\n      <td>39.0</td>\n      <td>11.1366</td>\n      <td>7.4934</td>\n    </tr>\n    <tr>\n      <th>45</th>\n      <td>650.0</td>\n      <td>39.0</td>\n      <td>11.1366</td>\n      <td>6.0030</td>\n    </tr>\n    <tr>\n      <th>46</th>\n      <td>820.0</td>\n      <td>39.0</td>\n      <td>12.4313</td>\n      <td>7.3514</td>\n    </tr>\n    <tr>\n      <th>47</th>\n      <td>850.0</td>\n      <td>40.0</td>\n      <td>11.9286</td>\n      <td>7.1064</td>\n    </tr>\n    <tr>\n      <th>48</th>\n      <td>900.0</td>\n      <td>40.0</td>\n      <td>11.7300</td>\n      <td>7.2250</td>\n    </tr>\n    <tr>\n      <th>49</th>\n      <td>1015.0</td>\n      <td>40.0</td>\n      <td>12.3808</td>\n      <td>7.4624</td>\n    </tr>\n    <tr>\n      <th>50</th>\n      <td>820.0</td>\n      <td>40.0</td>\n      <td>11.1350</td>\n      <td>6.6300</td>\n    </tr>\n    <tr>\n      <th>51</th>\n      <td>1100.0</td>\n      <td>42.0</td>\n      <td>12.8002</td>\n      <td>6.8684</td>\n    </tr>\n    <tr>\n      <th>52</th>\n      <td>1000.0</td>\n      <td>43.0</td>\n      <td>11.9328</td>\n      <td>7.2772</td>\n    </tr>\n    <tr>\n      <th>53</th>\n      <td>1100.0</td>\n      <td>43.0</td>\n      <td>12.5125</td>\n      <td>7.4165</td>\n    </tr>\n    <tr>\n      <th>54</th>\n      <td>1000.0</td>\n      <td>43.5</td>\n      <td>12.6040</td>\n      <td>8.1420</td>\n    </tr>\n    <tr>\n      <th>55</th>\n      <td>1000.0</td>\n      <td>44.0</td>\n      <td>12.4888</td>\n      <td>7.5958</td>\n    </tr>\n  </tbody>\n</table>\n</div>"
     },
     "execution_count": 14,
     "metadata": {},
     "output_type": "execute_result"
    }
   ],
   "source": [
    "perchDF.reset_index(drop=True, inplace=True)\n",
    "perchDF"
   ],
   "metadata": {
    "collapsed": false,
    "ExecuteTime": {
     "end_time": "2024-02-28T07:47:52.237265300Z",
     "start_time": "2024-02-28T07:47:52.129062Z"
    }
   },
   "id": "8bd4e605d61897bd",
   "execution_count": 14
  },
  {
   "cell_type": "markdown",
   "source": [
    "(2-2) 데이터 확인하기<hr>\n",
    "- 학습유형 결정을 위한 단계\n",
    "- 피쳐 스케일링 진행 여부 체크"
   ],
   "metadata": {
    "collapsed": false
   },
   "id": "e956b49d4548349"
  },
  {
   "cell_type": "code",
   "outputs": [
    {
     "data": {
      "text/plain": "Weight    1.000000\nLength    0.958656\nHeight    0.968441\nWidth     0.963943\nName: Weight, dtype: float64"
     },
     "execution_count": 15,
     "metadata": {},
     "output_type": "execute_result"
    }
   ],
   "source": [
    "perchDF.corr()['Weight']"
   ],
   "metadata": {
    "collapsed": false,
    "ExecuteTime": {
     "end_time": "2024-02-28T07:47:52.268150900Z",
     "start_time": "2024-02-28T07:47:52.163206200Z"
    }
   },
   "id": "171fd3f862da6f38",
   "execution_count": 15
  },
  {
   "cell_type": "code",
   "outputs": [],
   "source": [
    "def print_feature(nrows, ncols, df, target, features,corrs):\n",
    "    for idx in range(len(features)):\n",
    "        plt.subplot(nrows, ncols, idx+1)\n",
    "        plt.scatter(df[target], df[features[idx]], label=f'corr:{corrs[idx]:.2}')\n",
    "        plt.legend()\n",
    "        plt.xlabel(target)\n",
    "        plt.ylabel(features[idx])\n",
    "    plt.tight_layout()\n",
    "    plt.show()"
   ],
   "metadata": {
    "collapsed": false,
    "ExecuteTime": {
     "end_time": "2024-02-28T07:50:44.119880200Z",
     "start_time": "2024-02-28T07:50:44.098747900Z"
    }
   },
   "id": "2f71dcea8ad0efaa",
   "execution_count": 16
  },
  {
   "cell_type": "code",
   "outputs": [
    {
     "data": {
      "text/plain": "Length    0.958656\nHeight    0.968441\nWidth     0.963943\nName: Weight, dtype: float64"
     },
     "execution_count": 17,
     "metadata": {},
     "output_type": "execute_result"
    }
   ],
   "source": [
    "corrList = perchDF.corr()['Weight']\n",
    "corrList[1:]"
   ],
   "metadata": {
    "collapsed": false,
    "ExecuteTime": {
     "end_time": "2024-02-28T07:51:14.281939500Z",
     "start_time": "2024-02-28T07:51:14.250704200Z"
    }
   },
   "id": "43de435bc4344570",
   "execution_count": 17
  },
  {
   "cell_type": "code",
   "outputs": [
    {
     "name": "stderr",
     "output_type": "stream",
     "text": [
      "C:\\Users\\KDP-23\\AppData\\Local\\Temp\\ipykernel_14444\\2581766990.py:4: FutureWarning: Series.__getitem__ treating keys as positions is deprecated. In a future version, integer keys will always be treated as labels (consistent with DataFrame behavior). To access a value by position, use `ser.iloc[pos]`\n",
      "  plt.scatter(df[target], df[features[idx]], label=f'corr:{corrs[idx]:.2}')\n"
     ]
    },
    {
     "data": {
      "text/plain": "<Figure size 640x480 with 3 Axes>",
      "image/png": "[encoded data removed]"
     },
     "metadata": {},
     "output_type": "display_data"
    }
   ],
   "source": [
    "print_feature(2,2,perchDF,perchDF.columns[0],perchDF.columns[1:],corrList[1:])"
   ],
   "metadata": {
    "collapsed": false,
    "ExecuteTime": {
     "end_time": "2024-02-28T07:52:48.448748800Z",
     "start_time": "2024-02-28T07:52:47.994794100Z"
    }
   },
   "id": "7ecb2bf524ffb41",
   "execution_count": 18
  },
  {
   "cell_type": "markdown",
   "source": [
    "[3] 학습 진행 <hr>\n"
   ],
   "metadata": {
    "collapsed": false
   },
   "id": "17150ce88db1d789"
  },
  {
   "cell_type": "code",
   "outputs": [],
   "source": [
    "poly = PolynomialFeatures(include_bias=False)\n"
   ],
   "metadata": {
    "collapsed": false
   },
   "id": "a6d4abd5aeebae17"
  },
  {
   "cell_type": "code",
   "outputs": [],
   "source": [],
   "metadata": {
    "collapsed": false
   },
   "id": "c22b7f791a7965cf"
  },
  {
   "cell_type": "code",
   "outputs": [
    {
     "data": {
      "text/plain": "    Weight  Length   Height   Width\n0      5.9     8.4   2.1120  1.4080\n1     32.0    13.7   3.5280  1.9992\n2     40.0    15.0   3.8240  2.4320\n3     51.5    16.2   4.5924  2.6316\n4     70.0    17.4   4.5880  2.9415\n5    100.0    18.0   5.2224  3.3216\n6     78.0    18.7   5.1992  3.1234\n7     80.0    19.0   5.6358  3.0502\n8     85.0    19.6   5.1376  3.0368\n9     85.0    20.0   5.0820  2.7720\n10   110.0    21.0   5.6925  3.5550\n11   115.0    21.0   5.9175  3.3075\n12   125.0    21.0   5.6925  3.6675\n13   130.0    21.3   6.3840  3.5340\n14   120.0    22.0   6.1100  3.4075\n15   120.0    22.0   5.6400  3.5250\n16   130.0    22.0   6.1100  3.5250\n17   135.0    22.0   5.8750  3.5250\n18   110.0    22.0   5.5225  3.9950\n19   130.0    22.5   5.8560  3.6240\n20   150.0    22.5   6.7920  3.6240\n21   145.0    22.7   5.9532  3.6300\n22   150.0    23.0   5.2185  3.6260\n23   170.0    23.5   6.2750  3.7250\n24   225.0    24.0   7.2930  3.7230\n25   145.0    24.0   6.3750  3.8250\n26   188.0    24.6   6.7334  4.1658\n27   180.0    25.0   6.4395  3.6835\n28   197.0    25.6   6.5610  4.2390\n29   218.0    26.5   7.1680  4.1440\n30   300.0    27.3   8.3230  5.1373\n31   260.0    27.5   7.1672  4.3350\n32   265.0    27.5   7.0516  4.3350\n33   250.0    27.5   7.2828  4.5662\n34   250.0    28.0   7.8204  4.2042\n35   300.0    28.7   7.5852  4.6354\n36   320.0    30.0   7.6156  4.7716\n37   514.0    32.8  10.0300  6.0180\n38   556.0    34.5  10.2565  6.3875\n39   840.0    35.0  11.4884  7.7957\n40   685.0    36.5  10.8810  6.8640\n41   700.0    36.0  10.6091  6.7408\n42   700.0    37.0  10.8350  6.2646\n43   690.0    37.0  10.5717  6.3666\n44   900.0    39.0  11.1366  7.4934\n45   650.0    39.0  11.1366  6.0030\n46   820.0    39.0  12.4313  7.3514\n47   850.0    40.0  11.9286  7.1064\n48   900.0    40.0  11.7300  7.2250\n49  1015.0    40.0  12.3808  7.4624\n50   820.0    40.0  11.1350  6.6300\n51  1100.0    42.0  12.8002  6.8684\n52  1000.0    43.0  11.9328  7.2772\n53  1100.0    43.0  12.5125  7.4165\n54  1000.0    43.5  12.6040  8.1420\n55  1000.0    44.0  12.4888  7.5958",
      "text/html": "<div>\n<style scoped>\n    .dataframe tbody tr th:only-of-type {\n        vertical-align: middle;\n    }\n\n    .dataframe tbody tr th {\n        vertical-align: top;\n    }\n\n    .dataframe thead th {\n        text-align: right;\n    }\n</style>\n<table border=\"1\" class=\"dataframe\">\n  <thead>\n    <tr style=\"text-align: right;\">\n      <th></th>\n      <th>Weight</th>\n      <th>Length</th>\n      <th>Height</th>\n      <th>Width</th>\n    </tr>\n  </thead>\n  <tbody>\n    <tr>\n      <th>0</th>\n      <td>5.9</td>\n      <td>8.4</td>\n      <td>2.1120</td>\n      <td>1.4080</td>\n    </tr>\n    <tr>\n      <th>1</th>\n      <td>32.0</td>\n      <td>13.7</td>\n      <td>3.5280</td>\n      <td>1.9992</td>\n    </tr>\n    <tr>\n      <th>2</th>\n      <td>40.0</td>\n      <td>15.0</td>\n      <td>3.8240</td>\n      <td>2.4320</td>\n    </tr>\n    <tr>\n      <th>3</th>\n      <td>51.5</td>\n      <td>16.2</td>\n      <td>4.5924</td>\n      <td>2.6316</td>\n    </tr>\n    <tr>\n      <th>4</th>\n      <td>70.0</td>\n      <td>17.4</td>\n      <td>4.5880</td>\n      <td>2.9415</td>\n    </tr>\n    <tr>\n      <th>5</th>\n      <td>100.0</td>\n      <td>18.0</td>\n      <td>5.2224</td>\n      <td>3.3216</td>\n    </tr>\n    <tr>\n      <th>6</th>\n      <td>78.0</td>\n      <td>18.7</td>\n      <td>5.1992</td>\n      <td>3.1234</td>\n    </tr>\n    <tr>\n      <th>7</th>\n      <td>80.0</td>\n      <td>19.0</td>\n      <td>5.6358</td>\n      <td>3.0502</td>\n    </tr>\n    <tr>\n      <th>8</th>\n      <td>85.0</td>\n      <td>19.6</td>\n      <td>5.1376</td>\n      <td>3.0368</td>\n    </tr>\n    <tr>\n      <th>9</th>\n      <td>85.0</td>\n      <td>20.0</td>\n      <td>5.0820</td>\n      <td>2.7720</td>\n    </tr>\n    <tr>\n      <th>10</th>\n      <td>110.0</td>\n      <td>21.0</td>\n      <td>5.6925</td>\n      <td>3.5550</td>\n    </tr>\n    <tr>\n      <th>11</th>\n      <td>115.0</td>\n      <td>21.0</td>\n      <td>5.9175</td>\n      <td>3.3075</td>\n    </tr>\n    <tr>\n      <th>12</th>\n      <td>125.0</td>\n      <td>21.0</td>\n      <td>5.6925</td>\n      <td>3.6675</td>\n    </tr>\n    <tr>\n      <th>13</th>\n      <td>130.0</td>\n      <td>21.3</td>\n      <td>6.3840</td>\n      <td>3.5340</td>\n    </tr>\n    <tr>\n      <th>14</th>\n      <td>120.0</td>\n      <td>22.0</td>\n      <td>6.1100</td>\n      <td>3.4075</td>\n    </tr>\n    <tr>\n      <th>15</th>\n      <td>120.0</td>\n      <td>22.0</td>\n      <td>5.6400</td>\n      <td>3.5250</td>\n    </tr>\n    <tr>\n      <th>16</th>\n      <td>130.0</td>\n      <td>22.0</td>\n      <td>6.1100</td>\n      <td>3.5250</td>\n    </tr>\n    <tr>\n      <th>17</th>\n      <td>135.0</td>\n      <td>22.0</td>\n      <td>5.8750</td>\n      <td>3.5250</td>\n    </tr>\n    <tr>\n      <th>18</th>\n      <td>110.0</td>\n      <td>22.0</td>\n      <td>5.5225</td>\n      <td>3.9950</td>\n    </tr>\n    <tr>\n      <th>19</th>\n      <td>130.0</td>\n      <td>22.5</td>\n      <td>5.8560</td>\n      <td>3.6240</td>\n    </tr>\n    <tr>\n      <th>20</th>\n      <td>150.0</td>\n      <td>22.5</td>\n      <td>6.7920</td>\n      <td>3.6240</td>\n    </tr>\n    <tr>\n      <th>21</th>\n      <td>145.0</td>\n      <td>22.7</td>\n      <td>5.9532</td>\n      <td>3.6300</td>\n    </tr>\n    <tr>\n      <th>22</th>\n      <td>150.0</td>\n      <td>23.0</td>\n      <td>5.2185</td>\n      <td>3.6260</td>\n    </tr>\n    <tr>\n      <th>23</th>\n      <td>170.0</td>\n      <td>23.5</td>\n      <td>6.2750</td>\n      <td>3.7250</td>\n    </tr>\n    <tr>\n      <th>24</th>\n      <td>225.0</td>\n      <td>24.0</td>\n      <td>7.2930</td>\n      <td>3.7230</td>\n    </tr>\n    <tr>\n      <th>25</th>\n      <td>145.0</td>\n      <td>24.0</td>\n      <td>6.3750</td>\n      <td>3.8250</td>\n    </tr>\n    <tr>\n      <th>26</th>\n      <td>188.0</td>\n      <td>24.6</td>\n      <td>6.7334</td>\n      <td>4.1658</td>\n    </tr>\n    <tr>\n      <th>27</th>\n      <td>180.0</td>\n      <td>25.0</td>\n      <td>6.4395</td>\n      <td>3.6835</td>\n    </tr>\n    <tr>\n      <th>28</th>\n      <td>197.0</td>\n      <td>25.6</td>\n      <td>6.5610</td>\n      <td>4.2390</td>\n    </tr>\n    <tr>\n      <th>29</th>\n      <td>218.0</td>\n      <td>26.5</td>\n      <td>7.1680</td>\n      <td>4.1440</td>\n    </tr>\n    <tr>\n      <th>30</th>\n      <td>300.0</td>\n      <td>27.3</td>\n      <td>8.3230</td>\n      <td>5.1373</td>\n    </tr>\n    <tr>\n      <th>31</th>\n      <td>260.0</td>\n      <td>27.5</td>\n      <td>7.1672</td>\n      <td>4.3350</td>\n    </tr>\n    <tr>\n      <th>32</th>\n      <td>265.0</td>\n      <td>27.5</td>\n      <td>7.0516</td>\n      <td>4.3350</td>\n    </tr>\n    <tr>\n      <th>33</th>\n      <td>250.0</td>\n      <td>27.5</td>\n      <td>7.2828</td>\n      <td>4.5662</td>\n    </tr>\n    <tr>\n      <th>34</th>\n      <td>250.0</td>\n      <td>28.0</td>\n      <td>7.8204</td>\n      <td>4.2042</td>\n    </tr>\n    <tr>\n      <th>35</th>\n      <td>300.0</td>\n      <td>28.7</td>\n      <td>7.5852</td>\n      <td>4.6354</td>\n    </tr>\n    <tr>\n      <th>36</th>\n      <td>320.0</td>\n      <td>30.0</td>\n      <td>7.6156</td>\n      <td>4.7716</td>\n    </tr>\n    <tr>\n      <th>37</th>\n      <td>514.0</td>\n      <td>32.8</td>\n      <td>10.0300</td>\n      <td>6.0180</td>\n    </tr>\n    <tr>\n      <th>38</th>\n      <td>556.0</td>\n      <td>34.5</td>\n      <td>10.2565</td>\n      <td>6.3875</td>\n    </tr>\n    <tr>\n      <th>39</th>\n      <td>840.0</td>\n      <td>35.0</td>\n      <td>11.4884</td>\n      <td>7.7957</td>\n    </tr>\n    <tr>\n      <th>40</th>\n      <td>685.0</td>\n      <td>36.5</td>\n      <td>10.8810</td>\n      <td>6.8640</td>\n    </tr>\n    <tr>\n      <th>41</th>\n      <td>700.0</td>\n      <td>36.0</td>\n      <td>10.6091</td>\n      <td>6.7408</td>\n    </tr>\n    <tr>\n      <th>42</th>\n      <td>700.0</td>\n      <td>37.0</td>\n      <td>10.8350</td>\n      <td>6.2646</td>\n    </tr>\n    <tr>\n      <th>43</th>\n      <td>690.0</td>\n      <td>37.0</td>\n      <td>10.5717</td>\n      <td>6.3666</td>\n    </tr>\n    <tr>\n      <th>44</th>\n      <td>900.0</td>\n      <td>39.0</td>\n      <td>11.1366</td>\n      <td>7.4934</td>\n    </tr>\n    <tr>\n      <th>45</th>\n      <td>650.0</td>\n      <td>39.0</td>\n      <td>11.1366</td>\n      <td>6.0030</td>\n    </tr>\n    <tr>\n      <th>46</th>\n      <td>820.0</td>\n      <td>39.0</td>\n      <td>12.4313</td>\n      <td>7.3514</td>\n    </tr>\n    <tr>\n      <th>47</th>\n      <td>850.0</td>\n      <td>40.0</td>\n      <td>11.9286</td>\n      <td>7.1064</td>\n    </tr>\n    <tr>\n      <th>48</th>\n      <td>900.0</td>\n      <td>40.0</td>\n      <td>11.7300</td>\n      <td>7.2250</td>\n    </tr>\n    <tr>\n      <th>49</th>\n      <td>1015.0</td>\n      <td>40.0</td>\n      <td>12.3808</td>\n      <td>7.4624</td>\n    </tr>\n    <tr>\n      <th>50</th>\n      <td>820.0</td>\n      <td>40.0</td>\n      <td>11.1350</td>\n      <td>6.6300</td>\n    </tr>\n    <tr>\n      <th>51</th>\n      <td>1100.0</td>\n      <td>42.0</td>\n      <td>12.8002</td>\n      <td>6.8684</td>\n    </tr>\n    <tr>\n      <th>52</th>\n      <td>1000.0</td>\n      <td>43.0</td>\n      <td>11.9328</td>\n      <td>7.2772</td>\n    </tr>\n    <tr>\n      <th>53</th>\n      <td>1100.0</td>\n      <td>43.0</td>\n      <td>12.5125</td>\n      <td>7.4165</td>\n    </tr>\n    <tr>\n      <th>54</th>\n      <td>1000.0</td>\n      <td>43.5</td>\n      <td>12.6040</td>\n      <td>8.1420</td>\n    </tr>\n    <tr>\n      <th>55</th>\n      <td>1000.0</td>\n      <td>44.0</td>\n      <td>12.4888</td>\n      <td>7.5958</td>\n    </tr>\n  </tbody>\n</table>\n</div>"
     },
     "execution_count": 19,
     "metadata": {},
     "output_type": "execute_result"
    }
   ],
   "source": [
    "perchDF"
   ],
   "metadata": {
    "collapsed": false,
    "ExecuteTime": {
     "end_time": "2024-02-28T08:52:00.533160Z",
     "start_time": "2024-02-28T08:52:00.514628500Z"
    }
   },
   "id": "a83c88e12aaf0964",
   "execution_count": 19
  },
  {
   "cell_type": "code",
   "outputs": [
    {
     "data": {
      "text/plain": "    Length   Height   Width\n0      8.4   2.1120  1.4080\n1     13.7   3.5280  1.9992\n2     15.0   3.8240  2.4320\n3     16.2   4.5924  2.6316\n4     17.4   4.5880  2.9415\n5     18.0   5.2224  3.3216\n6     18.7   5.1992  3.1234\n7     19.0   5.6358  3.0502\n8     19.6   5.1376  3.0368\n9     20.0   5.0820  2.7720\n10    21.0   5.6925  3.5550\n11    21.0   5.9175  3.3075\n12    21.0   5.6925  3.6675\n13    21.3   6.3840  3.5340\n14    22.0   6.1100  3.4075\n15    22.0   5.6400  3.5250\n16    22.0   6.1100  3.5250\n17    22.0   5.8750  3.5250\n18    22.0   5.5225  3.9950\n19    22.5   5.8560  3.6240\n20    22.5   6.7920  3.6240\n21    22.7   5.9532  3.6300\n22    23.0   5.2185  3.6260\n23    23.5   6.2750  3.7250\n24    24.0   7.2930  3.7230\n25    24.0   6.3750  3.8250\n26    24.6   6.7334  4.1658\n27    25.0   6.4395  3.6835\n28    25.6   6.5610  4.2390\n29    26.5   7.1680  4.1440\n30    27.3   8.3230  5.1373\n31    27.5   7.1672  4.3350\n32    27.5   7.0516  4.3350\n33    27.5   7.2828  4.5662\n34    28.0   7.8204  4.2042\n35    28.7   7.5852  4.6354\n36    30.0   7.6156  4.7716\n37    32.8  10.0300  6.0180\n38    34.5  10.2565  6.3875\n39    35.0  11.4884  7.7957\n40    36.5  10.8810  6.8640\n41    36.0  10.6091  6.7408\n42    37.0  10.8350  6.2646\n43    37.0  10.5717  6.3666\n44    39.0  11.1366  7.4934\n45    39.0  11.1366  6.0030\n46    39.0  12.4313  7.3514\n47    40.0  11.9286  7.1064\n48    40.0  11.7300  7.2250\n49    40.0  12.3808  7.4624\n50    40.0  11.1350  6.6300\n51    42.0  12.8002  6.8684\n52    43.0  11.9328  7.2772\n53    43.0  12.5125  7.4165\n54    43.5  12.6040  8.1420\n55    44.0  12.4888  7.5958",
      "text/html": "<div>\n<style scoped>\n    .dataframe tbody tr th:only-of-type {\n        vertical-align: middle;\n    }\n\n    .dataframe tbody tr th {\n        vertical-align: top;\n    }\n\n    .dataframe thead th {\n        text-align: right;\n    }\n</style>\n<table border=\"1\" class=\"dataframe\">\n  <thead>\n    <tr style=\"text-align: right;\">\n      <th></th>\n      <th>Length</th>\n      <th>Height</th>\n      <th>Width</th>\n    </tr>\n  </thead>\n  <tbody>\n    <tr>\n      <th>0</th>\n      <td>8.4</td>\n      <td>2.1120</td>\n      <td>1.4080</td>\n    </tr>\n    <tr>\n      <th>1</th>\n      <td>13.7</td>\n      <td>3.5280</td>\n      <td>1.9992</td>\n    </tr>\n    <tr>\n      <th>2</th>\n      <td>15.0</td>\n      <td>3.8240</td>\n      <td>2.4320</td>\n    </tr>\n    <tr>\n      <th>3</th>\n      <td>16.2</td>\n      <td>4.5924</td>\n      <td>2.6316</td>\n    </tr>\n    <tr>\n      <th>4</th>\n      <td>17.4</td>\n      <td>4.5880</td>\n      <td>2.9415</td>\n    </tr>\n    <tr>\n      <th>5</th>\n      <td>18.0</td>\n      <td>5.2224</td>\n      <td>3.3216</td>\n    </tr>\n    <tr>\n      <th>6</th>\n      <td>18.7</td>\n      <td>5.1992</td>\n      <td>3.1234</td>\n    </tr>\n    <tr>\n      <th>7</th>\n      <td>19.0</td>\n      <td>5.6358</td>\n      <td>3.0502</td>\n    </tr>\n    <tr>\n      <th>8</th>\n      <td>19.6</td>\n      <td>5.1376</td>\n      <td>3.0368</td>\n    </tr>\n    <tr>\n      <th>9</th>\n      <td>20.0</td>\n      <td>5.0820</td>\n      <td>2.7720</td>\n    </tr>\n    <tr>\n      <th>10</th>\n      <td>21.0</td>\n      <td>5.6925</td>\n      <td>3.5550</td>\n    </tr>\n    <tr>\n      <th>11</th>\n      <td>21.0</td>\n      <td>5.9175</td>\n      <td>3.3075</td>\n    </tr>\n    <tr>\n      <th>12</th>\n      <td>21.0</td>\n      <td>5.6925</td>\n      <td>3.6675</td>\n    </tr>\n    <tr>\n      <th>13</th>\n      <td>21.3</td>\n      <td>6.3840</td>\n      <td>3.5340</td>\n    </tr>\n    <tr>\n      <th>14</th>\n      <td>22.0</td>\n      <td>6.1100</td>\n      <td>3.4075</td>\n    </tr>\n    <tr>\n      <th>15</th>\n      <td>22.0</td>\n      <td>5.6400</td>\n      <td>3.5250</td>\n    </tr>\n    <tr>\n      <th>16</th>\n      <td>22.0</td>\n      <td>6.1100</td>\n      <td>3.5250</td>\n    </tr>\n    <tr>\n      <th>17</th>\n      <td>22.0</td>\n      <td>5.8750</td>\n      <td>3.5250</td>\n    </tr>\n    <tr>\n      <th>18</th>\n      <td>22.0</td>\n      <td>5.5225</td>\n      <td>3.9950</td>\n    </tr>\n    <tr>\n      <th>19</th>\n      <td>22.5</td>\n      <td>5.8560</td>\n      <td>3.6240</td>\n    </tr>\n    <tr>\n      <th>20</th>\n      <td>22.5</td>\n      <td>6.7920</td>\n      <td>3.6240</td>\n    </tr>\n    <tr>\n      <th>21</th>\n      <td>22.7</td>\n      <td>5.9532</td>\n      <td>3.6300</td>\n    </tr>\n    <tr>\n      <th>22</th>\n      <td>23.0</td>\n      <td>5.2185</td>\n      <td>3.6260</td>\n    </tr>\n    <tr>\n      <th>23</th>\n      <td>23.5</td>\n      <td>6.2750</td>\n      <td>3.7250</td>\n    </tr>\n    <tr>\n      <th>24</th>\n      <td>24.0</td>\n      <td>7.2930</td>\n      <td>3.7230</td>\n    </tr>\n    <tr>\n      <th>25</th>\n      <td>24.0</td>\n      <td>6.3750</td>\n      <td>3.8250</td>\n    </tr>\n    <tr>\n      <th>26</th>\n      <td>24.6</td>\n      <td>6.7334</td>\n      <td>4.1658</td>\n    </tr>\n    <tr>\n      <th>27</th>\n      <td>25.0</td>\n      <td>6.4395</td>\n      <td>3.6835</td>\n    </tr>\n    <tr>\n      <th>28</th>\n      <td>25.6</td>\n      <td>6.5610</td>\n      <td>4.2390</td>\n    </tr>\n    <tr>\n      <th>29</th>\n      <td>26.5</td>\n      <td>7.1680</td>\n      <td>4.1440</td>\n    </tr>\n    <tr>\n      <th>30</th>\n      <td>27.3</td>\n      <td>8.3230</td>\n      <td>5.1373</td>\n    </tr>\n    <tr>\n      <th>31</th>\n      <td>27.5</td>\n      <td>7.1672</td>\n      <td>4.3350</td>\n    </tr>\n    <tr>\n      <th>32</th>\n      <td>27.5</td>\n      <td>7.0516</td>\n      <td>4.3350</td>\n    </tr>\n    <tr>\n      <th>33</th>\n      <td>27.5</td>\n      <td>7.2828</td>\n      <td>4.5662</td>\n    </tr>\n    <tr>\n      <th>34</th>\n      <td>28.0</td>\n      <td>7.8204</td>\n      <td>4.2042</td>\n    </tr>\n    <tr>\n      <th>35</th>\n      <td>28.7</td>\n      <td>7.5852</td>\n      <td>4.6354</td>\n    </tr>\n    <tr>\n      <th>36</th>\n      <td>30.0</td>\n      <td>7.6156</td>\n      <td>4.7716</td>\n    </tr>\n    <tr>\n      <th>37</th>\n      <td>32.8</td>\n      <td>10.0300</td>\n      <td>6.0180</td>\n    </tr>\n    <tr>\n      <th>38</th>\n      <td>34.5</td>\n      <td>10.2565</td>\n      <td>6.3875</td>\n    </tr>\n    <tr>\n      <th>39</th>\n      <td>35.0</td>\n      <td>11.4884</td>\n      <td>7.7957</td>\n    </tr>\n    <tr>\n      <th>40</th>\n      <td>36.5</td>\n      <td>10.8810</td>\n      <td>6.8640</td>\n    </tr>\n    <tr>\n      <th>41</th>\n      <td>36.0</td>\n      <td>10.6091</td>\n      <td>6.7408</td>\n    </tr>\n    <tr>\n      <th>42</th>\n      <td>37.0</td>\n      <td>10.8350</td>\n      <td>6.2646</td>\n    </tr>\n    <tr>\n      <th>43</th>\n      <td>37.0</td>\n      <td>10.5717</td>\n      <td>6.3666</td>\n    </tr>\n    <tr>\n      <th>44</th>\n      <td>39.0</td>\n      <td>11.1366</td>\n      <td>7.4934</td>\n    </tr>\n    <tr>\n      <th>45</th>\n      <td>39.0</td>\n      <td>11.1366</td>\n      <td>6.0030</td>\n    </tr>\n    <tr>\n      <th>46</th>\n      <td>39.0</td>\n      <td>12.4313</td>\n      <td>7.3514</td>\n    </tr>\n    <tr>\n      <th>47</th>\n      <td>40.0</td>\n      <td>11.9286</td>\n      <td>7.1064</td>\n    </tr>\n    <tr>\n      <th>48</th>\n      <td>40.0</td>\n      <td>11.7300</td>\n      <td>7.2250</td>\n    </tr>\n    <tr>\n      <th>49</th>\n      <td>40.0</td>\n      <td>12.3808</td>\n      <td>7.4624</td>\n    </tr>\n    <tr>\n      <th>50</th>\n      <td>40.0</td>\n      <td>11.1350</td>\n      <td>6.6300</td>\n    </tr>\n    <tr>\n      <th>51</th>\n      <td>42.0</td>\n      <td>12.8002</td>\n      <td>6.8684</td>\n    </tr>\n    <tr>\n      <th>52</th>\n      <td>43.0</td>\n      <td>11.9328</td>\n      <td>7.2772</td>\n    </tr>\n    <tr>\n      <th>53</th>\n      <td>43.0</td>\n      <td>12.5125</td>\n      <td>7.4165</td>\n    </tr>\n    <tr>\n      <th>54</th>\n      <td>43.5</td>\n      <td>12.6040</td>\n      <td>8.1420</td>\n    </tr>\n    <tr>\n      <th>55</th>\n      <td>44.0</td>\n      <td>12.4888</td>\n      <td>7.5958</td>\n    </tr>\n  </tbody>\n</table>\n</div>"
     },
     "execution_count": 23,
     "metadata": {},
     "output_type": "execute_result"
    }
   ],
   "source": [
    "targetDF = perchDF['Weight']\n",
    "featrueDF=perchDF[perchDF.columns[1:4]]"
   ],
   "metadata": {
    "collapsed": false,
    "ExecuteTime": {
     "end_time": "2024-02-28T08:55:40.706031100Z",
     "start_time": "2024-02-28T08:55:40.677033600Z"
    }
   },
   "id": "aecc583b1912ecff",
   "execution_count": 23
  },
  {
   "cell_type": "code",
   "outputs": [],
   "source": [],
   "metadata": {
    "collapsed": false
   },
   "id": "4c4e01e6d8e7073b"
  }
 ],
 "metadata": {
  "kernelspec": {
   "display_name": "Python 3",
   "language": "python",
   "name": "python3"
  },
  "language_info": {
   "codemirror_mode": {
    "name": "ipython",
    "version": 2
   },
   "file_extension": ".py",
   "mimetype": "text/x-python",
   "name": "python",
   "nbconvert_exporter": "python",
   "pygments_lexer": "ipython2",
   "version": "2.7.6"
  }
 },
 "nbformat": 4,
 "nbformat_minor": 5
}
