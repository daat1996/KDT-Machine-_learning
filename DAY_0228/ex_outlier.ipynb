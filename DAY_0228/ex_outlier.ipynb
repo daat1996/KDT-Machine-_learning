{
 "cells": [
  {
   "cell_type": "markdown",
   "source": [
    "### 이상치 데이터 처리\n",
    "- 피쳐/특성에 데이터 값의 범위를 벗어나는 데이터를 의미\n",
    "- 종류 : 잘못입력된 경우, 자연으로 생성된 데이터\n",
    "    * 잘못입력된 데이터 : 입력시 오타    ===> 제거 또는 대체\n",
    "    * 자연 생성 데이터 : 연봉, 키, 몸무게, 나이  ==> 분리해서 전용 모델/ 식별용 피쳐\n",
    "- 탐지\n",
    "    * 시각화 확인\n",
    "    * 데이터의 분포를 확인 : z-score / IQR (Turkey Fences)\n",
    "- 처리\n",
    "    * 삭제 / 대체/ 분리 모델 / 파생변수 추가"
   ],
   "metadata": {
    "collapsed": false
   },
   "id": "166b6caa6c97e301"
  },
  {
   "cell_type": "markdown",
   "source": [
    "(1) 모듈 로딩 및 데이터 준비 <hr>"
   ],
   "metadata": {
    "collapsed": false
   },
   "id": "440194d1e3e66eb4"
  },
  {
   "cell_type": "code",
   "outputs": [],
   "source": [
    "import pandas as pd\n",
    "import numpy as np\n",
    "import matplotlib.pyplot as plt"
   ],
   "metadata": {
    "collapsed": false,
    "ExecuteTime": {
     "end_time": "2024-02-28T00:50:33.246189700Z",
     "start_time": "2024-02-28T00:50:33.233659700Z"
    }
   },
   "id": "29db1a27755024db",
   "execution_count": 1
  },
  {
   "cell_type": "code",
   "outputs": [
    {
     "name": "stdout",
     "output_type": "stream",
     "text": [
      "<class 'pandas.core.frame.DataFrame'>\n",
      "RangeIndex: 10 entries, 0 to 9\n",
      "Data columns (total 1 columns):\n",
      " #   Column  Non-Null Count  Dtype\n",
      "---  ------  --------------  -----\n",
      " 0   num     10 non-null     int64\n",
      "dtypes: int64(1)\n",
      "memory usage: 208.0 bytes\n"
     ]
    }
   ],
   "source": [
    "# 임의의 데이터 \n",
    "dataDF = pd.DataFrame({'num':[1,4,3,2,4,5,-14,2,1,15]})      # 일부러 이상치 만들기 위해\n",
    "dataDF.info()"
   ],
   "metadata": {
    "collapsed": false,
    "ExecuteTime": {
     "end_time": "2024-02-28T00:53:12.507195200Z",
     "start_time": "2024-02-28T00:53:12.495194400Z"
    }
   },
   "id": "4ccb83b03a19d4e6",
   "execution_count": 3
  },
  {
   "cell_type": "markdown",
   "source": [
    "(2) 데이터 전처리 <hr>"
   ],
   "metadata": {
    "collapsed": false
   },
   "id": "b219eaa3d6c6dad2"
  },
  {
   "cell_type": "markdown",
   "source": [
    "(2-1) 데이터 확인"
   ],
   "metadata": {
    "collapsed": false
   },
   "id": "a9610352b7337f0d"
  },
  {
   "cell_type": "code",
   "outputs": [
    {
     "data": {
      "text/plain": "<Figure size 640x480 with 1 Axes>",
      "image/png": "[encoded data removed]"
     },
     "metadata": {},
     "output_type": "display_data"
    }
   ],
   "source": [
    "# 시각화로 데이터 분포 확인\n",
    "plt.plot(dataDF, 'bo')\n",
    "plt.title('Data Distribution')\n",
    "plt.show()"
   ],
   "metadata": {
    "collapsed": false,
    "ExecuteTime": {
     "end_time": "2024-02-28T00:53:46.966882100Z",
     "start_time": "2024-02-28T00:53:46.782661Z"
    }
   },
   "id": "b93cd73c5a2aae35",
   "execution_count": 4
  },
  {
   "cell_type": "code",
   "outputs": [
    {
     "data": {
      "text/plain": "<Figure size 640x480 with 1 Axes>",
      "image/png": "[encoded data removed]"
     },
     "metadata": {},
     "output_type": "display_data"
    }
   ],
   "source": [
    "# 시각화로 데이터 분포 확인\n",
    "plt.hist(dataDF)\n",
    "plt.title('Data Distribution')\n",
    "plt.show()"
   ],
   "metadata": {
    "collapsed": false,
    "ExecuteTime": {
     "end_time": "2024-02-28T00:55:14.437896600Z",
     "start_time": "2024-02-28T00:55:14.306897600Z"
    }
   },
   "id": "90581bc7c1d4c5af",
   "execution_count": 6
  },
  {
   "cell_type": "markdown",
   "source": [
    "(2-2) 불필요 데이터 체크 => 결측치, 이상치"
   ],
   "metadata": {
    "collapsed": false
   },
   "id": "b7025601b6edfcfb"
  },
  {
   "cell_type": "code",
   "outputs": [
    {
     "data": {
      "text/plain": "num    0\ndtype: int64"
     },
     "execution_count": 7,
     "metadata": {},
     "output_type": "execute_result"
    }
   ],
   "source": [
    "# 결측치\n",
    "dataDF.isnull().sum()"
   ],
   "metadata": {
    "collapsed": false,
    "ExecuteTime": {
     "end_time": "2024-02-28T00:57:23.836222100Z",
     "start_time": "2024-02-28T00:57:23.823211500Z"
    }
   },
   "id": "cc09a1571a242f7e",
   "execution_count": 7
  },
  {
   "cell_type": "code",
   "outputs": [
    {
     "data": {
      "text/plain": "        num\n0 -0.185065\n1  0.242008\n2  0.099650\n3 -0.042707\n4  0.242008\n5  0.384366\n6 -2.320430\n7 -0.042707\n8 -0.185065\n9  1.807942",
      "text/html": "<div>\n<style scoped>\n    .dataframe tbody tr th:only-of-type {\n        vertical-align: middle;\n    }\n\n    .dataframe tbody tr th {\n        vertical-align: top;\n    }\n\n    .dataframe thead th {\n        text-align: right;\n    }\n</style>\n<table border=\"1\" class=\"dataframe\">\n  <thead>\n    <tr style=\"text-align: right;\">\n      <th></th>\n      <th>num</th>\n    </tr>\n  </thead>\n  <tbody>\n    <tr>\n      <th>0</th>\n      <td>-0.185065</td>\n    </tr>\n    <tr>\n      <th>1</th>\n      <td>0.242008</td>\n    </tr>\n    <tr>\n      <th>2</th>\n      <td>0.099650</td>\n    </tr>\n    <tr>\n      <th>3</th>\n      <td>-0.042707</td>\n    </tr>\n    <tr>\n      <th>4</th>\n      <td>0.242008</td>\n    </tr>\n    <tr>\n      <th>5</th>\n      <td>0.384366</td>\n    </tr>\n    <tr>\n      <th>6</th>\n      <td>-2.320430</td>\n    </tr>\n    <tr>\n      <th>7</th>\n      <td>-0.042707</td>\n    </tr>\n    <tr>\n      <th>8</th>\n      <td>-0.185065</td>\n    </tr>\n    <tr>\n      <th>9</th>\n      <td>1.807942</td>\n    </tr>\n  </tbody>\n</table>\n</div>"
     },
     "execution_count": 9,
     "metadata": {},
     "output_type": "execute_result"
    }
   ],
   "source": [
    "# 이상치 탐지 - 방법(1) 평균과 편차를 이용한 탐지 z-score\n",
    "# z-score = 데이터 - 평균/표준편차\n",
    "mean_value = dataDF.mean()\n",
    "std_value = dataDF.std()\n",
    "\n",
    "z_dataSR = (dataDF- mean_value)/std_value\n",
    "z_dataSR"
   ],
   "metadata": {
    "collapsed": false,
    "ExecuteTime": {
     "end_time": "2024-02-28T00:59:41.372669800Z",
     "start_time": "2024-02-28T00:59:41.365319600Z"
    }
   },
   "id": "208b8025ba87b707",
   "execution_count": 9
  },
  {
   "cell_type": "code",
   "outputs": [
    {
     "data": {
      "text/plain": "        num\n0 -0.185065\n1  0.242008\n2  0.099650\n3 -0.042707\n4  0.242008\n5  0.384366\n7 -0.042707\n8 -0.185065",
      "text/html": "<div>\n<style scoped>\n    .dataframe tbody tr th:only-of-type {\n        vertical-align: middle;\n    }\n\n    .dataframe tbody tr th {\n        vertical-align: top;\n    }\n\n    .dataframe thead th {\n        text-align: right;\n    }\n</style>\n<table border=\"1\" class=\"dataframe\">\n  <thead>\n    <tr style=\"text-align: right;\">\n      <th></th>\n      <th>num</th>\n    </tr>\n  </thead>\n  <tbody>\n    <tr>\n      <th>0</th>\n      <td>-0.185065</td>\n    </tr>\n    <tr>\n      <th>1</th>\n      <td>0.242008</td>\n    </tr>\n    <tr>\n      <th>2</th>\n      <td>0.099650</td>\n    </tr>\n    <tr>\n      <th>3</th>\n      <td>-0.042707</td>\n    </tr>\n    <tr>\n      <th>4</th>\n      <td>0.242008</td>\n    </tr>\n    <tr>\n      <th>5</th>\n      <td>0.384366</td>\n    </tr>\n    <tr>\n      <th>7</th>\n      <td>-0.042707</td>\n    </tr>\n    <tr>\n      <th>8</th>\n      <td>-0.185065</td>\n    </tr>\n  </tbody>\n</table>\n</div>"
     },
     "execution_count": 12,
     "metadata": {},
     "output_type": "execute_result"
    }
   ],
   "source": [
    "# 양끝단 제거를 위한 기준값 => 1.0\n",
    "base=1.0\n",
    "mask = z_dataSR.abs()>base\n",
    "z_dataSR[~mask].dropna()"
   ],
   "metadata": {
    "collapsed": false,
    "ExecuteTime": {
     "end_time": "2024-02-28T01:05:10.937379400Z",
     "start_time": "2024-02-28T01:05:10.914370300Z"
    }
   },
   "id": "1922baf95c23119a",
   "execution_count": 12
  },
  {
   "cell_type": "code",
   "outputs": [
    {
     "data": {
      "text/plain": "   num\n0  1.0\n1  4.0\n2  3.0\n3  2.0\n4  4.0\n5  5.0\n6  NaN\n7  2.0\n8  1.0\n9  NaN",
      "text/html": "<div>\n<style scoped>\n    .dataframe tbody tr th:only-of-type {\n        vertical-align: middle;\n    }\n\n    .dataframe tbody tr th {\n        vertical-align: top;\n    }\n\n    .dataframe thead th {\n        text-align: right;\n    }\n</style>\n<table border=\"1\" class=\"dataframe\">\n  <thead>\n    <tr style=\"text-align: right;\">\n      <th></th>\n      <th>num</th>\n    </tr>\n  </thead>\n  <tbody>\n    <tr>\n      <th>0</th>\n      <td>1.0</td>\n    </tr>\n    <tr>\n      <th>1</th>\n      <td>4.0</td>\n    </tr>\n    <tr>\n      <th>2</th>\n      <td>3.0</td>\n    </tr>\n    <tr>\n      <th>3</th>\n      <td>2.0</td>\n    </tr>\n    <tr>\n      <th>4</th>\n      <td>4.0</td>\n    </tr>\n    <tr>\n      <th>5</th>\n      <td>5.0</td>\n    </tr>\n    <tr>\n      <th>6</th>\n      <td>NaN</td>\n    </tr>\n    <tr>\n      <th>7</th>\n      <td>2.0</td>\n    </tr>\n    <tr>\n      <th>8</th>\n      <td>1.0</td>\n    </tr>\n    <tr>\n      <th>9</th>\n      <td>NaN</td>\n    </tr>\n  </tbody>\n</table>\n</div>"
     },
     "execution_count": 15,
     "metadata": {},
     "output_type": "execute_result"
    }
   ],
   "source": [
    "dataDF[~mask].dropna(inplace=True)\n",
    "dataDF[~mask]"
   ],
   "metadata": {
    "collapsed": false,
    "ExecuteTime": {
     "end_time": "2024-02-28T01:08:21.102206900Z",
     "start_time": "2024-02-28T01:08:21.084204Z"
    }
   },
   "id": "723a20a994573abd",
   "execution_count": 15
  },
  {
   "cell_type": "code",
   "outputs": [
    {
     "name": "stdout",
     "output_type": "stream",
     "text": [
      "q1:num    1.25\n",
      "Name: 0.25, dtype: float64 \n",
      " q3:num    4.0\n",
      "Name: 0.75, dtype: float64\n",
      "iqr:num    2.75\n",
      "dtype: float64\n",
      "lower:num   -2.875\n",
      "dtype: float64 \n",
      " upper:num    8.125\n",
      "dtype: float64\n"
     ]
    }
   ],
   "source": [
    "# 이상치 탐지 - 방법(2) 데이터를 4등분해서 가운데 데이터를 기준으로 이상치 탐지\n",
    "q1 = dataDF.quantile(0.25)\n",
    "q3 = dataDF.quantile(0.75)\n",
    "iqr = q3-q1\n",
    "lower=q1-(iqr*1.5)\n",
    "upper=q3+(iqr*1.5)\n",
    "\n",
    "\n",
    "\n",
    "\n",
    "print(f'q1:{q1} \\n q3:{q3}\\niqr:{iqr}')\n",
    "print(f'lower:{lower} \\n upper:{upper}')"
   ],
   "metadata": {
    "collapsed": false,
    "ExecuteTime": {
     "end_time": "2024-02-28T01:17:41.693465300Z",
     "start_time": "2024-02-28T01:17:41.673456100Z"
    }
   },
   "id": "d4c0e92ddcece8c5",
   "execution_count": 20
  },
  {
   "cell_type": "code",
   "outputs": [
    {
     "data": {
      "text/plain": "<Figure size 640x480 with 1 Axes>",
      "image/png": "[encoded data removed]"
     },
     "metadata": {},
     "output_type": "display_data"
    }
   ],
   "source": [
    "# 시각화\n",
    "bp_obj=plt.boxplot(dataDF)\n",
    "plt.show()"
   ],
   "metadata": {
    "collapsed": false,
    "ExecuteTime": {
     "end_time": "2024-02-28T01:19:56.613017300Z",
     "start_time": "2024-02-28T01:19:56.525209700Z"
    }
   },
   "id": "eddcee12bb770f82",
   "execution_count": 22
  },
  {
   "cell_type": "code",
   "outputs": [
    {
     "data": {
      "text/plain": "(     num\n 0  False\n 1  False\n 2  False\n 3  False\n 4  False\n 5  False\n 6   True\n 7  False\n 8  False\n 9  False,\n      num\n 0  False\n 1  False\n 2  False\n 3  False\n 4  False\n 5  False\n 6  False\n 7  False\n 8  False\n 9   True)"
     },
     "execution_count": 21,
     "metadata": {},
     "output_type": "execute_result"
    }
   ],
   "source": [
    "dataDF<lower, dataDF>upper"
   ],
   "metadata": {
    "collapsed": false,
    "ExecuteTime": {
     "end_time": "2024-02-28T01:18:01.021999500Z",
     "start_time": "2024-02-28T01:18:00.987989700Z"
    }
   },
   "id": "e08ff582b0098204",
   "execution_count": 21
  },
  {
   "cell_type": "code",
   "outputs": [
    {
     "data": {
      "text/plain": "(array([1.25, 1.  ]), array([4., 5.]))"
     },
     "execution_count": 26,
     "metadata": {},
     "output_type": "execute_result"
    }
   ],
   "source": [
    "# q1, min, q3, max\n",
    "bp_obj['whiskers'][0].get_ydata(), bp_obj['whiskers'][1].get_ydata()"
   ],
   "metadata": {
    "collapsed": false,
    "ExecuteTime": {
     "end_time": "2024-02-28T01:46:09.041661Z",
     "start_time": "2024-02-28T01:46:09.016660Z"
    }
   },
   "id": "ef8279c4cd8e6e4b",
   "execution_count": 26
  },
  {
   "cell_type": "code",
   "outputs": [
    {
     "data": {
      "text/plain": "array([2.5, 2.5])"
     },
     "execution_count": 28,
     "metadata": {},
     "output_type": "execute_result"
    }
   ],
   "source": [
    "bp_obj['medians'][0].get_ydata()"
   ],
   "metadata": {
    "collapsed": false,
    "ExecuteTime": {
     "end_time": "2024-02-28T01:48:31.946047100Z",
     "start_time": "2024-02-28T01:48:31.929358800Z"
    }
   },
   "id": "8c00c01d3347bbc1",
   "execution_count": 28
  },
  {
   "cell_type": "code",
   "outputs": [],
   "source": [],
   "metadata": {
    "collapsed": false
   },
   "id": "c8ac14221b30ed75"
  }
 ],
 "metadata": {
  "kernelspec": {
   "display_name": "Python 3",
   "language": "python",
   "name": "python3"
  },
  "language_info": {
   "codemirror_mode": {
    "name": "ipython",
    "version": 2
   },
   "file_extension": ".py",
   "mimetype": "text/x-python",
   "name": "python",
   "nbconvert_exporter": "python",
   "pygments_lexer": "ipython2",
   "version": "2.7.6"
  }
 },
 "nbformat": 4,
 "nbformat_minor": 5
}
