{
 "cells": [
  {
   "cell_type": "code",
   "execution_count": 1,
   "id": "initial_id",
   "metadata": {
    "collapsed": true,
    "ExecuteTime": {
     "end_time": "2024-02-28T23:58:21.710650100Z",
     "start_time": "2024-02-28T23:58:21.459832800Z"
    }
   },
   "outputs": [],
   "source": [
    "import pandas as pd\n",
    "import matplotlib.pyplot as plt\n",
    "import numpy as np\n",
    "from sklearn.model_selection import train_test_split\n",
    "from sklearn.preprocessing import StandardScaler, PolynomialFeatures\n",
    "from sklearn.linear_model import LinearRegression\n",
    "from sklearn.metrics import r2_score, mean_squared_error, mean_absolute_error"
   ]
  },
  {
   "cell_type": "code",
   "outputs": [],
   "source": [
    "data_file = '../data/auto-MPG.csv'"
   ],
   "metadata": {
    "collapsed": false,
    "ExecuteTime": {
     "end_time": "2024-02-29T00:00:15.192608600Z",
     "start_time": "2024-02-29T00:00:15.178586200Z"
    }
   },
   "id": "8810d465b4b71131",
   "execution_count": 4
  },
  {
   "cell_type": "code",
   "outputs": [
    {
     "data": {
      "text/plain": "    18.0   8   307.0      130.0      3504.      12.0   70  1\\t\"chevrolet chevelle malibu\"\n0    15.0   8   350.0      165.0      3693.      11...                                   \n1    18.0   8   318.0      150.0      3436.      11...                                   \n2    16.0   8   304.0      150.0      3433.      12...                                   \n3    17.0   8   302.0      140.0      3449.      10...                                   \n4    15.0   8   429.0      198.0      4341.      10...                                   \n..                                                 ...                                   \n392  27.0   4   140.0      86.00      2790.      15...                                   \n393  44.0   4   97.00      52.00      2130.      24...                                   \n394  32.0   4   135.0      84.00      2295.      11...                                   \n395  28.0   4   120.0      79.00      2625.      18...                                   \n396  31.0   4   119.0      82.00      2720.      19...                                   \n\n[397 rows x 1 columns]",
      "text/html": "<div>\n<style scoped>\n    .dataframe tbody tr th:only-of-type {\n        vertical-align: middle;\n    }\n\n    .dataframe tbody tr th {\n        vertical-align: top;\n    }\n\n    .dataframe thead th {\n        text-align: right;\n    }\n</style>\n<table border=\"1\" class=\"dataframe\">\n  <thead>\n    <tr style=\"text-align: right;\">\n      <th></th>\n      <th>18.0   8   307.0      130.0      3504.      12.0   70  1\\t\"chevrolet chevelle malibu\"</th>\n    </tr>\n  </thead>\n  <tbody>\n    <tr>\n      <th>0</th>\n      <td>15.0   8   350.0      165.0      3693.      11...</td>\n    </tr>\n    <tr>\n      <th>1</th>\n      <td>18.0   8   318.0      150.0      3436.      11...</td>\n    </tr>\n    <tr>\n      <th>2</th>\n      <td>16.0   8   304.0      150.0      3433.      12...</td>\n    </tr>\n    <tr>\n      <th>3</th>\n      <td>17.0   8   302.0      140.0      3449.      10...</td>\n    </tr>\n    <tr>\n      <th>4</th>\n      <td>15.0   8   429.0      198.0      4341.      10...</td>\n    </tr>\n    <tr>\n      <th>...</th>\n      <td>...</td>\n    </tr>\n    <tr>\n      <th>392</th>\n      <td>27.0   4   140.0      86.00      2790.      15...</td>\n    </tr>\n    <tr>\n      <th>393</th>\n      <td>44.0   4   97.00      52.00      2130.      24...</td>\n    </tr>\n    <tr>\n      <th>394</th>\n      <td>32.0   4   135.0      84.00      2295.      11...</td>\n    </tr>\n    <tr>\n      <th>395</th>\n      <td>28.0   4   120.0      79.00      2625.      18...</td>\n    </tr>\n    <tr>\n      <th>396</th>\n      <td>31.0   4   119.0      82.00      2720.      19...</td>\n    </tr>\n  </tbody>\n</table>\n<p>397 rows × 1 columns</p>\n</div>"
     },
     "execution_count": 5,
     "metadata": {},
     "output_type": "execute_result"
    }
   ],
   "source": [
    "mpgDF = pd.read_csv(data_file)\n",
    "mpgDF"
   ],
   "metadata": {
    "collapsed": false,
    "ExecuteTime": {
     "end_time": "2024-02-29T00:00:15.802146800Z",
     "start_time": "2024-02-29T00:00:15.760147600Z"
    }
   },
   "id": "4c9a1c7b8f0a7326",
   "execution_count": 5
  },
  {
   "cell_type": "code",
   "outputs": [],
   "source": [],
   "metadata": {
    "collapsed": false
   },
   "id": "6a2e3bc2ac492f07"
  }
 ],
 "metadata": {
  "kernelspec": {
   "display_name": "Python 3",
   "language": "python",
   "name": "python3"
  },
  "language_info": {
   "codemirror_mode": {
    "name": "ipython",
    "version": 2
   },
   "file_extension": ".py",
   "mimetype": "text/x-python",
   "name": "python",
   "nbconvert_exporter": "python",
   "pygments_lexer": "ipython2",
   "version": "2.7.6"
  }
 },
 "nbformat": 4,
 "nbformat_minor": 5
}
