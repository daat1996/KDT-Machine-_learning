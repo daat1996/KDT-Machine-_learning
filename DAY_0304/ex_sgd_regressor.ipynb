{
 "cells": [
  {
   "cell_type": "markdown",
   "source": [
    "### 목표 : 미니배치기반 기계학습 진행 실습\n",
    "- 확률적경사하강법 기반의 알고리즘 적용 모델\n",
    "- 데이터의 처음부터 끝까지(에포크) 학습 후 가중치(w)와 절편(b) 업데이트 하는 방식에서 에포크를 미니배치 크기만큼\n",
    "    나누어서 학습 후 가중치(w)와 절편(d)업데이트 진행 함\n",
    "- 장점\n",
    "    * 온라인 학습 즉, 점진적 학습 가능 => partial_fit() : 기존 모델에 추가로 1에포크 학습\n",
    "    * 기존의 다른 모델보다 속도 빠름 => 랜덤으로 한개 데이터 추출 후 학습 진행\n",
    "    * 조기 학습 중단 설정 가능\n",
    "- 단점\n",
    "    * 전체 학습보다 정확도는 떨어질 수 있음!"
   ],
   "metadata": {
    "collapsed": false
   },
   "id": "c54aa16cabccef21"
  },
  {
   "cell_type": "markdown",
   "source": [
    "[1] 모듈 로딩 및 데이터 준비 <hr>"
   ],
   "metadata": {
    "collapsed": false
   },
   "id": "42070b55492cf82d"
  },
  {
   "cell_type": "code",
   "outputs": [],
   "source": [
    "# 모듈 로딩\n",
    "import pandas as pd\n",
    "import matplotlib.pyplot as plt\n",
    "\n",
    "data = '../data/fish.csv'"
   ],
   "metadata": {
    "collapsed": false,
    "ExecuteTime": {
     "end_time": "2024-03-04T07:37:38.308498Z",
     "start_time": "2024-03-04T07:37:38.192613Z"
    }
   },
   "id": "10684e496ee5308f",
   "execution_count": 297
  },
  {
   "cell_type": "code",
   "outputs": [
    {
     "data": {
      "text/plain": "    Species  Weight  Length  Diagonal   Height   Width\n0     Bream   242.0    25.4      30.0  11.5200  4.0200\n1     Bream   290.0    26.3      31.2  12.4800  4.3056\n2     Bream   340.0    26.5      31.1  12.3778  4.6961\n3     Bream   363.0    29.0      33.5  12.7300  4.4555\n4     Bream   430.0    29.0      34.0  12.4440  5.1340\n..      ...     ...     ...       ...      ...     ...\n154   Smelt    12.2    12.2      13.4   2.0904  1.3936\n155   Smelt    13.4    12.4      13.5   2.4300  1.2690\n156   Smelt    12.2    13.0      13.8   2.2770  1.2558\n157   Smelt    19.7    14.3      15.2   2.8728  2.0672\n158   Smelt    19.9    15.0      16.2   2.9322  1.8792\n\n[159 rows x 6 columns]",
      "text/html": "<div>\n<style scoped>\n    .dataframe tbody tr th:only-of-type {\n        vertical-align: middle;\n    }\n\n    .dataframe tbody tr th {\n        vertical-align: top;\n    }\n\n    .dataframe thead th {\n        text-align: right;\n    }\n</style>\n<table border=\"1\" class=\"dataframe\">\n  <thead>\n    <tr style=\"text-align: right;\">\n      <th></th>\n      <th>Species</th>\n      <th>Weight</th>\n      <th>Length</th>\n      <th>Diagonal</th>\n      <th>Height</th>\n      <th>Width</th>\n    </tr>\n  </thead>\n  <tbody>\n    <tr>\n      <th>0</th>\n      <td>Bream</td>\n      <td>242.0</td>\n      <td>25.4</td>\n      <td>30.0</td>\n      <td>11.5200</td>\n      <td>4.0200</td>\n    </tr>\n    <tr>\n      <th>1</th>\n      <td>Bream</td>\n      <td>290.0</td>\n      <td>26.3</td>\n      <td>31.2</td>\n      <td>12.4800</td>\n      <td>4.3056</td>\n    </tr>\n    <tr>\n      <th>2</th>\n      <td>Bream</td>\n      <td>340.0</td>\n      <td>26.5</td>\n      <td>31.1</td>\n      <td>12.3778</td>\n      <td>4.6961</td>\n    </tr>\n    <tr>\n      <th>3</th>\n      <td>Bream</td>\n      <td>363.0</td>\n      <td>29.0</td>\n      <td>33.5</td>\n      <td>12.7300</td>\n      <td>4.4555</td>\n    </tr>\n    <tr>\n      <th>4</th>\n      <td>Bream</td>\n      <td>430.0</td>\n      <td>29.0</td>\n      <td>34.0</td>\n      <td>12.4440</td>\n      <td>5.1340</td>\n    </tr>\n    <tr>\n      <th>...</th>\n      <td>...</td>\n      <td>...</td>\n      <td>...</td>\n      <td>...</td>\n      <td>...</td>\n      <td>...</td>\n    </tr>\n    <tr>\n      <th>154</th>\n      <td>Smelt</td>\n      <td>12.2</td>\n      <td>12.2</td>\n      <td>13.4</td>\n      <td>2.0904</td>\n      <td>1.3936</td>\n    </tr>\n    <tr>\n      <th>155</th>\n      <td>Smelt</td>\n      <td>13.4</td>\n      <td>12.4</td>\n      <td>13.5</td>\n      <td>2.4300</td>\n      <td>1.2690</td>\n    </tr>\n    <tr>\n      <th>156</th>\n      <td>Smelt</td>\n      <td>12.2</td>\n      <td>13.0</td>\n      <td>13.8</td>\n      <td>2.2770</td>\n      <td>1.2558</td>\n    </tr>\n    <tr>\n      <th>157</th>\n      <td>Smelt</td>\n      <td>19.7</td>\n      <td>14.3</td>\n      <td>15.2</td>\n      <td>2.8728</td>\n      <td>2.0672</td>\n    </tr>\n    <tr>\n      <th>158</th>\n      <td>Smelt</td>\n      <td>19.9</td>\n      <td>15.0</td>\n      <td>16.2</td>\n      <td>2.9322</td>\n      <td>1.8792</td>\n    </tr>\n  </tbody>\n</table>\n<p>159 rows × 6 columns</p>\n</div>"
     },
     "execution_count": 298,
     "metadata": {},
     "output_type": "execute_result"
    }
   ],
   "source": [
    "# 데이터 로딩\n",
    "fishDF = pd.read_csv(data)\n",
    "fishDF"
   ],
   "metadata": {
    "collapsed": false,
    "ExecuteTime": {
     "end_time": "2024-03-04T07:37:38.346959700Z",
     "start_time": "2024-03-04T07:37:38.313120100Z"
    }
   },
   "id": "bcb06a298020563c",
   "execution_count": 298
  },
  {
   "cell_type": "markdown",
   "source": [
    "[2] 데이터 전처리 => 학습을 위한 가공 <hr>"
   ],
   "metadata": {
    "collapsed": false
   },
   "id": "aa6c9a50fbf23f28"
  },
  {
   "cell_type": "markdown",
   "source": [
    "[2-1] 피쳐/ 타겟 분리"
   ],
   "metadata": {
    "collapsed": false
   },
   "id": "2c4faa2687116c4f"
  },
  {
   "cell_type": "code",
   "outputs": [
    {
     "name": "stdout",
     "output_type": "stream",
     "text": [
      "피쳐 => (159, 5), 타겟 => (159,)\n"
     ]
    }
   ],
   "source": [
    "featureDF = fishDF[fishDF.columns[1:]]\n",
    "targetDF = fishDF['Species']\n",
    "print(f'피쳐 => {featureDF.shape}, 타겟 => {targetDF.shape}')"
   ],
   "metadata": {
    "collapsed": false,
    "ExecuteTime": {
     "end_time": "2024-03-04T07:37:38.386028500Z",
     "start_time": "2024-03-04T07:37:38.330584900Z"
    }
   },
   "id": "a8320624f2a558fb",
   "execution_count": 299
  },
  {
   "cell_type": "markdown",
   "source": [
    "[2-2] 학습/ 테스트용 데이터셋 분리"
   ],
   "metadata": {
    "collapsed": false
   },
   "id": "111949420e1c17f6"
  },
  {
   "cell_type": "code",
   "outputs": [],
   "source": [
    "from sklearn.model_selection import train_test_split\n",
    "\n",
    "X_train, X_test, y_train, y_test = train_test_split(featureDF, targetDF, stratify=targetDF, \n",
    "                                                    random_state=41)"
   ],
   "metadata": {
    "collapsed": false,
    "ExecuteTime": {
     "end_time": "2024-03-04T07:37:38.409908800Z",
     "start_time": "2024-03-04T07:37:38.353960700Z"
    }
   },
   "id": "74225d9893ae3798",
   "execution_count": 300
  },
  {
   "cell_type": "code",
   "outputs": [
    {
     "name": "stdout",
     "output_type": "stream",
     "text": [
      "[훈련용] => (119, 5), (119,)\n",
      "[테스트용] => (40, 5), (40,)\n"
     ]
    }
   ],
   "source": [
    "print(f'[훈련용] => {X_train.shape}, {y_train.shape}')\n",
    "print(f'[테스트용] => {X_test.shape}, {y_test.shape}')"
   ],
   "metadata": {
    "collapsed": false,
    "ExecuteTime": {
     "end_time": "2024-03-04T07:37:38.504361300Z",
     "start_time": "2024-03-04T07:37:38.392958300Z"
    }
   },
   "id": "81834f75cd344f74",
   "execution_count": 301
  },
  {
   "cell_type": "markdown",
   "source": [
    "[2-3] 피쳐 => 스케일링"
   ],
   "metadata": {
    "collapsed": false
   },
   "id": "7974afab4aba79c6"
  },
  {
   "cell_type": "code",
   "outputs": [],
   "source": [
    "from sklearn.preprocessing import StandardScaler\n"
   ],
   "metadata": {
    "collapsed": false,
    "ExecuteTime": {
     "end_time": "2024-03-04T07:37:38.507378400Z",
     "start_time": "2024-03-04T07:37:38.454966Z"
    }
   },
   "id": "cfe64279aaffd7b1",
   "execution_count": 302
  },
  {
   "cell_type": "code",
   "outputs": [
    {
     "data": {
      "text/plain": "StandardScaler()",
      "text/html": "<style>#sk-container-id-52 {color: black;}#sk-container-id-52 pre{padding: 0;}#sk-container-id-52 div.sk-toggleable {background-color: white;}#sk-container-id-52 label.sk-toggleable__label {cursor: pointer;display: block;width: 100%;margin-bottom: 0;padding: 0.3em;box-sizing: border-box;text-align: center;}#sk-container-id-52 label.sk-toggleable__label-arrow:before {content: \"▸\";float: left;margin-right: 0.25em;color: #696969;}#sk-container-id-52 label.sk-toggleable__label-arrow:hover:before {color: black;}#sk-container-id-52 div.sk-estimator:hover label.sk-toggleable__label-arrow:before {color: black;}#sk-container-id-52 div.sk-toggleable__content {max-height: 0;max-width: 0;overflow: hidden;text-align: left;background-color: #f0f8ff;}#sk-container-id-52 div.sk-toggleable__content pre {margin: 0.2em;color: black;border-radius: 0.25em;background-color: #f0f8ff;}#sk-container-id-52 input.sk-toggleable__control:checked~div.sk-toggleable__content {max-height: 200px;max-width: 100%;overflow: auto;}#sk-container-id-52 input.sk-toggleable__control:checked~label.sk-toggleable__label-arrow:before {content: \"▾\";}#sk-container-id-52 div.sk-estimator input.sk-toggleable__control:checked~label.sk-toggleable__label {background-color: #d4ebff;}#sk-container-id-52 div.sk-label input.sk-toggleable__control:checked~label.sk-toggleable__label {background-color: #d4ebff;}#sk-container-id-52 input.sk-hidden--visually {border: 0;clip: rect(1px 1px 1px 1px);clip: rect(1px, 1px, 1px, 1px);height: 1px;margin: -1px;overflow: hidden;padding: 0;position: absolute;width: 1px;}#sk-container-id-52 div.sk-estimator {font-family: monospace;background-color: #f0f8ff;border: 1px dotted black;border-radius: 0.25em;box-sizing: border-box;margin-bottom: 0.5em;}#sk-container-id-52 div.sk-estimator:hover {background-color: #d4ebff;}#sk-container-id-52 div.sk-parallel-item::after {content: \"\";width: 100%;border-bottom: 1px solid gray;flex-grow: 1;}#sk-container-id-52 div.sk-label:hover label.sk-toggleable__label {background-color: #d4ebff;}#sk-container-id-52 div.sk-serial::before {content: \"\";position: absolute;border-left: 1px solid gray;box-sizing: border-box;top: 0;bottom: 0;left: 50%;z-index: 0;}#sk-container-id-52 div.sk-serial {display: flex;flex-direction: column;align-items: center;background-color: white;padding-right: 0.2em;padding-left: 0.2em;position: relative;}#sk-container-id-52 div.sk-item {position: relative;z-index: 1;}#sk-container-id-52 div.sk-parallel {display: flex;align-items: stretch;justify-content: center;background-color: white;position: relative;}#sk-container-id-52 div.sk-item::before, #sk-container-id-52 div.sk-parallel-item::before {content: \"\";position: absolute;border-left: 1px solid gray;box-sizing: border-box;top: 0;bottom: 0;left: 50%;z-index: -1;}#sk-container-id-52 div.sk-parallel-item {display: flex;flex-direction: column;z-index: 1;position: relative;background-color: white;}#sk-container-id-52 div.sk-parallel-item:first-child::after {align-self: flex-end;width: 50%;}#sk-container-id-52 div.sk-parallel-item:last-child::after {align-self: flex-start;width: 50%;}#sk-container-id-52 div.sk-parallel-item:only-child::after {width: 0;}#sk-container-id-52 div.sk-dashed-wrapped {border: 1px dashed gray;margin: 0 0.4em 0.5em 0.4em;box-sizing: border-box;padding-bottom: 0.4em;background-color: white;}#sk-container-id-52 div.sk-label label {font-family: monospace;font-weight: bold;display: inline-block;line-height: 1.2em;}#sk-container-id-52 div.sk-label-container {text-align: center;}#sk-container-id-52 div.sk-container {/* jupyter's `normalize.less` sets `[hidden] { display: none; }` but bootstrap.min.css set `[hidden] { display: none !important; }` so we also need the `!important` here to be able to override the default hidden behavior on the sphinx rendered scikit-learn.org. See: https://github.com/scikit-learn/scikit-learn/issues/21755 */display: inline-block !important;position: relative;}#sk-container-id-52 div.sk-text-repr-fallback {display: none;}</style><div id=\"sk-container-id-52\" class=\"sk-top-container\"><div class=\"sk-text-repr-fallback\"><pre>StandardScaler()</pre><b>In a Jupyter environment, please rerun this cell to show the HTML representation or trust the notebook. <br />On GitHub, the HTML representation is unable to render, please try loading this page with nbviewer.org.</b></div><div class=\"sk-container\" hidden><div class=\"sk-item\"><div class=\"sk-estimator sk-toggleable\"><input class=\"sk-toggleable__control sk-hidden--visually\" id=\"sk-estimator-id-52\" type=\"checkbox\" checked><label for=\"sk-estimator-id-52\" class=\"sk-toggleable__label sk-toggleable__label-arrow\">StandardScaler</label><div class=\"sk-toggleable__content\"><pre>StandardScaler()</pre></div></div></div></div></div>"
     },
     "execution_count": 303,
     "metadata": {},
     "output_type": "execute_result"
    }
   ],
   "source": [
    "sdScaler = StandardScaler()\n",
    "sdScaler.fit(X_train)"
   ],
   "metadata": {
    "collapsed": false,
    "ExecuteTime": {
     "end_time": "2024-03-04T07:37:38.568237600Z",
     "start_time": "2024-03-04T07:37:38.515793600Z"
    }
   },
   "id": "d57810910cefb1d",
   "execution_count": 303
  },
  {
   "cell_type": "code",
   "outputs": [],
   "source": [
    "# 훈련용 데이터셋 스케일링\n",
    "scaled_X_train=sdScaler.transform(X_train)\n",
    "# 테스트용 데이터셋 스케일링\n",
    "scaled_X_test=sdScaler.transform(X_test)"
   ],
   "metadata": {
    "collapsed": false,
    "ExecuteTime": {
     "end_time": "2024-03-04T07:37:38.596923500Z",
     "start_time": "2024-03-04T07:37:38.541593900Z"
    }
   },
   "id": "e64923bcca8af28d",
   "execution_count": 304
  },
  {
   "cell_type": "markdown",
   "source": [
    "[3] 학습 진행 <hr>\n",
    "- 학습 방법 : 확률적경사하강법(SGD) 기반의 분류"
   ],
   "metadata": {
    "collapsed": false
   },
   "id": "e74ea5479ff457aa"
  },
  {
   "cell_type": "code",
   "outputs": [
    {
     "data": {
      "text/plain": "SGDClassifier(alpha=0.001, loss='log_loss', random_state=41)",
      "text/html": "<style>#sk-container-id-57 {color: black;}#sk-container-id-57 pre{padding: 0;}#sk-container-id-57 div.sk-toggleable {background-color: white;}#sk-container-id-57 label.sk-toggleable__label {cursor: pointer;display: block;width: 100%;margin-bottom: 0;padding: 0.3em;box-sizing: border-box;text-align: center;}#sk-container-id-57 label.sk-toggleable__label-arrow:before {content: \"▸\";float: left;margin-right: 0.25em;color: #696969;}#sk-container-id-57 label.sk-toggleable__label-arrow:hover:before {color: black;}#sk-container-id-57 div.sk-estimator:hover label.sk-toggleable__label-arrow:before {color: black;}#sk-container-id-57 div.sk-toggleable__content {max-height: 0;max-width: 0;overflow: hidden;text-align: left;background-color: #f0f8ff;}#sk-container-id-57 div.sk-toggleable__content pre {margin: 0.2em;color: black;border-radius: 0.25em;background-color: #f0f8ff;}#sk-container-id-57 input.sk-toggleable__control:checked~div.sk-toggleable__content {max-height: 200px;max-width: 100%;overflow: auto;}#sk-container-id-57 input.sk-toggleable__control:checked~label.sk-toggleable__label-arrow:before {content: \"▾\";}#sk-container-id-57 div.sk-estimator input.sk-toggleable__control:checked~label.sk-toggleable__label {background-color: #d4ebff;}#sk-container-id-57 div.sk-label input.sk-toggleable__control:checked~label.sk-toggleable__label {background-color: #d4ebff;}#sk-container-id-57 input.sk-hidden--visually {border: 0;clip: rect(1px 1px 1px 1px);clip: rect(1px, 1px, 1px, 1px);height: 1px;margin: -1px;overflow: hidden;padding: 0;position: absolute;width: 1px;}#sk-container-id-57 div.sk-estimator {font-family: monospace;background-color: #f0f8ff;border: 1px dotted black;border-radius: 0.25em;box-sizing: border-box;margin-bottom: 0.5em;}#sk-container-id-57 div.sk-estimator:hover {background-color: #d4ebff;}#sk-container-id-57 div.sk-parallel-item::after {content: \"\";width: 100%;border-bottom: 1px solid gray;flex-grow: 1;}#sk-container-id-57 div.sk-label:hover label.sk-toggleable__label {background-color: #d4ebff;}#sk-container-id-57 div.sk-serial::before {content: \"\";position: absolute;border-left: 1px solid gray;box-sizing: border-box;top: 0;bottom: 0;left: 50%;z-index: 0;}#sk-container-id-57 div.sk-serial {display: flex;flex-direction: column;align-items: center;background-color: white;padding-right: 0.2em;padding-left: 0.2em;position: relative;}#sk-container-id-57 div.sk-item {position: relative;z-index: 1;}#sk-container-id-57 div.sk-parallel {display: flex;align-items: stretch;justify-content: center;background-color: white;position: relative;}#sk-container-id-57 div.sk-item::before, #sk-container-id-57 div.sk-parallel-item::before {content: \"\";position: absolute;border-left: 1px solid gray;box-sizing: border-box;top: 0;bottom: 0;left: 50%;z-index: -1;}#sk-container-id-57 div.sk-parallel-item {display: flex;flex-direction: column;z-index: 1;position: relative;background-color: white;}#sk-container-id-57 div.sk-parallel-item:first-child::after {align-self: flex-end;width: 50%;}#sk-container-id-57 div.sk-parallel-item:last-child::after {align-self: flex-start;width: 50%;}#sk-container-id-57 div.sk-parallel-item:only-child::after {width: 0;}#sk-container-id-57 div.sk-dashed-wrapped {border: 1px dashed gray;margin: 0 0.4em 0.5em 0.4em;box-sizing: border-box;padding-bottom: 0.4em;background-color: white;}#sk-container-id-57 div.sk-label label {font-family: monospace;font-weight: bold;display: inline-block;line-height: 1.2em;}#sk-container-id-57 div.sk-label-container {text-align: center;}#sk-container-id-57 div.sk-container {/* jupyter's `normalize.less` sets `[hidden] { display: none; }` but bootstrap.min.css set `[hidden] { display: none !important; }` so we also need the `!important` here to be able to override the default hidden behavior on the sphinx rendered scikit-learn.org. See: https://github.com/scikit-learn/scikit-learn/issues/21755 */display: inline-block !important;position: relative;}#sk-container-id-57 div.sk-text-repr-fallback {display: none;}</style><div id=\"sk-container-id-57\" class=\"sk-top-container\"><div class=\"sk-text-repr-fallback\"><pre>SGDClassifier(alpha=0.001, loss=&#x27;log_loss&#x27;, random_state=41)</pre><b>In a Jupyter environment, please rerun this cell to show the HTML representation or trust the notebook. <br />On GitHub, the HTML representation is unable to render, please try loading this page with nbviewer.org.</b></div><div class=\"sk-container\" hidden><div class=\"sk-item\"><div class=\"sk-estimator sk-toggleable\"><input class=\"sk-toggleable__control sk-hidden--visually\" id=\"sk-estimator-id-57\" type=\"checkbox\" checked><label for=\"sk-estimator-id-57\" class=\"sk-toggleable__label sk-toggleable__label-arrow\">SGDClassifier</label><div class=\"sk-toggleable__content\"><pre>SGDClassifier(alpha=0.001, loss=&#x27;log_loss&#x27;, random_state=41)</pre></div></div></div></div></div>"
     },
     "execution_count": 322,
     "metadata": {},
     "output_type": "execute_result"
    }
   ],
   "source": [
    "# 모델 인스턴스 생성\n",
    "from sklearn.linear_model import SGDClassifier\n",
    "# n_iter_no_change = 최적의 학습 횟수 정하기\n",
    "model1 = SGDClassifier(random_state=41, verbose=0, loss='log_loss', alpha=0.001)        # 모델만들때 랜덤이 정해진다\n",
    "model1.fit(scaled_X_train, y_train)"
   ],
   "metadata": {
    "collapsed": false,
    "ExecuteTime": {
     "end_time": "2024-03-04T07:50:50.277970600Z",
     "start_time": "2024-03-04T07:50:50.247927500Z"
    }
   },
   "id": "680416796c71908a",
   "execution_count": 322
  },
  {
   "cell_type": "markdown",
   "source": [
    "과대적합 : feature에 너무 잘 맞는 것(fit), feature에 곱해지는 가중치(w)를 낮춰줘야 함 -> alpha값을 늘린다 -> 규제가 쎄게 들어감"
   ],
   "metadata": {
    "collapsed": false
   },
   "id": "226b5b042b995af1"
  },
  {
   "cell_type": "code",
   "outputs": [],
   "source": [
    "train_score1 = model1.score(scaled_X_train, y_train)\n",
    "test_score1 = model1.score(scaled_X_test, y_test)"
   ],
   "metadata": {
    "collapsed": false,
    "ExecuteTime": {
     "end_time": "2024-03-04T07:50:51.143269600Z",
     "start_time": "2024-03-04T07:50:51.119989300Z"
    }
   },
   "id": "ed45248e641071cd",
   "execution_count": 323
  },
  {
   "cell_type": "code",
   "outputs": [
    {
     "name": "stdout",
     "output_type": "stream",
     "text": [
      "[기본 SGD] 학습 점수 : 0.865546218487395, 테스트 점수 : 0.8\n"
     ]
    }
   ],
   "source": [
    "print(f'[기본 SGD] 학습 점수 : {train_score1}, 테스트 점수 : {test_score1}')"
   ],
   "metadata": {
    "collapsed": false,
    "ExecuteTime": {
     "end_time": "2024-03-04T07:50:51.727052200Z",
     "start_time": "2024-03-04T07:50:51.708026500Z"
    }
   },
   "id": "5f634a732582f42c",
   "execution_count": 324
  },
  {
   "cell_type": "code",
   "outputs": [
    {
     "name": "stdout",
     "output_type": "stream",
     "text": [
      "n_iter_: 197\n"
     ]
    }
   ],
   "source": [
    "# 학습 후 설정된 파라미터 즉 모델 파라미터\n",
    "print(f'n_iter_: {model1.n_iter_}')"
   ],
   "metadata": {
    "collapsed": false,
    "ExecuteTime": {
     "end_time": "2024-03-04T07:37:38.703371800Z",
     "start_time": "2024-03-04T07:37:38.641700900Z"
    }
   },
   "id": "c5a1a826a47d69d5",
   "execution_count": 308
  },
  {
   "cell_type": "markdown",
   "source": [
    "- 1에포크씩 점진적으로 학습 진행 => partial_fit()"
   ],
   "metadata": {
    "collapsed": false
   },
   "id": "b00cb9d71c9d794b"
  },
  {
   "cell_type": "code",
   "outputs": [
    {
     "data": {
      "text/plain": "SGDClassifier(loss='log_loss')",
      "text/html": "<style>#sk-container-id-54 {color: black;}#sk-container-id-54 pre{padding: 0;}#sk-container-id-54 div.sk-toggleable {background-color: white;}#sk-container-id-54 label.sk-toggleable__label {cursor: pointer;display: block;width: 100%;margin-bottom: 0;padding: 0.3em;box-sizing: border-box;text-align: center;}#sk-container-id-54 label.sk-toggleable__label-arrow:before {content: \"▸\";float: left;margin-right: 0.25em;color: #696969;}#sk-container-id-54 label.sk-toggleable__label-arrow:hover:before {color: black;}#sk-container-id-54 div.sk-estimator:hover label.sk-toggleable__label-arrow:before {color: black;}#sk-container-id-54 div.sk-toggleable__content {max-height: 0;max-width: 0;overflow: hidden;text-align: left;background-color: #f0f8ff;}#sk-container-id-54 div.sk-toggleable__content pre {margin: 0.2em;color: black;border-radius: 0.25em;background-color: #f0f8ff;}#sk-container-id-54 input.sk-toggleable__control:checked~div.sk-toggleable__content {max-height: 200px;max-width: 100%;overflow: auto;}#sk-container-id-54 input.sk-toggleable__control:checked~label.sk-toggleable__label-arrow:before {content: \"▾\";}#sk-container-id-54 div.sk-estimator input.sk-toggleable__control:checked~label.sk-toggleable__label {background-color: #d4ebff;}#sk-container-id-54 div.sk-label input.sk-toggleable__control:checked~label.sk-toggleable__label {background-color: #d4ebff;}#sk-container-id-54 input.sk-hidden--visually {border: 0;clip: rect(1px 1px 1px 1px);clip: rect(1px, 1px, 1px, 1px);height: 1px;margin: -1px;overflow: hidden;padding: 0;position: absolute;width: 1px;}#sk-container-id-54 div.sk-estimator {font-family: monospace;background-color: #f0f8ff;border: 1px dotted black;border-radius: 0.25em;box-sizing: border-box;margin-bottom: 0.5em;}#sk-container-id-54 div.sk-estimator:hover {background-color: #d4ebff;}#sk-container-id-54 div.sk-parallel-item::after {content: \"\";width: 100%;border-bottom: 1px solid gray;flex-grow: 1;}#sk-container-id-54 div.sk-label:hover label.sk-toggleable__label {background-color: #d4ebff;}#sk-container-id-54 div.sk-serial::before {content: \"\";position: absolute;border-left: 1px solid gray;box-sizing: border-box;top: 0;bottom: 0;left: 50%;z-index: 0;}#sk-container-id-54 div.sk-serial {display: flex;flex-direction: column;align-items: center;background-color: white;padding-right: 0.2em;padding-left: 0.2em;position: relative;}#sk-container-id-54 div.sk-item {position: relative;z-index: 1;}#sk-container-id-54 div.sk-parallel {display: flex;align-items: stretch;justify-content: center;background-color: white;position: relative;}#sk-container-id-54 div.sk-item::before, #sk-container-id-54 div.sk-parallel-item::before {content: \"\";position: absolute;border-left: 1px solid gray;box-sizing: border-box;top: 0;bottom: 0;left: 50%;z-index: -1;}#sk-container-id-54 div.sk-parallel-item {display: flex;flex-direction: column;z-index: 1;position: relative;background-color: white;}#sk-container-id-54 div.sk-parallel-item:first-child::after {align-self: flex-end;width: 50%;}#sk-container-id-54 div.sk-parallel-item:last-child::after {align-self: flex-start;width: 50%;}#sk-container-id-54 div.sk-parallel-item:only-child::after {width: 0;}#sk-container-id-54 div.sk-dashed-wrapped {border: 1px dashed gray;margin: 0 0.4em 0.5em 0.4em;box-sizing: border-box;padding-bottom: 0.4em;background-color: white;}#sk-container-id-54 div.sk-label label {font-family: monospace;font-weight: bold;display: inline-block;line-height: 1.2em;}#sk-container-id-54 div.sk-label-container {text-align: center;}#sk-container-id-54 div.sk-container {/* jupyter's `normalize.less` sets `[hidden] { display: none; }` but bootstrap.min.css set `[hidden] { display: none !important; }` so we also need the `!important` here to be able to override the default hidden behavior on the sphinx rendered scikit-learn.org. See: https://github.com/scikit-learn/scikit-learn/issues/21755 */display: inline-block !important;position: relative;}#sk-container-id-54 div.sk-text-repr-fallback {display: none;}</style><div id=\"sk-container-id-54\" class=\"sk-top-container\"><div class=\"sk-text-repr-fallback\"><pre>SGDClassifier(loss=&#x27;log_loss&#x27;)</pre><b>In a Jupyter environment, please rerun this cell to show the HTML representation or trust the notebook. <br />On GitHub, the HTML representation is unable to render, please try loading this page with nbviewer.org.</b></div><div class=\"sk-container\" hidden><div class=\"sk-item\"><div class=\"sk-estimator sk-toggleable\"><input class=\"sk-toggleable__control sk-hidden--visually\" id=\"sk-estimator-id-54\" type=\"checkbox\" checked><label for=\"sk-estimator-id-54\" class=\"sk-toggleable__label sk-toggleable__label-arrow\">SGDClassifier</label><div class=\"sk-toggleable__content\"><pre>SGDClassifier(loss=&#x27;log_loss&#x27;)</pre></div></div></div></div></div>"
     },
     "execution_count": 309,
     "metadata": {},
     "output_type": "execute_result"
    }
   ],
   "source": [
    "# 모델 인스턴스 생성\n",
    "model2 = SGDClassifier(loss='log_loss')\n",
    "model2.partial_fit(scaled_X_train, y_train, y_train.unique())         # 랜덤으로 뽑는다."
   ],
   "metadata": {
    "collapsed": false,
    "ExecuteTime": {
     "end_time": "2024-03-04T07:37:38.708369400Z",
     "start_time": "2024-03-04T07:37:38.670708700Z"
    }
   },
   "id": "63d68caff9edc725",
   "execution_count": 309
  },
  {
   "cell_type": "code",
   "outputs": [
    {
     "data": {
      "text/plain": "numpy.ndarray"
     },
     "execution_count": 325,
     "metadata": {},
     "output_type": "execute_result"
    }
   ],
   "source": [
    "type(y_train.unique() )"
   ],
   "metadata": {
    "collapsed": false,
    "ExecuteTime": {
     "end_time": "2024-03-04T11:33:47.759409200Z",
     "start_time": "2024-03-04T11:33:47.746408700Z"
    }
   },
   "id": "35217327ef0d3b8b",
   "execution_count": 325
  },
  {
   "cell_type": "code",
   "outputs": [
    {
     "data": {
      "text/plain": "array(['Smelt', 'Whitefish', 'Bream', 'Roach', 'Perch', 'Parkki', 'Pike'],\n      dtype=object)"
     },
     "execution_count": 310,
     "metadata": {},
     "output_type": "execute_result"
    }
   ],
   "source": [
    "y_train.unique()        # class가 된다"
   ],
   "metadata": {
    "collapsed": false,
    "ExecuteTime": {
     "end_time": "2024-03-04T07:37:38.750333900Z",
     "start_time": "2024-03-04T07:37:38.710338700Z"
    }
   },
   "id": "1f1d958d27c5eb87",
   "execution_count": 310
  },
  {
   "cell_type": "code",
   "outputs": [],
   "source": [
    "train_score2 = model2.score(scaled_X_train, y_train)\n",
    "test_score2 = model2.score(scaled_X_test, y_test)"
   ],
   "metadata": {
    "collapsed": false,
    "ExecuteTime": {
     "end_time": "2024-03-04T07:37:38.769333Z",
     "start_time": "2024-03-04T07:37:38.755332600Z"
    }
   },
   "id": "a3a045dd902aedf6",
   "execution_count": 311
  },
  {
   "cell_type": "code",
   "outputs": [
    {
     "name": "stdout",
     "output_type": "stream",
     "text": [
      "[기본 SGD] 학습 점수 : 0.6554621848739496, 테스트 점수 : 0.625\n"
     ]
    }
   ],
   "source": [
    "print(f'[기본 SGD] 학습 점수 : {train_score2}, 테스트 점수 : {test_score2}')"
   ],
   "metadata": {
    "collapsed": false,
    "ExecuteTime": {
     "end_time": "2024-03-04T07:37:38.817336400Z",
     "start_time": "2024-03-04T07:37:38.770332900Z"
    }
   },
   "id": "1b773554fa68036d",
   "execution_count": 312
  },
  {
   "cell_type": "code",
   "outputs": [
    {
     "name": "stdout",
     "output_type": "stream",
     "text": [
      "[1번학습] [기본 SGD] 학습 점수 : 0.7478991596638656, 테스트점수 : 0.8\n",
      "[2번학습] [기본 SGD] 학습 점수 : 0.7478991596638656, 테스트점수 : 0.625\n",
      "[3번학습] [기본 SGD] 학습 점수 : 0.7983193277310925, 테스트점수 : 0.625\n",
      "[4번학습] [기본 SGD] 학습 점수 : 0.773109243697479, 테스트점수 : 0.725\n",
      "[5번학습] [기본 SGD] 학습 점수 : 0.8235294117647058, 테스트점수 : 0.825\n",
      "[6번학습] [기본 SGD] 학습 점수 : 0.8067226890756303, 테스트점수 : 0.85\n",
      "[7번학습] [기본 SGD] 학습 점수 : 0.6974789915966386, 테스트점수 : 0.625\n",
      "[8번학습] [기본 SGD] 학습 점수 : 0.8571428571428571, 테스트점수 : 0.75\n",
      "[9번학습] [기본 SGD] 학습 점수 : 0.8067226890756303, 테스트점수 : 0.775\n",
      "[10번학습] [기본 SGD] 학습 점수 : 0.8067226890756303, 테스트점수 : 0.725\n",
      "[11번학습] [기본 SGD] 학습 점수 : 0.6386554621848739, 테스트점수 : 0.575\n",
      "[12번학습] [기본 SGD] 학습 점수 : 0.8823529411764706, 테스트점수 : 0.825\n",
      "[13번학습] [기본 SGD] 학습 점수 : 0.8235294117647058, 테스트점수 : 0.7\n",
      "[14번학습] [기본 SGD] 학습 점수 : 0.8067226890756303, 테스트점수 : 0.825\n",
      "[15번학습] [기본 SGD] 학습 점수 : 0.8487394957983193, 테스트점수 : 0.725\n",
      "[16번학습] [기본 SGD] 학습 점수 : 0.7983193277310925, 테스트점수 : 0.7\n",
      "[17번학습] [기본 SGD] 학습 점수 : 0.8907563025210085, 테스트점수 : 0.8\n",
      "[18번학습] [기본 SGD] 학습 점수 : 0.8067226890756303, 테스트점수 : 0.8\n",
      "[19번학습] [기본 SGD] 학습 점수 : 0.773109243697479, 테스트점수 : 0.725\n",
      "[20번학습] [기본 SGD] 학습 점수 : 0.8403361344537815, 테스트점수 : 0.8\n",
      "[21번학습] [기본 SGD] 학습 점수 : 0.7478991596638656, 테스트점수 : 0.675\n",
      "[22번학습] [기본 SGD] 학습 점수 : 0.7983193277310925, 테스트점수 : 0.7\n",
      "[23번학습] [기본 SGD] 학습 점수 : 0.907563025210084, 테스트점수 : 0.875\n",
      "[24번학습] [기본 SGD] 학습 점수 : 0.7899159663865546, 테스트점수 : 0.725\n",
      "[25번학습] [기본 SGD] 학습 점수 : 0.9243697478991597, 테스트점수 : 0.925\n",
      "[26번학습] [기본 SGD] 학습 점수 : 0.8319327731092437, 테스트점수 : 0.775\n",
      "[27번학습] [기본 SGD] 학습 점수 : 0.8151260504201681, 테스트점수 : 0.7\n",
      "[28번학습] [기본 SGD] 학습 점수 : 0.8403361344537815, 테스트점수 : 0.8\n",
      "[29번학습] [기본 SGD] 학습 점수 : 0.8151260504201681, 테스트점수 : 0.75\n",
      "[30번학습] [기본 SGD] 학습 점수 : 0.907563025210084, 테스트점수 : 0.85\n",
      "[31번학습] [기본 SGD] 학습 점수 : 0.9327731092436975, 테스트점수 : 0.85\n",
      "[32번학습] [기본 SGD] 학습 점수 : 0.9327731092436975, 테스트점수 : 0.9\n",
      "[33번학습] [기본 SGD] 학습 점수 : 0.8991596638655462, 테스트점수 : 0.8\n",
      "[34번학습] [기본 SGD] 학습 점수 : 0.8235294117647058, 테스트점수 : 0.775\n",
      "[35번학습] [기본 SGD] 학습 점수 : 0.9243697478991597, 테스트점수 : 0.85\n",
      "[36번학습] [기본 SGD] 학습 점수 : 0.7983193277310925, 테스트점수 : 0.725\n",
      "[37번학습] [기본 SGD] 학습 점수 : 0.9243697478991597, 테스트점수 : 0.85\n",
      "[38번학습] [기본 SGD] 학습 점수 : 0.8907563025210085, 테스트점수 : 0.875\n",
      "[39번학습] [기본 SGD] 학습 점수 : 0.9327731092436975, 테스트점수 : 0.9\n",
      "[40번학습] [기본 SGD] 학습 점수 : 0.9243697478991597, 테스트점수 : 0.825\n",
      "[41번학습] [기본 SGD] 학습 점수 : 0.8991596638655462, 테스트점수 : 0.85\n",
      "[42번학습] [기본 SGD] 학습 점수 : 0.7983193277310925, 테스트점수 : 0.75\n",
      "[43번학습] [기본 SGD] 학습 점수 : 0.9495798319327731, 테스트점수 : 0.9\n",
      "[44번학습] [기본 SGD] 학습 점수 : 0.9159663865546218, 테스트점수 : 0.85\n",
      "[45번학습] [기본 SGD] 학습 점수 : 0.907563025210084, 테스트점수 : 0.925\n",
      "[46번학습] [기본 SGD] 학습 점수 : 0.9327731092436975, 테스트점수 : 0.9\n",
      "[47번학습] [기본 SGD] 학습 점수 : 0.8403361344537815, 테스트점수 : 0.775\n",
      "[48번학습] [기본 SGD] 학습 점수 : 0.8487394957983193, 테스트점수 : 0.875\n",
      "[49번학습] [기본 SGD] 학습 점수 : 0.8907563025210085, 테스트점수 : 0.85\n",
      "[50번학습] [기본 SGD] 학습 점수 : 0.8319327731092437, 테스트점수 : 0.725\n",
      "[51번학습] [기본 SGD] 학습 점수 : 0.7815126050420168, 테스트점수 : 0.75\n",
      "[52번학습] [기본 SGD] 학습 점수 : 0.8235294117647058, 테스트점수 : 0.7\n",
      "[53번학습] [기본 SGD] 학습 점수 : 0.8403361344537815, 테스트점수 : 0.725\n",
      "[54번학습] [기본 SGD] 학습 점수 : 0.8151260504201681, 테스트점수 : 0.75\n",
      "[55번학습] [기본 SGD] 학습 점수 : 0.9327731092436975, 테스트점수 : 0.925\n",
      "[56번학습] [기본 SGD] 학습 점수 : 0.9411764705882353, 테스트점수 : 0.925\n",
      "[57번학습] [기본 SGD] 학습 점수 : 0.7899159663865546, 테스트점수 : 0.725\n",
      "[58번학습] [기본 SGD] 학습 점수 : 0.8319327731092437, 테스트점수 : 0.825\n",
      "[59번학습] [기본 SGD] 학습 점수 : 0.9243697478991597, 테스트점수 : 0.925\n",
      "[60번학습] [기본 SGD] 학습 점수 : 0.9411764705882353, 테스트점수 : 0.95\n",
      "[61번학습] [기본 SGD] 학습 점수 : 0.9327731092436975, 테스트점수 : 0.925\n",
      "[62번학습] [기본 SGD] 학습 점수 : 0.9159663865546218, 테스트점수 : 0.9\n",
      "[63번학습] [기본 SGD] 학습 점수 : 0.9327731092436975, 테스트점수 : 0.95\n",
      "[64번학습] [기본 SGD] 학습 점수 : 0.907563025210084, 테스트점수 : 0.875\n",
      "[65번학습] [기본 SGD] 학습 점수 : 0.9327731092436975, 테스트점수 : 0.925\n",
      "[66번학습] [기본 SGD] 학습 점수 : 0.9327731092436975, 테스트점수 : 0.925\n",
      "[67번학습] [기본 SGD] 학습 점수 : 0.865546218487395, 테스트점수 : 0.825\n",
      "[68번학습] [기본 SGD] 학습 점수 : 0.865546218487395, 테스트점수 : 0.825\n",
      "[69번학습] [기본 SGD] 학습 점수 : 0.9327731092436975, 테스트점수 : 0.875\n",
      "[70번학습] [기본 SGD] 학습 점수 : 0.9159663865546218, 테스트점수 : 0.85\n",
      "[71번학습] [기본 SGD] 학습 점수 : 0.865546218487395, 테스트점수 : 0.825\n",
      "[72번학습] [기본 SGD] 학습 점수 : 0.9411764705882353, 테스트점수 : 0.95\n",
      "[73번학습] [기본 SGD] 학습 점수 : 0.8487394957983193, 테스트점수 : 0.85\n",
      "[74번학습] [기본 SGD] 학습 점수 : 0.907563025210084, 테스트점수 : 0.9\n",
      "[75번학습] [기본 SGD] 학습 점수 : 0.9495798319327731, 테스트점수 : 0.925\n",
      "[76번학습] [기본 SGD] 학습 점수 : 0.9159663865546218, 테스트점수 : 0.925\n",
      "[77번학습] [기본 SGD] 학습 점수 : 0.9159663865546218, 테스트점수 : 0.875\n",
      "[78번학습] [기본 SGD] 학습 점수 : 0.9243697478991597, 테스트점수 : 0.9\n",
      "[79번학습] [기본 SGD] 학습 점수 : 0.9327731092436975, 테스트점수 : 0.95\n",
      "[80번학습] [기본 SGD] 학습 점수 : 0.9411764705882353, 테스트점수 : 0.95\n",
      "[81번학습] [기본 SGD] 학습 점수 : 0.9327731092436975, 테스트점수 : 0.925\n",
      "[82번학습] [기본 SGD] 학습 점수 : 0.8907563025210085, 테스트점수 : 0.9\n",
      "[83번학습] [기본 SGD] 학습 점수 : 0.9411764705882353, 테스트점수 : 0.9\n",
      "[84번학습] [기본 SGD] 학습 점수 : 0.9411764705882353, 테스트점수 : 0.925\n",
      "[85번학습] [기본 SGD] 학습 점수 : 0.9327731092436975, 테스트점수 : 0.925\n",
      "[86번학습] [기본 SGD] 학습 점수 : 0.9495798319327731, 테스트점수 : 0.925\n",
      "[87번학습] [기본 SGD] 학습 점수 : 0.9411764705882353, 테스트점수 : 0.925\n",
      "[88번학습] [기본 SGD] 학습 점수 : 0.9159663865546218, 테스트점수 : 0.9\n",
      "[89번학습] [기본 SGD] 학습 점수 : 0.8403361344537815, 테스트점수 : 0.85\n",
      "[90번학습] [기본 SGD] 학습 점수 : 0.9411764705882353, 테스트점수 : 0.95\n",
      "[91번학습] [기본 SGD] 학습 점수 : 0.9411764705882353, 테스트점수 : 0.925\n",
      "[92번학습] [기본 SGD] 학습 점수 : 0.9411764705882353, 테스트점수 : 0.95\n",
      "[93번학습] [기본 SGD] 학습 점수 : 0.9495798319327731, 테스트점수 : 0.95\n",
      "[94번학습] [기본 SGD] 학습 점수 : 0.9327731092436975, 테스트점수 : 0.875\n",
      "[95번학습] [기본 SGD] 학습 점수 : 0.8991596638655462, 테스트점수 : 0.875\n",
      "[96번학습] [기본 SGD] 학습 점수 : 0.9411764705882353, 테스트점수 : 0.95\n",
      "[97번학습] [기본 SGD] 학습 점수 : 0.9159663865546218, 테스트점수 : 0.925\n",
      "[98번학습] [기본 SGD] 학습 점수 : 0.9243697478991597, 테스트점수 : 0.925\n",
      "[99번학습] [기본 SGD] 학습 점수 : 0.9159663865546218, 테스트점수 : 0.95\n",
      "[100번학습] [기본 SGD] 학습 점수 : 0.9327731092436975, 테스트점수 : 0.95\n"
     ]
    }
   ],
   "source": [
    "train_score, test_score = [],[]\n",
    "deathcount = 0\n",
    "for n in range(1,101):\n",
    "    model2.partial_fit(scaled_X_train, y_train, y_train.unique())\n",
    "    train_score2 = model2.score(scaled_X_train, y_train)\n",
    "    test_score2 = model2.score(scaled_X_test, y_test)\n",
    "    print(f'[{n}번학습] [기본 SGD] 학습 점수 : {train_score2}, 테스트점수 : {test_score2}')\n",
    "    train_score.append(train_score2)\n",
    "    test_score.append(test_score2)\n",
    "    if (test_score2>=0.9) and (abs(test_score2-train_score2)>=0.03):\n",
    "        deathcount += 1\n",
    "        if deathcount>10:\n",
    "            break"
   ],
   "metadata": {
    "collapsed": false,
    "ExecuteTime": {
     "end_time": "2024-03-04T07:37:39.203360500Z",
     "start_time": "2024-03-04T07:37:38.787333200Z"
    }
   },
   "id": "6e76e0f6c882e6f7",
   "execution_count": 313
  },
  {
   "cell_type": "code",
   "outputs": [
    {
     "data": {
      "text/plain": "<Figure size 640x480 with 1 Axes>",
      "image/png": "[encoded data removed]"
     },
     "metadata": {},
     "output_type": "display_data"
    }
   ],
   "source": [
    "# 시각화\n",
    "plt.plot(train_score, 'b-',label='SGD_train')\n",
    "plt.plot(test_score, 'r-',label='SGD_test')\n",
    "plt.legend()\n",
    "plt.show()"
   ],
   "metadata": {
    "collapsed": false,
    "ExecuteTime": {
     "end_time": "2024-03-04T07:37:39.336621600Z",
     "start_time": "2024-03-04T07:37:39.215359900Z"
    }
   },
   "id": "5d725967da5fa4af",
   "execution_count": 314
  },
  {
   "cell_type": "code",
   "outputs": [
    {
     "data": {
      "text/plain": "59"
     },
     "execution_count": 315,
     "metadata": {},
     "output_type": "execute_result"
    }
   ],
   "source": [
    "test_score.index(max(test_score))       # 학습횟수 : +1일때 최대가 됨"
   ],
   "metadata": {
    "collapsed": false,
    "ExecuteTime": {
     "end_time": "2024-03-04T07:37:39.385537200Z",
     "start_time": "2024-03-04T07:37:39.329682900Z"
    }
   },
   "id": "81250ce57d3e67f5",
   "execution_count": 315
  },
  {
   "cell_type": "code",
   "outputs": [],
   "source": [],
   "metadata": {
    "collapsed": false,
    "ExecuteTime": {
     "end_time": "2024-03-04T07:37:39.386537Z",
     "start_time": "2024-03-04T07:37:39.356163900Z"
    }
   },
   "id": "3cddf194f4b2a1ec",
   "execution_count": 315
  }
 ],
 "metadata": {
  "kernelspec": {
   "display_name": "Python 3",
   "language": "python",
   "name": "python3"
  },
  "language_info": {
   "codemirror_mode": {
    "name": "ipython",
    "version": 2
   },
   "file_extension": ".py",
   "mimetype": "text/x-python",
   "name": "python",
   "nbconvert_exporter": "python",
   "pygments_lexer": "ipython2",
   "version": "2.7.6"
  }
 },
 "nbformat": 4,
 "nbformat_minor": 5
}
