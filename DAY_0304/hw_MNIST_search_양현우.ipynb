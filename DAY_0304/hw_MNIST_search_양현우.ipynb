{
 "cells": [
  {
   "cell_type": "markdown",
   "source": [
    "[0] 학습에 앞서 MNIST 데이터셋 불러오기 및 확인"
   ],
   "metadata": {
    "collapsed": false
   },
   "id": "8cb58a5987823bf3"
  },
  {
   "cell_type": "code",
   "execution_count": 41,
   "id": "initial_id",
   "metadata": {
    "collapsed": true,
    "ExecuteTime": {
     "end_time": "2024-03-04T09:02:03.048961400Z",
     "start_time": "2024-03-04T09:01:46.688176500Z"
    }
   },
   "outputs": [
    {
     "name": "stderr",
     "output_type": "stream",
     "text": [
      "C:\\ProgramData\\anaconda3\\envs\\EXAM_ML\\lib\\site-packages\\sklearn\\datasets\\_openml.py:1002: FutureWarning: The default value of `parser` will change from `'liac-arff'` to `'auto'` in 1.4. You can set `parser='auto'` to silence this warning. Therefore, an `ImportError` will be raised from 1.4 if the dataset is dense and pandas is not installed. Note that the pandas parser may return different data types. See the Notes Section in fetch_openml's API doc for details.\n",
      "  warn(\n"
     ]
    }
   ],
   "source": [
    "from sklearn.datasets import fetch_openml\n",
    "\n",
    "mnist = fetch_openml('mnist_784', as_frame=False)"
   ]
  },
  {
   "cell_type": "code",
   "outputs": [],
   "source": [
    "X, y = mnist.data, mnist.target"
   ],
   "metadata": {
    "collapsed": false,
    "ExecuteTime": {
     "end_time": "2024-03-04T09:02:03.069917700Z",
     "start_time": "2024-03-04T09:02:03.052155800Z"
    }
   },
   "id": "b0318f1de7d4f247",
   "execution_count": 42
  },
  {
   "cell_type": "code",
   "outputs": [
    {
     "data": {
      "text/plain": "(70000, 784)"
     },
     "execution_count": 43,
     "metadata": {},
     "output_type": "execute_result"
    }
   ],
   "source": [
    "X.shape"
   ],
   "metadata": {
    "collapsed": false,
    "ExecuteTime": {
     "end_time": "2024-03-04T09:02:03.097761500Z",
     "start_time": "2024-03-04T09:02:03.064985900Z"
    }
   },
   "id": "a2dd2e593177af6f",
   "execution_count": 43
  },
  {
   "cell_type": "code",
   "outputs": [
    {
     "data": {
      "text/plain": "(70000,)"
     },
     "execution_count": 44,
     "metadata": {},
     "output_type": "execute_result"
    }
   ],
   "source": [
    "y.shape"
   ],
   "metadata": {
    "collapsed": false,
    "ExecuteTime": {
     "end_time": "2024-03-04T09:02:03.098762700Z",
     "start_time": "2024-03-04T09:02:03.082762500Z"
    }
   },
   "id": "d7ad428e73d87ac5",
   "execution_count": 44
  },
  {
   "cell_type": "code",
   "outputs": [
    {
     "data": {
      "text/plain": "<Figure size 640x480 with 1 Axes>",
      "image/png": "[encoded data removed]"
     },
     "metadata": {},
     "output_type": "display_data"
    }
   ],
   "source": [
    "# 정상출력 확인\n",
    "import matplotlib.pyplot as plt\n",
    "\n",
    "def plot_digit(image_data):\n",
    "    image = image_data.reshape(28, 28)\n",
    "    plt.imshow(image, cmap='binary')\n",
    "    plt.axis('off')\n",
    "    plt.show()\n",
    "\n",
    "some_digit = X[0]\n",
    "plot_digit(some_digit)\n",
    "plt.show()"
   ],
   "metadata": {
    "collapsed": false,
    "ExecuteTime": {
     "end_time": "2024-03-05T09:22:12.613574700Z",
     "start_time": "2024-03-05T09:22:12.558996300Z"
    }
   },
   "id": "57cb88cd7fe77cba",
   "execution_count": 130
  },
  {
   "cell_type": "markdown",
   "source": [
    "## 목표: MNIST 기계학습 진행 실습 및 검증 이미지 이진분류(가능하면 다중)\n",
    "- 1차 기계학습 테스트 진행\n",
    "- 모델에 따른 성능지표 \n",
    "- 경사하강법 개념 및 다양한 경사하강법들\n",
    "- 확률적경사하강법기반 모델 개념과 하이퍼파라미터"
   ],
   "metadata": {
    "collapsed": false
   },
   "id": "580258889e139def"
  },
  {
   "cell_type": "code",
   "outputs": [
    {
     "data": {
      "text/plain": "array([  0.,   0.,   0.,   0.,   0.,   0.,   0.,   0.,   0.,   0.,   0.,\n         0.,   0.,   0.,   0.,   0.,   0.,   0.,   0.,   0.,   0.,   0.,\n         0.,   0.,   0.,   0.,   0.,   0.,   0.,   0.,   0.,   0.,   0.,\n         0.,   0.,   0.,   0.,   0.,   0.,   0.,   0.,   0.,   0.,   0.,\n         0.,   0.,   0.,   0.,   0.,   0.,   0.,   0.,   0.,   0.,   0.,\n         0.,   0.,   0.,   0.,   0.,   0.,   0.,   0.,   0.,   0.,   0.,\n         0.,   0.,   0.,   0.,   0.,   0.,   0.,   0.,   0.,   0.,   0.,\n         0.,   0.,   0.,   0.,   0.,   0.,   0.,   0.,   0.,   0.,   0.,\n         0.,   0.,   0.,   0.,   0.,   0.,   0.,   0.,   0.,   0.,   0.,\n         0.,   0.,   0.,   0.,   0.,   0.,   0.,   0.,   0.,   0.,   0.,\n         0.,   0.,   0.,   0.,   0.,   0.,   0.,   0.,   0.,   0.,   0.,\n         0.,   0.,   0.,   0.,   0.,   0.,   0.,   0.,   0.,   0.,   0.,\n         0.,   0.,   0.,   0.,   0.,   0.,   0.,   0.,   0.,   0.,   0.,\n         0.,   0.,   0.,   0.,   0.,   0.,   0.,   0.,   0.,   3.,  18.,\n        18.,  18., 126., 136., 175.,  26., 166., 255., 247., 127.,   0.,\n         0.,   0.,   0.,   0.,   0.,   0.,   0.,   0.,   0.,   0.,   0.,\n        30.,  36.,  94., 154., 170., 253., 253., 253., 253., 253., 225.,\n       172., 253., 242., 195.,  64.,   0.,   0.,   0.,   0.,   0.,   0.,\n         0.,   0.,   0.,   0.,   0.,  49., 238., 253., 253., 253., 253.,\n       253., 253., 253., 253., 251.,  93.,  82.,  82.,  56.,  39.,   0.,\n         0.,   0.,   0.,   0.,   0.,   0.,   0.,   0.,   0.,   0.,   0.,\n        18., 219., 253., 253., 253., 253., 253., 198., 182., 247., 241.,\n         0.,   0.,   0.,   0.,   0.,   0.,   0.,   0.,   0.,   0.,   0.,\n         0.,   0.,   0.,   0.,   0.,   0.,   0.,  80., 156., 107., 253.,\n       253., 205.,  11.,   0.,  43., 154.,   0.,   0.,   0.,   0.,   0.,\n         0.,   0.,   0.,   0.,   0.,   0.,   0.,   0.,   0.,   0.,   0.,\n         0.,   0.,   0.,  14.,   1., 154., 253.,  90.,   0.,   0.,   0.,\n         0.,   0.,   0.,   0.,   0.,   0.,   0.,   0.,   0.,   0.,   0.,\n         0.,   0.,   0.,   0.,   0.,   0.,   0.,   0.,   0.,   0.,   0.,\n       139., 253., 190.,   2.,   0.,   0.,   0.,   0.,   0.,   0.,   0.,\n         0.,   0.,   0.,   0.,   0.,   0.,   0.,   0.,   0.,   0.,   0.,\n         0.,   0.,   0.,   0.,   0.,   0.,  11., 190., 253.,  70.,   0.,\n         0.,   0.,   0.,   0.,   0.,   0.,   0.,   0.,   0.,   0.,   0.,\n         0.,   0.,   0.,   0.,   0.,   0.,   0.,   0.,   0.,   0.,   0.,\n         0.,   0.,  35., 241., 225., 160., 108.,   1.,   0.,   0.,   0.,\n         0.,   0.,   0.,   0.,   0.,   0.,   0.,   0.,   0.,   0.,   0.,\n         0.,   0.,   0.,   0.,   0.,   0.,   0.,   0.,   0.,  81., 240.,\n       253., 253., 119.,  25.,   0.,   0.,   0.,   0.,   0.,   0.,   0.,\n         0.,   0.,   0.,   0.,   0.,   0.,   0.,   0.,   0.,   0.,   0.,\n         0.,   0.,   0.,   0.,   0.,  45., 186., 253., 253., 150.,  27.,\n         0.,   0.,   0.,   0.,   0.,   0.,   0.,   0.,   0.,   0.,   0.,\n         0.,   0.,   0.,   0.,   0.,   0.,   0.,   0.,   0.,   0.,   0.,\n         0.,  16.,  93., 252., 253., 187.,   0.,   0.,   0.,   0.,   0.,\n         0.,   0.,   0.,   0.,   0.,   0.,   0.,   0.,   0.,   0.,   0.,\n         0.,   0.,   0.,   0.,   0.,   0.,   0.,   0.,   0., 249., 253.,\n       249.,  64.,   0.,   0.,   0.,   0.,   0.,   0.,   0.,   0.,   0.,\n         0.,   0.,   0.,   0.,   0.,   0.,   0.,   0.,   0.,   0.,   0.,\n         0.,  46., 130., 183., 253., 253., 207.,   2.,   0.,   0.,   0.,\n         0.,   0.,   0.,   0.,   0.,   0.,   0.,   0.,   0.,   0.,   0.,\n         0.,   0.,   0.,   0.,   0.,  39., 148., 229., 253., 253., 253.,\n       250., 182.,   0.,   0.,   0.,   0.,   0.,   0.,   0.,   0.,   0.,\n         0.,   0.,   0.,   0.,   0.,   0.,   0.,   0.,   0.,  24., 114.,\n       221., 253., 253., 253., 253., 201.,  78.,   0.,   0.,   0.,   0.,\n         0.,   0.,   0.,   0.,   0.,   0.,   0.,   0.,   0.,   0.,   0.,\n         0.,   0.,  23.,  66., 213., 253., 253., 253., 253., 198.,  81.,\n         2.,   0.,   0.,   0.,   0.,   0.,   0.,   0.,   0.,   0.,   0.,\n         0.,   0.,   0.,   0.,   0.,   0.,  18., 171., 219., 253., 253.,\n       253., 253., 195.,  80.,   9.,   0.,   0.,   0.,   0.,   0.,   0.,\n         0.,   0.,   0.,   0.,   0.,   0.,   0.,   0.,   0.,   0.,  55.,\n       172., 226., 253., 253., 253., 253., 244., 133.,  11.,   0.,   0.,\n         0.,   0.,   0.,   0.,   0.,   0.,   0.,   0.,   0.,   0.,   0.,\n         0.,   0.,   0.,   0.,   0., 136., 253., 253., 253., 212., 135.,\n       132.,  16.,   0.,   0.,   0.,   0.,   0.,   0.,   0.,   0.,   0.,\n         0.,   0.,   0.,   0.,   0.,   0.,   0.,   0.,   0.,   0.,   0.,\n         0.,   0.,   0.,   0.,   0.,   0.,   0.,   0.,   0.,   0.,   0.,\n         0.,   0.,   0.,   0.,   0.,   0.,   0.,   0.,   0.,   0.,   0.,\n         0.,   0.,   0.,   0.,   0.,   0.,   0.,   0.,   0.,   0.,   0.,\n         0.,   0.,   0.,   0.,   0.,   0.,   0.,   0.,   0.,   0.,   0.,\n         0.,   0.,   0.,   0.,   0.,   0.,   0.,   0.,   0.,   0.,   0.,\n         0.,   0.,   0.,   0.,   0.,   0.,   0.,   0.,   0.,   0.,   0.,\n         0.,   0.,   0.,   0.,   0.,   0.,   0.,   0.,   0.,   0.,   0.,\n         0.,   0.,   0.])"
     },
     "execution_count": 128,
     "metadata": {},
     "output_type": "execute_result"
    }
   ],
   "source": [
    "X[0]"
   ],
   "metadata": {
    "collapsed": false,
    "ExecuteTime": {
     "end_time": "2024-03-05T09:21:15.920741300Z",
     "start_time": "2024-03-05T09:21:15.878979400Z"
    }
   },
   "id": "a667235f4e071308",
   "execution_count": 128
  },
  {
   "cell_type": "markdown",
   "source": [
    "[1] 모듈 로딩 및 데이터 준비 <hr>"
   ],
   "metadata": {
    "collapsed": false
   },
   "id": "f903e846d30a47d4"
  },
  {
   "cell_type": "code",
   "outputs": [],
   "source": [
    "import pandas as pd\n",
    "import numpy as np\n",
    "from sklearn.model_selection import train_test_split\n"
   ],
   "metadata": {
    "collapsed": false,
    "ExecuteTime": {
     "end_time": "2024-03-04T09:02:03.193894800Z",
     "start_time": "2024-03-04T09:02:03.155625300Z"
    }
   },
   "id": "b3f5468a9c234bd7",
   "execution_count": 46
  },
  {
   "cell_type": "markdown",
   "source": [
    "[2-1] 피쳐/타겟 분리\n",
    "- 이미 되어있음"
   ],
   "metadata": {
    "collapsed": false
   },
   "id": "ee2501a90efcea64"
  },
  {
   "cell_type": "markdown",
   "source": [
    "[2-2] 학습/테스트용 데이터셋 분리"
   ],
   "metadata": {
    "collapsed": false
   },
   "id": "3f2e4d935a10eb2a"
  },
  {
   "cell_type": "code",
   "outputs": [],
   "source": [
    "X_train, X_test, y_train, y_test = train_test_split(X, y, stratify=y,\n",
    "                                                    random_state=17)"
   ],
   "metadata": {
    "collapsed": false,
    "ExecuteTime": {
     "end_time": "2024-03-04T09:02:04.300209600Z",
     "start_time": "2024-03-04T09:02:03.175522300Z"
    }
   },
   "id": "5c3903bc1ad81126",
   "execution_count": 47
  },
  {
   "cell_type": "code",
   "outputs": [
    {
     "name": "stdout",
     "output_type": "stream",
     "text": [
      "[훈련용] => X_train.shape: (52500, 784), y_train.shape: (52500,)\n",
      "[테스트용] => X_test.shape: (17500, 784), y_test.shape: (17500,)\n"
     ]
    }
   ],
   "source": [
    "print(f'[훈련용] => X_train.shape: {X_train.shape}, y_train.shape: {y_train.shape}')\n",
    "print(f'[테스트용] => X_test.shape: {X_test.shape}, y_test.shape: {y_test.shape}')"
   ],
   "metadata": {
    "collapsed": false,
    "ExecuteTime": {
     "end_time": "2024-03-04T09:02:04.319824200Z",
     "start_time": "2024-03-04T09:02:04.302210200Z"
    }
   },
   "id": "ce0d0fdfef1a2ee7",
   "execution_count": 48
  },
  {
   "cell_type": "markdown",
   "source": [
    "[2-3] 스케일링 (근데 이거 필요할까..?)\n",
    "- 아니다 쓰지말자"
   ],
   "metadata": {
    "collapsed": false
   },
   "id": "965e55e861ee1dad"
  },
  {
   "cell_type": "code",
   "outputs": [],
   "source": [
    "# from sklearn.preprocessing import StandardScaler\n",
    "# sdScaler = StandardScaler()\n",
    "# sdScaler.fit(X_train)"
   ],
   "metadata": {
    "collapsed": false,
    "ExecuteTime": {
     "end_time": "2024-03-04T09:02:04.349730900Z",
     "start_time": "2024-03-04T09:02:04.317731500Z"
    }
   },
   "id": "a992bac6b3a374a7",
   "execution_count": 49
  },
  {
   "cell_type": "code",
   "outputs": [],
   "source": [
    "# sd_X_train = sdScaler.transform(X_train)    # 훈련데이터 스케일링\n",
    "# sd_X_test = sdScaler.transform(X_test)      # 테스트데이터 스케일링"
   ],
   "metadata": {
    "collapsed": false,
    "ExecuteTime": {
     "end_time": "2024-03-04T09:02:04.350731900Z",
     "start_time": "2024-03-04T09:02:04.333731Z"
    }
   },
   "id": "f763dcfcda8ade96",
   "execution_count": 50
  },
  {
   "cell_type": "code",
   "outputs": [],
   "source": [
    "# sd_X_train"
   ],
   "metadata": {
    "collapsed": false,
    "ExecuteTime": {
     "end_time": "2024-03-04T09:02:04.362743600Z",
     "start_time": "2024-03-04T09:02:04.348731600Z"
    }
   },
   "id": "fc8ecffc0da6970",
   "execution_count": 51
  },
  {
   "cell_type": "markdown",
   "source": [
    "[3] 학습진행\n",
    "- 학습방법 : 확률적 경사하강법(SGD)\n",
    "- 학습목표 : 숫자'2'를 식별하는 이진분류기"
   ],
   "metadata": {
    "collapsed": false
   },
   "id": "74de956ecb130319"
  },
  {
   "cell_type": "code",
   "outputs": [
    {
     "data": {
      "text/plain": "'8'"
     },
     "execution_count": 52,
     "metadata": {},
     "output_type": "execute_result"
    }
   ],
   "source": [
    "y_train[0]"
   ],
   "metadata": {
    "collapsed": false,
    "ExecuteTime": {
     "end_time": "2024-03-04T09:02:04.384732800Z",
     "start_time": "2024-03-04T09:02:04.364731400Z"
    }
   },
   "id": "d44605a855c087b6",
   "execution_count": 52
  },
  {
   "cell_type": "code",
   "outputs": [
    {
     "data": {
      "text/plain": "array([False, False, False, ...,  True, False, False])"
     },
     "execution_count": 53,
     "metadata": {},
     "output_type": "execute_result"
    }
   ],
   "source": [
    "y_train_2 = (y_train=='2')    # 2이면 true 아니면 False\n",
    "y_test_2 = (y_test=='2')\n",
    "y_train_2"
   ],
   "metadata": {
    "collapsed": false,
    "ExecuteTime": {
     "end_time": "2024-03-04T09:02:04.407742700Z",
     "start_time": "2024-03-04T09:02:04.381732Z"
    }
   },
   "id": "804144d3f7fed743",
   "execution_count": 53
  },
  {
   "cell_type": "code",
   "outputs": [
    {
     "data": {
      "text/plain": "array([0, 0, 0, ..., 1, 0, 0], dtype=int8)"
     },
     "execution_count": 54,
     "metadata": {},
     "output_type": "execute_result"
    }
   ],
   "source": [],
   "metadata": {
    "collapsed": false,
    "ExecuteTime": {
     "end_time": "2024-03-04T09:02:04.419731200Z",
     "start_time": "2024-03-04T09:02:04.397730800Z"
    }
   },
   "id": "861d1bd3829183e3",
   "execution_count": 54
  },
  {
   "cell_type": "code",
   "outputs": [
    {
     "data": {
      "text/plain": "SGDClassifier(loss='log_loss', random_state=17)",
      "text/html": "<style>#sk-container-id-2 {color: black;}#sk-container-id-2 pre{padding: 0;}#sk-container-id-2 div.sk-toggleable {background-color: white;}#sk-container-id-2 label.sk-toggleable__label {cursor: pointer;display: block;width: 100%;margin-bottom: 0;padding: 0.3em;box-sizing: border-box;text-align: center;}#sk-container-id-2 label.sk-toggleable__label-arrow:before {content: \"▸\";float: left;margin-right: 0.25em;color: #696969;}#sk-container-id-2 label.sk-toggleable__label-arrow:hover:before {color: black;}#sk-container-id-2 div.sk-estimator:hover label.sk-toggleable__label-arrow:before {color: black;}#sk-container-id-2 div.sk-toggleable__content {max-height: 0;max-width: 0;overflow: hidden;text-align: left;background-color: #f0f8ff;}#sk-container-id-2 div.sk-toggleable__content pre {margin: 0.2em;color: black;border-radius: 0.25em;background-color: #f0f8ff;}#sk-container-id-2 input.sk-toggleable__control:checked~div.sk-toggleable__content {max-height: 200px;max-width: 100%;overflow: auto;}#sk-container-id-2 input.sk-toggleable__control:checked~label.sk-toggleable__label-arrow:before {content: \"▾\";}#sk-container-id-2 div.sk-estimator input.sk-toggleable__control:checked~label.sk-toggleable__label {background-color: #d4ebff;}#sk-container-id-2 div.sk-label input.sk-toggleable__control:checked~label.sk-toggleable__label {background-color: #d4ebff;}#sk-container-id-2 input.sk-hidden--visually {border: 0;clip: rect(1px 1px 1px 1px);clip: rect(1px, 1px, 1px, 1px);height: 1px;margin: -1px;overflow: hidden;padding: 0;position: absolute;width: 1px;}#sk-container-id-2 div.sk-estimator {font-family: monospace;background-color: #f0f8ff;border: 1px dotted black;border-radius: 0.25em;box-sizing: border-box;margin-bottom: 0.5em;}#sk-container-id-2 div.sk-estimator:hover {background-color: #d4ebff;}#sk-container-id-2 div.sk-parallel-item::after {content: \"\";width: 100%;border-bottom: 1px solid gray;flex-grow: 1;}#sk-container-id-2 div.sk-label:hover label.sk-toggleable__label {background-color: #d4ebff;}#sk-container-id-2 div.sk-serial::before {content: \"\";position: absolute;border-left: 1px solid gray;box-sizing: border-box;top: 0;bottom: 0;left: 50%;z-index: 0;}#sk-container-id-2 div.sk-serial {display: flex;flex-direction: column;align-items: center;background-color: white;padding-right: 0.2em;padding-left: 0.2em;position: relative;}#sk-container-id-2 div.sk-item {position: relative;z-index: 1;}#sk-container-id-2 div.sk-parallel {display: flex;align-items: stretch;justify-content: center;background-color: white;position: relative;}#sk-container-id-2 div.sk-item::before, #sk-container-id-2 div.sk-parallel-item::before {content: \"\";position: absolute;border-left: 1px solid gray;box-sizing: border-box;top: 0;bottom: 0;left: 50%;z-index: -1;}#sk-container-id-2 div.sk-parallel-item {display: flex;flex-direction: column;z-index: 1;position: relative;background-color: white;}#sk-container-id-2 div.sk-parallel-item:first-child::after {align-self: flex-end;width: 50%;}#sk-container-id-2 div.sk-parallel-item:last-child::after {align-self: flex-start;width: 50%;}#sk-container-id-2 div.sk-parallel-item:only-child::after {width: 0;}#sk-container-id-2 div.sk-dashed-wrapped {border: 1px dashed gray;margin: 0 0.4em 0.5em 0.4em;box-sizing: border-box;padding-bottom: 0.4em;background-color: white;}#sk-container-id-2 div.sk-label label {font-family: monospace;font-weight: bold;display: inline-block;line-height: 1.2em;}#sk-container-id-2 div.sk-label-container {text-align: center;}#sk-container-id-2 div.sk-container {/* jupyter's `normalize.less` sets `[hidden] { display: none; }` but bootstrap.min.css set `[hidden] { display: none !important; }` so we also need the `!important` here to be able to override the default hidden behavior on the sphinx rendered scikit-learn.org. See: https://github.com/scikit-learn/scikit-learn/issues/21755 */display: inline-block !important;position: relative;}#sk-container-id-2 div.sk-text-repr-fallback {display: none;}</style><div id=\"sk-container-id-2\" class=\"sk-top-container\"><div class=\"sk-text-repr-fallback\"><pre>SGDClassifier(loss=&#x27;log_loss&#x27;, random_state=17)</pre><b>In a Jupyter environment, please rerun this cell to show the HTML representation or trust the notebook. <br />On GitHub, the HTML representation is unable to render, please try loading this page with nbviewer.org.</b></div><div class=\"sk-container\" hidden><div class=\"sk-item\"><div class=\"sk-estimator sk-toggleable\"><input class=\"sk-toggleable__control sk-hidden--visually\" id=\"sk-estimator-id-2\" type=\"checkbox\" checked><label for=\"sk-estimator-id-2\" class=\"sk-toggleable__label sk-toggleable__label-arrow\">SGDClassifier</label><div class=\"sk-toggleable__content\"><pre>SGDClassifier(loss=&#x27;log_loss&#x27;, random_state=17)</pre></div></div></div></div></div>"
     },
     "execution_count": 55,
     "metadata": {},
     "output_type": "execute_result"
    }
   ],
   "source": [
    "# 모델 인스턴스형성(1) - SGDClassifier\n",
    "from sklearn.linear_model import SGDClassifier\n",
    "# X와 2만 분류하는 y 학습 - fit model1\n",
    "model1 = SGDClassifier(random_state=17, loss='log_loss')\n",
    "model1.fit(X_train,y_train_2)"
   ],
   "metadata": {
    "collapsed": false,
    "ExecuteTime": {
     "end_time": "2024-03-04T09:02:13.747666800Z",
     "start_time": "2024-03-04T09:02:04.412731Z"
    }
   },
   "id": "1905d38d157ca915",
   "execution_count": 55
  },
  {
   "cell_type": "code",
   "outputs": [],
   "source": [
    "train_score1 = model1.score(X_train, y_train_2)\n",
    "test_score1 = model1.score(X_test, y_test_2)"
   ],
   "metadata": {
    "collapsed": false,
    "ExecuteTime": {
     "end_time": "2024-03-04T10:33:36.981434300Z",
     "start_time": "2024-03-04T10:33:36.870341800Z"
    }
   },
   "id": "b84b53420e6797f0",
   "execution_count": 56
  },
  {
   "cell_type": "code",
   "outputs": [
    {
     "name": "stdout",
     "output_type": "stream",
     "text": [
      "[기본 SGD] 훈련 점수 : 0.9783238095238095, 테스트 점수 : 0.9750857142857143\n"
     ]
    }
   ],
   "source": [
    "# SGDClassifier 평가\n",
    "print(f'[기본 SGD] 훈련 점수 : {train_score1}, 테스트 점수 : {test_score1}')       \n",
    "# 미묘한 과대적합?"
   ],
   "metadata": {
    "collapsed": false,
    "ExecuteTime": {
     "end_time": "2024-03-04T11:00:33.145709900Z",
     "start_time": "2024-03-04T11:00:33.128709400Z"
    }
   },
   "id": "f6e7508e187dd112",
   "execution_count": 66
  },
  {
   "cell_type": "code",
   "outputs": [
    {
     "name": "stdout",
     "output_type": "stream",
     "text": [
      "n_iter_: 165\n"
     ]
    }
   ],
   "source": [
    "# 모델 파라미터\n",
    "print(f'n_iter_: {model1.n_iter_}')"
   ],
   "metadata": {
    "collapsed": false,
    "ExecuteTime": {
     "end_time": "2024-03-04T10:34:58.032493900Z",
     "start_time": "2024-03-04T10:34:57.993974900Z"
    }
   },
   "id": "fd8bfe22805a6978",
   "execution_count": 58
  },
  {
   "cell_type": "markdown",
   "source": [
    "[3-1] 분류평가지표"
   ],
   "metadata": {
    "collapsed": false
   },
   "id": "d01b4f36320ec33"
  },
  {
   "cell_type": "code",
   "outputs": [
    {
     "name": "stdout",
     "output_type": "stream",
     "text": [
      "[분류 정확도]=> accuracy score : 0.9750857142857143\n",
      "[분류 정밀도]=> precision score : 0.9074534161490683\n",
      "[분류 재현율]=> recall score : 0.835812356979405\n"
     ]
    }
   ],
   "source": [
    "from sklearn.metrics import accuracy_score\n",
    "# 분류 정확도\n",
    "y_pre = model1.predict(X_test)\n",
    "ret1 = accuracy_score(y_test_2, y_pre)\n",
    "print(f'[분류 정확도]=> accuracy score : {ret1}')\n",
    "\n",
    "# 정밀도\n",
    "from sklearn.metrics import precision_score\n",
    "pre_score1 = precision_score(y_test_2, y_pre)\n",
    "print(f'[분류 정밀도]=> precision score : {pre_score1}')\n",
    "\n",
    "# 재현율\n",
    "from sklearn.metrics import recall_score\n",
    "re_score1 = recall_score(y_test_2, y_pre)\n",
    "print(f'[분류 재현율]=> recall score : {re_score1}')"
   ],
   "metadata": {
    "collapsed": false,
    "ExecuteTime": {
     "end_time": "2024-03-04T11:25:36.582421Z",
     "start_time": "2024-03-04T11:25:36.532421400Z"
    }
   },
   "id": "3babd58cd9cda6fd",
   "execution_count": 69
  },
  {
   "cell_type": "code",
   "outputs": [
    {
     "name": "stdout",
     "output_type": "stream",
     "text": [
      "[분류 f1 점수]=> f1 score : 0.8701608100059558\n"
     ]
    }
   ],
   "source": [
    "# f1_score\n",
    "from sklearn.metrics import f1_score\n",
    "f1_score1 = f1_score(y_test_2, y_pre)\n",
    "print(f'[분류 f1 점수]=> f1 score : {f1_score1}')"
   ],
   "metadata": {
    "collapsed": false,
    "ExecuteTime": {
     "end_time": "2024-03-04T11:26:25.212350200Z",
     "start_time": "2024-03-04T11:26:25.176351Z"
    }
   },
   "id": "1aff281bf9023aa4",
   "execution_count": 70
  },
  {
   "cell_type": "markdown",
   "source": [
    "[3-2] partial_fit 적용"
   ],
   "metadata": {
    "collapsed": false
   },
   "id": "8bd7fd1c080bf3b7"
  },
  {
   "cell_type": "code",
   "outputs": [
    {
     "data": {
      "text/plain": "SGDClassifier(loss='log_loss', random_state=17)",
      "text/html": "<style>#sk-container-id-8 {color: black;}#sk-container-id-8 pre{padding: 0;}#sk-container-id-8 div.sk-toggleable {background-color: white;}#sk-container-id-8 label.sk-toggleable__label {cursor: pointer;display: block;width: 100%;margin-bottom: 0;padding: 0.3em;box-sizing: border-box;text-align: center;}#sk-container-id-8 label.sk-toggleable__label-arrow:before {content: \"▸\";float: left;margin-right: 0.25em;color: #696969;}#sk-container-id-8 label.sk-toggleable__label-arrow:hover:before {color: black;}#sk-container-id-8 div.sk-estimator:hover label.sk-toggleable__label-arrow:before {color: black;}#sk-container-id-8 div.sk-toggleable__content {max-height: 0;max-width: 0;overflow: hidden;text-align: left;background-color: #f0f8ff;}#sk-container-id-8 div.sk-toggleable__content pre {margin: 0.2em;color: black;border-radius: 0.25em;background-color: #f0f8ff;}#sk-container-id-8 input.sk-toggleable__control:checked~div.sk-toggleable__content {max-height: 200px;max-width: 100%;overflow: auto;}#sk-container-id-8 input.sk-toggleable__control:checked~label.sk-toggleable__label-arrow:before {content: \"▾\";}#sk-container-id-8 div.sk-estimator input.sk-toggleable__control:checked~label.sk-toggleable__label {background-color: #d4ebff;}#sk-container-id-8 div.sk-label input.sk-toggleable__control:checked~label.sk-toggleable__label {background-color: #d4ebff;}#sk-container-id-8 input.sk-hidden--visually {border: 0;clip: rect(1px 1px 1px 1px);clip: rect(1px, 1px, 1px, 1px);height: 1px;margin: -1px;overflow: hidden;padding: 0;position: absolute;width: 1px;}#sk-container-id-8 div.sk-estimator {font-family: monospace;background-color: #f0f8ff;border: 1px dotted black;border-radius: 0.25em;box-sizing: border-box;margin-bottom: 0.5em;}#sk-container-id-8 div.sk-estimator:hover {background-color: #d4ebff;}#sk-container-id-8 div.sk-parallel-item::after {content: \"\";width: 100%;border-bottom: 1px solid gray;flex-grow: 1;}#sk-container-id-8 div.sk-label:hover label.sk-toggleable__label {background-color: #d4ebff;}#sk-container-id-8 div.sk-serial::before {content: \"\";position: absolute;border-left: 1px solid gray;box-sizing: border-box;top: 0;bottom: 0;left: 50%;z-index: 0;}#sk-container-id-8 div.sk-serial {display: flex;flex-direction: column;align-items: center;background-color: white;padding-right: 0.2em;padding-left: 0.2em;position: relative;}#sk-container-id-8 div.sk-item {position: relative;z-index: 1;}#sk-container-id-8 div.sk-parallel {display: flex;align-items: stretch;justify-content: center;background-color: white;position: relative;}#sk-container-id-8 div.sk-item::before, #sk-container-id-8 div.sk-parallel-item::before {content: \"\";position: absolute;border-left: 1px solid gray;box-sizing: border-box;top: 0;bottom: 0;left: 50%;z-index: -1;}#sk-container-id-8 div.sk-parallel-item {display: flex;flex-direction: column;z-index: 1;position: relative;background-color: white;}#sk-container-id-8 div.sk-parallel-item:first-child::after {align-self: flex-end;width: 50%;}#sk-container-id-8 div.sk-parallel-item:last-child::after {align-self: flex-start;width: 50%;}#sk-container-id-8 div.sk-parallel-item:only-child::after {width: 0;}#sk-container-id-8 div.sk-dashed-wrapped {border: 1px dashed gray;margin: 0 0.4em 0.5em 0.4em;box-sizing: border-box;padding-bottom: 0.4em;background-color: white;}#sk-container-id-8 div.sk-label label {font-family: monospace;font-weight: bold;display: inline-block;line-height: 1.2em;}#sk-container-id-8 div.sk-label-container {text-align: center;}#sk-container-id-8 div.sk-container {/* jupyter's `normalize.less` sets `[hidden] { display: none; }` but bootstrap.min.css set `[hidden] { display: none !important; }` so we also need the `!important` here to be able to override the default hidden behavior on the sphinx rendered scikit-learn.org. See: https://github.com/scikit-learn/scikit-learn/issues/21755 */display: inline-block !important;position: relative;}#sk-container-id-8 div.sk-text-repr-fallback {display: none;}</style><div id=\"sk-container-id-8\" class=\"sk-top-container\"><div class=\"sk-text-repr-fallback\"><pre>SGDClassifier(loss=&#x27;log_loss&#x27;, random_state=17)</pre><b>In a Jupyter environment, please rerun this cell to show the HTML representation or trust the notebook. <br />On GitHub, the HTML representation is unable to render, please try loading this page with nbviewer.org.</b></div><div class=\"sk-container\" hidden><div class=\"sk-item\"><div class=\"sk-estimator sk-toggleable\"><input class=\"sk-toggleable__control sk-hidden--visually\" id=\"sk-estimator-id-8\" type=\"checkbox\" checked><label for=\"sk-estimator-id-8\" class=\"sk-toggleable__label sk-toggleable__label-arrow\">SGDClassifier</label><div class=\"sk-toggleable__content\"><pre>SGDClassifier(loss=&#x27;log_loss&#x27;, random_state=17)</pre></div></div></div></div></div>"
     },
     "execution_count": 78,
     "metadata": {},
     "output_type": "execute_result"
    }
   ],
   "source": [
    "# 모델 인스턴스형성(2) - SGDClassifier\n",
    "\n",
    "# 마찬가지로 X와 2만 분류하는 y 학습\n",
    "model2 = SGDClassifier(random_state=17, loss='log_loss')\n",
    "model2.partial_fit(X_train,y_train_2, y_train_2)"
   ],
   "metadata": {
    "collapsed": false,
    "ExecuteTime": {
     "end_time": "2024-03-04T11:37:00.392948600Z",
     "start_time": "2024-03-04T11:37:00.269591900Z"
    }
   },
   "id": "ab6e09573dc9e754",
   "execution_count": 78
  },
  {
   "cell_type": "code",
   "outputs": [],
   "source": [
    "train_score2 = model2.score(X_train,y_train_2)\n",
    "test_score2 = model2.score(X_test,y_test_2)"
   ],
   "metadata": {
    "collapsed": false,
    "ExecuteTime": {
     "end_time": "2024-03-04T11:37:27.717639100Z",
     "start_time": "2024-03-04T11:37:27.617722500Z"
    }
   },
   "id": "aef43fd93cc08a42",
   "execution_count": 79
  },
  {
   "cell_type": "code",
   "outputs": [
    {
     "name": "stdout",
     "output_type": "stream",
     "text": [
      "[기본 SGD] 학습 점수 : 0.9732, 테스트 점수 : 0.9736571428571429\n"
     ]
    }
   ],
   "source": [
    "print(f'[기본 SGD] 학습 점수 : {train_score2}, 테스트 점수 : {test_score2}')"
   ],
   "metadata": {
    "collapsed": false,
    "ExecuteTime": {
     "end_time": "2024-03-04T11:37:33.507699800Z",
     "start_time": "2024-03-04T11:37:33.491923Z"
    }
   },
   "id": "6ac7bef59defdc04",
   "execution_count": 80
  },
  {
   "cell_type": "code",
   "outputs": [
    {
     "name": "stdout",
     "output_type": "stream",
     "text": [
      "[1번학습] [기본 SGD] 학습 점수 : 0.9689523809523809, 테스트점수 : 0.9691428571428572\n",
      "[2번학습] [기본 SGD] 학습 점수 : 0.9643428571428572, 테스트점수 : 0.9650857142857143\n",
      "[3번학습] [기본 SGD] 학습 점수 : 0.9720190476190477, 테스트점수 : 0.9719428571428571\n",
      "[4번학습] [기본 SGD] 학습 점수 : 0.9773333333333334, 테스트점수 : 0.9763428571428572\n",
      "[5번학습] [기본 SGD] 학습 점수 : 0.9736571428571429, 테스트점수 : 0.9729142857142857\n",
      "[6번학습] [기본 SGD] 학습 점수 : 0.9552571428571428, 테스트점수 : 0.9572571428571428\n",
      "[7번학습] [기본 SGD] 학습 점수 : 0.9742666666666666, 테스트점수 : 0.9732\n",
      "[8번학습] [기본 SGD] 학습 점수 : 0.9583428571428572, 테스트점수 : 0.9595428571428571\n",
      "[9번학습] [기본 SGD] 학습 점수 : 0.9749904761904762, 테스트점수 : 0.9732571428571428\n",
      "[10번학습] [기본 SGD] 학습 점수 : 0.9667619047619047, 테스트점수 : 0.9669142857142857\n",
      "[11번학습] [기본 SGD] 학습 점수 : 0.9783047619047619, 테스트점수 : 0.9772\n",
      "[12번학습] [기본 SGD] 학습 점수 : 0.972152380952381, 테스트점수 : 0.9713142857142857\n",
      "[13번학습] [기본 SGD] 학습 점수 : 0.9675047619047619, 테스트점수 : 0.9690285714285715\n",
      "[14번학습] [기본 SGD] 학습 점수 : 0.9732952380952381, 테스트점수 : 0.9731428571428572\n",
      "[15번학습] [기본 SGD] 학습 점수 : 0.9783809523809524, 테스트점수 : 0.9768571428571429\n",
      "[16번학습] [기본 SGD] 학습 점수 : 0.9725904761904762, 테스트점수 : 0.9721714285714286\n",
      "[17번학습] [기본 SGD] 학습 점수 : 0.9643809523809523, 테스트점수 : 0.9653714285714285\n",
      "[18번학습] [기본 SGD] 학습 점수 : 0.9755047619047619, 테스트점수 : 0.9742285714285714\n",
      "[19번학습] [기본 SGD] 학습 점수 : 0.9759619047619048, 테스트점수 : 0.9744571428571429\n",
      "[20번학습] [기본 SGD] 학습 점수 : 0.9672761904761905, 테스트점수 : 0.9653142857142857\n",
      "[21번학습] [기본 SGD] 학습 점수 : 0.9716952380952381, 테스트점수 : 0.9700571428571428\n",
      "[22번학습] [기본 SGD] 학습 점수 : 0.9756761904761905, 테스트점수 : 0.9750857142857143\n",
      "[23번학습] [기본 SGD] 학습 점수 : 0.9768, 테스트점수 : 0.9752\n",
      "[24번학습] [기본 SGD] 학습 점수 : 0.9696190476190476, 테스트점수 : 0.9701714285714286\n",
      "[25번학습] [기본 SGD] 학습 점수 : 0.9741142857142857, 테스트점수 : 0.9727428571428571\n",
      "[26번학습] [기본 SGD] 학습 점수 : 0.9731619047619048, 테스트점수 : 0.9717142857142858\n",
      "[27번학습] [기본 SGD] 학습 점수 : 0.9791047619047619, 테스트점수 : 0.9764571428571429\n",
      "[28번학습] [기본 SGD] 학습 점수 : 0.9764952380952381, 테스트점수 : 0.9744571428571429\n",
      "[29번학습] [기본 SGD] 학습 점수 : 0.9803047619047619, 테스트점수 : 0.9784\n",
      "[30번학습] [기본 SGD] 학습 점수 : 0.972152380952381, 테스트점수 : 0.9705714285714285\n",
      "[31번학습] [기본 SGD] 학습 점수 : 0.9722666666666666, 테스트점수 : 0.9709142857142857\n",
      "[32번학습] [기본 SGD] 학습 점수 : 0.9727238095238095, 테스트점수 : 0.9724571428571429\n",
      "[33번학습] [기본 SGD] 학습 점수 : 0.9699619047619048, 테스트점수 : 0.9700571428571428\n",
      "[34번학습] [기본 SGD] 학습 점수 : 0.9714095238095238, 테스트점수 : 0.9710857142857143\n",
      "[35번학습] [기본 SGD] 학습 점수 : 0.9803047619047619, 테스트점수 : 0.9763428571428572\n",
      "[36번학습] [기본 SGD] 학습 점수 : 0.9791619047619048, 테스트점수 : 0.9761714285714286\n",
      "[37번학습] [기본 SGD] 학습 점수 : 0.9788, 테스트점수 : 0.9770285714285715\n",
      "[38번학습] [기본 SGD] 학습 점수 : 0.9663047619047619, 테스트점수 : 0.9670857142857143\n",
      "[39번학습] [기본 SGD] 학습 점수 : 0.9770285714285715, 테스트점수 : 0.9759428571428571\n",
      "[40번학습] [기본 SGD] 학습 점수 : 0.9773904761904761, 테스트점수 : 0.9752571428571428\n",
      "[41번학습] [기본 SGD] 학습 점수 : 0.9765904761904762, 테스트점수 : 0.976\n",
      "[42번학습] [기본 SGD] 학습 점수 : 0.9683047619047619, 테스트점수 : 0.9685714285714285\n",
      "[43번학습] [기본 SGD] 학습 점수 : 0.9740190476190477, 테스트점수 : 0.9734857142857143\n",
      "[44번학습] [기본 SGD] 학습 점수 : 0.9779047619047619, 테스트점수 : 0.9764571428571429\n",
      "[45번학습] [기본 SGD] 학습 점수 : 0.9773904761904761, 테스트점수 : 0.9765714285714285\n",
      "[46번학습] [기본 SGD] 학습 점수 : 0.9719809523809524, 테스트점수 : 0.9704571428571429\n",
      "[47번학습] [기본 SGD] 학습 점수 : 0.978, 테스트점수 : 0.9759428571428571\n",
      "[48번학습] [기본 SGD] 학습 점수 : 0.9706857142857143, 테스트점수 : 0.9694285714285714\n",
      "[49번학습] [기본 SGD] 학습 점수 : 0.9739428571428571, 테스트점수 : 0.9729142857142857\n",
      "[50번학습] [기본 SGD] 학습 점수 : 0.9748, 테스트점수 : 0.9732571428571428\n",
      "[51번학습] [기본 SGD] 학습 점수 : 0.9622666666666667, 테스트점수 : 0.9625142857142858\n",
      "[52번학습] [기본 SGD] 학습 점수 : 0.9784380952380952, 테스트점수 : 0.9763428571428572\n",
      "[53번학습] [기본 SGD] 학습 점수 : 0.9731809523809524, 테스트점수 : 0.9721714285714286\n",
      "[54번학습] [기본 SGD] 학습 점수 : 0.9755428571428572, 테스트점수 : 0.9741142857142857\n",
      "[55번학습] [기본 SGD] 학습 점수 : 0.9728190476190476, 테스트점수 : 0.9724571428571429\n",
      "[56번학습] [기본 SGD] 학습 점수 : 0.9784190476190476, 테스트점수 : 0.9758285714285714\n",
      "[57번학습] [기본 SGD] 학습 점수 : 0.9672761904761905, 테스트점수 : 0.9661142857142857\n",
      "[58번학습] [기본 SGD] 학습 점수 : 0.9777904761904762, 테스트점수 : 0.9755428571428572\n",
      "[59번학습] [기본 SGD] 학습 점수 : 0.9716, 테스트점수 : 0.9702285714285714\n",
      "[60번학습] [기본 SGD] 학습 점수 : 0.9648761904761904, 테스트점수 : 0.9648571428571429\n",
      "[61번학습] [기본 SGD] 학습 점수 : 0.9720380952380953, 테스트점수 : 0.9718285714285714\n",
      "[62번학습] [기본 SGD] 학습 점수 : 0.9712380952380952, 테스트점수 : 0.9693714285714286\n",
      "[63번학습] [기본 SGD] 학습 점수 : 0.9789142857142857, 테스트점수 : 0.9768571428571429\n",
      "[64번학습] [기본 SGD] 학습 점수 : 0.9746476190476191, 테스트점수 : 0.9731428571428572\n",
      "[65번학습] [기본 SGD] 학습 점수 : 0.9729142857142857, 테스트점수 : 0.9716571428571429\n",
      "[66번학습] [기본 SGD] 학습 점수 : 0.9759619047619048, 테스트점수 : 0.9739428571428571\n",
      "[67번학습] [기본 SGD] 학습 점수 : 0.980152380952381, 테스트점수 : 0.9774857142857143\n",
      "[68번학습] [기본 SGD] 학습 점수 : 0.9703238095238095, 테스트점수 : 0.9718285714285714\n",
      "[69번학습] [기본 SGD] 학습 점수 : 0.9668761904761904, 테스트점수 : 0.9664571428571429\n",
      "[70번학습] [기본 SGD] 학습 점수 : 0.9739809523809524, 테스트점수 : 0.9718285714285714\n",
      "[71번학습] [기본 SGD] 학습 점수 : 0.9763809523809523, 테스트점수 : 0.9738285714285714\n",
      "[72번학습] [기본 SGD] 학습 점수 : 0.9784952380952381, 테스트점수 : 0.9769714285714286\n",
      "[73번학습] [기본 SGD] 학습 점수 : 0.9736952380952381, 테스트점수 : 0.9735428571428572\n",
      "[74번학습] [기본 SGD] 학습 점수 : 0.9768190476190476, 테스트점수 : 0.974\n",
      "[75번학습] [기본 SGD] 학습 점수 : 0.9706857142857143, 테스트점수 : 0.97\n",
      "[76번학습] [기본 SGD] 학습 점수 : 0.9778476190476191, 테스트점수 : 0.9739428571428571\n",
      "[77번학습] [기본 SGD] 학습 점수 : 0.9770095238095238, 테스트점수 : 0.9746857142857143\n",
      "[78번학습] [기본 SGD] 학습 점수 : 0.9726285714285714, 테스트점수 : 0.9710857142857143\n",
      "[79번학습] [기본 SGD] 학습 점수 : 0.9760761904761904, 테스트점수 : 0.9744\n",
      "[80번학습] [기본 SGD] 학습 점수 : 0.9742095238095239, 테스트점수 : 0.9743428571428572\n",
      "[81번학습] [기본 SGD] 학습 점수 : 0.9777904761904762, 테스트점수 : 0.9769714285714286\n",
      "[82번학습] [기본 SGD] 학습 점수 : 0.9776380952380952, 테스트점수 : 0.9765142857142857\n",
      "[83번학습] [기본 SGD] 학습 점수 : 0.9787619047619047, 테스트점수 : 0.9770285714285715\n",
      "[84번학습] [기본 SGD] 학습 점수 : 0.9739619047619048, 테스트점수 : 0.9740571428571428\n",
      "[85번학습] [기본 SGD] 학습 점수 : 0.9760190476190476, 테스트점수 : 0.9749142857142857\n",
      "[86번학습] [기본 SGD] 학습 점수 : 0.9725714285714285, 테스트점수 : 0.9715428571428572\n",
      "[87번학습] [기본 SGD] 학습 점수 : 0.9750285714285715, 테스트점수 : 0.9732\n",
      "[88번학습] [기본 SGD] 학습 점수 : 0.9788571428571429, 테스트점수 : 0.9764571428571429\n",
      "[89번학습] [기본 SGD] 학습 점수 : 0.9739047619047619, 테스트점수 : 0.9721714285714286\n",
      "[90번학습] [기본 SGD] 학습 점수 : 0.9751428571428571, 테스트점수 : 0.9750857142857143\n",
      "[91번학습] [기본 SGD] 학습 점수 : 0.9780761904761904, 테스트점수 : 0.9757714285714286\n",
      "[92번학습] [기본 SGD] 학습 점수 : 0.9714666666666667, 테스트점수 : 0.9702285714285714\n",
      "[93번학습] [기본 SGD] 학습 점수 : 0.9723047619047619, 테스트점수 : 0.9713714285714286\n",
      "[94번학습] [기본 SGD] 학습 점수 : 0.9651809523809524, 테스트점수 : 0.9639428571428571\n",
      "[95번학습] [기본 SGD] 학습 점수 : 0.9777333333333333, 테스트점수 : 0.9749142857142857\n",
      "[96번학습] [기본 SGD] 학습 점수 : 0.9794666666666667, 테스트점수 : 0.9777714285714286\n",
      "[97번학습] [기본 SGD] 학습 점수 : 0.9662857142857143, 테스트점수 : 0.966\n",
      "[98번학습] [기본 SGD] 학습 점수 : 0.9775619047619047, 테스트점수 : 0.9753714285714286\n",
      "[99번학습] [기본 SGD] 학습 점수 : 0.9699047619047619, 테스트점수 : 0.9688\n",
      "[100번학습] [기본 SGD] 학습 점수 : 0.9736761904761905, 테스트점수 : 0.9732\n"
     ]
    }
   ],
   "source": [
    "train_score, test_score = [],[]\n",
    "deathcount = 0\n",
    "for n in range(1,101):\n",
    "    model2.partial_fit(X_train, y_train_2, y_train_2)\n",
    "    train_score2 = model2.score(X_train, y_train_2)\n",
    "    test_score2 = model2.score(X_test, y_test_2)\n",
    "    print(f'[{n}번학습] [기본 SGD] 학습 점수 : {train_score2}, 테스트점수 : {test_score2}')\n",
    "    train_score.append(train_score2)\n",
    "    test_score.append(test_score2)\n",
    "    if (test_score2>=0.9) and (abs(test_score2-train_score2)>=0.03):\n",
    "        deathcount += 1\n",
    "        if deathcount>10:\n",
    "            break"
   ],
   "metadata": {
    "collapsed": false,
    "ExecuteTime": {
     "end_time": "2024-03-04T11:39:03.507349900Z",
     "start_time": "2024-03-04T11:38:43.709168700Z"
    }
   },
   "id": "d3950af3f15c5aaf",
   "execution_count": 81
  },
  {
   "cell_type": "code",
   "outputs": [
    {
     "data": {
      "text/plain": "<Figure size 640x480 with 1 Axes>",
      "image/png": "[encoded data removed]"
     },
     "metadata": {},
     "output_type": "display_data"
    }
   ],
   "source": [
    "# 시각화\n",
    "plt.plot(train_score, 'b-',label='SGD_train')\n",
    "plt.plot(test_score, 'r-',label='SGD_test')\n",
    "plt.legend()\n",
    "plt.show()"
   ],
   "metadata": {
    "collapsed": false,
    "ExecuteTime": {
     "end_time": "2024-03-04T11:39:07.718940200Z",
     "start_time": "2024-03-04T11:39:07.618781500Z"
    }
   },
   "id": "1d0ce6e68a0a3b1c",
   "execution_count": 82
  },
  {
   "cell_type": "code",
   "outputs": [
    {
     "data": {
      "text/plain": "28"
     },
     "execution_count": 83,
     "metadata": {},
     "output_type": "execute_result"
    }
   ],
   "source": [
    "test_score.index(max(test_score))       "
   ],
   "metadata": {
    "collapsed": false,
    "ExecuteTime": {
     "end_time": "2024-03-04T11:40:23.285467Z",
     "start_time": "2024-03-04T11:40:23.263784200Z"
    }
   },
   "id": "d21f5bec3affbbde",
   "execution_count": 83
  },
  {
   "cell_type": "code",
   "outputs": [
    {
     "name": "stdout",
     "output_type": "stream",
     "text": [
      "[기본 SGD] 학습 점수 : 0.9732, 테스트 점수 : 0.9736571428571429\n",
      "[분류 정확도]=> accuracy score : 0.9736571428571429\n",
      "[분류 정밀도]=> precision score : 0.9626168224299065\n",
      "[분류 재현율]=> recall score : 0.7660183066361556\n",
      "[분류 f1 점수]=> f1 score : 0.8531379420197515\n"
     ]
    }
   ],
   "source": [
    "# 재학습\n",
    "model2 = SGDClassifier(random_state=17, loss='log_loss', n_iter_no_change=29)\n",
    "model2.partial_fit(X_train,y_train_2, y_train_2)\n",
    "train_score2 = model2.score(X_train,y_train_2)\n",
    "test_score2 = model2.score(X_test,y_test_2)\n",
    "print(f'[ SGD] 학습 점수 : {train_score2}, 테스트 점수 : {test_score2}')\n",
    "\n",
    "\n",
    "# 분류 정확도\n",
    "y_pre2 = model2.predict(X_test)\n",
    "ret2 = accuracy_score(y_test_2, y_pre2)\n",
    "print(f'[분류 정확도]=> accuracy score : {ret2}')\n",
    "\n",
    "# 정밀도\n",
    "from sklearn.metrics import precision_score\n",
    "pre_score2 = precision_score(y_test_2, y_pre2)\n",
    "print(f'[분류 정밀도]=> precision score : {pre_score2}')\n",
    "\n",
    "# 재현율\n",
    "from sklearn.metrics import recall_score\n",
    "re_score2 = recall_score(y_test_2, y_pre2)\n",
    "print(f'[분류 재현율]=> recall score : {re_score2}')\n",
    "\n",
    "# f1_score\n",
    "from sklearn.metrics import f1_score\n",
    "f1_score2 = f1_score(y_test_2, y_pre2)\n",
    "print(f'[분류 f1 점수]=> f1 score : {f1_score2}')"
   ],
   "metadata": {
    "collapsed": false,
    "ExecuteTime": {
     "end_time": "2024-03-04T11:44:38.279246100Z",
     "start_time": "2024-03-04T11:44:38.031315100Z"
    }
   },
   "id": "ddde8fe31c674656",
   "execution_count": 84
  },
  {
   "cell_type": "markdown",
   "source": [
    "partial_fit 로 정확도 소량감소, 정밀도 소량증가, 재현율,f1 점수 감소"
   ],
   "metadata": {
    "collapsed": false
   },
   "id": "9bcca87d8f171146"
  },
  {
   "cell_type": "code",
   "outputs": [],
   "source": [],
   "metadata": {
    "collapsed": false
   },
   "id": "b9f837be9cd840ed"
  },
  {
   "cell_type": "markdown",
   "source": [
    "[3-3] 회귀모델(LogisticRegression)"
   ],
   "metadata": {
    "collapsed": false
   },
   "id": "93082a64f3c1f8a"
  },
  {
   "cell_type": "code",
   "outputs": [
    {
     "name": "stderr",
     "output_type": "stream",
     "text": [
      "C:\\ProgramData\\anaconda3\\envs\\EXAM_ML\\lib\\site-packages\\sklearn\\linear_model\\_logistic.py:460: ConvergenceWarning: lbfgs failed to converge (status=1):\n",
      "STOP: TOTAL NO. of ITERATIONS REACHED LIMIT.\n",
      "\n",
      "Increase the number of iterations (max_iter) or scale the data as shown in:\n",
      "    https://scikit-learn.org/stable/modules/preprocessing.html\n",
      "Please also refer to the documentation for alternative solver options:\n",
      "    https://scikit-learn.org/stable/modules/linear_model.html#logistic-regression\n",
      "  n_iter_i = _check_optimize_result(\n"
     ]
    },
    {
     "data": {
      "text/plain": "LogisticRegression(max_iter=3000, random_state=17)",
      "text/html": "<style>#sk-container-id-9 {color: black;}#sk-container-id-9 pre{padding: 0;}#sk-container-id-9 div.sk-toggleable {background-color: white;}#sk-container-id-9 label.sk-toggleable__label {cursor: pointer;display: block;width: 100%;margin-bottom: 0;padding: 0.3em;box-sizing: border-box;text-align: center;}#sk-container-id-9 label.sk-toggleable__label-arrow:before {content: \"▸\";float: left;margin-right: 0.25em;color: #696969;}#sk-container-id-9 label.sk-toggleable__label-arrow:hover:before {color: black;}#sk-container-id-9 div.sk-estimator:hover label.sk-toggleable__label-arrow:before {color: black;}#sk-container-id-9 div.sk-toggleable__content {max-height: 0;max-width: 0;overflow: hidden;text-align: left;background-color: #f0f8ff;}#sk-container-id-9 div.sk-toggleable__content pre {margin: 0.2em;color: black;border-radius: 0.25em;background-color: #f0f8ff;}#sk-container-id-9 input.sk-toggleable__control:checked~div.sk-toggleable__content {max-height: 200px;max-width: 100%;overflow: auto;}#sk-container-id-9 input.sk-toggleable__control:checked~label.sk-toggleable__label-arrow:before {content: \"▾\";}#sk-container-id-9 div.sk-estimator input.sk-toggleable__control:checked~label.sk-toggleable__label {background-color: #d4ebff;}#sk-container-id-9 div.sk-label input.sk-toggleable__control:checked~label.sk-toggleable__label {background-color: #d4ebff;}#sk-container-id-9 input.sk-hidden--visually {border: 0;clip: rect(1px 1px 1px 1px);clip: rect(1px, 1px, 1px, 1px);height: 1px;margin: -1px;overflow: hidden;padding: 0;position: absolute;width: 1px;}#sk-container-id-9 div.sk-estimator {font-family: monospace;background-color: #f0f8ff;border: 1px dotted black;border-radius: 0.25em;box-sizing: border-box;margin-bottom: 0.5em;}#sk-container-id-9 div.sk-estimator:hover {background-color: #d4ebff;}#sk-container-id-9 div.sk-parallel-item::after {content: \"\";width: 100%;border-bottom: 1px solid gray;flex-grow: 1;}#sk-container-id-9 div.sk-label:hover label.sk-toggleable__label {background-color: #d4ebff;}#sk-container-id-9 div.sk-serial::before {content: \"\";position: absolute;border-left: 1px solid gray;box-sizing: border-box;top: 0;bottom: 0;left: 50%;z-index: 0;}#sk-container-id-9 div.sk-serial {display: flex;flex-direction: column;align-items: center;background-color: white;padding-right: 0.2em;padding-left: 0.2em;position: relative;}#sk-container-id-9 div.sk-item {position: relative;z-index: 1;}#sk-container-id-9 div.sk-parallel {display: flex;align-items: stretch;justify-content: center;background-color: white;position: relative;}#sk-container-id-9 div.sk-item::before, #sk-container-id-9 div.sk-parallel-item::before {content: \"\";position: absolute;border-left: 1px solid gray;box-sizing: border-box;top: 0;bottom: 0;left: 50%;z-index: -1;}#sk-container-id-9 div.sk-parallel-item {display: flex;flex-direction: column;z-index: 1;position: relative;background-color: white;}#sk-container-id-9 div.sk-parallel-item:first-child::after {align-self: flex-end;width: 50%;}#sk-container-id-9 div.sk-parallel-item:last-child::after {align-self: flex-start;width: 50%;}#sk-container-id-9 div.sk-parallel-item:only-child::after {width: 0;}#sk-container-id-9 div.sk-dashed-wrapped {border: 1px dashed gray;margin: 0 0.4em 0.5em 0.4em;box-sizing: border-box;padding-bottom: 0.4em;background-color: white;}#sk-container-id-9 div.sk-label label {font-family: monospace;font-weight: bold;display: inline-block;line-height: 1.2em;}#sk-container-id-9 div.sk-label-container {text-align: center;}#sk-container-id-9 div.sk-container {/* jupyter's `normalize.less` sets `[hidden] { display: none; }` but bootstrap.min.css set `[hidden] { display: none !important; }` so we also need the `!important` here to be able to override the default hidden behavior on the sphinx rendered scikit-learn.org. See: https://github.com/scikit-learn/scikit-learn/issues/21755 */display: inline-block !important;position: relative;}#sk-container-id-9 div.sk-text-repr-fallback {display: none;}</style><div id=\"sk-container-id-9\" class=\"sk-top-container\"><div class=\"sk-text-repr-fallback\"><pre>LogisticRegression(max_iter=3000, random_state=17)</pre><b>In a Jupyter environment, please rerun this cell to show the HTML representation or trust the notebook. <br />On GitHub, the HTML representation is unable to render, please try loading this page with nbviewer.org.</b></div><div class=\"sk-container\" hidden><div class=\"sk-item\"><div class=\"sk-estimator sk-toggleable\"><input class=\"sk-toggleable__control sk-hidden--visually\" id=\"sk-estimator-id-9\" type=\"checkbox\" checked><label for=\"sk-estimator-id-9\" class=\"sk-toggleable__label sk-toggleable__label-arrow\">LogisticRegression</label><div class=\"sk-toggleable__content\"><pre>LogisticRegression(max_iter=3000, random_state=17)</pre></div></div></div></div></div>"
     },
     "execution_count": 86,
     "metadata": {},
     "output_type": "execute_result"
    }
   ],
   "source": [
    "# 모델 인스턴스형성(3) - LogisticRegression\n",
    "from sklearn.linear_model import LogisticRegression\n",
    "# 마찬가지로 X와 2만 분류하는 y 학습\n",
    "model3 = LogisticRegression(random_state=17, max_iter=3000)\n",
    "model3.fit(X_train,y_train_2)"
   ],
   "metadata": {
    "collapsed": false,
    "ExecuteTime": {
     "end_time": "2024-03-04T11:49:37.127489800Z",
     "start_time": "2024-03-04T11:48:38.399419900Z"
    }
   },
   "id": "ff2e006c7d1ebcc4",
   "execution_count": 86
  },
  {
   "cell_type": "code",
   "outputs": [
    {
     "data": {
      "text/plain": "0.9831047619047619"
     },
     "execution_count": 87,
     "metadata": {},
     "output_type": "execute_result"
    }
   ],
   "source": [
    "# LogisticRegression 평가\n",
    "model3.score(X_train, y_train_2)  "
   ],
   "metadata": {
    "collapsed": false,
    "ExecuteTime": {
     "end_time": "2024-03-04T11:49:50.510444500Z",
     "start_time": "2024-03-04T11:49:50.434775500Z"
    }
   },
   "id": "bfa3813096b9eb6b",
   "execution_count": 87
  },
  {
   "cell_type": "code",
   "outputs": [
    {
     "name": "stdout",
     "output_type": "stream",
     "text": [
      "[학습점수] : 0.9831047619047619\n",
      "[테스트점수] : 0.9790285714285715\n"
     ]
    }
   ],
   "source": [
    "# LogisticRegression 평가\n",
    "print(f'[학습점수] : {model3.score(X_train, y_train_2)}')\n",
    "print(f'[테스트점수] : {model3.score(X_test, y_test_2)}')"
   ],
   "metadata": {
    "collapsed": false,
    "ExecuteTime": {
     "end_time": "2024-03-04T11:49:51.895526300Z",
     "start_time": "2024-03-04T11:49:51.783526400Z"
    }
   },
   "id": "e53eb3f9c590089a",
   "execution_count": 88
  },
  {
   "cell_type": "markdown",
   "source": [
    "[3-4] 회귀모델 평가"
   ],
   "metadata": {
    "collapsed": false
   },
   "id": "f1016464713eb100"
  },
  {
   "cell_type": "code",
   "outputs": [],
   "source": [
    "y_pre3 = model3.predict(X_test)"
   ],
   "metadata": {
    "collapsed": false,
    "ExecuteTime": {
     "end_time": "2024-03-04T11:53:17.477097100Z",
     "start_time": "2024-03-04T11:53:17.424525300Z"
    }
   },
   "id": "d565923f41f925dc",
   "execution_count": 89
  },
  {
   "cell_type": "code",
   "outputs": [
    {
     "name": "stdout",
     "output_type": "stream",
     "text": [
      "[분류 정확도]=> accuracy score : 0.9790285714285715\n",
      "[분류 정밀도]=> precision score : 0.9192471159684275\n",
      "[분류 재현율]=> recall score : 0.8661327231121282\n",
      "[분류 f1 점수]=> f1 score : 0.891899852724595\n"
     ]
    }
   ],
   "source": [
    "# 분류 정확도\n",
    "ret3 = accuracy_score(y_test_2, y_pre3)\n",
    "print(f'[분류 정확도]=> accuracy score : {ret3}')\n",
    "\n",
    "# 정밀도\n",
    "pre_score3 = precision_score(y_test_2, y_pre3)\n",
    "print(f'[분류 정밀도]=> precision score : {pre_score3}')\n",
    "\n",
    "# 재현율\n",
    "re_score3 = recall_score(y_test_2, y_pre3)\n",
    "print(f'[분류 재현율]=> recall score : {re_score3}')\n",
    "\n",
    "# f1_score\n",
    "f1_score3 = f1_score(y_test_2, y_pre3)\n",
    "print(f'[분류 f1 점수]=> f1 score : {f1_score3}')"
   ],
   "metadata": {
    "collapsed": false,
    "ExecuteTime": {
     "end_time": "2024-03-04T12:02:48.318311Z",
     "start_time": "2024-03-04T12:02:48.288310600Z"
    }
   },
   "id": "ae494defb542e89b",
   "execution_count": 91
  },
  {
   "cell_type": "markdown",
   "source": [
    "[4] 검증"
   ],
   "metadata": {
    "collapsed": false
   },
   "id": "f3f2194c6c8fd3f3"
  },
  {
   "cell_type": "code",
   "outputs": [
    {
     "name": "stdout",
     "output_type": "stream",
     "text": [
      "model1 결과 : [False]\n",
      "model2 결과 : [False]\n",
      "model3 결과 : [False]\n"
     ]
    }
   ],
   "source": [
    "\n",
    "from PIL import Image\n",
    "\n",
    "# 파일을 열어 L(256단계 흑백이미지)로 변환\n",
    "img = Image.open(f'../data/hard2.png').convert('L')\n",
    "\n",
    "# 이미지를 784개 흑백 픽셀 사이즈반환\n",
    "img = np.resize(img, (1,784))\n",
    "\n",
    "test_data = 255-img\n",
    "test_data\n",
    "\n",
    "result1 = model1.predict(test_data)\n",
    "result2 = model2.predict(test_data)\n",
    "result3 = model3.predict(test_data)\n",
    "print(f'model1 결과 : {result1}')\n",
    "print(f'model2 결과 : {result2}')\n",
    "print(f'model3 결과 : {result3}')"
   ],
   "metadata": {
    "collapsed": false,
    "ExecuteTime": {
     "end_time": "2024-03-04T12:19:38.625176400Z",
     "start_time": "2024-03-04T12:19:38.611178400Z"
    }
   },
   "id": "765b9458a401407c",
   "execution_count": 96
  },
  {
   "cell_type": "code",
   "outputs": [
    {
     "name": "stdout",
     "output_type": "stream",
     "text": [
      "0번 그림 --------------\n"
     ]
    },
    {
     "data": {
      "text/plain": "<Figure size 640x480 with 1 Axes>",
      "image/png": "[encoded data removed]"
     },
     "metadata": {},
     "output_type": "display_data"
    },
    {
     "name": "stdout",
     "output_type": "stream",
     "text": [
      "SGD fit         결과 : [False]\n",
      "SGD partial_fit 결과 : [False]\n",
      "LogisticRegress 결과 : [False]\n",
      "1번 그림 --------------\n"
     ]
    },
    {
     "data": {
      "text/plain": "<Figure size 640x480 with 1 Axes>",
      "image/png": "[encoded data removed]"
     },
     "metadata": {},
     "output_type": "display_data"
    },
    {
     "name": "stdout",
     "output_type": "stream",
     "text": [
      "SGD fit         결과 : [ True]\n",
      "SGD partial_fit 결과 : [ True]\n",
      "LogisticRegress 결과 : [ True]\n",
      "2번 그림 --------------\n"
     ]
    },
    {
     "data": {
      "text/plain": "<Figure size 640x480 with 1 Axes>",
      "image/png": "[encoded data removed]"
     },
     "metadata": {},
     "output_type": "display_data"
    },
    {
     "name": "stdout",
     "output_type": "stream",
     "text": [
      "SGD fit         결과 : [False]\n",
      "SGD partial_fit 결과 : [False]\n",
      "LogisticRegress 결과 : [False]\n",
      "3번 그림 --------------\n"
     ]
    },
    {
     "data": {
      "text/plain": "<Figure size 640x480 with 1 Axes>",
      "image/png": "[encoded data removed]"
     },
     "metadata": {},
     "output_type": "display_data"
    },
    {
     "name": "stdout",
     "output_type": "stream",
     "text": [
      "SGD fit         결과 : [False]\n",
      "SGD partial_fit 결과 : [ True]\n",
      "LogisticRegress 결과 : [False]\n",
      "4번 그림 --------------\n"
     ]
    },
    {
     "data": {
      "text/plain": "<Figure size 640x480 with 1 Axes>",
      "image/png": "[encoded data removed]"
     },
     "metadata": {},
     "output_type": "display_data"
    },
    {
     "name": "stdout",
     "output_type": "stream",
     "text": [
      "SGD fit         결과 : [ True]\n",
      "SGD partial_fit 결과 : [ True]\n",
      "LogisticRegress 결과 : [ True]\n",
      "5번 그림 --------------\n"
     ]
    },
    {
     "data": {
      "text/plain": "<Figure size 640x480 with 1 Axes>",
      "image/png": "[encoded data removed]"
     },
     "metadata": {},
     "output_type": "display_data"
    },
    {
     "name": "stdout",
     "output_type": "stream",
     "text": [
      "SGD fit         결과 : [ True]\n",
      "SGD partial_fit 결과 : [ True]\n",
      "LogisticRegress 결과 : [ True]\n",
      "6번 그림 --------------\n"
     ]
    },
    {
     "data": {
      "text/plain": "<Figure size 640x480 with 1 Axes>",
      "image/png": "[encoded data removed]"
     },
     "metadata": {},
     "output_type": "display_data"
    },
    {
     "name": "stdout",
     "output_type": "stream",
     "text": [
      "SGD fit         결과 : [False]\n",
      "SGD partial_fit 결과 : [False]\n",
      "LogisticRegress 결과 : [False]\n",
      "7번 그림 --------------\n"
     ]
    },
    {
     "data": {
      "text/plain": "<Figure size 640x480 with 1 Axes>",
      "image/png": "[encoded data removed]"
     },
     "metadata": {},
     "output_type": "display_data"
    },
    {
     "name": "stdout",
     "output_type": "stream",
     "text": [
      "SGD fit         결과 : [ True]\n",
      "SGD partial_fit 결과 : [ True]\n",
      "LogisticRegress 결과 : [ True]\n",
      "8번 그림 --------------\n"
     ]
    },
    {
     "data": {
      "text/plain": "<Figure size 640x480 with 1 Axes>",
      "image/png": "[encoded data removed]"
     },
     "metadata": {},
     "output_type": "display_data"
    },
    {
     "name": "stdout",
     "output_type": "stream",
     "text": [
      "SGD fit         결과 : [ True]\n",
      "SGD partial_fit 결과 : [ True]\n",
      "LogisticRegress 결과 : [False]\n",
      "9번 그림 --------------\n"
     ]
    },
    {
     "data": {
      "text/plain": "<Figure size 640x480 with 1 Axes>",
      "image/png": "[encoded data removed]"
     },
     "metadata": {},
     "output_type": "display_data"
    },
    {
     "name": "stdout",
     "output_type": "stream",
     "text": [
      "SGD fit         결과 : [ True]\n",
      "SGD partial_fit 결과 : [ True]\n",
      "LogisticRegress 결과 : [False]\n"
     ]
    }
   ],
   "source": [
    "# for 문 돌려서 될때 까지 그려보자\n",
    "model1_list, model2_list, model3_list = [],[],[]\n",
    "for n in range(10):\n",
    "    img = Image.open(f'../data/hard{n}.png').convert('L')\n",
    "    img = np.resize(img, (1,784))\n",
    "    test_data = 255-img\n",
    "    result1 = model1.predict(test_data)\n",
    "    result2 = model2.predict(test_data)\n",
    "    result3 = model3.predict(test_data)\n",
    "    model1_list.append(result1)\n",
    "    model2_list.append(result2)\n",
    "    model3_list.append(result3)\n",
    "    print(f'{n}번 그림 --------------')\n",
    "    plot_digit(test_data)\n",
    "    print(f'SGD fit         결과 : {result1}')\n",
    "    print(f'SGD partial_fit 결과 : {result2}')\n",
    "    print(f'LogisticRegress 결과 : {result3}')"
   ],
   "metadata": {
    "collapsed": false,
    "ExecuteTime": {
     "end_time": "2024-03-04T13:03:34.411492900Z",
     "start_time": "2024-03-04T13:03:34.093903800Z"
    }
   },
   "id": "3666f0b16deba0d3",
   "execution_count": 110
  },
  {
   "cell_type": "code",
   "outputs": [
    {
     "name": "stdout",
     "output_type": "stream",
     "text": [
      "SGD fit     모델 점수 : [0.6]\n",
      "SGD partial 모델 점수 : [0.7]\n",
      "LogisticReg 모델 점수 : [0.4]\n"
     ]
    }
   ],
   "source": [
    "print(f'SGD fit     모델 점수 : {sum(model1_list)/len(model1_list)}')\n",
    "print(f'SGD partial 모델 점수 : {sum(model2_list)/len(model2_list)}')\n",
    "print(f'LogisticReg 모델 점수 : {sum(model3_list)/len(model3_list)}')"
   ],
   "metadata": {
    "collapsed": false,
    "ExecuteTime": {
     "end_time": "2024-03-04T12:32:11.461547200Z",
     "start_time": "2024-03-04T12:32:11.438400Z"
    }
   },
   "id": "dce91478d6da5868",
   "execution_count": 102
  },
  {
   "cell_type": "markdown",
   "source": [
    "결론 : 내 글씨체로는 SGD partial과 가장 잘 맞다"
   ],
   "metadata": {
    "collapsed": false
   },
   "id": "f4804bb8f35e91e7"
  },
  {
   "cell_type": "code",
   "outputs": [
    {
     "data": {
      "text/plain": "<Figure size 640x480 with 1 Axes>",
      "image/png": "[encoded data removed]"
     },
     "metadata": {},
     "output_type": "display_data"
    },
    {
     "name": "stdout",
     "output_type": "stream",
     "text": [
      "SGD fit     결과 : [False]\n",
      "SGD partial 결과 : [ True]\n",
      "Logistic    결과 : [False]\n"
     ]
    }
   ],
   "source": [
    "\n",
    "\n",
    "# 파일을 열어 L(256단계 흑백이미지)로 변환\n",
    "img = Image.open(f'../data/test1.png').convert('L')\n",
    "\n",
    "# 이미지를 784개 흑백 픽셀 사이즈반환\n",
    "img = np.resize(img, (1,784))\n",
    "\n",
    "test_data = 255-img\n",
    "test_data\n",
    "\n",
    "result1 = model1.predict(test_data)\n",
    "result2 = model2.predict(test_data)\n",
    "result3 = model3.predict(test_data)\n",
    "plot_digit(test_data)\n",
    "print(f'SGD fit     결과 : {result1}')\n",
    "print(f'SGD partial 결과 : {result2}')\n",
    "print(f'Logistic    결과 : {result3}')"
   ],
   "metadata": {
    "collapsed": false,
    "ExecuteTime": {
     "end_time": "2024-03-05T03:30:30.751016600Z",
     "start_time": "2024-03-05T03:30:30.690073700Z"
    }
   },
   "id": "77488a3160198f74",
   "execution_count": 124
  },
  {
   "cell_type": "code",
   "outputs": [
    {
     "name": "stdout",
     "output_type": "stream",
     "text": [
      "1번 그림 --------------\n"
     ]
    },
    {
     "data": {
      "text/plain": "<Figure size 640x480 with 1 Axes>",
      "image/png": "[encoded data removed]"
     },
     "metadata": {},
     "output_type": "display_data"
    },
    {
     "name": "stdout",
     "output_type": "stream",
     "text": [
      "SGD fit         결과 : [False]\n",
      "SGD partial_fit 결과 : [False]\n",
      "LogisticRegress 결과 : [False]\n",
      "2번 그림 --------------\n"
     ]
    },
    {
     "data": {
      "text/plain": "<Figure size 640x480 with 1 Axes>",
      "image/png": "[encoded data removed]"
     },
     "metadata": {},
     "output_type": "display_data"
    },
    {
     "name": "stdout",
     "output_type": "stream",
     "text": [
      "SGD fit         결과 : [False]\n",
      "SGD partial_fit 결과 : [False]\n",
      "LogisticRegress 결과 : [False]\n",
      "3번 그림 --------------\n"
     ]
    },
    {
     "data": {
      "text/plain": "<Figure size 640x480 with 1 Axes>",
      "image/png": "[encoded data removed]"
     },
     "metadata": {},
     "output_type": "display_data"
    },
    {
     "name": "stdout",
     "output_type": "stream",
     "text": [
      "SGD fit         결과 : [False]\n",
      "SGD partial_fit 결과 : [False]\n",
      "LogisticRegress 결과 : [False]\n",
      "4번 그림 --------------\n"
     ]
    },
    {
     "data": {
      "text/plain": "<Figure size 640x480 with 1 Axes>",
      "image/png": "[encoded data removed]"
     },
     "metadata": {},
     "output_type": "display_data"
    },
    {
     "name": "stdout",
     "output_type": "stream",
     "text": [
      "SGD fit         결과 : [False]\n",
      "SGD partial_fit 결과 : [False]\n",
      "LogisticRegress 결과 : [False]\n",
      "5번 그림 --------------\n"
     ]
    },
    {
     "data": {
      "text/plain": "<Figure size 640x480 with 1 Axes>",
      "image/png": "[encoded data removed]"
     },
     "metadata": {},
     "output_type": "display_data"
    },
    {
     "name": "stdout",
     "output_type": "stream",
     "text": [
      "SGD fit         결과 : [False]\n",
      "SGD partial_fit 결과 : [False]\n",
      "LogisticRegress 결과 : [False]\n",
      "6번 그림 --------------\n"
     ]
    },
    {
     "data": {
      "text/plain": "<Figure size 640x480 with 1 Axes>",
      "image/png": "[encoded data removed]"
     },
     "metadata": {},
     "output_type": "display_data"
    },
    {
     "name": "stdout",
     "output_type": "stream",
     "text": [
      "SGD fit         결과 : [False]\n",
      "SGD partial_fit 결과 : [False]\n",
      "LogisticRegress 결과 : [False]\n",
      "7번 그림 --------------\n"
     ]
    },
    {
     "data": {
      "text/plain": "<Figure size 640x480 with 1 Axes>",
      "image/png": "[encoded data removed]"
     },
     "metadata": {},
     "output_type": "display_data"
    },
    {
     "name": "stdout",
     "output_type": "stream",
     "text": [
      "SGD fit         결과 : [False]\n",
      "SGD partial_fit 결과 : [False]\n",
      "LogisticRegress 결과 : [False]\n"
     ]
    }
   ],
   "source": [
    "# for 문 돌려서 될때 까지 그려보자\n",
    "model1_list, model2_list, model3_list = [],[],[]\n",
    "for n in range(1,8):\n",
    "    img = Image.open(f'../data/no{n}.png').convert('L')\n",
    "    img = np.resize(img, (1,784))\n",
    "    test_data = 255-img\n",
    "    result1 = model1.predict(test_data)\n",
    "    result2 = model2.predict(test_data)\n",
    "    result3 = model3.predict(test_data)\n",
    "    model1_list.append(result1)\n",
    "    model2_list.append(result2)\n",
    "    model3_list.append(result3)\n",
    "    print(f'{n}번 그림 --------------')\n",
    "    plot_digit(test_data)\n",
    "    print(f'SGD fit         결과 : {result1}')\n",
    "    print(f'SGD partial_fit 결과 : {result2}')\n",
    "    print(f'LogisticRegress 결과 : {result3}')"
   ],
   "metadata": {
    "collapsed": false,
    "ExecuteTime": {
     "end_time": "2024-03-05T05:15:52.123914Z",
     "start_time": "2024-03-05T05:15:51.826013400Z"
    }
   },
   "id": "f6b7394ed2a5bb8f",
   "execution_count": 125
  },
  {
   "cell_type": "code",
   "outputs": [],
   "source": [],
   "metadata": {
    "collapsed": false
   },
   "id": "6da0e80671529118"
  }
 ],
 "metadata": {
  "kernelspec": {
   "display_name": "Python 3",
   "language": "python",
   "name": "python3"
  },
  "language_info": {
   "codemirror_mode": {
    "name": "ipython",
    "version": 2
   },
   "file_extension": ".py",
   "mimetype": "text/x-python",
   "name": "python",
   "nbconvert_exporter": "python",
   "pygments_lexer": "ipython2",
   "version": "2.7.6"
  }
 },
 "nbformat": 4,
 "nbformat_minor": 5
}
