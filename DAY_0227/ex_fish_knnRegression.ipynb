{
 "cells": [
  {
   "cell_type": "markdown",
   "source": [
    "### 목표 : 무게에 따른 길이를 예측해주는 모델\n",
    "- 데이터 : fish.csv\n",
    "- 피쳐/특성 : 무게\n",
    "- 라벨/타겟 : 길이\n",
    "- 학습방법 : 지도학습+예측 =>> KNN기반의 회귀\n",
    "- 학습/테스트 데이터  7: 3으로 준비"
   ],
   "metadata": {
    "collapsed": false
   },
   "id": "4e3f5f875a7fa389"
  },
  {
   "cell_type": "code",
   "outputs": [],
   "source": [
    "import pandas as pd\n",
    "import matplotlib.pyplot as plt\n",
    "import seaborn as sns\n",
    "from sklearn.neighbors import KNeighborsRegressor\n",
    "from sklearn.preprocessing import StandardScaler, MinMaxScaler\n",
    "from sklearn.linear_model import LinearRegression\n",
    "import numpy as np\n"
   ],
   "metadata": {
    "collapsed": false,
    "ExecuteTime": {
     "end_time": "2024-02-27T06:54:14.426529Z",
     "start_time": "2024-02-27T06:54:14.292575900Z"
    }
   },
   "id": "e07145db9ae55dac",
   "execution_count": 416
  },
  {
   "cell_type": "code",
   "outputs": [],
   "source": [
    "data_file = '../data/fish.csv'"
   ],
   "metadata": {
    "collapsed": false,
    "ExecuteTime": {
     "end_time": "2024-02-27T06:54:14.461004900Z",
     "start_time": "2024-02-27T06:54:14.403805900Z"
    }
   },
   "id": "529108cdf0ad6ecd",
   "execution_count": 417
  },
  {
   "cell_type": "code",
   "outputs": [
    {
     "name": "stdout",
     "output_type": "stream",
     "text": [
      "<class 'pandas.core.frame.DataFrame'>\n",
      "RangeIndex: 159 entries, 0 to 158\n",
      "Data columns (total 3 columns):\n",
      " #   Column   Non-Null Count  Dtype  \n",
      "---  ------   --------------  -----  \n",
      " 0   Species  159 non-null    object \n",
      " 1   Weight   159 non-null    float64\n",
      " 2   Length   159 non-null    float64\n",
      "dtypes: float64(2), object(1)\n",
      "memory usage: 3.9+ KB\n"
     ]
    }
   ],
   "source": [
    "# 데이터 준비\n",
    "fishDF = pd.read_csv(data_file, usecols=[0,1,2])\n",
    "fishDF.info()"
   ],
   "metadata": {
    "collapsed": false,
    "ExecuteTime": {
     "end_time": "2024-02-27T06:54:14.488502900Z",
     "start_time": "2024-02-27T06:54:14.465489600Z"
    }
   },
   "id": "ec20aca5ea1f66ca",
   "execution_count": 418
  },
  {
   "cell_type": "code",
   "outputs": [],
   "source": [
    "# 학습에 사용할 데이터 추출 => Perch 행만 추출\n",
    "perchDF = fishDF[fishDF.Species == 'Perch']\n",
    "\n",
    "# 인덱스 정리\n",
    "perchDF.reset_index(drop=True, inplace=True)"
   ],
   "metadata": {
    "collapsed": false,
    "ExecuteTime": {
     "end_time": "2024-02-27T06:54:14.539604800Z",
     "start_time": "2024-02-27T06:54:14.491493700Z"
    }
   },
   "id": "6bcf0c13200c06e1",
   "execution_count": 419
  },
  {
   "cell_type": "code",
   "outputs": [
    {
     "name": "stdout",
     "output_type": "stream",
     "text": [
      "<class 'pandas.core.frame.DataFrame'>\n",
      "RangeIndex: 56 entries, 0 to 55\n",
      "Data columns (total 3 columns):\n",
      " #   Column   Non-Null Count  Dtype  \n",
      "---  ------   --------------  -----  \n",
      " 0   Species  56 non-null     object \n",
      " 1   Weight   56 non-null     float64\n",
      " 2   Length   56 non-null     float64\n",
      "dtypes: float64(2), object(1)\n",
      "memory usage: 1.4+ KB\n"
     ]
    }
   ],
   "source": [
    "# 추출된 데이터 기본 정보 확인\n",
    "perchDF.info()"
   ],
   "metadata": {
    "collapsed": false,
    "ExecuteTime": {
     "end_time": "2024-02-27T06:54:14.575832900Z",
     "start_time": "2024-02-27T06:54:14.511493400Z"
    }
   },
   "id": "9bffbfdb3212086a",
   "execution_count": 420
  },
  {
   "cell_type": "code",
   "outputs": [
    {
     "data": {
      "text/plain": "   Species  Weight  Length\n0    Perch     5.9     8.4\n1    Perch    32.0    13.7\n2    Perch    40.0    15.0\n3    Perch    51.5    16.2\n4    Perch    70.0    17.4\n5    Perch   100.0    18.0\n6    Perch    78.0    18.7\n7    Perch    80.0    19.0\n8    Perch    85.0    19.6\n9    Perch    85.0    20.0\n10   Perch   110.0    21.0\n11   Perch   115.0    21.0\n12   Perch   125.0    21.0\n13   Perch   130.0    21.3\n14   Perch   120.0    22.0\n15   Perch   120.0    22.0\n16   Perch   130.0    22.0\n17   Perch   135.0    22.0\n18   Perch   110.0    22.0\n19   Perch   130.0    22.5\n20   Perch   150.0    22.5\n21   Perch   145.0    22.7\n22   Perch   150.0    23.0\n23   Perch   170.0    23.5\n24   Perch   225.0    24.0\n25   Perch   145.0    24.0\n26   Perch   188.0    24.6\n27   Perch   180.0    25.0\n28   Perch   197.0    25.6\n29   Perch   218.0    26.5\n30   Perch   300.0    27.3\n31   Perch   260.0    27.5\n32   Perch   265.0    27.5\n33   Perch   250.0    27.5\n34   Perch   250.0    28.0\n35   Perch   300.0    28.7\n36   Perch   320.0    30.0\n37   Perch   514.0    32.8\n38   Perch   556.0    34.5\n39   Perch   840.0    35.0\n40   Perch   685.0    36.5\n41   Perch   700.0    36.0\n42   Perch   700.0    37.0\n43   Perch   690.0    37.0\n44   Perch   900.0    39.0\n45   Perch   650.0    39.0\n46   Perch   820.0    39.0\n47   Perch   850.0    40.0\n48   Perch   900.0    40.0\n49   Perch  1015.0    40.0\n50   Perch   820.0    40.0\n51   Perch  1100.0    42.0\n52   Perch  1000.0    43.0\n53   Perch  1100.0    43.0\n54   Perch  1000.0    43.5\n55   Perch  1000.0    44.0",
      "text/html": "<div>\n<style scoped>\n    .dataframe tbody tr th:only-of-type {\n        vertical-align: middle;\n    }\n\n    .dataframe tbody tr th {\n        vertical-align: top;\n    }\n\n    .dataframe thead th {\n        text-align: right;\n    }\n</style>\n<table border=\"1\" class=\"dataframe\">\n  <thead>\n    <tr style=\"text-align: right;\">\n      <th></th>\n      <th>Species</th>\n      <th>Weight</th>\n      <th>Length</th>\n    </tr>\n  </thead>\n  <tbody>\n    <tr>\n      <th>0</th>\n      <td>Perch</td>\n      <td>5.9</td>\n      <td>8.4</td>\n    </tr>\n    <tr>\n      <th>1</th>\n      <td>Perch</td>\n      <td>32.0</td>\n      <td>13.7</td>\n    </tr>\n    <tr>\n      <th>2</th>\n      <td>Perch</td>\n      <td>40.0</td>\n      <td>15.0</td>\n    </tr>\n    <tr>\n      <th>3</th>\n      <td>Perch</td>\n      <td>51.5</td>\n      <td>16.2</td>\n    </tr>\n    <tr>\n      <th>4</th>\n      <td>Perch</td>\n      <td>70.0</td>\n      <td>17.4</td>\n    </tr>\n    <tr>\n      <th>5</th>\n      <td>Perch</td>\n      <td>100.0</td>\n      <td>18.0</td>\n    </tr>\n    <tr>\n      <th>6</th>\n      <td>Perch</td>\n      <td>78.0</td>\n      <td>18.7</td>\n    </tr>\n    <tr>\n      <th>7</th>\n      <td>Perch</td>\n      <td>80.0</td>\n      <td>19.0</td>\n    </tr>\n    <tr>\n      <th>8</th>\n      <td>Perch</td>\n      <td>85.0</td>\n      <td>19.6</td>\n    </tr>\n    <tr>\n      <th>9</th>\n      <td>Perch</td>\n      <td>85.0</td>\n      <td>20.0</td>\n    </tr>\n    <tr>\n      <th>10</th>\n      <td>Perch</td>\n      <td>110.0</td>\n      <td>21.0</td>\n    </tr>\n    <tr>\n      <th>11</th>\n      <td>Perch</td>\n      <td>115.0</td>\n      <td>21.0</td>\n    </tr>\n    <tr>\n      <th>12</th>\n      <td>Perch</td>\n      <td>125.0</td>\n      <td>21.0</td>\n    </tr>\n    <tr>\n      <th>13</th>\n      <td>Perch</td>\n      <td>130.0</td>\n      <td>21.3</td>\n    </tr>\n    <tr>\n      <th>14</th>\n      <td>Perch</td>\n      <td>120.0</td>\n      <td>22.0</td>\n    </tr>\n    <tr>\n      <th>15</th>\n      <td>Perch</td>\n      <td>120.0</td>\n      <td>22.0</td>\n    </tr>\n    <tr>\n      <th>16</th>\n      <td>Perch</td>\n      <td>130.0</td>\n      <td>22.0</td>\n    </tr>\n    <tr>\n      <th>17</th>\n      <td>Perch</td>\n      <td>135.0</td>\n      <td>22.0</td>\n    </tr>\n    <tr>\n      <th>18</th>\n      <td>Perch</td>\n      <td>110.0</td>\n      <td>22.0</td>\n    </tr>\n    <tr>\n      <th>19</th>\n      <td>Perch</td>\n      <td>130.0</td>\n      <td>22.5</td>\n    </tr>\n    <tr>\n      <th>20</th>\n      <td>Perch</td>\n      <td>150.0</td>\n      <td>22.5</td>\n    </tr>\n    <tr>\n      <th>21</th>\n      <td>Perch</td>\n      <td>145.0</td>\n      <td>22.7</td>\n    </tr>\n    <tr>\n      <th>22</th>\n      <td>Perch</td>\n      <td>150.0</td>\n      <td>23.0</td>\n    </tr>\n    <tr>\n      <th>23</th>\n      <td>Perch</td>\n      <td>170.0</td>\n      <td>23.5</td>\n    </tr>\n    <tr>\n      <th>24</th>\n      <td>Perch</td>\n      <td>225.0</td>\n      <td>24.0</td>\n    </tr>\n    <tr>\n      <th>25</th>\n      <td>Perch</td>\n      <td>145.0</td>\n      <td>24.0</td>\n    </tr>\n    <tr>\n      <th>26</th>\n      <td>Perch</td>\n      <td>188.0</td>\n      <td>24.6</td>\n    </tr>\n    <tr>\n      <th>27</th>\n      <td>Perch</td>\n      <td>180.0</td>\n      <td>25.0</td>\n    </tr>\n    <tr>\n      <th>28</th>\n      <td>Perch</td>\n      <td>197.0</td>\n      <td>25.6</td>\n    </tr>\n    <tr>\n      <th>29</th>\n      <td>Perch</td>\n      <td>218.0</td>\n      <td>26.5</td>\n    </tr>\n    <tr>\n      <th>30</th>\n      <td>Perch</td>\n      <td>300.0</td>\n      <td>27.3</td>\n    </tr>\n    <tr>\n      <th>31</th>\n      <td>Perch</td>\n      <td>260.0</td>\n      <td>27.5</td>\n    </tr>\n    <tr>\n      <th>32</th>\n      <td>Perch</td>\n      <td>265.0</td>\n      <td>27.5</td>\n    </tr>\n    <tr>\n      <th>33</th>\n      <td>Perch</td>\n      <td>250.0</td>\n      <td>27.5</td>\n    </tr>\n    <tr>\n      <th>34</th>\n      <td>Perch</td>\n      <td>250.0</td>\n      <td>28.0</td>\n    </tr>\n    <tr>\n      <th>35</th>\n      <td>Perch</td>\n      <td>300.0</td>\n      <td>28.7</td>\n    </tr>\n    <tr>\n      <th>36</th>\n      <td>Perch</td>\n      <td>320.0</td>\n      <td>30.0</td>\n    </tr>\n    <tr>\n      <th>37</th>\n      <td>Perch</td>\n      <td>514.0</td>\n      <td>32.8</td>\n    </tr>\n    <tr>\n      <th>38</th>\n      <td>Perch</td>\n      <td>556.0</td>\n      <td>34.5</td>\n    </tr>\n    <tr>\n      <th>39</th>\n      <td>Perch</td>\n      <td>840.0</td>\n      <td>35.0</td>\n    </tr>\n    <tr>\n      <th>40</th>\n      <td>Perch</td>\n      <td>685.0</td>\n      <td>36.5</td>\n    </tr>\n    <tr>\n      <th>41</th>\n      <td>Perch</td>\n      <td>700.0</td>\n      <td>36.0</td>\n    </tr>\n    <tr>\n      <th>42</th>\n      <td>Perch</td>\n      <td>700.0</td>\n      <td>37.0</td>\n    </tr>\n    <tr>\n      <th>43</th>\n      <td>Perch</td>\n      <td>690.0</td>\n      <td>37.0</td>\n    </tr>\n    <tr>\n      <th>44</th>\n      <td>Perch</td>\n      <td>900.0</td>\n      <td>39.0</td>\n    </tr>\n    <tr>\n      <th>45</th>\n      <td>Perch</td>\n      <td>650.0</td>\n      <td>39.0</td>\n    </tr>\n    <tr>\n      <th>46</th>\n      <td>Perch</td>\n      <td>820.0</td>\n      <td>39.0</td>\n    </tr>\n    <tr>\n      <th>47</th>\n      <td>Perch</td>\n      <td>850.0</td>\n      <td>40.0</td>\n    </tr>\n    <tr>\n      <th>48</th>\n      <td>Perch</td>\n      <td>900.0</td>\n      <td>40.0</td>\n    </tr>\n    <tr>\n      <th>49</th>\n      <td>Perch</td>\n      <td>1015.0</td>\n      <td>40.0</td>\n    </tr>\n    <tr>\n      <th>50</th>\n      <td>Perch</td>\n      <td>820.0</td>\n      <td>40.0</td>\n    </tr>\n    <tr>\n      <th>51</th>\n      <td>Perch</td>\n      <td>1100.0</td>\n      <td>42.0</td>\n    </tr>\n    <tr>\n      <th>52</th>\n      <td>Perch</td>\n      <td>1000.0</td>\n      <td>43.0</td>\n    </tr>\n    <tr>\n      <th>53</th>\n      <td>Perch</td>\n      <td>1100.0</td>\n      <td>43.0</td>\n    </tr>\n    <tr>\n      <th>54</th>\n      <td>Perch</td>\n      <td>1000.0</td>\n      <td>43.5</td>\n    </tr>\n    <tr>\n      <th>55</th>\n      <td>Perch</td>\n      <td>1000.0</td>\n      <td>44.0</td>\n    </tr>\n  </tbody>\n</table>\n</div>"
     },
     "execution_count": 421,
     "metadata": {},
     "output_type": "execute_result"
    }
   ],
   "source": [
    "perchDF"
   ],
   "metadata": {
    "collapsed": false,
    "ExecuteTime": {
     "end_time": "2024-02-27T06:54:14.580832400Z",
     "start_time": "2024-02-27T06:54:14.545494900Z"
    }
   },
   "id": "9ebc142162d9e2c",
   "execution_count": 421
  },
  {
   "cell_type": "markdown",
   "source": [
    "(3) 데이터 전처리 <hr>\n",
    "- 결측치, 이상치, 중복값 처리\n",
    "- 데이터 분포, 컬럼 분포, 최빈값, 고유값"
   ],
   "metadata": {
    "collapsed": false
   },
   "id": "ac96b4d28efa688c"
  },
  {
   "cell_type": "markdown",
   "source": [
    "(3-1) 데이터 분포"
   ],
   "metadata": {
    "collapsed": false
   },
   "id": "9d0574f639059b32"
  },
  {
   "cell_type": "code",
   "outputs": [
    {
     "data": {
      "text/plain": "          Weight    Length\nWeight  1.000000  0.958656\nLength  0.958656  1.000000",
      "text/html": "<div>\n<style scoped>\n    .dataframe tbody tr th:only-of-type {\n        vertical-align: middle;\n    }\n\n    .dataframe tbody tr th {\n        vertical-align: top;\n    }\n\n    .dataframe thead th {\n        text-align: right;\n    }\n</style>\n<table border=\"1\" class=\"dataframe\">\n  <thead>\n    <tr style=\"text-align: right;\">\n      <th></th>\n      <th>Weight</th>\n      <th>Length</th>\n    </tr>\n  </thead>\n  <tbody>\n    <tr>\n      <th>Weight</th>\n      <td>1.000000</td>\n      <td>0.958656</td>\n    </tr>\n    <tr>\n      <th>Length</th>\n      <td>0.958656</td>\n      <td>1.000000</td>\n    </tr>\n  </tbody>\n</table>\n</div>"
     },
     "execution_count": 422,
     "metadata": {},
     "output_type": "execute_result"
    }
   ],
   "source": [
    "# 무게와 길이에 대한 상관계수\n",
    "perchDF.corr(numeric_only=True)"
   ],
   "metadata": {
    "collapsed": false,
    "ExecuteTime": {
     "end_time": "2024-02-27T06:54:14.630008300Z",
     "start_time": "2024-02-27T06:54:14.583833500Z"
    }
   },
   "id": "99692af4a5fda935",
   "execution_count": 422
  },
  {
   "cell_type": "markdown",
   "source": [
    "(4) 학습 진행 <hr>\n",
    "- 학습 방법 : 지도학습 + 회귀(예측) => 이웃회귀 KNeighborsRegressor"
   ],
   "metadata": {
    "collapsed": false
   },
   "id": "be8e4a0f8986b529"
  },
  {
   "cell_type": "code",
   "outputs": [],
   "source": [
    "# 모듈로딩(7:3을 위한)\n",
    "from sklearn.model_selection import train_test_split"
   ],
   "metadata": {
    "collapsed": false,
    "ExecuteTime": {
     "end_time": "2024-02-27T06:54:14.692296400Z",
     "start_time": "2024-02-27T06:54:14.633009600Z"
    }
   },
   "id": "1c5655044284f4fd",
   "execution_count": 423
  },
  {
   "cell_type": "code",
   "outputs": [],
   "source": [
    "x_train, x_test, y_train, y_test = train_test_split(perchDF[['Weight']], perchDF['Length'],random_state=0 ,test_size=0.3)"
   ],
   "metadata": {
    "collapsed": false,
    "ExecuteTime": {
     "end_time": "2024-02-27T06:54:14.739295600Z",
     "start_time": "2024-02-27T06:54:14.662295700Z"
    }
   },
   "id": "714509f51e15d28e",
   "execution_count": 424
  },
  {
   "cell_type": "code",
   "outputs": [],
   "source": [
    "# 모델 인스턴스 생성 : KnnRegression\n",
    "from sklearn.neighbors import KNeighborsRegressor\n",
    "# model = KNeighborsRegressor(n_neighbors=7)"
   ],
   "metadata": {
    "collapsed": false,
    "ExecuteTime": {
     "end_time": "2024-02-27T06:54:14.763296100Z",
     "start_time": "2024-02-27T06:54:14.709295900Z"
    }
   },
   "id": "54cd2d839bf78f21",
   "execution_count": 425
  },
  {
   "cell_type": "code",
   "outputs": [],
   "source": [
    "# print(fishDF[['Weight']])"
   ],
   "metadata": {
    "collapsed": false,
    "ExecuteTime": {
     "end_time": "2024-02-27T06:54:14.828209900Z",
     "start_time": "2024-02-27T06:54:14.747297300Z"
    }
   },
   "id": "1025b4f45344fa1f",
   "execution_count": 426
  },
  {
   "cell_type": "code",
   "outputs": [],
   "source": [
    "# 학습\n",
    "# model.fit(x_train, y_train)"
   ],
   "metadata": {
    "collapsed": false,
    "ExecuteTime": {
     "end_time": "2024-02-27T06:54:14.863136300Z",
     "start_time": "2024-02-27T06:54:14.800920600Z"
    }
   },
   "id": "20228d320bd14796",
   "execution_count": 427
  },
  {
   "cell_type": "markdown",
   "source": [
    "(5) 테스트 <hr>"
   ],
   "metadata": {
    "collapsed": false
   },
   "id": "b443b9b8279ffbc6"
  },
  {
   "cell_type": "code",
   "outputs": [
    {
     "data": {
      "text/plain": "39"
     },
     "execution_count": 428,
     "metadata": {},
     "output_type": "execute_result"
    }
   ],
   "source": [
    "from sklearn.metrics import mean_squared_error, mean_absolute_error, r2_score\n",
    "max_k = x_train.shape[0]\n",
    "max_k"
   ],
   "metadata": {
    "collapsed": false,
    "ExecuteTime": {
     "end_time": "2024-02-27T06:54:14.897580Z",
     "start_time": "2024-02-27T06:54:14.856140Z"
    }
   },
   "id": "8ed6c17bab1b069b",
   "execution_count": 428
  },
  {
   "cell_type": "code",
   "outputs": [],
   "source": [
    "train_scoreList = []\n",
    "test_scoreList = []\n",
    "r2_scorelist = []\n",
    "\n",
    "for k in range(1,max_k+1):\n",
    " model = KNeighborsRegressor(n_neighbors=k)\n",
    " model.fit(x_train, y_train)\n",
    " \n",
    " y_pre = model.predict(x_test)\n",
    " y_pre = np.round(y_pre, 1)\n",
    " \n",
    " r2_scorelist.append(r2_score(y_test, y_pre))\n",
    " train_scoreList.append(model.score(x_train, y_train))\n",
    " test_scoreList.append(model.score(x_test, y_test))\n"
   ],
   "metadata": {
    "collapsed": false,
    "ExecuteTime": {
     "end_time": "2024-02-27T06:54:16.441293800Z",
     "start_time": "2024-02-27T06:54:14.872574300Z"
    }
   },
   "id": "1c72fe3dd3764de2",
   "execution_count": 429
  },
  {
   "cell_type": "code",
   "outputs": [
    {
     "data": {
      "text/plain": "[0.9674564850132328,\n 0.9606731961081785,\n 0.9509915003996152,\n 0.9755618542146245,\n 0.9784195816243999,\n 0.9826705782695464,\n 0.9790704519241353,\n 0.9731516001359171,\n 0.9650055515407918,\n 0.9554764035587291,\n 0.9387876822795775,\n 0.9416047302956195,\n 0.9349943288139325,\n 0.923827835234098,\n 0.9057153351742753,\n 0.8927080990280019,\n 0.878663538341525,\n 0.8663173423434201,\n 0.8350450584108238,\n 0.8041795684155615,\n 0.7737818914482342,\n 0.750187843082828,\n 0.7177053471866611,\n 0.6718088212068859,\n 0.6250783676555748,\n 0.5640287675100861,\n 0.5374651234021374,\n 0.5284851472354761,\n 0.5011587644950252,\n 0.47522565098994507,\n 0.4449703519006848,\n 0.39667374169063563,\n 0.35461124857023896,\n 0.3187727026910616,\n 0.2667437581059673,\n 0.21119604596292885,\n 0.14678022598599705,\n 0.07803205057645068,\n -0.006977712478045239]"
     },
     "execution_count": 444,
     "metadata": {},
     "output_type": "execute_result"
    }
   ],
   "source": [
    "r2_scorelist"
   ],
   "metadata": {
    "collapsed": false,
    "ExecuteTime": {
     "end_time": "2024-02-27T07:07:00.901742800Z",
     "start_time": "2024-02-27T07:07:00.868224800Z"
    }
   },
   "id": "a98576ef84f76a6",
   "execution_count": 444
  },
  {
   "cell_type": "code",
   "outputs": [
    {
     "data": {
      "text/plain": "<Figure size 640x480 with 1 Axes>",
      "image/png": "[encoded data removed]"
     },
     "metadata": {},
     "output_type": "display_data"
    }
   ],
   "source": [
    "plt.plot(train_scoreList, 'b--',label='train')\n",
    "plt.plot(test_scoreList, 'r-',label='test')\n",
    "plt.plot(r2_scorelist, color='c', linestyle='--', label='r2_score')\n",
    "plt.title('K & score')\n",
    "plt.xlabel('K')\n",
    "plt.ylabel('score')\n",
    "plt.legend()\n",
    "plt.show()"
   ],
   "metadata": {
    "collapsed": false,
    "ExecuteTime": {
     "end_time": "2024-02-27T06:58:26.014995500Z",
     "start_time": "2024-02-27T06:58:25.846358100Z"
    }
   },
   "id": "79f220bc6b23b73",
   "execution_count": 443
  },
  {
   "cell_type": "code",
   "outputs": [
    {
     "data": {
      "text/plain": "5"
     },
     "execution_count": 431,
     "metadata": {},
     "output_type": "execute_result"
    }
   ],
   "source": [
    "test_scoreList.index(max(test_scoreList))   # k =6  일떄 최대"
   ],
   "metadata": {
    "collapsed": false,
    "ExecuteTime": {
     "end_time": "2024-02-27T06:54:16.662153400Z",
     "start_time": "2024-02-27T06:54:16.615842500Z"
    }
   },
   "id": "8509b836950180da",
   "execution_count": 431
  },
  {
   "cell_type": "markdown",
   "source": [
    "k = 6 일때로 다시 모델 만들기"
   ],
   "metadata": {
    "collapsed": false
   },
   "id": "f101cb391d11065d"
  },
  {
   "cell_type": "code",
   "outputs": [],
   "source": [
    "model6 = KNeighborsRegressor(n_neighbors=6)"
   ],
   "metadata": {
    "collapsed": false,
    "ExecuteTime": {
     "end_time": "2024-02-27T07:12:30.087797600Z",
     "start_time": "2024-02-27T07:12:30.071798800Z"
    }
   },
   "id": "8f095939d764e85e",
   "execution_count": 446
  },
  {
   "cell_type": "code",
   "outputs": [
    {
     "data": {
      "text/plain": "KNeighborsRegressor(n_neighbors=6)",
      "text/html": "<style>#sk-container-id-11 {color: black;}#sk-container-id-11 pre{padding: 0;}#sk-container-id-11 div.sk-toggleable {background-color: white;}#sk-container-id-11 label.sk-toggleable__label {cursor: pointer;display: block;width: 100%;margin-bottom: 0;padding: 0.3em;box-sizing: border-box;text-align: center;}#sk-container-id-11 label.sk-toggleable__label-arrow:before {content: \"▸\";float: left;margin-right: 0.25em;color: #696969;}#sk-container-id-11 label.sk-toggleable__label-arrow:hover:before {color: black;}#sk-container-id-11 div.sk-estimator:hover label.sk-toggleable__label-arrow:before {color: black;}#sk-container-id-11 div.sk-toggleable__content {max-height: 0;max-width: 0;overflow: hidden;text-align: left;background-color: #f0f8ff;}#sk-container-id-11 div.sk-toggleable__content pre {margin: 0.2em;color: black;border-radius: 0.25em;background-color: #f0f8ff;}#sk-container-id-11 input.sk-toggleable__control:checked~div.sk-toggleable__content {max-height: 200px;max-width: 100%;overflow: auto;}#sk-container-id-11 input.sk-toggleable__control:checked~label.sk-toggleable__label-arrow:before {content: \"▾\";}#sk-container-id-11 div.sk-estimator input.sk-toggleable__control:checked~label.sk-toggleable__label {background-color: #d4ebff;}#sk-container-id-11 div.sk-label input.sk-toggleable__control:checked~label.sk-toggleable__label {background-color: #d4ebff;}#sk-container-id-11 input.sk-hidden--visually {border: 0;clip: rect(1px 1px 1px 1px);clip: rect(1px, 1px, 1px, 1px);height: 1px;margin: -1px;overflow: hidden;padding: 0;position: absolute;width: 1px;}#sk-container-id-11 div.sk-estimator {font-family: monospace;background-color: #f0f8ff;border: 1px dotted black;border-radius: 0.25em;box-sizing: border-box;margin-bottom: 0.5em;}#sk-container-id-11 div.sk-estimator:hover {background-color: #d4ebff;}#sk-container-id-11 div.sk-parallel-item::after {content: \"\";width: 100%;border-bottom: 1px solid gray;flex-grow: 1;}#sk-container-id-11 div.sk-label:hover label.sk-toggleable__label {background-color: #d4ebff;}#sk-container-id-11 div.sk-serial::before {content: \"\";position: absolute;border-left: 1px solid gray;box-sizing: border-box;top: 0;bottom: 0;left: 50%;z-index: 0;}#sk-container-id-11 div.sk-serial {display: flex;flex-direction: column;align-items: center;background-color: white;padding-right: 0.2em;padding-left: 0.2em;position: relative;}#sk-container-id-11 div.sk-item {position: relative;z-index: 1;}#sk-container-id-11 div.sk-parallel {display: flex;align-items: stretch;justify-content: center;background-color: white;position: relative;}#sk-container-id-11 div.sk-item::before, #sk-container-id-11 div.sk-parallel-item::before {content: \"\";position: absolute;border-left: 1px solid gray;box-sizing: border-box;top: 0;bottom: 0;left: 50%;z-index: -1;}#sk-container-id-11 div.sk-parallel-item {display: flex;flex-direction: column;z-index: 1;position: relative;background-color: white;}#sk-container-id-11 div.sk-parallel-item:first-child::after {align-self: flex-end;width: 50%;}#sk-container-id-11 div.sk-parallel-item:last-child::after {align-self: flex-start;width: 50%;}#sk-container-id-11 div.sk-parallel-item:only-child::after {width: 0;}#sk-container-id-11 div.sk-dashed-wrapped {border: 1px dashed gray;margin: 0 0.4em 0.5em 0.4em;box-sizing: border-box;padding-bottom: 0.4em;background-color: white;}#sk-container-id-11 div.sk-label label {font-family: monospace;font-weight: bold;display: inline-block;line-height: 1.2em;}#sk-container-id-11 div.sk-label-container {text-align: center;}#sk-container-id-11 div.sk-container {/* jupyter's `normalize.less` sets `[hidden] { display: none; }` but bootstrap.min.css set `[hidden] { display: none !important; }` so we also need the `!important` here to be able to override the default hidden behavior on the sphinx rendered scikit-learn.org. See: https://github.com/scikit-learn/scikit-learn/issues/21755 */display: inline-block !important;position: relative;}#sk-container-id-11 div.sk-text-repr-fallback {display: none;}</style><div id=\"sk-container-id-11\" class=\"sk-top-container\"><div class=\"sk-text-repr-fallback\"><pre>KNeighborsRegressor(n_neighbors=6)</pre><b>In a Jupyter environment, please rerun this cell to show the HTML representation or trust the notebook. <br />On GitHub, the HTML representation is unable to render, please try loading this page with nbviewer.org.</b></div><div class=\"sk-container\" hidden><div class=\"sk-item\"><div class=\"sk-estimator sk-toggleable\"><input class=\"sk-toggleable__control sk-hidden--visually\" id=\"sk-estimator-id-11\" type=\"checkbox\" checked><label for=\"sk-estimator-id-11\" class=\"sk-toggleable__label sk-toggleable__label-arrow\">KNeighborsRegressor</label><div class=\"sk-toggleable__content\"><pre>KNeighborsRegressor(n_neighbors=6)</pre></div></div></div></div></div>"
     },
     "execution_count": 447,
     "metadata": {},
     "output_type": "execute_result"
    }
   ],
   "source": [
    "# 모델 학습\n",
    "model6.fit(x_train, y_train)"
   ],
   "metadata": {
    "collapsed": false,
    "ExecuteTime": {
     "end_time": "2024-02-27T07:12:30.754075Z",
     "start_time": "2024-02-27T07:12:30.731613700Z"
    }
   },
   "id": "8477129ca17df80e",
   "execution_count": 447
  },
  {
   "cell_type": "markdown",
   "source": [
    "(5-re) 훈련용 데이터를 넣어 검사진행\n",
    "- 제대로 만들어진 모델이지 확인하는 과정\n",
    "    * 훈련용 데이터에 대한 정수\n",
    "    * 테스트용 데이터에 대한 점수\n",
    "    * 훈련점수와 테스트 점수 비교\n",
    "          - 훈련점수 > 테스트점수 : 과대적합(Overfitting)\n",
    "          - 훈련점수 와 테스트점수 비슷 : 최적적합\n",
    "          - 훈련점수 낮고, 테스트점수 낮다 : 과소적합(Underfitting)   "
   ],
   "metadata": {
    "collapsed": false
   },
   "id": "e37811560ed255c8"
  },
  {
   "cell_type": "code",
   "outputs": [
    {
     "name": "stdout",
     "output_type": "stream",
     "text": [
      "0.9660832250379034 0.9830536425605365\n"
     ]
    }
   ],
   "source": [
    "print(model6.score(x_train, y_train), model6.score(x_test,y_test))"
   ],
   "metadata": {
    "collapsed": false,
    "ExecuteTime": {
     "end_time": "2024-02-27T07:22:52.638028700Z",
     "start_time": "2024-02-27T07:22:52.619219600Z"
    }
   },
   "id": "9d2a46e5eac440d3",
   "execution_count": 451
  },
  {
   "cell_type": "code",
   "outputs": [
    {
     "data": {
      "text/plain": "0.9830536425605365"
     },
     "execution_count": 448,
     "metadata": {},
     "output_type": "execute_result"
    }
   ],
   "source": [
    " # score 메서드는 결정계수 R2 즉, 얼마나 정답에 가깝게 근사하게 결과를 예측해내는지를 나태는계계수값을 준다\n",
    " # 범위 : 0.0 ~1.0\n",
    " # 1.0에 가까울수록 잘 만들어진 모델\n",
    " model6.score(x_test, y_test)"
   ],
   "metadata": {
    "collapsed": false,
    "ExecuteTime": {
     "end_time": "2024-02-27T07:13:24.824893Z",
     "start_time": "2024-02-27T07:13:24.788224Z"
    }
   },
   "id": "4c22a18a081ca655",
   "execution_count": 448
  },
  {
   "cell_type": "code",
   "outputs": [
    {
     "data": {
      "text/plain": "array([37.1, 27. , 37.1, 24.2, 21.2, 15.9, 27. , 37.1, 38.3, 27. , 18.6,\n       21.2, 24.2, 22.4, 27. , 42.6, 32.4])"
     },
     "execution_count": 455,
     "metadata": {},
     "output_type": "execute_result"
    }
   ],
   "source": [
    "# 예측값\n",
    "y6_pre = model6.predict(x_test)\n",
    "y6_pre= np.round(y6_pre, 1)\n",
    "y6_pre"
   ],
   "metadata": {
    "collapsed": false,
    "ExecuteTime": {
     "end_time": "2024-02-27T07:32:07.420179100Z",
     "start_time": "2024-02-27T07:32:07.375856300Z"
    }
   },
   "id": "bacb54628e88edf1",
   "execution_count": 455
  },
  {
   "cell_type": "markdown",
   "source": [
    "(6) 성능평가 <hr>\n",
    "- 결정계수 값 : 1.0에 가까울수록 좋음\n",
    "- 오차평균 값 : 낮을수록 좋음\n",
    "- 활용 모듈 : sklearn.metrics"
   ],
   "metadata": {
    "collapsed": false
   },
   "id": "ac3025291c8d742b"
  },
  {
   "cell_type": "code",
   "outputs": [
    {
     "name": "stdout",
     "output_type": "stream",
     "text": [
      "[모델설명도]\n",
      "R2: 0.9826705782695464\n",
      "[에러]\n",
      "MAE: 0.7647058823529419\n",
      "MSE: 1.002352941176472\n",
      "RMSE: 1.0011757793596847\n"
     ]
    }
   ],
   "source": [
    "# # 결정 계수 값\n",
    "r2 = r2_score(y_test, y6_pre)\n",
    "\n",
    "# 평균절대값오차\n",
    "mae=mean_absolute_error(y_test, y6_pre)\n",
    "\n",
    "# 평균제곱오차 : \n",
    "mse = mean_squared_error(y_test, y6_pre)\n",
    "\n",
    "# 평균제곱오차제곱근 : RMSE => 1.4버전에 추가\n",
    "rmse = mean_squared_error(y_test, y6_pre, squared=False)\n",
    "\n",
    "print(f'[모델설명도]\\nR2: {r2}')\n",
    "print(f'[에러]\\nMAE: {mae}')\n",
    "print(f'MSE: {mse}')\n",
    "print(f'RMSE: {rmse}')"
   ],
   "metadata": {
    "collapsed": false,
    "ExecuteTime": {
     "end_time": "2024-02-27T07:28:22.565156700Z",
     "start_time": "2024-02-27T07:28:22.540066100Z"
    }
   },
   "id": "cd3a1fecde4d5770",
   "execution_count": 454
  }
 ],
 "metadata": {
  "kernelspec": {
   "display_name": "Python 3",
   "language": "python",
   "name": "python3"
  },
  "language_info": {
   "codemirror_mode": {
    "name": "ipython",
    "version": 2
   },
   "file_extension": ".py",
   "mimetype": "text/x-python",
   "name": "python",
   "nbconvert_exporter": "python",
   "pygments_lexer": "ipython2",
   "version": "2.7.6"
  }
 },
 "nbformat": 4,
 "nbformat_minor": 5
}
