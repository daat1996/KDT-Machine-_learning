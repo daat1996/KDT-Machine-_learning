{
 "cells": [
  {
   "cell_type": "markdown",
   "source": [
    "### 표본추출/샘플링\n",
    "- 전체 데이터에서 일부 데이터를 추출\n",
    "- pandas.DataFrame.sample() 메서드\n",
    "- 복원추출 : 추출된 데이터를 다시 추가해서 추출하는 방식\n",
    "- 비복원추출 : 추출된 데이터를 제거 후 남은 데이터에서 추출하는 방식"
   ],
   "metadata": {
    "collapsed": false
   },
   "id": "e88c443eebc5f72c"
  },
  {
   "cell_type": "code",
   "outputs": [],
   "source": [
    "import pandas as pd\n",
    "from sklearn.neighbors import KNeighborsClassifier"
   ],
   "metadata": {
    "collapsed": false,
    "ExecuteTime": {
     "end_time": "2024-02-26T02:10:55.935392100Z",
     "start_time": "2024-02-26T02:10:55.218669100Z"
    }
   },
   "id": "acca36f141335854",
   "execution_count": 15
  },
  {
   "cell_type": "code",
   "outputs": [
    {
     "data": {
      "text/plain": "   kor  math  eng\n0   10    11  111\n1   20    22  222\n2   30    33  333",
      "text/html": "<div>\n<style scoped>\n    .dataframe tbody tr th:only-of-type {\n        vertical-align: middle;\n    }\n\n    .dataframe tbody tr th {\n        vertical-align: top;\n    }\n\n    .dataframe thead th {\n        text-align: right;\n    }\n</style>\n<table border=\"1\" class=\"dataframe\">\n  <thead>\n    <tr style=\"text-align: right;\">\n      <th></th>\n      <th>kor</th>\n      <th>math</th>\n      <th>eng</th>\n    </tr>\n  </thead>\n  <tbody>\n    <tr>\n      <th>0</th>\n      <td>10</td>\n      <td>11</td>\n      <td>111</td>\n    </tr>\n    <tr>\n      <th>1</th>\n      <td>20</td>\n      <td>22</td>\n      <td>222</td>\n    </tr>\n    <tr>\n      <th>2</th>\n      <td>30</td>\n      <td>33</td>\n      <td>333</td>\n    </tr>\n  </tbody>\n</table>\n</div>"
     },
     "execution_count": 2,
     "metadata": {},
     "output_type": "execute_result"
    }
   ],
   "source": [
    "# 임의의 데이터 생성\n",
    "dataDF = pd.DataFrame({'kor':[10, 20, 30], \n",
    "                       'math':[11, 22, 33],\n",
    "                       'eng':[111,222,333]})\n",
    "dataDF"
   ],
   "metadata": {
    "collapsed": false,
    "ExecuteTime": {
     "end_time": "2024-02-26T01:17:20.894132300Z",
     "start_time": "2024-02-26T01:17:20.866131500Z"
    }
   },
   "id": "63302d48fdfcb647",
   "execution_count": 2
  },
  {
   "cell_type": "code",
   "outputs": [
    {
     "name": "stdout",
     "output_type": "stream",
     "text": [
      "[1번]\n",
      "   kor  math  eng\n",
      "0   10    11  111\n",
      "1   20    22  222\n",
      "2   30    33  333\n",
      "[2번]\n",
      "   kor  math  eng\n",
      "0   10    11  111\n",
      "2   30    33  333\n",
      "1   20    22  222\n",
      "[3번]\n",
      "   kor  math  eng\n",
      "0   10    11  111\n",
      "2   30    33  333\n",
      "1   20    22  222\n",
      "[4번]\n",
      "   kor  math  eng\n",
      "0   10    11  111\n",
      "2   30    33  333\n",
      "1   20    22  222\n",
      "[5번]\n",
      "   kor  math  eng\n",
      "1   20    22  222\n",
      "2   30    33  333\n",
      "0   10    11  111\n"
     ]
    }
   ],
   "source": [
    "# 1개의 샘플/표본 데이터 추출 => [기본] 비복원 - 전체 데이터 수 초과 불가\n",
    "for cnt in range(1,6):\n",
    "    print(f'[{cnt}번]')\n",
    "    print(dataDF.sample(n=3))"
   ],
   "metadata": {
    "collapsed": false,
    "ExecuteTime": {
     "end_time": "2024-02-26T01:27:38.771836200Z",
     "start_time": "2024-02-26T01:27:38.745824400Z"
    }
   },
   "id": "7727efd8ca0a19f9",
   "execution_count": 12
  },
  {
   "cell_type": "code",
   "outputs": [
    {
     "name": "stdout",
     "output_type": "stream",
     "text": [
      "\n",
      "[1번]\n",
      "   math  math  math  math  eng\n",
      "0    11    11    11    11  111\n",
      "1    22    22    22    22  222\n",
      "2    33    33    33    33  333\n",
      "\n",
      "[2번]\n",
      "   eng  eng  eng  kor  eng\n",
      "0  111  111  111   10  111\n",
      "1  222  222  222   20  222\n",
      "2  333  333  333   30  333\n",
      "\n",
      "[3번]\n",
      "   eng  math  math  math  eng\n",
      "0  111    11    11    11  111\n",
      "1  222    22    22    22  222\n",
      "2  333    33    33    33  333\n",
      "\n",
      "[4번]\n",
      "   eng  eng  kor  kor  eng\n",
      "0  111  111   10   10  111\n",
      "1  222  222   20   20  222\n",
      "2  333  333   30   30  333\n",
      "\n",
      "[5번]\n",
      "   kor  kor  kor  eng  math\n",
      "0   10   10   10  111    11\n",
      "1   20   20   20  222    22\n",
      "2   30   30   30  333    33\n"
     ]
    }
   ],
   "source": [
    "# 1개의 샘플/표본 데이터 추출 => [설정] 복원 : replace 매개변수 True 설정\n",
    "# 추출 기준 축(axis)로 설정\n",
    "for cnt in range(1,6):\n",
    "    print(f'\\n[{cnt}번]')\n",
    "    print(dataDF.sample(n=5, axis='columns', replace=True))"
   ],
   "metadata": {
    "collapsed": false,
    "ExecuteTime": {
     "end_time": "2024-02-26T01:24:10.172503700Z",
     "start_time": "2024-02-26T01:24:10.142097600Z"
    }
   },
   "id": "c1921c0ca7d96743",
   "execution_count": 11
  },
  {
   "cell_type": "markdown",
   "source": [
    "(4) 학습 진행\n",
    "- 학습 방법 : 지도학습 / 분류 => KNN\n",
    "- 모델 인스턴스 생성 => fit() 메서드"
   ],
   "metadata": {
    "collapsed": false
   },
   "id": "702f2e4abf455a08"
  },
  {
   "cell_type": "code",
   "outputs": [
    {
     "data": {
      "text/plain": "KNeighborsClassifier()",
      "text/html": "<style>#sk-container-id-1 {color: black;}#sk-container-id-1 pre{padding: 0;}#sk-container-id-1 div.sk-toggleable {background-color: white;}#sk-container-id-1 label.sk-toggleable__label {cursor: pointer;display: block;width: 100%;margin-bottom: 0;padding: 0.3em;box-sizing: border-box;text-align: center;}#sk-container-id-1 label.sk-toggleable__label-arrow:before {content: \"▸\";float: left;margin-right: 0.25em;color: #696969;}#sk-container-id-1 label.sk-toggleable__label-arrow:hover:before {color: black;}#sk-container-id-1 div.sk-estimator:hover label.sk-toggleable__label-arrow:before {color: black;}#sk-container-id-1 div.sk-toggleable__content {max-height: 0;max-width: 0;overflow: hidden;text-align: left;background-color: #f0f8ff;}#sk-container-id-1 div.sk-toggleable__content pre {margin: 0.2em;color: black;border-radius: 0.25em;background-color: #f0f8ff;}#sk-container-id-1 input.sk-toggleable__control:checked~div.sk-toggleable__content {max-height: 200px;max-width: 100%;overflow: auto;}#sk-container-id-1 input.sk-toggleable__control:checked~label.sk-toggleable__label-arrow:before {content: \"▾\";}#sk-container-id-1 div.sk-estimator input.sk-toggleable__control:checked~label.sk-toggleable__label {background-color: #d4ebff;}#sk-container-id-1 div.sk-label input.sk-toggleable__control:checked~label.sk-toggleable__label {background-color: #d4ebff;}#sk-container-id-1 input.sk-hidden--visually {border: 0;clip: rect(1px 1px 1px 1px);clip: rect(1px, 1px, 1px, 1px);height: 1px;margin: -1px;overflow: hidden;padding: 0;position: absolute;width: 1px;}#sk-container-id-1 div.sk-estimator {font-family: monospace;background-color: #f0f8ff;border: 1px dotted black;border-radius: 0.25em;box-sizing: border-box;margin-bottom: 0.5em;}#sk-container-id-1 div.sk-estimator:hover {background-color: #d4ebff;}#sk-container-id-1 div.sk-parallel-item::after {content: \"\";width: 100%;border-bottom: 1px solid gray;flex-grow: 1;}#sk-container-id-1 div.sk-label:hover label.sk-toggleable__label {background-color: #d4ebff;}#sk-container-id-1 div.sk-serial::before {content: \"\";position: absolute;border-left: 1px solid gray;box-sizing: border-box;top: 0;bottom: 0;left: 50%;z-index: 0;}#sk-container-id-1 div.sk-serial {display: flex;flex-direction: column;align-items: center;background-color: white;padding-right: 0.2em;padding-left: 0.2em;position: relative;}#sk-container-id-1 div.sk-item {position: relative;z-index: 1;}#sk-container-id-1 div.sk-parallel {display: flex;align-items: stretch;justify-content: center;background-color: white;position: relative;}#sk-container-id-1 div.sk-item::before, #sk-container-id-1 div.sk-parallel-item::before {content: \"\";position: absolute;border-left: 1px solid gray;box-sizing: border-box;top: 0;bottom: 0;left: 50%;z-index: -1;}#sk-container-id-1 div.sk-parallel-item {display: flex;flex-direction: column;z-index: 1;position: relative;background-color: white;}#sk-container-id-1 div.sk-parallel-item:first-child::after {align-self: flex-end;width: 50%;}#sk-container-id-1 div.sk-parallel-item:last-child::after {align-self: flex-start;width: 50%;}#sk-container-id-1 div.sk-parallel-item:only-child::after {width: 0;}#sk-container-id-1 div.sk-dashed-wrapped {border: 1px dashed gray;margin: 0 0.4em 0.5em 0.4em;box-sizing: border-box;padding-bottom: 0.4em;background-color: white;}#sk-container-id-1 div.sk-label label {font-family: monospace;font-weight: bold;display: inline-block;line-height: 1.2em;}#sk-container-id-1 div.sk-label-container {text-align: center;}#sk-container-id-1 div.sk-container {/* jupyter's `normalize.less` sets `[hidden] { display: none; }` but bootstrap.min.css set `[hidden] { display: none !important; }` so we also need the `!important` here to be able to override the default hidden behavior on the sphinx rendered scikit-learn.org. See: https://github.com/scikit-learn/scikit-learn/issues/21755 */display: inline-block !important;position: relative;}#sk-container-id-1 div.sk-text-repr-fallback {display: none;}</style><div id=\"sk-container-id-1\" class=\"sk-top-container\"><div class=\"sk-text-repr-fallback\"><pre>KNeighborsClassifier()</pre><b>In a Jupyter environment, please rerun this cell to show the HTML representation or trust the notebook. <br />On GitHub, the HTML representation is unable to render, please try loading this page with nbviewer.org.</b></div><div class=\"sk-container\" hidden><div class=\"sk-item\"><div class=\"sk-estimator sk-toggleable\"><input class=\"sk-toggleable__control sk-hidden--visually\" id=\"sk-estimator-id-1\" type=\"checkbox\" checked><label for=\"sk-estimator-id-1\" class=\"sk-toggleable__label sk-toggleable__label-arrow\">KNeighborsClassifier</label><div class=\"sk-toggleable__content\"><pre>KNeighborsClassifier()</pre></div></div></div></div></div>"
     },
     "execution_count": 16,
     "metadata": {},
     "output_type": "execute_result"
    }
   ],
   "source": [
    "# 모델 인스턴스 생성\n",
    "model=KNeighborsClassifier()\n",
    "model"
   ],
   "metadata": {
    "collapsed": false,
    "ExecuteTime": {
     "end_time": "2024-02-26T02:11:00.477099100Z",
     "start_time": "2024-02-26T02:11:00.469982100Z"
    }
   },
   "id": "43bce843f76cf31c",
   "execution_count": 16
  },
  {
   "cell_type": "code",
   "outputs": [],
   "source": [],
   "metadata": {
    "collapsed": false
   },
   "id": "f9d73be4ffc59b7b"
  }
 ],
 "metadata": {
  "kernelspec": {
   "display_name": "Python 3",
   "language": "python",
   "name": "python3"
  },
  "language_info": {
   "codemirror_mode": {
    "name": "ipython",
    "version": 2
   },
   "file_extension": ".py",
   "mimetype": "text/x-python",
   "name": "python",
   "nbconvert_exporter": "python",
   "pygments_lexer": "ipython2",
   "version": "2.7.6"
  }
 },
 "nbformat": 4,
 "nbformat_minor": 5
}
