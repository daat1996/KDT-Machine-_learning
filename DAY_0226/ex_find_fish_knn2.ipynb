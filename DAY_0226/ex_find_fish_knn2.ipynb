{
 "cells": [
  {
   "cell_type": "markdown",
   "source": [
    "### 목표 : 생선 품종 분류 모델\n",
    "- 데이터 : 2가지 품종의 생선 데이터 fish.csv\n",
    "- 피  쳐 : Weight, Length\n",
    "- 타  겟 : Species\n",
    "- 유  형 : 지도학습 / 분류"
   ],
   "metadata": {
    "collapsed": false
   },
   "id": "a50451565df9e8cf"
  },
  {
   "cell_type": "markdown",
   "source": [
    "(1) 모듈 로딩 & 데이터 준비  "
   ],
   "metadata": {
    "collapsed": false
   },
   "id": "c888f5edb19009f4"
  },
  {
   "cell_type": "code",
   "outputs": [],
   "source": [
    "import pandas as pd                                     # 데이터 파일 관련 모듈\n",
    "from sklearn.neighbors import KNeighborsClassifier      # 기계학습 관련 모듈\n"
   ],
   "metadata": {
    "collapsed": false,
    "ExecuteTime": {
     "end_time": "2024-02-26T06:09:56.374659800Z",
     "start_time": "2024-02-26T06:09:56.232681900Z"
    }
   },
   "id": "ad1cd85173630454",
   "execution_count": 181
  },
  {
   "cell_type": "code",
   "outputs": [],
   "source": [
    "data_file = '../data/fish.csv'"
   ],
   "metadata": {
    "collapsed": false,
    "ExecuteTime": {
     "end_time": "2024-02-26T06:09:56.406663700Z",
     "start_time": "2024-02-26T06:09:56.378930500Z"
    }
   },
   "id": "6bda9abd1587b8f2",
   "execution_count": 182
  },
  {
   "cell_type": "code",
   "outputs": [
    {
     "name": "stdout",
     "output_type": "stream",
     "text": [
      "<class 'pandas.core.frame.DataFrame'>\n",
      "RangeIndex: 159 entries, 0 to 158\n",
      "Data columns (total 3 columns):\n",
      " #   Column   Non-Null Count  Dtype  \n",
      "---  ------   --------------  -----  \n",
      " 0   Species  159 non-null    object \n",
      " 1   Weight   159 non-null    float64\n",
      " 2   Length   159 non-null    float64\n",
      "dtypes: float64(2), object(1)\n",
      "memory usage: 3.9+ KB\n"
     ]
    }
   ],
   "source": [
    "# 5개 피쳐/특성 중 2개의 피쳐/특성 선택\n",
    "fishDF = pd.read_csv(data_file, usecols=[0,1,2])\n",
    "fishDF.info()"
   ],
   "metadata": {
    "collapsed": false,
    "ExecuteTime": {
     "end_time": "2024-02-26T06:09:56.445603600Z",
     "start_time": "2024-02-26T06:09:56.410664600Z"
    }
   },
   "id": "66affb32941f3d70",
   "execution_count": 183
  },
  {
   "cell_type": "code",
   "outputs": [
    {
     "data": {
      "text/plain": "    Species  Weight  Length\n0     Bream   242.0    25.4\n1     Bream   290.0    26.3\n2     Bream   340.0    26.5\n3     Bream   363.0    29.0\n4     Bream   430.0    29.0\n5     Bream   450.0    29.7\n6     Bream   500.0    29.7\n7     Bream   390.0    30.0\n8     Bream   450.0    30.0\n9     Bream   500.0    30.7\n10    Bream   475.0    31.0\n11    Bream   500.0    31.0\n12    Bream   500.0    31.5\n13    Bream   340.0    32.0\n14    Bream   600.0    32.0\n15    Bream   600.0    32.0\n16    Bream   700.0    33.0\n17    Bream   700.0    33.0\n18    Bream   610.0    33.5\n19    Bream   650.0    33.5\n20    Bream   575.0    34.0\n21    Bream   685.0    34.0\n22    Bream   620.0    34.5\n23    Bream   680.0    35.0\n24    Bream   700.0    35.0\n25    Bream   725.0    35.0\n26    Bream   720.0    35.0\n27    Bream   714.0    36.0\n28    Bream   850.0    36.0\n29    Bream  1000.0    37.0\n30    Bream   920.0    38.5\n31    Bream   955.0    38.5\n32    Bream   925.0    39.5\n33    Bream   975.0    41.0\n34    Bream   950.0    41.0\n145   Smelt     6.7     9.8\n146   Smelt     7.5    10.5\n147   Smelt     7.0    10.6\n148   Smelt     9.7    11.0\n149   Smelt     9.8    11.2\n150   Smelt     8.7    11.3\n151   Smelt    10.0    11.8\n152   Smelt     9.9    11.8\n153   Smelt     9.8    12.0\n154   Smelt    12.2    12.2\n155   Smelt    13.4    12.4\n156   Smelt    12.2    13.0\n157   Smelt    19.7    14.3\n158   Smelt    19.9    15.0",
      "text/html": "<div>\n<style scoped>\n    .dataframe tbody tr th:only-of-type {\n        vertical-align: middle;\n    }\n\n    .dataframe tbody tr th {\n        vertical-align: top;\n    }\n\n    .dataframe thead th {\n        text-align: right;\n    }\n</style>\n<table border=\"1\" class=\"dataframe\">\n  <thead>\n    <tr style=\"text-align: right;\">\n      <th></th>\n      <th>Species</th>\n      <th>Weight</th>\n      <th>Length</th>\n    </tr>\n  </thead>\n  <tbody>\n    <tr>\n      <th>0</th>\n      <td>Bream</td>\n      <td>242.0</td>\n      <td>25.4</td>\n    </tr>\n    <tr>\n      <th>1</th>\n      <td>Bream</td>\n      <td>290.0</td>\n      <td>26.3</td>\n    </tr>\n    <tr>\n      <th>2</th>\n      <td>Bream</td>\n      <td>340.0</td>\n      <td>26.5</td>\n    </tr>\n    <tr>\n      <th>3</th>\n      <td>Bream</td>\n      <td>363.0</td>\n      <td>29.0</td>\n    </tr>\n    <tr>\n      <th>4</th>\n      <td>Bream</td>\n      <td>430.0</td>\n      <td>29.0</td>\n    </tr>\n    <tr>\n      <th>5</th>\n      <td>Bream</td>\n      <td>450.0</td>\n      <td>29.7</td>\n    </tr>\n    <tr>\n      <th>6</th>\n      <td>Bream</td>\n      <td>500.0</td>\n      <td>29.7</td>\n    </tr>\n    <tr>\n      <th>7</th>\n      <td>Bream</td>\n      <td>390.0</td>\n      <td>30.0</td>\n    </tr>\n    <tr>\n      <th>8</th>\n      <td>Bream</td>\n      <td>450.0</td>\n      <td>30.0</td>\n    </tr>\n    <tr>\n      <th>9</th>\n      <td>Bream</td>\n      <td>500.0</td>\n      <td>30.7</td>\n    </tr>\n    <tr>\n      <th>10</th>\n      <td>Bream</td>\n      <td>475.0</td>\n      <td>31.0</td>\n    </tr>\n    <tr>\n      <th>11</th>\n      <td>Bream</td>\n      <td>500.0</td>\n      <td>31.0</td>\n    </tr>\n    <tr>\n      <th>12</th>\n      <td>Bream</td>\n      <td>500.0</td>\n      <td>31.5</td>\n    </tr>\n    <tr>\n      <th>13</th>\n      <td>Bream</td>\n      <td>340.0</td>\n      <td>32.0</td>\n    </tr>\n    <tr>\n      <th>14</th>\n      <td>Bream</td>\n      <td>600.0</td>\n      <td>32.0</td>\n    </tr>\n    <tr>\n      <th>15</th>\n      <td>Bream</td>\n      <td>600.0</td>\n      <td>32.0</td>\n    </tr>\n    <tr>\n      <th>16</th>\n      <td>Bream</td>\n      <td>700.0</td>\n      <td>33.0</td>\n    </tr>\n    <tr>\n      <th>17</th>\n      <td>Bream</td>\n      <td>700.0</td>\n      <td>33.0</td>\n    </tr>\n    <tr>\n      <th>18</th>\n      <td>Bream</td>\n      <td>610.0</td>\n      <td>33.5</td>\n    </tr>\n    <tr>\n      <th>19</th>\n      <td>Bream</td>\n      <td>650.0</td>\n      <td>33.5</td>\n    </tr>\n    <tr>\n      <th>20</th>\n      <td>Bream</td>\n      <td>575.0</td>\n      <td>34.0</td>\n    </tr>\n    <tr>\n      <th>21</th>\n      <td>Bream</td>\n      <td>685.0</td>\n      <td>34.0</td>\n    </tr>\n    <tr>\n      <th>22</th>\n      <td>Bream</td>\n      <td>620.0</td>\n      <td>34.5</td>\n    </tr>\n    <tr>\n      <th>23</th>\n      <td>Bream</td>\n      <td>680.0</td>\n      <td>35.0</td>\n    </tr>\n    <tr>\n      <th>24</th>\n      <td>Bream</td>\n      <td>700.0</td>\n      <td>35.0</td>\n    </tr>\n    <tr>\n      <th>25</th>\n      <td>Bream</td>\n      <td>725.0</td>\n      <td>35.0</td>\n    </tr>\n    <tr>\n      <th>26</th>\n      <td>Bream</td>\n      <td>720.0</td>\n      <td>35.0</td>\n    </tr>\n    <tr>\n      <th>27</th>\n      <td>Bream</td>\n      <td>714.0</td>\n      <td>36.0</td>\n    </tr>\n    <tr>\n      <th>28</th>\n      <td>Bream</td>\n      <td>850.0</td>\n      <td>36.0</td>\n    </tr>\n    <tr>\n      <th>29</th>\n      <td>Bream</td>\n      <td>1000.0</td>\n      <td>37.0</td>\n    </tr>\n    <tr>\n      <th>30</th>\n      <td>Bream</td>\n      <td>920.0</td>\n      <td>38.5</td>\n    </tr>\n    <tr>\n      <th>31</th>\n      <td>Bream</td>\n      <td>955.0</td>\n      <td>38.5</td>\n    </tr>\n    <tr>\n      <th>32</th>\n      <td>Bream</td>\n      <td>925.0</td>\n      <td>39.5</td>\n    </tr>\n    <tr>\n      <th>33</th>\n      <td>Bream</td>\n      <td>975.0</td>\n      <td>41.0</td>\n    </tr>\n    <tr>\n      <th>34</th>\n      <td>Bream</td>\n      <td>950.0</td>\n      <td>41.0</td>\n    </tr>\n    <tr>\n      <th>145</th>\n      <td>Smelt</td>\n      <td>6.7</td>\n      <td>9.8</td>\n    </tr>\n    <tr>\n      <th>146</th>\n      <td>Smelt</td>\n      <td>7.5</td>\n      <td>10.5</td>\n    </tr>\n    <tr>\n      <th>147</th>\n      <td>Smelt</td>\n      <td>7.0</td>\n      <td>10.6</td>\n    </tr>\n    <tr>\n      <th>148</th>\n      <td>Smelt</td>\n      <td>9.7</td>\n      <td>11.0</td>\n    </tr>\n    <tr>\n      <th>149</th>\n      <td>Smelt</td>\n      <td>9.8</td>\n      <td>11.2</td>\n    </tr>\n    <tr>\n      <th>150</th>\n      <td>Smelt</td>\n      <td>8.7</td>\n      <td>11.3</td>\n    </tr>\n    <tr>\n      <th>151</th>\n      <td>Smelt</td>\n      <td>10.0</td>\n      <td>11.8</td>\n    </tr>\n    <tr>\n      <th>152</th>\n      <td>Smelt</td>\n      <td>9.9</td>\n      <td>11.8</td>\n    </tr>\n    <tr>\n      <th>153</th>\n      <td>Smelt</td>\n      <td>9.8</td>\n      <td>12.0</td>\n    </tr>\n    <tr>\n      <th>154</th>\n      <td>Smelt</td>\n      <td>12.2</td>\n      <td>12.2</td>\n    </tr>\n    <tr>\n      <th>155</th>\n      <td>Smelt</td>\n      <td>13.4</td>\n      <td>12.4</td>\n    </tr>\n    <tr>\n      <th>156</th>\n      <td>Smelt</td>\n      <td>12.2</td>\n      <td>13.0</td>\n    </tr>\n    <tr>\n      <th>157</th>\n      <td>Smelt</td>\n      <td>19.7</td>\n      <td>14.3</td>\n    </tr>\n    <tr>\n      <th>158</th>\n      <td>Smelt</td>\n      <td>19.9</td>\n      <td>15.0</td>\n    </tr>\n  </tbody>\n</table>\n</div>"
     },
     "execution_count": 184,
     "metadata": {},
     "output_type": "execute_result"
    }
   ],
   "source": [
    "# Bream, Smelt 품종 행만 추출\n",
    "mask = fishDF.Species.isin(['Bream','Smelt'])   # Boolean INdexing\n",
    "fishDF[mask]"
   ],
   "metadata": {
    "collapsed": false,
    "ExecuteTime": {
     "end_time": "2024-02-26T06:09:56.513606Z",
     "start_time": "2024-02-26T06:09:56.446604100Z"
    }
   },
   "id": "bd399c3dd908f54",
   "execution_count": 184
  },
  {
   "cell_type": "code",
   "outputs": [
    {
     "data": {
      "text/plain": "   Species  Weight  Length\n0    Bream   242.0    25.4\n1    Bream   290.0    26.3\n2    Bream   340.0    26.5\n3    Bream   363.0    29.0\n4    Bream   430.0    29.0\n5    Bream   450.0    29.7\n6    Bream   500.0    29.7\n7    Bream   390.0    30.0\n8    Bream   450.0    30.0\n9    Bream   500.0    30.7\n10   Bream   475.0    31.0\n11   Bream   500.0    31.0\n12   Bream   500.0    31.5\n13   Bream   340.0    32.0\n14   Bream   600.0    32.0\n15   Bream   600.0    32.0\n16   Bream   700.0    33.0\n17   Bream   700.0    33.0\n18   Bream   610.0    33.5\n19   Bream   650.0    33.5\n20   Bream   575.0    34.0\n21   Bream   685.0    34.0\n22   Bream   620.0    34.5\n23   Bream   680.0    35.0\n24   Bream   700.0    35.0\n25   Bream   725.0    35.0\n26   Bream   720.0    35.0\n27   Bream   714.0    36.0\n28   Bream   850.0    36.0\n29   Bream  1000.0    37.0\n30   Bream   920.0    38.5\n31   Bream   955.0    38.5\n32   Bream   925.0    39.5\n33   Bream   975.0    41.0\n34   Bream   950.0    41.0\n35   Smelt     6.7     9.8\n36   Smelt     7.5    10.5\n37   Smelt     7.0    10.6\n38   Smelt     9.7    11.0\n39   Smelt     9.8    11.2\n40   Smelt     8.7    11.3\n41   Smelt    10.0    11.8\n42   Smelt     9.9    11.8\n43   Smelt     9.8    12.0\n44   Smelt    12.2    12.2\n45   Smelt    13.4    12.4\n46   Smelt    12.2    13.0\n47   Smelt    19.7    14.3\n48   Smelt    19.9    15.0",
      "text/html": "<div>\n<style scoped>\n    .dataframe tbody tr th:only-of-type {\n        vertical-align: middle;\n    }\n\n    .dataframe tbody tr th {\n        vertical-align: top;\n    }\n\n    .dataframe thead th {\n        text-align: right;\n    }\n</style>\n<table border=\"1\" class=\"dataframe\">\n  <thead>\n    <tr style=\"text-align: right;\">\n      <th></th>\n      <th>Species</th>\n      <th>Weight</th>\n      <th>Length</th>\n    </tr>\n  </thead>\n  <tbody>\n    <tr>\n      <th>0</th>\n      <td>Bream</td>\n      <td>242.0</td>\n      <td>25.4</td>\n    </tr>\n    <tr>\n      <th>1</th>\n      <td>Bream</td>\n      <td>290.0</td>\n      <td>26.3</td>\n    </tr>\n    <tr>\n      <th>2</th>\n      <td>Bream</td>\n      <td>340.0</td>\n      <td>26.5</td>\n    </tr>\n    <tr>\n      <th>3</th>\n      <td>Bream</td>\n      <td>363.0</td>\n      <td>29.0</td>\n    </tr>\n    <tr>\n      <th>4</th>\n      <td>Bream</td>\n      <td>430.0</td>\n      <td>29.0</td>\n    </tr>\n    <tr>\n      <th>5</th>\n      <td>Bream</td>\n      <td>450.0</td>\n      <td>29.7</td>\n    </tr>\n    <tr>\n      <th>6</th>\n      <td>Bream</td>\n      <td>500.0</td>\n      <td>29.7</td>\n    </tr>\n    <tr>\n      <th>7</th>\n      <td>Bream</td>\n      <td>390.0</td>\n      <td>30.0</td>\n    </tr>\n    <tr>\n      <th>8</th>\n      <td>Bream</td>\n      <td>450.0</td>\n      <td>30.0</td>\n    </tr>\n    <tr>\n      <th>9</th>\n      <td>Bream</td>\n      <td>500.0</td>\n      <td>30.7</td>\n    </tr>\n    <tr>\n      <th>10</th>\n      <td>Bream</td>\n      <td>475.0</td>\n      <td>31.0</td>\n    </tr>\n    <tr>\n      <th>11</th>\n      <td>Bream</td>\n      <td>500.0</td>\n      <td>31.0</td>\n    </tr>\n    <tr>\n      <th>12</th>\n      <td>Bream</td>\n      <td>500.0</td>\n      <td>31.5</td>\n    </tr>\n    <tr>\n      <th>13</th>\n      <td>Bream</td>\n      <td>340.0</td>\n      <td>32.0</td>\n    </tr>\n    <tr>\n      <th>14</th>\n      <td>Bream</td>\n      <td>600.0</td>\n      <td>32.0</td>\n    </tr>\n    <tr>\n      <th>15</th>\n      <td>Bream</td>\n      <td>600.0</td>\n      <td>32.0</td>\n    </tr>\n    <tr>\n      <th>16</th>\n      <td>Bream</td>\n      <td>700.0</td>\n      <td>33.0</td>\n    </tr>\n    <tr>\n      <th>17</th>\n      <td>Bream</td>\n      <td>700.0</td>\n      <td>33.0</td>\n    </tr>\n    <tr>\n      <th>18</th>\n      <td>Bream</td>\n      <td>610.0</td>\n      <td>33.5</td>\n    </tr>\n    <tr>\n      <th>19</th>\n      <td>Bream</td>\n      <td>650.0</td>\n      <td>33.5</td>\n    </tr>\n    <tr>\n      <th>20</th>\n      <td>Bream</td>\n      <td>575.0</td>\n      <td>34.0</td>\n    </tr>\n    <tr>\n      <th>21</th>\n      <td>Bream</td>\n      <td>685.0</td>\n      <td>34.0</td>\n    </tr>\n    <tr>\n      <th>22</th>\n      <td>Bream</td>\n      <td>620.0</td>\n      <td>34.5</td>\n    </tr>\n    <tr>\n      <th>23</th>\n      <td>Bream</td>\n      <td>680.0</td>\n      <td>35.0</td>\n    </tr>\n    <tr>\n      <th>24</th>\n      <td>Bream</td>\n      <td>700.0</td>\n      <td>35.0</td>\n    </tr>\n    <tr>\n      <th>25</th>\n      <td>Bream</td>\n      <td>725.0</td>\n      <td>35.0</td>\n    </tr>\n    <tr>\n      <th>26</th>\n      <td>Bream</td>\n      <td>720.0</td>\n      <td>35.0</td>\n    </tr>\n    <tr>\n      <th>27</th>\n      <td>Bream</td>\n      <td>714.0</td>\n      <td>36.0</td>\n    </tr>\n    <tr>\n      <th>28</th>\n      <td>Bream</td>\n      <td>850.0</td>\n      <td>36.0</td>\n    </tr>\n    <tr>\n      <th>29</th>\n      <td>Bream</td>\n      <td>1000.0</td>\n      <td>37.0</td>\n    </tr>\n    <tr>\n      <th>30</th>\n      <td>Bream</td>\n      <td>920.0</td>\n      <td>38.5</td>\n    </tr>\n    <tr>\n      <th>31</th>\n      <td>Bream</td>\n      <td>955.0</td>\n      <td>38.5</td>\n    </tr>\n    <tr>\n      <th>32</th>\n      <td>Bream</td>\n      <td>925.0</td>\n      <td>39.5</td>\n    </tr>\n    <tr>\n      <th>33</th>\n      <td>Bream</td>\n      <td>975.0</td>\n      <td>41.0</td>\n    </tr>\n    <tr>\n      <th>34</th>\n      <td>Bream</td>\n      <td>950.0</td>\n      <td>41.0</td>\n    </tr>\n    <tr>\n      <th>35</th>\n      <td>Smelt</td>\n      <td>6.7</td>\n      <td>9.8</td>\n    </tr>\n    <tr>\n      <th>36</th>\n      <td>Smelt</td>\n      <td>7.5</td>\n      <td>10.5</td>\n    </tr>\n    <tr>\n      <th>37</th>\n      <td>Smelt</td>\n      <td>7.0</td>\n      <td>10.6</td>\n    </tr>\n    <tr>\n      <th>38</th>\n      <td>Smelt</td>\n      <td>9.7</td>\n      <td>11.0</td>\n    </tr>\n    <tr>\n      <th>39</th>\n      <td>Smelt</td>\n      <td>9.8</td>\n      <td>11.2</td>\n    </tr>\n    <tr>\n      <th>40</th>\n      <td>Smelt</td>\n      <td>8.7</td>\n      <td>11.3</td>\n    </tr>\n    <tr>\n      <th>41</th>\n      <td>Smelt</td>\n      <td>10.0</td>\n      <td>11.8</td>\n    </tr>\n    <tr>\n      <th>42</th>\n      <td>Smelt</td>\n      <td>9.9</td>\n      <td>11.8</td>\n    </tr>\n    <tr>\n      <th>43</th>\n      <td>Smelt</td>\n      <td>9.8</td>\n      <td>12.0</td>\n    </tr>\n    <tr>\n      <th>44</th>\n      <td>Smelt</td>\n      <td>12.2</td>\n      <td>12.2</td>\n    </tr>\n    <tr>\n      <th>45</th>\n      <td>Smelt</td>\n      <td>13.4</td>\n      <td>12.4</td>\n    </tr>\n    <tr>\n      <th>46</th>\n      <td>Smelt</td>\n      <td>12.2</td>\n      <td>13.0</td>\n    </tr>\n    <tr>\n      <th>47</th>\n      <td>Smelt</td>\n      <td>19.7</td>\n      <td>14.3</td>\n    </tr>\n    <tr>\n      <th>48</th>\n      <td>Smelt</td>\n      <td>19.9</td>\n      <td>15.0</td>\n    </tr>\n  </tbody>\n</table>\n</div>"
     },
     "execution_count": 185,
     "metadata": {},
     "output_type": "execute_result"
    }
   ],
   "source": [
    "twoFishDF=fishDF[mask]\n",
    "twoFishDF.index\n",
    "\n",
    "# 인덱스 정리\n",
    "twoFishDF.reset_index(drop=True, inplace=True)\n",
    "twoFishDF"
   ],
   "metadata": {
    "collapsed": false,
    "ExecuteTime": {
     "end_time": "2024-02-26T06:09:56.548603700Z",
     "start_time": "2024-02-26T06:09:56.490604600Z"
    }
   },
   "id": "fbef6aebbe3eca21",
   "execution_count": 185
  },
  {
   "cell_type": "markdown",
   "source": [
    "(2) 데이터 전처리 <hr>\n",
    "- 정제 : 결측치, 중복데이터, 이상치 처리\n",
    "- 정규화 : 피쳐 스케일링"
   ],
   "metadata": {
    "collapsed": false
   },
   "id": "b2988716316c41aa"
  },
  {
   "cell_type": "code",
   "outputs": [
    {
     "data": {
      "text/plain": "(444.5, 328.1432328267642)"
     },
     "execution_count": 186,
     "metadata": {},
     "output_type": "execute_result"
    }
   ],
   "source": [
    "# 표준 정규분포 => 평균 0, 표준편차 1 => z-score = (피쳐 - 평균)/표준편차\n",
    "# Weight 컬럼\n",
    "twoFishDF.Weight.mean(), twoFishDF.Weight.std()"
   ],
   "metadata": {
    "collapsed": false,
    "ExecuteTime": {
     "end_time": "2024-02-26T06:09:56.607897100Z",
     "start_time": "2024-02-26T06:09:56.551604Z"
    }
   },
   "id": "b877571dc2c5a93a",
   "execution_count": 186
  },
  {
   "cell_type": "code",
   "outputs": [],
   "source": [
    "ret1=twoFishDF.Weight - twoFishDF.Weight.mean()\n",
    "ret1 = ret1/twoFishDF.Weight.std()"
   ],
   "metadata": {
    "collapsed": false,
    "ExecuteTime": {
     "end_time": "2024-02-26T06:09:56.653474900Z",
     "start_time": "2024-02-26T06:09:56.575603600Z"
    }
   },
   "id": "90f5a3b0e6b766a9",
   "execution_count": 187
  },
  {
   "cell_type": "code",
   "outputs": [],
   "source": [
    "# Length 컬럼\n",
    "ret1=twoFishDF.Length - twoFishDF.Length.mean()\n",
    "ret1 = ret1/twoFishDF.Length.std()"
   ],
   "metadata": {
    "collapsed": false,
    "ExecuteTime": {
     "end_time": "2024-02-26T06:09:56.699753900Z",
     "start_time": "2024-02-26T06:09:56.640478400Z"
    }
   },
   "id": "20fadb2c6f101efe",
   "execution_count": 188
  },
  {
   "cell_type": "markdown",
   "source": [
    "(3) 기계학습 데이터셋 준비 => 피쳐와 타겟 분리 <hr>"
   ],
   "metadata": {
    "collapsed": false
   },
   "id": "45248d6727520f0"
  },
  {
   "cell_type": "code",
   "outputs": [
    {
     "data": {
      "text/plain": "   Weight  Length\n0   242.0    25.4\n1   290.0    26.3",
      "text/html": "<div>\n<style scoped>\n    .dataframe tbody tr th:only-of-type {\n        vertical-align: middle;\n    }\n\n    .dataframe tbody tr th {\n        vertical-align: top;\n    }\n\n    .dataframe thead th {\n        text-align: right;\n    }\n</style>\n<table border=\"1\" class=\"dataframe\">\n  <thead>\n    <tr style=\"text-align: right;\">\n      <th></th>\n      <th>Weight</th>\n      <th>Length</th>\n    </tr>\n  </thead>\n  <tbody>\n    <tr>\n      <th>0</th>\n      <td>242.0</td>\n      <td>25.4</td>\n    </tr>\n    <tr>\n      <th>1</th>\n      <td>290.0</td>\n      <td>26.3</td>\n    </tr>\n  </tbody>\n</table>\n</div>"
     },
     "execution_count": 189,
     "metadata": {},
     "output_type": "execute_result"
    }
   ],
   "source": [
    "# 피쳐/특성/속성 데이터 추출\n",
    "featureDF=twoFishDF[twoFishDF.columns[1:]]\n",
    "featureDF.head(2)"
   ],
   "metadata": {
    "collapsed": false,
    "ExecuteTime": {
     "end_time": "2024-02-26T06:09:56.784321800Z",
     "start_time": "2024-02-26T06:09:56.664750400Z"
    }
   },
   "id": "19ca2a63eff7d6ab",
   "execution_count": 189
  },
  {
   "cell_type": "code",
   "outputs": [
    {
     "data": {
      "text/plain": "0    Bream\n1    Bream\nName: Species, dtype: object"
     },
     "execution_count": 190,
     "metadata": {},
     "output_type": "execute_result"
    }
   ],
   "source": [
    "# 클래스/타겟/라벨 데이터 추출 ==> 수치화 즉 정수인코딩\n",
    "targetDF=twoFishDF['Species']\n",
    "targetDF.head(2)"
   ],
   "metadata": {
    "collapsed": false,
    "ExecuteTime": {
     "end_time": "2024-02-26T06:09:56.794253Z",
     "start_time": "2024-02-26T06:09:56.706753700Z"
    }
   },
   "id": "9d5d831a7b2b2357",
   "execution_count": 190
  },
  {
   "cell_type": "code",
   "outputs": [
    {
     "data": {
      "text/plain": "(dtype('int64'),\n 0    0\n 1    0\n Name: Species, dtype: int64)"
     },
     "execution_count": 191,
     "metadata": {},
     "output_type": "execute_result"
    }
   ],
   "source": [
    "targetDF=targetDF.replace({'Bream':0, 'Smelt':1})\n",
    "targetDF.dtype, targetDF.head(2)"
   ],
   "metadata": {
    "collapsed": false,
    "ExecuteTime": {
     "end_time": "2024-02-26T06:09:56.871252400Z",
     "start_time": "2024-02-26T06:09:56.794253Z"
    }
   },
   "id": "fef012184b8aaaf",
   "execution_count": 191
  },
  {
   "cell_type": "markdown",
   "source": [
    "(3-1) 학습/테스트 데이터셋 분리 <hr>\n",
    " - 지도학습 중 분류 => [고려] 타겟의 비율\n",
    "  - 학습 : 테스트 = 80:20"
   ],
   "metadata": {
    "collapsed": false
   },
   "id": "2c013d7a18e5f78e"
  },
  {
   "cell_type": "code",
   "outputs": [],
   "source": [
    "# 모듈로딩\n",
    "from sklearn.model_selection import train_test_split"
   ],
   "metadata": {
    "collapsed": false,
    "ExecuteTime": {
     "end_time": "2024-02-26T06:09:56.876255200Z",
     "start_time": "2024-02-26T06:09:56.840254600Z"
    }
   },
   "id": "9897dc3c4cfbce28",
   "execution_count": 192
  },
  {
   "cell_type": "code",
   "outputs": [],
   "source": [
    "x_train, x_test, y_train, y_test = train_test_split(featureDF, targetDF, test_size=0.2,\n",
    "                                                    stratify=targetDF)"
   ],
   "metadata": {
    "collapsed": false,
    "ExecuteTime": {
     "end_time": "2024-02-26T06:09:56.969542900Z",
     "start_time": "2024-02-26T06:09:56.881122400Z"
    }
   },
   "id": "397ab4426ddcf70c",
   "execution_count": 193
  },
  {
   "cell_type": "code",
   "outputs": [
    {
     "name": "stdout",
     "output_type": "stream",
     "text": [
      "학습용 데이터셋 ===\n",
      "(39, 2), (39,) \n",
      "\n",
      " Species\n",
      "0    0.717949\n",
      "1    0.282051\n",
      "Name: count, dtype: float64\n",
      "테스트용 데이터셋 ===\n",
      "(10, 2), (10,) \n",
      "\n",
      " Species\n",
      "0    2.8\n",
      "1    1.1\n",
      "Name: count, dtype: float64\n"
     ]
    }
   ],
   "source": [
    "# 학습 및 테스트 데이터셋 확인\n",
    "print(f'학습용 데이터셋 ===\\n{x_train.shape}, {y_train.shape} ')\n",
    "print(f'\\n {y_train.value_counts()/y_train.shape[0]}')\n",
    "\n",
    "print(f'테스트용 데이터셋 ===\\n{x_test.shape}, {y_test.shape} ')\n",
    "print(f'\\n {y_train.value_counts()/y_test.shape[0]}')\n",
    "\n"
   ],
   "metadata": {
    "collapsed": false,
    "ExecuteTime": {
     "end_time": "2024-02-26T06:09:57.043120900Z",
     "start_time": "2024-02-26T06:09:56.973784Z"
    }
   },
   "id": "326bcc9e500d0a73",
   "execution_count": 194
  },
  {
   "cell_type": "markdown",
   "source": [
    "(3-2) 피쳐 데이터의 스케일링 <hr>\n",
    "   - 피쳐들의 값의 범위가 다른 것을 통일 시켜줌\n",
    "   - scikit-learn의 preprocessing 모듈 활용"
   ],
   "metadata": {
    "collapsed": false
   },
   "id": "14f16bbcdf71f395"
  },
  {
   "cell_type": "code",
   "outputs": [],
   "source": [
    "# 모듈 로딩\n",
    "from sklearn.preprocessing import StandardScaler, MinMaxScaler, RobustScaler"
   ],
   "metadata": {
    "collapsed": false,
    "ExecuteTime": {
     "end_time": "2024-02-26T06:29:07.012344Z",
     "start_time": "2024-02-26T06:29:06.990112400Z"
    }
   },
   "id": "5a5bcee9f4a39954",
   "execution_count": 223
  },
  {
   "cell_type": "code",
   "outputs": [],
   "source": [
    "# 표준정규분포 스케일링 : 평균 0, 편차 1\n",
    "# (1) 스케일러 인스턴스 생성\n",
    "# (2) 데이터에 대한 평균, 표준편차 계산 진행 : fit() 메서드\n",
    "# (3) 데이터에 대한 스케일링 진행 : transform() 메서드"
   ],
   "metadata": {
    "collapsed": false,
    "ExecuteTime": {
     "end_time": "2024-02-26T06:09:57.119877700Z",
     "start_time": "2024-02-26T06:09:57.050693600Z"
    }
   },
   "id": "2f3122af79ef3c2a",
   "execution_count": 196
  },
  {
   "cell_type": "code",
   "outputs": [],
   "source": [
    "scaler = StandardScaler()"
   ],
   "metadata": {
    "collapsed": false,
    "ExecuteTime": {
     "end_time": "2024-02-26T06:09:57.122942Z",
     "start_time": "2024-02-26T06:09:57.078948Z"
    }
   },
   "id": "e2b89cefb90f4ed4",
   "execution_count": 197
  },
  {
   "cell_type": "code",
   "outputs": [
    {
     "data": {
      "text/plain": "StandardScaler()",
      "text/html": "<style>#sk-container-id-6 {color: black;}#sk-container-id-6 pre{padding: 0;}#sk-container-id-6 div.sk-toggleable {background-color: white;}#sk-container-id-6 label.sk-toggleable__label {cursor: pointer;display: block;width: 100%;margin-bottom: 0;padding: 0.3em;box-sizing: border-box;text-align: center;}#sk-container-id-6 label.sk-toggleable__label-arrow:before {content: \"▸\";float: left;margin-right: 0.25em;color: #696969;}#sk-container-id-6 label.sk-toggleable__label-arrow:hover:before {color: black;}#sk-container-id-6 div.sk-estimator:hover label.sk-toggleable__label-arrow:before {color: black;}#sk-container-id-6 div.sk-toggleable__content {max-height: 0;max-width: 0;overflow: hidden;text-align: left;background-color: #f0f8ff;}#sk-container-id-6 div.sk-toggleable__content pre {margin: 0.2em;color: black;border-radius: 0.25em;background-color: #f0f8ff;}#sk-container-id-6 input.sk-toggleable__control:checked~div.sk-toggleable__content {max-height: 200px;max-width: 100%;overflow: auto;}#sk-container-id-6 input.sk-toggleable__control:checked~label.sk-toggleable__label-arrow:before {content: \"▾\";}#sk-container-id-6 div.sk-estimator input.sk-toggleable__control:checked~label.sk-toggleable__label {background-color: #d4ebff;}#sk-container-id-6 div.sk-label input.sk-toggleable__control:checked~label.sk-toggleable__label {background-color: #d4ebff;}#sk-container-id-6 input.sk-hidden--visually {border: 0;clip: rect(1px 1px 1px 1px);clip: rect(1px, 1px, 1px, 1px);height: 1px;margin: -1px;overflow: hidden;padding: 0;position: absolute;width: 1px;}#sk-container-id-6 div.sk-estimator {font-family: monospace;background-color: #f0f8ff;border: 1px dotted black;border-radius: 0.25em;box-sizing: border-box;margin-bottom: 0.5em;}#sk-container-id-6 div.sk-estimator:hover {background-color: #d4ebff;}#sk-container-id-6 div.sk-parallel-item::after {content: \"\";width: 100%;border-bottom: 1px solid gray;flex-grow: 1;}#sk-container-id-6 div.sk-label:hover label.sk-toggleable__label {background-color: #d4ebff;}#sk-container-id-6 div.sk-serial::before {content: \"\";position: absolute;border-left: 1px solid gray;box-sizing: border-box;top: 0;bottom: 0;left: 50%;z-index: 0;}#sk-container-id-6 div.sk-serial {display: flex;flex-direction: column;align-items: center;background-color: white;padding-right: 0.2em;padding-left: 0.2em;position: relative;}#sk-container-id-6 div.sk-item {position: relative;z-index: 1;}#sk-container-id-6 div.sk-parallel {display: flex;align-items: stretch;justify-content: center;background-color: white;position: relative;}#sk-container-id-6 div.sk-item::before, #sk-container-id-6 div.sk-parallel-item::before {content: \"\";position: absolute;border-left: 1px solid gray;box-sizing: border-box;top: 0;bottom: 0;left: 50%;z-index: -1;}#sk-container-id-6 div.sk-parallel-item {display: flex;flex-direction: column;z-index: 1;position: relative;background-color: white;}#sk-container-id-6 div.sk-parallel-item:first-child::after {align-self: flex-end;width: 50%;}#sk-container-id-6 div.sk-parallel-item:last-child::after {align-self: flex-start;width: 50%;}#sk-container-id-6 div.sk-parallel-item:only-child::after {width: 0;}#sk-container-id-6 div.sk-dashed-wrapped {border: 1px dashed gray;margin: 0 0.4em 0.5em 0.4em;box-sizing: border-box;padding-bottom: 0.4em;background-color: white;}#sk-container-id-6 div.sk-label label {font-family: monospace;font-weight: bold;display: inline-block;line-height: 1.2em;}#sk-container-id-6 div.sk-label-container {text-align: center;}#sk-container-id-6 div.sk-container {/* jupyter's `normalize.less` sets `[hidden] { display: none; }` but bootstrap.min.css set `[hidden] { display: none !important; }` so we also need the `!important` here to be able to override the default hidden behavior on the sphinx rendered scikit-learn.org. See: https://github.com/scikit-learn/scikit-learn/issues/21755 */display: inline-block !important;position: relative;}#sk-container-id-6 div.sk-text-repr-fallback {display: none;}</style><div id=\"sk-container-id-6\" class=\"sk-top-container\"><div class=\"sk-text-repr-fallback\"><pre>StandardScaler()</pre><b>In a Jupyter environment, please rerun this cell to show the HTML representation or trust the notebook. <br />On GitHub, the HTML representation is unable to render, please try loading this page with nbviewer.org.</b></div><div class=\"sk-container\" hidden><div class=\"sk-item\"><div class=\"sk-estimator sk-toggleable\"><input class=\"sk-toggleable__control sk-hidden--visually\" id=\"sk-estimator-id-6\" type=\"checkbox\" checked><label for=\"sk-estimator-id-6\" class=\"sk-toggleable__label sk-toggleable__label-arrow\">StandardScaler</label><div class=\"sk-toggleable__content\"><pre>StandardScaler()</pre></div></div></div></div></div>"
     },
     "execution_count": 198,
     "metadata": {},
     "output_type": "execute_result"
    }
   ],
   "source": [
    "scaler.fit(x_train)"
   ],
   "metadata": {
    "collapsed": false,
    "ExecuteTime": {
     "end_time": "2024-02-26T06:09:57.205462200Z",
     "start_time": "2024-02-26T06:09:57.131000500Z"
    }
   },
   "id": "f0b1262f57225277",
   "execution_count": 198
  },
  {
   "cell_type": "code",
   "outputs": [
    {
     "data": {
      "text/plain": "array([432.75384615,  26.86666667])"
     },
     "execution_count": 199,
     "metadata": {},
     "output_type": "execute_result"
    }
   ],
   "source": [
    "scaler.mean_"
   ],
   "metadata": {
    "collapsed": false,
    "ExecuteTime": {
     "end_time": "2024-02-26T06:09:57.225464600Z",
     "start_time": "2024-02-26T06:09:57.151113700Z"
    }
   },
   "id": "e51bd61a414e4886",
   "execution_count": 199
  },
  {
   "cell_type": "code",
   "outputs": [
    {
     "data": {
      "text/plain": "array([[ 0.77712382,  0.82126991],\n       [ 0.55710556,  0.6698062 ],\n       [-1.33819455, -1.64253982],\n       [-1.33285125, -1.57185676],\n       [ 1.70434361,  1.42712477],\n       [ 1.53147212,  1.17468524],\n       [ 0.83998618,  0.82126991],\n       [-1.29764833, -1.19824627],\n       [ 0.90284854,  0.82126991],\n       [-0.29153628,  0.51834249],\n       [ 0.52567439,  0.51834249],\n       [ 0.21136259,  0.28609813],\n       [-1.33913748, -1.72332047],\n       [ 0.79283941,  0.7202941 ],\n       [ 0.0542067 ,  0.31639087],\n       [ 0.88398983,  0.92224572],\n       [-0.59956183, -0.14809785],\n       [-1.32907951, -1.52136885],\n       [ 0.44709644,  0.7202941 ],\n       [ 1.64148125,  1.17468524],\n       [-1.29827695, -1.26892933],\n       [-1.33662299, -1.6526374 ],\n       [-0.00865566,  0.21541506],\n       [-1.32939382, -1.58195434],\n       [ 0.21136259,  0.41736668],\n       [ 0.91856413,  0.82126991],\n       [-0.13438038,  0.31639087],\n       [ 0.0542067 ,  0.28609813],\n       [ 1.31145387,  0.92224572],\n       [ 0.68283028,  0.6698062 ],\n       [-0.44869217, -0.05721963],\n       [ 0.21136259,  0.46785458],\n       [-1.32185033, -1.40019788],\n       [ 0.52567439,  0.51834249],\n       [-0.29153628, -0.03702446],\n       [-1.32185033, -1.48097853],\n       [-1.32939382, -1.50117369],\n       [-0.21924456,  0.21541506],\n       [ 1.78292156,  1.02322153]])"
     },
     "execution_count": 200,
     "metadata": {},
     "output_type": "execute_result"
    }
   ],
   "source": [
    "scaler.transform(x_train)"
   ],
   "metadata": {
    "collapsed": false,
    "ExecuteTime": {
     "end_time": "2024-02-26T06:09:57.301181500Z",
     "start_time": "2024-02-26T06:09:57.229462500Z"
    }
   },
   "id": "580eb92c5d9a1079",
   "execution_count": 200
  },
  {
   "cell_type": "code",
   "outputs": [
    {
     "data": {
      "text/plain": "(39, 2)"
     },
     "execution_count": 201,
     "metadata": {},
     "output_type": "execute_result"
    }
   ],
   "source": [
    "# 학습용 데이터 피쳐 스케일링\n",
    "scaled_x_train=scaler.transform(x_train)\n",
    "scaled_x_train.shape"
   ],
   "metadata": {
    "collapsed": false,
    "ExecuteTime": {
     "end_time": "2024-02-26T06:09:57.305168800Z",
     "start_time": "2024-02-26T06:09:57.258168400Z"
    }
   },
   "id": "8ecf5311de30cd90",
   "execution_count": 201
  },
  {
   "cell_type": "code",
   "outputs": [
    {
     "data": {
      "text/plain": "(10, 2)"
     },
     "execution_count": 202,
     "metadata": {},
     "output_type": "execute_result"
    }
   ],
   "source": [
    "# 테스트용 데이터 피쳐 스케일링\n",
    "scaled_x_test=scaler.transform(x_test)\n",
    "scaled_x_test.shape"
   ],
   "metadata": {
    "collapsed": false,
    "ExecuteTime": {
     "end_time": "2024-02-26T06:09:57.347170800Z",
     "start_time": "2024-02-26T06:09:57.312168300Z"
    }
   },
   "id": "e04cab4d68518ce3",
   "execution_count": 202
  },
  {
   "cell_type": "code",
   "outputs": [],
   "source": [],
   "metadata": {
    "collapsed": false,
    "ExecuteTime": {
     "end_time": "2024-02-26T06:09:57.390192400Z",
     "start_time": "2024-02-26T06:09:57.333244100Z"
    }
   },
   "id": "82ab649a5e2a3151",
   "execution_count": 202
  },
  {
   "cell_type": "code",
   "outputs": [],
   "source": [],
   "metadata": {
    "collapsed": false,
    "ExecuteTime": {
     "end_time": "2024-02-26T06:09:57.419944600Z",
     "start_time": "2024-02-26T06:09:57.394190Z"
    }
   },
   "id": "c42894ccb940a17a",
   "execution_count": 202
  },
  {
   "cell_type": "markdown",
   "source": [
    "(3-3) 시각화"
   ],
   "metadata": {
    "collapsed": false
   },
   "id": "8fd4104cb6d7cf73"
  },
  {
   "cell_type": "code",
   "outputs": [],
   "source": [
    "# 모듈 로딩\n",
    "import matplotlib.pyplot as plt"
   ],
   "metadata": {
    "collapsed": false,
    "ExecuteTime": {
     "end_time": "2024-02-26T06:09:57.476445900Z",
     "start_time": "2024-02-26T06:09:57.423611900Z"
    }
   },
   "id": "104d86ad32ba8849",
   "execution_count": 203
  },
  {
   "cell_type": "code",
   "outputs": [
    {
     "data": {
      "text/plain": "<Figure size 640x480 with 1 Axes>",
      "image/png": "[encoded data removed]"
     },
     "metadata": {},
     "output_type": "display_data"
    }
   ],
   "source": [
    "## => 원본 데이터 시각화\n",
    "plt.scatter(x_train.Weight, x_train.Length, c=y_train)\n",
    "plt.show()"
   ],
   "metadata": {
    "collapsed": false,
    "ExecuteTime": {
     "end_time": "2024-02-26T06:09:57.587363300Z",
     "start_time": "2024-02-26T06:09:57.455913900Z"
    }
   },
   "id": "f11902288bf35a7d",
   "execution_count": 204
  },
  {
   "cell_type": "code",
   "outputs": [
    {
     "data": {
      "text/plain": "<Figure size 640x480 with 1 Axes>",
      "image/png": "[encoded data removed]"
     },
     "metadata": {},
     "output_type": "display_data"
    }
   ],
   "source": [
    "## => 스케일된 데이터 시각화 ==> scaled_x_train ndarray 타입\n",
    "plt.scatter(scaled_x_train[:,0], scaled_x_train[:,1], c= y_train)\n",
    "plt.xlabel('Weight')\n",
    "plt.ylabel('Length')\n",
    "plt.show()"
   ],
   "metadata": {
    "collapsed": false,
    "ExecuteTime": {
     "end_time": "2024-02-26T06:09:57.716466Z",
     "start_time": "2024-02-26T06:09:57.571818100Z"
    }
   },
   "id": "f59ad1b9dbc08357",
   "execution_count": 205
  },
  {
   "cell_type": "markdown",
   "source": [
    "(4) 학습 진행"
   ],
   "metadata": {
    "collapsed": false
   },
   "id": "9cddb7bcfb661b0d"
  },
  {
   "cell_type": "code",
   "outputs": [
    {
     "data": {
      "text/plain": "KNeighborsClassifier()",
      "text/html": "<style>#sk-container-id-7 {color: black;}#sk-container-id-7 pre{padding: 0;}#sk-container-id-7 div.sk-toggleable {background-color: white;}#sk-container-id-7 label.sk-toggleable__label {cursor: pointer;display: block;width: 100%;margin-bottom: 0;padding: 0.3em;box-sizing: border-box;text-align: center;}#sk-container-id-7 label.sk-toggleable__label-arrow:before {content: \"▸\";float: left;margin-right: 0.25em;color: #696969;}#sk-container-id-7 label.sk-toggleable__label-arrow:hover:before {color: black;}#sk-container-id-7 div.sk-estimator:hover label.sk-toggleable__label-arrow:before {color: black;}#sk-container-id-7 div.sk-toggleable__content {max-height: 0;max-width: 0;overflow: hidden;text-align: left;background-color: #f0f8ff;}#sk-container-id-7 div.sk-toggleable__content pre {margin: 0.2em;color: black;border-radius: 0.25em;background-color: #f0f8ff;}#sk-container-id-7 input.sk-toggleable__control:checked~div.sk-toggleable__content {max-height: 200px;max-width: 100%;overflow: auto;}#sk-container-id-7 input.sk-toggleable__control:checked~label.sk-toggleable__label-arrow:before {content: \"▾\";}#sk-container-id-7 div.sk-estimator input.sk-toggleable__control:checked~label.sk-toggleable__label {background-color: #d4ebff;}#sk-container-id-7 div.sk-label input.sk-toggleable__control:checked~label.sk-toggleable__label {background-color: #d4ebff;}#sk-container-id-7 input.sk-hidden--visually {border: 0;clip: rect(1px 1px 1px 1px);clip: rect(1px, 1px, 1px, 1px);height: 1px;margin: -1px;overflow: hidden;padding: 0;position: absolute;width: 1px;}#sk-container-id-7 div.sk-estimator {font-family: monospace;background-color: #f0f8ff;border: 1px dotted black;border-radius: 0.25em;box-sizing: border-box;margin-bottom: 0.5em;}#sk-container-id-7 div.sk-estimator:hover {background-color: #d4ebff;}#sk-container-id-7 div.sk-parallel-item::after {content: \"\";width: 100%;border-bottom: 1px solid gray;flex-grow: 1;}#sk-container-id-7 div.sk-label:hover label.sk-toggleable__label {background-color: #d4ebff;}#sk-container-id-7 div.sk-serial::before {content: \"\";position: absolute;border-left: 1px solid gray;box-sizing: border-box;top: 0;bottom: 0;left: 50%;z-index: 0;}#sk-container-id-7 div.sk-serial {display: flex;flex-direction: column;align-items: center;background-color: white;padding-right: 0.2em;padding-left: 0.2em;position: relative;}#sk-container-id-7 div.sk-item {position: relative;z-index: 1;}#sk-container-id-7 div.sk-parallel {display: flex;align-items: stretch;justify-content: center;background-color: white;position: relative;}#sk-container-id-7 div.sk-item::before, #sk-container-id-7 div.sk-parallel-item::before {content: \"\";position: absolute;border-left: 1px solid gray;box-sizing: border-box;top: 0;bottom: 0;left: 50%;z-index: -1;}#sk-container-id-7 div.sk-parallel-item {display: flex;flex-direction: column;z-index: 1;position: relative;background-color: white;}#sk-container-id-7 div.sk-parallel-item:first-child::after {align-self: flex-end;width: 50%;}#sk-container-id-7 div.sk-parallel-item:last-child::after {align-self: flex-start;width: 50%;}#sk-container-id-7 div.sk-parallel-item:only-child::after {width: 0;}#sk-container-id-7 div.sk-dashed-wrapped {border: 1px dashed gray;margin: 0 0.4em 0.5em 0.4em;box-sizing: border-box;padding-bottom: 0.4em;background-color: white;}#sk-container-id-7 div.sk-label label {font-family: monospace;font-weight: bold;display: inline-block;line-height: 1.2em;}#sk-container-id-7 div.sk-label-container {text-align: center;}#sk-container-id-7 div.sk-container {/* jupyter's `normalize.less` sets `[hidden] { display: none; }` but bootstrap.min.css set `[hidden] { display: none !important; }` so we also need the `!important` here to be able to override the default hidden behavior on the sphinx rendered scikit-learn.org. See: https://github.com/scikit-learn/scikit-learn/issues/21755 */display: inline-block !important;position: relative;}#sk-container-id-7 div.sk-text-repr-fallback {display: none;}</style><div id=\"sk-container-id-7\" class=\"sk-top-container\"><div class=\"sk-text-repr-fallback\"><pre>KNeighborsClassifier()</pre><b>In a Jupyter environment, please rerun this cell to show the HTML representation or trust the notebook. <br />On GitHub, the HTML representation is unable to render, please try loading this page with nbviewer.org.</b></div><div class=\"sk-container\" hidden><div class=\"sk-item\"><div class=\"sk-estimator sk-toggleable\"><input class=\"sk-toggleable__control sk-hidden--visually\" id=\"sk-estimator-id-7\" type=\"checkbox\" checked><label for=\"sk-estimator-id-7\" class=\"sk-toggleable__label sk-toggleable__label-arrow\">KNeighborsClassifier</label><div class=\"sk-toggleable__content\"><pre>KNeighborsClassifier()</pre></div></div></div></div></div>"
     },
     "execution_count": 207,
     "metadata": {},
     "output_type": "execute_result"
    }
   ],
   "source": [
    "## 방법 (1): KNN 알고리즘\n",
    "fishModel=KNeighborsClassifier()\n",
    "fishModel"
   ],
   "metadata": {
    "collapsed": false,
    "ExecuteTime": {
     "end_time": "2024-02-26T06:11:31.071585500Z",
     "start_time": "2024-02-26T06:11:31.036552400Z"
    }
   },
   "id": "4c5ce161cbabbdec",
   "execution_count": 207
  },
  {
   "cell_type": "code",
   "outputs": [
    {
     "data": {
      "text/plain": "KNeighborsClassifier()",
      "text/html": "<style>#sk-container-id-8 {color: black;}#sk-container-id-8 pre{padding: 0;}#sk-container-id-8 div.sk-toggleable {background-color: white;}#sk-container-id-8 label.sk-toggleable__label {cursor: pointer;display: block;width: 100%;margin-bottom: 0;padding: 0.3em;box-sizing: border-box;text-align: center;}#sk-container-id-8 label.sk-toggleable__label-arrow:before {content: \"▸\";float: left;margin-right: 0.25em;color: #696969;}#sk-container-id-8 label.sk-toggleable__label-arrow:hover:before {color: black;}#sk-container-id-8 div.sk-estimator:hover label.sk-toggleable__label-arrow:before {color: black;}#sk-container-id-8 div.sk-toggleable__content {max-height: 0;max-width: 0;overflow: hidden;text-align: left;background-color: #f0f8ff;}#sk-container-id-8 div.sk-toggleable__content pre {margin: 0.2em;color: black;border-radius: 0.25em;background-color: #f0f8ff;}#sk-container-id-8 input.sk-toggleable__control:checked~div.sk-toggleable__content {max-height: 200px;max-width: 100%;overflow: auto;}#sk-container-id-8 input.sk-toggleable__control:checked~label.sk-toggleable__label-arrow:before {content: \"▾\";}#sk-container-id-8 div.sk-estimator input.sk-toggleable__control:checked~label.sk-toggleable__label {background-color: #d4ebff;}#sk-container-id-8 div.sk-label input.sk-toggleable__control:checked~label.sk-toggleable__label {background-color: #d4ebff;}#sk-container-id-8 input.sk-hidden--visually {border: 0;clip: rect(1px 1px 1px 1px);clip: rect(1px, 1px, 1px, 1px);height: 1px;margin: -1px;overflow: hidden;padding: 0;position: absolute;width: 1px;}#sk-container-id-8 div.sk-estimator {font-family: monospace;background-color: #f0f8ff;border: 1px dotted black;border-radius: 0.25em;box-sizing: border-box;margin-bottom: 0.5em;}#sk-container-id-8 div.sk-estimator:hover {background-color: #d4ebff;}#sk-container-id-8 div.sk-parallel-item::after {content: \"\";width: 100%;border-bottom: 1px solid gray;flex-grow: 1;}#sk-container-id-8 div.sk-label:hover label.sk-toggleable__label {background-color: #d4ebff;}#sk-container-id-8 div.sk-serial::before {content: \"\";position: absolute;border-left: 1px solid gray;box-sizing: border-box;top: 0;bottom: 0;left: 50%;z-index: 0;}#sk-container-id-8 div.sk-serial {display: flex;flex-direction: column;align-items: center;background-color: white;padding-right: 0.2em;padding-left: 0.2em;position: relative;}#sk-container-id-8 div.sk-item {position: relative;z-index: 1;}#sk-container-id-8 div.sk-parallel {display: flex;align-items: stretch;justify-content: center;background-color: white;position: relative;}#sk-container-id-8 div.sk-item::before, #sk-container-id-8 div.sk-parallel-item::before {content: \"\";position: absolute;border-left: 1px solid gray;box-sizing: border-box;top: 0;bottom: 0;left: 50%;z-index: -1;}#sk-container-id-8 div.sk-parallel-item {display: flex;flex-direction: column;z-index: 1;position: relative;background-color: white;}#sk-container-id-8 div.sk-parallel-item:first-child::after {align-self: flex-end;width: 50%;}#sk-container-id-8 div.sk-parallel-item:last-child::after {align-self: flex-start;width: 50%;}#sk-container-id-8 div.sk-parallel-item:only-child::after {width: 0;}#sk-container-id-8 div.sk-dashed-wrapped {border: 1px dashed gray;margin: 0 0.4em 0.5em 0.4em;box-sizing: border-box;padding-bottom: 0.4em;background-color: white;}#sk-container-id-8 div.sk-label label {font-family: monospace;font-weight: bold;display: inline-block;line-height: 1.2em;}#sk-container-id-8 div.sk-label-container {text-align: center;}#sk-container-id-8 div.sk-container {/* jupyter's `normalize.less` sets `[hidden] { display: none; }` but bootstrap.min.css set `[hidden] { display: none !important; }` so we also need the `!important` here to be able to override the default hidden behavior on the sphinx rendered scikit-learn.org. See: https://github.com/scikit-learn/scikit-learn/issues/21755 */display: inline-block !important;position: relative;}#sk-container-id-8 div.sk-text-repr-fallback {display: none;}</style><div id=\"sk-container-id-8\" class=\"sk-top-container\"><div class=\"sk-text-repr-fallback\"><pre>KNeighborsClassifier()</pre><b>In a Jupyter environment, please rerun this cell to show the HTML representation or trust the notebook. <br />On GitHub, the HTML representation is unable to render, please try loading this page with nbviewer.org.</b></div><div class=\"sk-container\" hidden><div class=\"sk-item\"><div class=\"sk-estimator sk-toggleable\"><input class=\"sk-toggleable__control sk-hidden--visually\" id=\"sk-estimator-id-8\" type=\"checkbox\" checked><label for=\"sk-estimator-id-8\" class=\"sk-toggleable__label sk-toggleable__label-arrow\">KNeighborsClassifier</label><div class=\"sk-toggleable__content\"><pre>KNeighborsClassifier()</pre></div></div></div></div></div>"
     },
     "execution_count": 208,
     "metadata": {},
     "output_type": "execute_result"
    }
   ],
   "source": [
    "# 학습\n",
    "fishModel.fit(scaled_x_train, y_train)"
   ],
   "metadata": {
    "collapsed": false,
    "ExecuteTime": {
     "end_time": "2024-02-26T06:11:40.425143500Z",
     "start_time": "2024-02-26T06:11:40.387985900Z"
    }
   },
   "id": "4d76a347c4ce549d",
   "execution_count": 208
  },
  {
   "cell_type": "code",
   "outputs": [
    {
     "data": {
      "text/plain": "SVC()",
      "text/html": "<style>#sk-container-id-9 {color: black;}#sk-container-id-9 pre{padding: 0;}#sk-container-id-9 div.sk-toggleable {background-color: white;}#sk-container-id-9 label.sk-toggleable__label {cursor: pointer;display: block;width: 100%;margin-bottom: 0;padding: 0.3em;box-sizing: border-box;text-align: center;}#sk-container-id-9 label.sk-toggleable__label-arrow:before {content: \"▸\";float: left;margin-right: 0.25em;color: #696969;}#sk-container-id-9 label.sk-toggleable__label-arrow:hover:before {color: black;}#sk-container-id-9 div.sk-estimator:hover label.sk-toggleable__label-arrow:before {color: black;}#sk-container-id-9 div.sk-toggleable__content {max-height: 0;max-width: 0;overflow: hidden;text-align: left;background-color: #f0f8ff;}#sk-container-id-9 div.sk-toggleable__content pre {margin: 0.2em;color: black;border-radius: 0.25em;background-color: #f0f8ff;}#sk-container-id-9 input.sk-toggleable__control:checked~div.sk-toggleable__content {max-height: 200px;max-width: 100%;overflow: auto;}#sk-container-id-9 input.sk-toggleable__control:checked~label.sk-toggleable__label-arrow:before {content: \"▾\";}#sk-container-id-9 div.sk-estimator input.sk-toggleable__control:checked~label.sk-toggleable__label {background-color: #d4ebff;}#sk-container-id-9 div.sk-label input.sk-toggleable__control:checked~label.sk-toggleable__label {background-color: #d4ebff;}#sk-container-id-9 input.sk-hidden--visually {border: 0;clip: rect(1px 1px 1px 1px);clip: rect(1px, 1px, 1px, 1px);height: 1px;margin: -1px;overflow: hidden;padding: 0;position: absolute;width: 1px;}#sk-container-id-9 div.sk-estimator {font-family: monospace;background-color: #f0f8ff;border: 1px dotted black;border-radius: 0.25em;box-sizing: border-box;margin-bottom: 0.5em;}#sk-container-id-9 div.sk-estimator:hover {background-color: #d4ebff;}#sk-container-id-9 div.sk-parallel-item::after {content: \"\";width: 100%;border-bottom: 1px solid gray;flex-grow: 1;}#sk-container-id-9 div.sk-label:hover label.sk-toggleable__label {background-color: #d4ebff;}#sk-container-id-9 div.sk-serial::before {content: \"\";position: absolute;border-left: 1px solid gray;box-sizing: border-box;top: 0;bottom: 0;left: 50%;z-index: 0;}#sk-container-id-9 div.sk-serial {display: flex;flex-direction: column;align-items: center;background-color: white;padding-right: 0.2em;padding-left: 0.2em;position: relative;}#sk-container-id-9 div.sk-item {position: relative;z-index: 1;}#sk-container-id-9 div.sk-parallel {display: flex;align-items: stretch;justify-content: center;background-color: white;position: relative;}#sk-container-id-9 div.sk-item::before, #sk-container-id-9 div.sk-parallel-item::before {content: \"\";position: absolute;border-left: 1px solid gray;box-sizing: border-box;top: 0;bottom: 0;left: 50%;z-index: -1;}#sk-container-id-9 div.sk-parallel-item {display: flex;flex-direction: column;z-index: 1;position: relative;background-color: white;}#sk-container-id-9 div.sk-parallel-item:first-child::after {align-self: flex-end;width: 50%;}#sk-container-id-9 div.sk-parallel-item:last-child::after {align-self: flex-start;width: 50%;}#sk-container-id-9 div.sk-parallel-item:only-child::after {width: 0;}#sk-container-id-9 div.sk-dashed-wrapped {border: 1px dashed gray;margin: 0 0.4em 0.5em 0.4em;box-sizing: border-box;padding-bottom: 0.4em;background-color: white;}#sk-container-id-9 div.sk-label label {font-family: monospace;font-weight: bold;display: inline-block;line-height: 1.2em;}#sk-container-id-9 div.sk-label-container {text-align: center;}#sk-container-id-9 div.sk-container {/* jupyter's `normalize.less` sets `[hidden] { display: none; }` but bootstrap.min.css set `[hidden] { display: none !important; }` so we also need the `!important` here to be able to override the default hidden behavior on the sphinx rendered scikit-learn.org. See: https://github.com/scikit-learn/scikit-learn/issues/21755 */display: inline-block !important;position: relative;}#sk-container-id-9 div.sk-text-repr-fallback {display: none;}</style><div id=\"sk-container-id-9\" class=\"sk-top-container\"><div class=\"sk-text-repr-fallback\"><pre>SVC()</pre><b>In a Jupyter environment, please rerun this cell to show the HTML representation or trust the notebook. <br />On GitHub, the HTML representation is unable to render, please try loading this page with nbviewer.org.</b></div><div class=\"sk-container\" hidden><div class=\"sk-item\"><div class=\"sk-estimator sk-toggleable\"><input class=\"sk-toggleable__control sk-hidden--visually\" id=\"sk-estimator-id-9\" type=\"checkbox\" checked><label for=\"sk-estimator-id-9\" class=\"sk-toggleable__label sk-toggleable__label-arrow\">SVC</label><div class=\"sk-toggleable__content\"><pre>SVC()</pre></div></div></div></div></div>"
     },
     "execution_count": 216,
     "metadata": {},
     "output_type": "execute_result"
    }
   ],
   "source": [
    "## 방법 (2): SVC\n",
    "from sklearn.svm import SVC\n",
    "\n",
    "fishModel2=SVC()\n",
    "fishModel2.fit(scaled_x_train, y_train)"
   ],
   "metadata": {
    "collapsed": false,
    "ExecuteTime": {
     "end_time": "2024-02-26T06:21:35.302207900Z",
     "start_time": "2024-02-26T06:21:35.261207400Z"
    }
   },
   "id": "6cd8a21ae0b507bc",
   "execution_count": 216
  },
  {
   "cell_type": "code",
   "outputs": [
    {
     "data": {
      "text/plain": "LogisticRegression()",
      "text/html": "<style>#sk-container-id-10 {color: black;}#sk-container-id-10 pre{padding: 0;}#sk-container-id-10 div.sk-toggleable {background-color: white;}#sk-container-id-10 label.sk-toggleable__label {cursor: pointer;display: block;width: 100%;margin-bottom: 0;padding: 0.3em;box-sizing: border-box;text-align: center;}#sk-container-id-10 label.sk-toggleable__label-arrow:before {content: \"▸\";float: left;margin-right: 0.25em;color: #696969;}#sk-container-id-10 label.sk-toggleable__label-arrow:hover:before {color: black;}#sk-container-id-10 div.sk-estimator:hover label.sk-toggleable__label-arrow:before {color: black;}#sk-container-id-10 div.sk-toggleable__content {max-height: 0;max-width: 0;overflow: hidden;text-align: left;background-color: #f0f8ff;}#sk-container-id-10 div.sk-toggleable__content pre {margin: 0.2em;color: black;border-radius: 0.25em;background-color: #f0f8ff;}#sk-container-id-10 input.sk-toggleable__control:checked~div.sk-toggleable__content {max-height: 200px;max-width: 100%;overflow: auto;}#sk-container-id-10 input.sk-toggleable__control:checked~label.sk-toggleable__label-arrow:before {content: \"▾\";}#sk-container-id-10 div.sk-estimator input.sk-toggleable__control:checked~label.sk-toggleable__label {background-color: #d4ebff;}#sk-container-id-10 div.sk-label input.sk-toggleable__control:checked~label.sk-toggleable__label {background-color: #d4ebff;}#sk-container-id-10 input.sk-hidden--visually {border: 0;clip: rect(1px 1px 1px 1px);clip: rect(1px, 1px, 1px, 1px);height: 1px;margin: -1px;overflow: hidden;padding: 0;position: absolute;width: 1px;}#sk-container-id-10 div.sk-estimator {font-family: monospace;background-color: #f0f8ff;border: 1px dotted black;border-radius: 0.25em;box-sizing: border-box;margin-bottom: 0.5em;}#sk-container-id-10 div.sk-estimator:hover {background-color: #d4ebff;}#sk-container-id-10 div.sk-parallel-item::after {content: \"\";width: 100%;border-bottom: 1px solid gray;flex-grow: 1;}#sk-container-id-10 div.sk-label:hover label.sk-toggleable__label {background-color: #d4ebff;}#sk-container-id-10 div.sk-serial::before {content: \"\";position: absolute;border-left: 1px solid gray;box-sizing: border-box;top: 0;bottom: 0;left: 50%;z-index: 0;}#sk-container-id-10 div.sk-serial {display: flex;flex-direction: column;align-items: center;background-color: white;padding-right: 0.2em;padding-left: 0.2em;position: relative;}#sk-container-id-10 div.sk-item {position: relative;z-index: 1;}#sk-container-id-10 div.sk-parallel {display: flex;align-items: stretch;justify-content: center;background-color: white;position: relative;}#sk-container-id-10 div.sk-item::before, #sk-container-id-10 div.sk-parallel-item::before {content: \"\";position: absolute;border-left: 1px solid gray;box-sizing: border-box;top: 0;bottom: 0;left: 50%;z-index: -1;}#sk-container-id-10 div.sk-parallel-item {display: flex;flex-direction: column;z-index: 1;position: relative;background-color: white;}#sk-container-id-10 div.sk-parallel-item:first-child::after {align-self: flex-end;width: 50%;}#sk-container-id-10 div.sk-parallel-item:last-child::after {align-self: flex-start;width: 50%;}#sk-container-id-10 div.sk-parallel-item:only-child::after {width: 0;}#sk-container-id-10 div.sk-dashed-wrapped {border: 1px dashed gray;margin: 0 0.4em 0.5em 0.4em;box-sizing: border-box;padding-bottom: 0.4em;background-color: white;}#sk-container-id-10 div.sk-label label {font-family: monospace;font-weight: bold;display: inline-block;line-height: 1.2em;}#sk-container-id-10 div.sk-label-container {text-align: center;}#sk-container-id-10 div.sk-container {/* jupyter's `normalize.less` sets `[hidden] { display: none; }` but bootstrap.min.css set `[hidden] { display: none !important; }` so we also need the `!important` here to be able to override the default hidden behavior on the sphinx rendered scikit-learn.org. See: https://github.com/scikit-learn/scikit-learn/issues/21755 */display: inline-block !important;position: relative;}#sk-container-id-10 div.sk-text-repr-fallback {display: none;}</style><div id=\"sk-container-id-10\" class=\"sk-top-container\"><div class=\"sk-text-repr-fallback\"><pre>LogisticRegression()</pre><b>In a Jupyter environment, please rerun this cell to show the HTML representation or trust the notebook. <br />On GitHub, the HTML representation is unable to render, please try loading this page with nbviewer.org.</b></div><div class=\"sk-container\" hidden><div class=\"sk-item\"><div class=\"sk-estimator sk-toggleable\"><input class=\"sk-toggleable__control sk-hidden--visually\" id=\"sk-estimator-id-10\" type=\"checkbox\" checked><label for=\"sk-estimator-id-10\" class=\"sk-toggleable__label sk-toggleable__label-arrow\">LogisticRegression</label><div class=\"sk-toggleable__content\"><pre>LogisticRegression()</pre></div></div></div></div></div>"
     },
     "execution_count": 218,
     "metadata": {},
     "output_type": "execute_result"
    }
   ],
   "source": [
    "## 방법 (3): LogisticRegression\n",
    "from sklearn.linear_model import LogisticRegression\n",
    "fishModel3=LogisticRegression()\n",
    "fishModel3.fit(scaled_x_train, y_train)"
   ],
   "metadata": {
    "collapsed": false,
    "ExecuteTime": {
     "end_time": "2024-02-26T06:25:17.928543900Z",
     "start_time": "2024-02-26T06:25:17.902421Z"
    }
   },
   "id": "eb77bee7b8522b29",
   "execution_count": 218
  },
  {
   "cell_type": "markdown",
   "source": [
    "(5) 테스트 진행"
   ],
   "metadata": {
    "collapsed": false
   },
   "id": "de75d489bc846f64"
  },
  {
   "cell_type": "code",
   "outputs": [
    {
     "data": {
      "text/plain": "1.0"
     },
     "execution_count": 209,
     "metadata": {},
     "output_type": "execute_result"
    }
   ],
   "source": [
    "fishModel.score(scaled_x_test, y_test)"
   ],
   "metadata": {
    "collapsed": false,
    "ExecuteTime": {
     "end_time": "2024-02-26T06:11:53.499015900Z",
     "start_time": "2024-02-26T06:11:53.454029600Z"
    }
   },
   "id": "9400c27f9fa7ddf8",
   "execution_count": 209
  },
  {
   "cell_type": "code",
   "outputs": [
    {
     "data": {
      "text/plain": "1.0"
     },
     "execution_count": 220,
     "metadata": {},
     "output_type": "execute_result"
    }
   ],
   "source": [
    "fishModel2.score(scaled_x_test, y_test)"
   ],
   "metadata": {
    "collapsed": false,
    "ExecuteTime": {
     "end_time": "2024-02-26T06:25:53.379210100Z",
     "start_time": "2024-02-26T06:25:53.354210Z"
    }
   },
   "id": "7b9c17b2ef54335a",
   "execution_count": 220
  },
  {
   "cell_type": "code",
   "outputs": [
    {
     "data": {
      "text/plain": "1.0"
     },
     "execution_count": 221,
     "metadata": {},
     "output_type": "execute_result"
    }
   ],
   "source": [
    "fishModel3.score(scaled_x_test, y_test)"
   ],
   "metadata": {
    "collapsed": false,
    "ExecuteTime": {
     "end_time": "2024-02-26T06:25:53.992824700Z",
     "start_time": "2024-02-26T06:25:53.949815600Z"
    }
   },
   "id": "c730f0e15b072217",
   "execution_count": 221
  },
  {
   "cell_type": "code",
   "outputs": [
    {
     "name": "stdout",
     "output_type": "stream",
     "text": [
      "KNN : 1.0\n",
      "SVC : 1.0\n",
      "LogisticRegression : 1.0\n"
     ]
    }
   ],
   "source": [
    "print(f'KNN : {fishModel.score(scaled_x_test, y_test)}')\n",
    "print(f'SVC : {fishModel2.score(scaled_x_test, y_test)}')\n",
    "print(f'LogisticRegression : {fishModel3.score(scaled_x_test, y_test)}')"
   ],
   "metadata": {
    "collapsed": false,
    "ExecuteTime": {
     "end_time": "2024-02-26T06:26:44.714869Z",
     "start_time": "2024-02-26T06:26:44.689448Z"
    }
   },
   "id": "7a3da487ba990fcc",
   "execution_count": 222
  },
  {
   "cell_type": "markdown",
   "source": [
    "(6) 예측 <hr>"
   ],
   "metadata": {
    "collapsed": false
   },
   "id": "3823c129f2057dd2"
  },
  {
   "cell_type": "code",
   "outputs": [
    {
     "data": {
      "text/plain": "   Weight  Length\n0     160      25",
      "text/html": "<div>\n<style scoped>\n    .dataframe tbody tr th:only-of-type {\n        vertical-align: middle;\n    }\n\n    .dataframe tbody tr th {\n        vertical-align: top;\n    }\n\n    .dataframe thead th {\n        text-align: right;\n    }\n</style>\n<table border=\"1\" class=\"dataframe\">\n  <thead>\n    <tr style=\"text-align: right;\">\n      <th></th>\n      <th>Weight</th>\n      <th>Length</th>\n    </tr>\n  </thead>\n  <tbody>\n    <tr>\n      <th>0</th>\n      <td>160</td>\n      <td>25</td>\n    </tr>\n  </tbody>\n</table>\n</div>"
     },
     "execution_count": 210,
     "metadata": {},
     "output_type": "execute_result"
    }
   ],
   "source": [
    "## 길이 25, 무게 160인 생선의 품종 예측 ......\n",
    "new_data=pd.DataFrame([[160,25]], columns=twoFishDF.columns[1:])\n",
    "\n",
    "new_data"
   ],
   "metadata": {
    "collapsed": false,
    "ExecuteTime": {
     "end_time": "2024-02-26T06:13:07.371245Z",
     "start_time": "2024-02-26T06:13:07.338783800Z"
    }
   },
   "id": "1ee26905e7772951",
   "execution_count": 210
  },
  {
   "cell_type": "code",
   "outputs": [],
   "source": [
    "# 피쳐스케일링 진행\n",
    "scaled_new_data = scaler.transform(new_data)"
   ],
   "metadata": {
    "collapsed": false,
    "ExecuteTime": {
     "end_time": "2024-02-26T06:13:38.847663Z",
     "start_time": "2024-02-26T06:13:38.817655900Z"
    }
   },
   "id": "43ae2a3430629402",
   "execution_count": 212
  },
  {
   "cell_type": "code",
   "outputs": [
    {
     "data": {
      "text/plain": "array([0], dtype=int64)"
     },
     "execution_count": 215,
     "metadata": {},
     "output_type": "execute_result"
    }
   ],
   "source": [
    "# 예측\n",
    "y_pre = fishModel.predict(scaled_new_data)          # 0이니 'Bream'\n",
    "y_pre"
   ],
   "metadata": {
    "collapsed": false,
    "ExecuteTime": {
     "end_time": "2024-02-26T06:14:52.978811500Z",
     "start_time": "2024-02-26T06:14:52.962998400Z"
    }
   },
   "id": "b59f462a80142191",
   "execution_count": 215
  },
  {
   "cell_type": "code",
   "outputs": [],
   "source": [],
   "metadata": {
    "collapsed": false
   },
   "id": "350a3c4f95dada97"
  }
 ],
 "metadata": {
  "kernelspec": {
   "display_name": "Python 3",
   "language": "python",
   "name": "python3"
  },
  "language_info": {
   "codemirror_mode": {
    "name": "ipython",
    "version": 2
   },
   "file_extension": ".py",
   "mimetype": "text/x-python",
   "name": "python",
   "nbconvert_exporter": "python",
   "pygments_lexer": "ipython2",
   "version": "2.7.6"
  }
 },
 "nbformat": 4,
 "nbformat_minor": 5
}
