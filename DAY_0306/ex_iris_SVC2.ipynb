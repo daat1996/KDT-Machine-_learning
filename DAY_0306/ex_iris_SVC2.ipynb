{
 "cells": [
  {
   "cell_type": "code",
   "execution_count": 2,
   "id": "initial_id",
   "metadata": {
    "collapsed": true,
    "ExecuteTime": {
     "end_time": "2024-03-10T11:34:17.665247200Z",
     "start_time": "2024-03-10T11:34:16.140022200Z"
    }
   },
   "outputs": [],
   "source": [
    "import numpy as np\n",
    "import pandas as pd\n",
    "from sklearn.model_selection import cross_val_score, cross_validate, cross_val_predict, train_test_split\n",
    "from sklearn.preprocessing import StandardScaler\n"
   ]
  },
  {
   "cell_type": "code",
   "outputs": [
    {
     "data": {
      "text/plain": "     sepal_length  sepal_width  petal_length  petal_width    species\n0             5.1          3.5           1.4          0.2     setosa\n1             4.9          3.0           1.4          0.2     setosa\n2             4.7          3.2           1.3          0.2     setosa\n3             4.6          3.1           1.5          0.2     setosa\n4             5.0          3.6           1.4          0.2     setosa\n..            ...          ...           ...          ...        ...\n145           6.7          3.0           5.2          2.3  virginica\n146           6.3          2.5           5.0          1.9  virginica\n147           6.5          3.0           5.2          2.0  virginica\n148           6.2          3.4           5.4          2.3  virginica\n149           5.9          3.0           5.1          1.8  virginica\n\n[150 rows x 5 columns]",
      "text/html": "<div>\n<style scoped>\n    .dataframe tbody tr th:only-of-type {\n        vertical-align: middle;\n    }\n\n    .dataframe tbody tr th {\n        vertical-align: top;\n    }\n\n    .dataframe thead th {\n        text-align: right;\n    }\n</style>\n<table border=\"1\" class=\"dataframe\">\n  <thead>\n    <tr style=\"text-align: right;\">\n      <th></th>\n      <th>sepal_length</th>\n      <th>sepal_width</th>\n      <th>petal_length</th>\n      <th>petal_width</th>\n      <th>species</th>\n    </tr>\n  </thead>\n  <tbody>\n    <tr>\n      <th>0</th>\n      <td>5.1</td>\n      <td>3.5</td>\n      <td>1.4</td>\n      <td>0.2</td>\n      <td>setosa</td>\n    </tr>\n    <tr>\n      <th>1</th>\n      <td>4.9</td>\n      <td>3.0</td>\n      <td>1.4</td>\n      <td>0.2</td>\n      <td>setosa</td>\n    </tr>\n    <tr>\n      <th>2</th>\n      <td>4.7</td>\n      <td>3.2</td>\n      <td>1.3</td>\n      <td>0.2</td>\n      <td>setosa</td>\n    </tr>\n    <tr>\n      <th>3</th>\n      <td>4.6</td>\n      <td>3.1</td>\n      <td>1.5</td>\n      <td>0.2</td>\n      <td>setosa</td>\n    </tr>\n    <tr>\n      <th>4</th>\n      <td>5.0</td>\n      <td>3.6</td>\n      <td>1.4</td>\n      <td>0.2</td>\n      <td>setosa</td>\n    </tr>\n    <tr>\n      <th>...</th>\n      <td>...</td>\n      <td>...</td>\n      <td>...</td>\n      <td>...</td>\n      <td>...</td>\n    </tr>\n    <tr>\n      <th>145</th>\n      <td>6.7</td>\n      <td>3.0</td>\n      <td>5.2</td>\n      <td>2.3</td>\n      <td>virginica</td>\n    </tr>\n    <tr>\n      <th>146</th>\n      <td>6.3</td>\n      <td>2.5</td>\n      <td>5.0</td>\n      <td>1.9</td>\n      <td>virginica</td>\n    </tr>\n    <tr>\n      <th>147</th>\n      <td>6.5</td>\n      <td>3.0</td>\n      <td>5.2</td>\n      <td>2.0</td>\n      <td>virginica</td>\n    </tr>\n    <tr>\n      <th>148</th>\n      <td>6.2</td>\n      <td>3.4</td>\n      <td>5.4</td>\n      <td>2.3</td>\n      <td>virginica</td>\n    </tr>\n    <tr>\n      <th>149</th>\n      <td>5.9</td>\n      <td>3.0</td>\n      <td>5.1</td>\n      <td>1.8</td>\n      <td>virginica</td>\n    </tr>\n  </tbody>\n</table>\n<p>150 rows × 5 columns</p>\n</div>"
     },
     "execution_count": 3,
     "metadata": {},
     "output_type": "execute_result"
    }
   ],
   "source": [
    "irisDF = pd.read_csv('../data/iris.csv')\n",
    "irisDF"
   ],
   "metadata": {
    "collapsed": false,
    "ExecuteTime": {
     "end_time": "2024-03-10T11:34:17.702249800Z",
     "start_time": "2024-03-10T11:34:17.668248800Z"
    }
   },
   "id": "70bd1f9ad328ce2e",
   "execution_count": 3
  },
  {
   "cell_type": "markdown",
   "source": [
    "100번째 까지만 2진분류"
   ],
   "metadata": {
    "collapsed": false
   },
   "id": "121e3815a605dabe"
  },
  {
   "cell_type": "code",
   "outputs": [
    {
     "data": {
      "text/plain": "    sepal_length  sepal_width  petal_length  petal_width     species\n0            5.1          3.5           1.4          0.2      setosa\n1            4.9          3.0           1.4          0.2      setosa\n2            4.7          3.2           1.3          0.2      setosa\n3            4.6          3.1           1.5          0.2      setosa\n4            5.0          3.6           1.4          0.2      setosa\n..           ...          ...           ...          ...         ...\n95           5.7          3.0           4.2          1.2  versicolor\n96           5.7          2.9           4.2          1.3  versicolor\n97           6.2          2.9           4.3          1.3  versicolor\n98           5.1          2.5           3.0          1.1  versicolor\n99           5.7          2.8           4.1          1.3  versicolor\n\n[100 rows x 5 columns]",
      "text/html": "<div>\n<style scoped>\n    .dataframe tbody tr th:only-of-type {\n        vertical-align: middle;\n    }\n\n    .dataframe tbody tr th {\n        vertical-align: top;\n    }\n\n    .dataframe thead th {\n        text-align: right;\n    }\n</style>\n<table border=\"1\" class=\"dataframe\">\n  <thead>\n    <tr style=\"text-align: right;\">\n      <th></th>\n      <th>sepal_length</th>\n      <th>sepal_width</th>\n      <th>petal_length</th>\n      <th>petal_width</th>\n      <th>species</th>\n    </tr>\n  </thead>\n  <tbody>\n    <tr>\n      <th>0</th>\n      <td>5.1</td>\n      <td>3.5</td>\n      <td>1.4</td>\n      <td>0.2</td>\n      <td>setosa</td>\n    </tr>\n    <tr>\n      <th>1</th>\n      <td>4.9</td>\n      <td>3.0</td>\n      <td>1.4</td>\n      <td>0.2</td>\n      <td>setosa</td>\n    </tr>\n    <tr>\n      <th>2</th>\n      <td>4.7</td>\n      <td>3.2</td>\n      <td>1.3</td>\n      <td>0.2</td>\n      <td>setosa</td>\n    </tr>\n    <tr>\n      <th>3</th>\n      <td>4.6</td>\n      <td>3.1</td>\n      <td>1.5</td>\n      <td>0.2</td>\n      <td>setosa</td>\n    </tr>\n    <tr>\n      <th>4</th>\n      <td>5.0</td>\n      <td>3.6</td>\n      <td>1.4</td>\n      <td>0.2</td>\n      <td>setosa</td>\n    </tr>\n    <tr>\n      <th>...</th>\n      <td>...</td>\n      <td>...</td>\n      <td>...</td>\n      <td>...</td>\n      <td>...</td>\n    </tr>\n    <tr>\n      <th>95</th>\n      <td>5.7</td>\n      <td>3.0</td>\n      <td>4.2</td>\n      <td>1.2</td>\n      <td>versicolor</td>\n    </tr>\n    <tr>\n      <th>96</th>\n      <td>5.7</td>\n      <td>2.9</td>\n      <td>4.2</td>\n      <td>1.3</td>\n      <td>versicolor</td>\n    </tr>\n    <tr>\n      <th>97</th>\n      <td>6.2</td>\n      <td>2.9</td>\n      <td>4.3</td>\n      <td>1.3</td>\n      <td>versicolor</td>\n    </tr>\n    <tr>\n      <th>98</th>\n      <td>5.1</td>\n      <td>2.5</td>\n      <td>3.0</td>\n      <td>1.1</td>\n      <td>versicolor</td>\n    </tr>\n    <tr>\n      <th>99</th>\n      <td>5.7</td>\n      <td>2.8</td>\n      <td>4.1</td>\n      <td>1.3</td>\n      <td>versicolor</td>\n    </tr>\n  </tbody>\n</table>\n<p>100 rows × 5 columns</p>\n</div>"
     },
     "execution_count": 4,
     "metadata": {},
     "output_type": "execute_result"
    }
   ],
   "source": [
    "DF1 = irisDF.iloc[:100]\n",
    "DF1"
   ],
   "metadata": {
    "collapsed": false,
    "ExecuteTime": {
     "end_time": "2024-03-10T11:34:17.726258700Z",
     "start_time": "2024-03-10T11:34:17.700249700Z"
    }
   },
   "id": "751d8c92b1eb12d5",
   "execution_count": 4
  },
  {
   "cell_type": "code",
   "outputs": [],
   "source": [
    "featureDF = DF1[DF1.columns[2:-1]]\n",
    "targetDF = (DF1.species == 'setosa')"
   ],
   "metadata": {
    "collapsed": false,
    "ExecuteTime": {
     "end_time": "2024-03-10T11:34:17.792920Z",
     "start_time": "2024-03-10T11:34:17.718249700Z"
    }
   },
   "id": "9f742cde9d503a0b",
   "execution_count": 5
  },
  {
   "cell_type": "code",
   "outputs": [
    {
     "data": {
      "text/plain": "0      True\n1      True\n2      True\n3      True\n4      True\n      ...  \n95    False\n96    False\n97    False\n98    False\n99    False\nName: species, Length: 100, dtype: bool"
     },
     "execution_count": 6,
     "metadata": {},
     "output_type": "execute_result"
    }
   ],
   "source": [
    "targetDF"
   ],
   "metadata": {
    "collapsed": false,
    "ExecuteTime": {
     "end_time": "2024-03-10T11:34:17.793927500Z",
     "start_time": "2024-03-10T11:34:17.734248400Z"
    }
   },
   "id": "8797204137eb2ba6",
   "execution_count": 6
  },
  {
   "cell_type": "code",
   "outputs": [
    {
     "name": "stdout",
     "output_type": "stream",
     "text": [
      "featureDF: (100, 2), targetDF: (100,)\n"
     ]
    }
   ],
   "source": [
    "print(f'featureDF: {featureDF.shape}, targetDF: {targetDF.shape}')"
   ],
   "metadata": {
    "collapsed": false,
    "ExecuteTime": {
     "end_time": "2024-03-10T11:34:17.794977400Z",
     "start_time": "2024-03-10T11:34:17.748248500Z"
    }
   },
   "id": "d61fcc314445c41",
   "execution_count": 7
  },
  {
   "cell_type": "code",
   "outputs": [],
   "source": [
    "X_train, X_test, y_train, y_test = train_test_split(featureDF, targetDF, test_size=0.2, random_state=17, stratify=targetDF)"
   ],
   "metadata": {
    "collapsed": false,
    "ExecuteTime": {
     "end_time": "2024-03-10T11:34:17.811016200Z",
     "start_time": "2024-03-10T11:34:17.766843700Z"
    }
   },
   "id": "c8bd59261a78346f",
   "execution_count": 8
  },
  {
   "cell_type": "code",
   "outputs": [],
   "source": [
    "scaler=StandardScaler()\n",
    "scaled_X_train = scaler.fit_transform(X_train)\n",
    "scaled_X_test = scaler.transform(X_test)"
   ],
   "metadata": {
    "collapsed": false,
    "ExecuteTime": {
     "end_time": "2024-03-10T11:34:17.847114300Z",
     "start_time": "2024-03-10T11:34:17.780389800Z"
    }
   },
   "id": "ecbe12b431109f37",
   "execution_count": 9
  },
  {
   "cell_type": "code",
   "outputs": [],
   "source": [
    "from sklearn.svm import SVC\n",
    "import matplotlib.pyplot as plt\n",
    "\n",
    "svc = SVC(kernel='linear', C=1.0, probability=True)"
   ],
   "metadata": {
    "collapsed": false,
    "ExecuteTime": {
     "end_time": "2024-03-10T11:34:18.426882800Z",
     "start_time": "2024-03-10T11:34:17.796036900Z"
    }
   },
   "id": "5bfae43cedb18b9b",
   "execution_count": 10
  },
  {
   "cell_type": "code",
   "outputs": [
    {
     "data": {
      "text/plain": "SVC(kernel='linear', probability=True)",
      "text/html": "<style>#sk-container-id-1 {color: black;}#sk-container-id-1 pre{padding: 0;}#sk-container-id-1 div.sk-toggleable {background-color: white;}#sk-container-id-1 label.sk-toggleable__label {cursor: pointer;display: block;width: 100%;margin-bottom: 0;padding: 0.3em;box-sizing: border-box;text-align: center;}#sk-container-id-1 label.sk-toggleable__label-arrow:before {content: \"▸\";float: left;margin-right: 0.25em;color: #696969;}#sk-container-id-1 label.sk-toggleable__label-arrow:hover:before {color: black;}#sk-container-id-1 div.sk-estimator:hover label.sk-toggleable__label-arrow:before {color: black;}#sk-container-id-1 div.sk-toggleable__content {max-height: 0;max-width: 0;overflow: hidden;text-align: left;background-color: #f0f8ff;}#sk-container-id-1 div.sk-toggleable__content pre {margin: 0.2em;color: black;border-radius: 0.25em;background-color: #f0f8ff;}#sk-container-id-1 input.sk-toggleable__control:checked~div.sk-toggleable__content {max-height: 200px;max-width: 100%;overflow: auto;}#sk-container-id-1 input.sk-toggleable__control:checked~label.sk-toggleable__label-arrow:before {content: \"▾\";}#sk-container-id-1 div.sk-estimator input.sk-toggleable__control:checked~label.sk-toggleable__label {background-color: #d4ebff;}#sk-container-id-1 div.sk-label input.sk-toggleable__control:checked~label.sk-toggleable__label {background-color: #d4ebff;}#sk-container-id-1 input.sk-hidden--visually {border: 0;clip: rect(1px 1px 1px 1px);clip: rect(1px, 1px, 1px, 1px);height: 1px;margin: -1px;overflow: hidden;padding: 0;position: absolute;width: 1px;}#sk-container-id-1 div.sk-estimator {font-family: monospace;background-color: #f0f8ff;border: 1px dotted black;border-radius: 0.25em;box-sizing: border-box;margin-bottom: 0.5em;}#sk-container-id-1 div.sk-estimator:hover {background-color: #d4ebff;}#sk-container-id-1 div.sk-parallel-item::after {content: \"\";width: 100%;border-bottom: 1px solid gray;flex-grow: 1;}#sk-container-id-1 div.sk-label:hover label.sk-toggleable__label {background-color: #d4ebff;}#sk-container-id-1 div.sk-serial::before {content: \"\";position: absolute;border-left: 1px solid gray;box-sizing: border-box;top: 0;bottom: 0;left: 50%;z-index: 0;}#sk-container-id-1 div.sk-serial {display: flex;flex-direction: column;align-items: center;background-color: white;padding-right: 0.2em;padding-left: 0.2em;position: relative;}#sk-container-id-1 div.sk-item {position: relative;z-index: 1;}#sk-container-id-1 div.sk-parallel {display: flex;align-items: stretch;justify-content: center;background-color: white;position: relative;}#sk-container-id-1 div.sk-item::before, #sk-container-id-1 div.sk-parallel-item::before {content: \"\";position: absolute;border-left: 1px solid gray;box-sizing: border-box;top: 0;bottom: 0;left: 50%;z-index: -1;}#sk-container-id-1 div.sk-parallel-item {display: flex;flex-direction: column;z-index: 1;position: relative;background-color: white;}#sk-container-id-1 div.sk-parallel-item:first-child::after {align-self: flex-end;width: 50%;}#sk-container-id-1 div.sk-parallel-item:last-child::after {align-self: flex-start;width: 50%;}#sk-container-id-1 div.sk-parallel-item:only-child::after {width: 0;}#sk-container-id-1 div.sk-dashed-wrapped {border: 1px dashed gray;margin: 0 0.4em 0.5em 0.4em;box-sizing: border-box;padding-bottom: 0.4em;background-color: white;}#sk-container-id-1 div.sk-label label {font-family: monospace;font-weight: bold;display: inline-block;line-height: 1.2em;}#sk-container-id-1 div.sk-label-container {text-align: center;}#sk-container-id-1 div.sk-container {/* jupyter's `normalize.less` sets `[hidden] { display: none; }` but bootstrap.min.css set `[hidden] { display: none !important; }` so we also need the `!important` here to be able to override the default hidden behavior on the sphinx rendered scikit-learn.org. See: https://github.com/scikit-learn/scikit-learn/issues/21755 */display: inline-block !important;position: relative;}#sk-container-id-1 div.sk-text-repr-fallback {display: none;}</style><div id=\"sk-container-id-1\" class=\"sk-top-container\"><div class=\"sk-text-repr-fallback\"><pre>SVC(kernel=&#x27;linear&#x27;, probability=True)</pre><b>In a Jupyter environment, please rerun this cell to show the HTML representation or trust the notebook. <br />On GitHub, the HTML representation is unable to render, please try loading this page with nbviewer.org.</b></div><div class=\"sk-container\" hidden><div class=\"sk-item\"><div class=\"sk-estimator sk-toggleable\"><input class=\"sk-toggleable__control sk-hidden--visually\" id=\"sk-estimator-id-1\" type=\"checkbox\" checked><label for=\"sk-estimator-id-1\" class=\"sk-toggleable__label sk-toggleable__label-arrow\">SVC</label><div class=\"sk-toggleable__content\"><pre>SVC(kernel=&#x27;linear&#x27;, probability=True)</pre></div></div></div></div></div>"
     },
     "execution_count": 11,
     "metadata": {},
     "output_type": "execute_result"
    }
   ],
   "source": [
    "svc.fit(scaled_X_train, y_train)"
   ],
   "metadata": {
    "collapsed": false,
    "ExecuteTime": {
     "end_time": "2024-03-10T11:34:18.442266Z",
     "start_time": "2024-03-10T11:34:18.429965500Z"
    }
   },
   "id": "6af0f122a726fc1d",
   "execution_count": 11
  },
  {
   "cell_type": "markdown",
   "source": [
    "경계 그리기"
   ],
   "metadata": {
    "collapsed": false
   },
   "id": "72e36d4a8a7bf5fc"
  },
  {
   "cell_type": "code",
   "outputs": [
    {
     "data": {
      "text/plain": "array([[-1.00412419, -1.05503496],\n       [-1.00412419, -1.05503496],\n       [-1.07379456, -1.05503496],\n       [-0.93445382, -1.05503496],\n       [-1.00412419, -1.05503496],\n       [-0.79511308, -0.69201218],\n       [-1.00412419, -0.87352357],\n       [-0.93445382, -1.05503496],\n       [-1.00412419, -1.05503496],\n       [-0.93445382, -1.23654635],\n       [-0.93445382, -1.05503496],\n       [-0.86478345, -1.05503496],\n       [-1.00412419, -1.23654635],\n       [-1.21313529, -1.23654635],\n       [-1.14346492, -1.05503496],\n       [-0.93445382, -0.69201218],\n       [-1.07379456, -0.69201218],\n       [-1.00412419, -0.87352357],\n       [-0.79511308, -0.87352357],\n       [-0.93445382, -0.87352357],\n       [-0.79511308, -1.05503496],\n       [-0.93445382, -0.69201218],\n       [-1.28280566, -1.05503496],\n       [-0.79511308, -0.51050079],\n       [-0.65577234, -1.05503496],\n       [-0.86478345, -1.05503496],\n       [-0.86478345, -0.69201218],\n       [-0.93445382, -1.05503496],\n       [-1.00412419, -1.05503496],\n       [-0.86478345, -1.05503496],\n       [-0.86478345, -1.05503496],\n       [-0.93445382, -0.69201218],\n       [-0.93445382, -1.23654635],\n       [-1.00412419, -1.05503496],\n       [-0.93445382, -1.23654635],\n       [-1.14346492, -1.05503496],\n       [-1.07379456, -1.05503496],\n       [-0.93445382, -1.23654635],\n       [-1.07379456, -1.05503496],\n       [-0.93445382, -1.05503496],\n       [-1.07379456, -0.87352357],\n       [-1.07379456, -0.87352357],\n       [-1.07379456, -1.05503496],\n       [-0.86478345, -0.3289894 ],\n       [-0.65577234, -0.69201218],\n       [-1.00412419, -0.87352357],\n       [-0.86478345, -1.05503496],\n       [-1.00412419, -1.05503496],\n       [-0.93445382, -1.05503496],\n       [-1.00412419, -1.05503496],\n       [ 1.29499798,  1.12310173],\n       [ 1.15565724,  1.30461312],\n       [ 1.43433871,  1.30461312],\n       [ 0.8073054 ,  0.94159034],\n       [ 1.22532761,  1.30461312],\n       [ 1.15565724,  0.94159034],\n       [ 1.29499798,  1.48612451],\n       [ 0.31961282,  0.39705617],\n       [ 1.22532761,  0.94159034],\n       [ 0.73763503,  1.12310173],\n       [ 0.45895355,  0.39705617],\n       [ 0.94664613,  1.30461312],\n       [ 0.8073054 ,  0.39705617],\n       [ 1.29499798,  1.12310173],\n       [ 0.52862392,  0.94159034],\n       [ 1.08598687,  1.12310173],\n       [ 1.15565724,  1.30461312],\n       [ 0.87697576,  0.39705617],\n       [ 1.15565724,  1.30461312],\n       [ 0.73763503,  0.57856756],\n       [ 1.36466835,  1.84914729],\n       [ 0.8073054 ,  0.94159034],\n       [ 1.43433871,  1.30461312],\n       [ 1.29499798,  0.76007895],\n       [ 1.0163165 ,  0.94159034],\n       [ 1.08598687,  1.12310173],\n       [ 1.36466835,  1.12310173],\n       [ 1.50400908,  1.6676359 ],\n       [ 1.15565724,  1.30461312],\n       [ 0.45895355,  0.39705617],\n       [ 0.66796466,  0.57856756],\n       [ 0.59829429,  0.39705617],\n       [ 0.73763503,  0.76007895],\n       [ 1.57367945,  1.48612451],\n       [ 1.15565724,  1.30461312],\n       [ 1.15565724,  1.48612451],\n       [ 1.29499798,  1.30461312],\n       [ 1.08598687,  0.94159034],\n       [ 0.87697576,  0.94159034],\n       [ 0.8073054 ,  0.94159034],\n       [ 1.08598687,  0.76007895],\n       [ 1.22532761,  1.12310173],\n       [ 0.8073054 ,  0.76007895],\n       [ 0.31961282,  0.39705617],\n       [ 0.94664613,  0.94159034],\n       [ 0.94664613,  0.76007895],\n       [ 0.94664613,  0.94159034],\n       [ 1.0163165 ,  0.94159034],\n       [ 0.11060171,  0.57856756],\n       [ 0.87697576,  0.94159034]])"
     },
     "execution_count": 12,
     "metadata": {},
     "output_type": "execute_result"
    }
   ],
   "source": [
    "xx = scaler.transform(featureDF)\n",
    "xx"
   ],
   "metadata": {
    "collapsed": false,
    "ExecuteTime": {
     "end_time": "2024-03-10T11:34:18.492800800Z",
     "start_time": "2024-03-10T11:34:18.444374300Z"
    }
   },
   "id": "e990f9562fbaab50",
   "execution_count": 12
  },
  {
   "cell_type": "code",
   "outputs": [],
   "source": [
    "# 가로축 x1 : featureDF['petal_length']\n",
    "x1 = xx[:,0]\n",
    "# 세로축 x2 : featureDF['petal_width']\n",
    "x2 = xx[:,1]"
   ],
   "metadata": {
    "collapsed": false,
    "ExecuteTime": {
     "end_time": "2024-03-10T11:34:18.493864Z",
     "start_time": "2024-03-10T11:34:18.461600300Z"
    }
   },
   "id": "228535e2b9d8c19b",
   "execution_count": 13
  },
  {
   "cell_type": "code",
   "outputs": [
    {
     "data": {
      "text/plain": "array([-1.02342817, -0.94667129])"
     },
     "execution_count": 14,
     "metadata": {},
     "output_type": "execute_result"
    }
   ],
   "source": [
    "# 가중치w - 여기서 x1,x2의 변화도를 뜻함\n",
    "w = svc.coef_[0]\n",
    "w"
   ],
   "metadata": {
    "collapsed": false,
    "ExecuteTime": {
     "end_time": "2024-03-10T11:34:18.495968100Z",
     "start_time": "2024-03-10T11:34:18.476090400Z"
    }
   },
   "id": "2419d66ee1202677",
   "execution_count": 14
  },
  {
   "cell_type": "code",
   "outputs": [
    {
     "data": {
      "text/plain": "0.925000230009974"
     },
     "execution_count": 15,
     "metadata": {},
     "output_type": "execute_result"
    }
   ],
   "source": [
    "# 기울기 a는 w[1]/w[0]\n",
    "a = w[1]/w[0]\n",
    "a"
   ],
   "metadata": {
    "collapsed": false,
    "ExecuteTime": {
     "end_time": "2024-03-10T11:34:18.532318800Z",
     "start_time": "2024-03-10T11:34:18.493864Z"
    }
   },
   "id": "ef0d0717a3f6e586",
   "execution_count": 15
  },
  {
   "cell_type": "code",
   "outputs": [
    {
     "data": {
      "text/plain": "-0.29701758109790566"
     },
     "execution_count": 16,
     "metadata": {},
     "output_type": "execute_result"
    }
   ],
   "source": [
    "# 직선식은 w[0]*x1 + w[1]*x2 + intercept = 0\n",
    "# x2 = -a*x1 - intercept/w[1]\n",
    "# Y = -a*X - intercept/w[1]\n",
    "svc.intercept_[0]"
   ],
   "metadata": {
    "collapsed": false,
    "ExecuteTime": {
     "end_time": "2024-03-10T11:34:18.533319Z",
     "start_time": "2024-03-10T11:34:18.506971900Z"
    }
   },
   "id": "d04cfe1ae580d807",
   "execution_count": 16
  },
  {
   "cell_type": "code",
   "outputs": [],
   "source": [
    "# 마진 연습(1)\n",
    "# w[0]*x1 + w[1]*x2 + intercept = 1\n",
    "# Y = -a*X -(1-intercept)/w[1]"
   ],
   "metadata": {
    "collapsed": false,
    "ExecuteTime": {
     "end_time": "2024-03-10T11:34:18.548320Z",
     "start_time": "2024-03-10T11:34:18.521319400Z"
    }
   },
   "id": "20f8f6ddbf2e0a8a",
   "execution_count": 17
  },
  {
   "cell_type": "code",
   "outputs": [
    {
     "data": {
      "text/plain": "((100,), (100,))"
     },
     "execution_count": 18,
     "metadata": {},
     "output_type": "execute_result"
    }
   ],
   "source": [
    "x1.shape, x2.shape"
   ],
   "metadata": {
    "collapsed": false,
    "ExecuteTime": {
     "end_time": "2024-03-10T11:34:18.582328600Z",
     "start_time": "2024-03-10T11:34:18.538319600Z"
    }
   },
   "id": "2bce6371e2a535da",
   "execution_count": 18
  },
  {
   "cell_type": "code",
   "outputs": [
    {
     "name": "stdout",
     "output_type": "stream",
     "text": [
      "100\n"
     ]
    }
   ],
   "source": [
    "# 정의역 X\n",
    "X = np.linspace(x1.min(), x1.max(),100)\n",
    "print(len(X))\n",
    "# 공역 Y\n",
    "Y = -a * X - svc.intercept_[0]/w[1]"
   ],
   "metadata": {
    "collapsed": false,
    "ExecuteTime": {
     "end_time": "2024-03-10T11:34:18.583318500Z",
     "start_time": "2024-03-10T11:34:18.555319900Z"
    }
   },
   "id": "76faf711b92f127",
   "execution_count": 19
  },
  {
   "cell_type": "code",
   "outputs": [],
   "source": [],
   "metadata": {
    "collapsed": false
   },
   "id": "41ab561b49e0d0c"
  },
  {
   "cell_type": "code",
   "outputs": [
    {
     "data": {
      "text/plain": "<Figure size 640x480 with 1 Axes>",
      "image/png": "[encoded data removed]"
     },
     "metadata": {},
     "output_type": "display_data"
    }
   ],
   "source": [
    "plt.scatter(x1,x2,c=targetDF)\n",
    "plt.title('Scaled scatter')\n",
    "\n",
    "# 경계 그리기\n",
    "plt.plot(X, Y,'c-')\n",
    "# 마진\n",
    "\n",
    "plt.plot(X, Y+(1/w[1]), 'c--')\n",
    "plt.plot(X, Y-(1/w[1]), 'c--')\n",
    "\n",
    "# 서포트 벡터 머신 표시\n",
    "plt.scatter(svc.support_vectors_[:,0], svc.support_vectors_[:,1], color='red')\n",
    "\n",
    "plt.show()"
   ],
   "metadata": {
    "collapsed": false,
    "ExecuteTime": {
     "end_time": "2024-03-10T11:34:18.727318700Z",
     "start_time": "2024-03-10T11:34:18.569331600Z"
    }
   },
   "id": "f2bebafea9fb1c67",
   "execution_count": 20
  },
  {
   "cell_type": "code",
   "outputs": [
    {
     "data": {
      "text/plain": "0      True\n1      True\n2      True\n3      True\n4      True\n      ...  \n95    False\n96    False\n97    False\n98    False\n99    False\nName: species, Length: 100, dtype: bool"
     },
     "execution_count": 21,
     "metadata": {},
     "output_type": "execute_result"
    }
   ],
   "source": [
    "targetDF"
   ],
   "metadata": {
    "collapsed": false,
    "ExecuteTime": {
     "end_time": "2024-03-10T11:34:18.764319200Z",
     "start_time": "2024-03-10T11:34:18.730320300Z"
    }
   },
   "id": "200d9f88ca0391e5",
   "execution_count": 21
  },
  {
   "cell_type": "code",
   "outputs": [],
   "source": [],
   "metadata": {
    "collapsed": false,
    "ExecuteTime": {
     "end_time": "2024-03-10T11:34:18.764319200Z",
     "start_time": "2024-03-10T11:34:18.744319500Z"
    }
   },
   "id": "d32d7a252bb62a26",
   "execution_count": 21
  }
 ],
 "metadata": {
  "kernelspec": {
   "display_name": "Python 3",
   "language": "python",
   "name": "python3"
  },
  "language_info": {
   "codemirror_mode": {
    "name": "ipython",
    "version": 2
   },
   "file_extension": ".py",
   "mimetype": "text/x-python",
   "name": "python",
   "nbconvert_exporter": "python",
   "pygments_lexer": "ipython2",
   "version": "2.7.6"
  }
 },
 "nbformat": 4,
 "nbformat_minor": 5
}
