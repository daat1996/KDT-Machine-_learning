{
 "cells": [
  {
   "cell_type": "markdown",
   "source": [
    "### 목표 : 많은 특성의 데이터셋에서 과대적합 해결\n",
    "- 데이터 : perch3.csv\n",
    "- 피쳐 : Length, Height, Width\n",
    "- 타겟 : Weight\n",
    "- [조건]\n",
    "    * 특성 추가 => degree = 5 로 설정\n",
    "    * 특성을 기반으로 무게 예측 => 지도학습 + 회귀"
   ],
   "metadata": {
    "collapsed": false
   },
   "id": "1be5ab0795583782"
  },
  {
   "cell_type": "code",
   "outputs": [],
   "source": [
    "import pandas as pd\n",
    "import matplotlib.pyplot as plt\n",
    "import numpy as np"
   ],
   "metadata": {
    "collapsed": false,
    "ExecuteTime": {
     "end_time": "2024-03-05T04:35:03.393358700Z",
     "start_time": "2024-03-05T04:35:03.327724900Z"
    }
   },
   "id": "cf98d49a99baab22",
   "execution_count": 27
  },
  {
   "cell_type": "code",
   "outputs": [
    {
     "name": "stdout",
     "output_type": "stream",
     "text": [
      "<class 'pandas.core.frame.DataFrame'>\n",
      "RangeIndex: 56 entries, 0 to 55\n",
      "Data columns (total 4 columns):\n",
      " #   Column  Non-Null Count  Dtype  \n",
      "---  ------  --------------  -----  \n",
      " 0   Weight  56 non-null     float64\n",
      " 1   Length  56 non-null     float64\n",
      " 2   Height  56 non-null     float64\n",
      " 3   Width   56 non-null     float64\n",
      "dtypes: float64(4)\n",
      "memory usage: 1.9 KB\n"
     ]
    }
   ],
   "source": [
    "perch = pd.read_csv('../data/perch3.csv')\n",
    "perch.info()"
   ],
   "metadata": {
    "collapsed": false,
    "ExecuteTime": {
     "end_time": "2024-03-05T04:35:03.416928500Z",
     "start_time": "2024-03-05T04:35:03.386902800Z"
    }
   },
   "id": "7018df128f3833e4",
   "execution_count": 28
  },
  {
   "cell_type": "markdown",
   "source": [
    "[2] 데이터 확인 <hr>"
   ],
   "metadata": {
    "collapsed": false
   },
   "id": "da229c8ea582adcd"
  },
  {
   "cell_type": "code",
   "outputs": [
    {
     "name": "stdout",
     "output_type": "stream",
     "text": [
      "Feature => (56, 3), Target => (56,)\n"
     ]
    }
   ],
   "source": [
    "targetSR = perch[perch.columns[0]]\n",
    "featureDF=perch[perch.columns[1:]]\n",
    "\n",
    "print(f'Feature => {featureDF.shape}, Target => {targetSR.shape}')"
   ],
   "metadata": {
    "collapsed": false,
    "ExecuteTime": {
     "end_time": "2024-03-05T04:35:03.453280900Z",
     "start_time": "2024-03-05T04:35:03.409494300Z"
    }
   },
   "id": "fca3c24f561130c1",
   "execution_count": 29
  },
  {
   "cell_type": "markdown",
   "source": [
    "[2-2] 데이터 분포 확인"
   ],
   "metadata": {
    "collapsed": false
   },
   "id": "5cbcffd491db16f1"
  },
  {
   "cell_type": "code",
   "outputs": [
    {
     "data": {
      "text/plain": "<Figure size 640x480 with 3 Axes>",
      "image/png": "[encoded data removed]"
     },
     "metadata": {},
     "output_type": "display_data"
    }
   ],
   "source": [
    "# Feature & Target 관계\n",
    "for nIdx in range(1,4):\n",
    "    col_name=featureDF.columns[nIdx-1]\n",
    "    plt.subplot(1,3,nIdx)\n",
    "    plt.plot(targetSR, featureDF[col_name], 'o', label=col_name)\n",
    "    plt.legend()\n",
    "plt.tight_layout()\n",
    "plt.show()"
   ],
   "metadata": {
    "collapsed": false,
    "ExecuteTime": {
     "end_time": "2024-03-05T04:35:03.765574500Z",
     "start_time": "2024-03-05T04:35:03.458899800Z"
    }
   },
   "id": "f541c4e12a228074",
   "execution_count": 30
  },
  {
   "cell_type": "markdown",
   "source": [
    "[3] 데이터 가공 <hr>\n",
    "- 특성 추가\n",
    "- 특성 스케일링"
   ],
   "metadata": {
    "collapsed": false
   },
   "id": "77a7c810ff6f55c5"
  },
  {
   "cell_type": "markdown",
   "source": [
    "[3-1] 특성 추가"
   ],
   "metadata": {
    "collapsed": false
   },
   "id": "8e8f7c4a6ec779b6"
  },
  {
   "cell_type": "code",
   "outputs": [],
   "source": [
    "from sklearn.preprocessing import PolynomialFeatures\n",
    "\n",
    "poly = PolynomialFeatures(degree=5, include_bias=False)\n",
    "poly.fit(featureDF)\n",
    "poly_feature = poly.transform(featureDF)"
   ],
   "metadata": {
    "collapsed": false,
    "ExecuteTime": {
     "end_time": "2024-03-05T04:35:03.782099Z",
     "start_time": "2024-03-05T04:35:03.769573900Z"
    }
   },
   "id": "1c27b3f96d4c2600",
   "execution_count": 31
  },
  {
   "cell_type": "code",
   "outputs": [
    {
     "name": "stdout",
     "output_type": "stream",
     "text": [
      "특성추가 => (56, 55)\n",
      "['Length' 'Height' 'Width'] => ['Length' 'Height' 'Width' 'Length^2' 'Length Height' 'Length Width'\n",
      " 'Height^2' 'Height Width' 'Width^2' 'Length^3' 'Length^2 Height'\n",
      " 'Length^2 Width' 'Length Height^2' 'Length Height Width' 'Length Width^2'\n",
      " 'Height^3' 'Height^2 Width' 'Height Width^2' 'Width^3' 'Length^4'\n",
      " 'Length^3 Height' 'Length^3 Width' 'Length^2 Height^2'\n",
      " 'Length^2 Height Width' 'Length^2 Width^2' 'Length Height^3'\n",
      " 'Length Height^2 Width' 'Length Height Width^2' 'Length Width^3'\n",
      " 'Height^4' 'Height^3 Width' 'Height^2 Width^2' 'Height Width^3' 'Width^4'\n",
      " 'Length^5' 'Length^4 Height' 'Length^4 Width' 'Length^3 Height^2'\n",
      " 'Length^3 Height Width' 'Length^3 Width^2' 'Length^2 Height^3'\n",
      " 'Length^2 Height^2 Width' 'Length^2 Height Width^2' 'Length^2 Width^3'\n",
      " 'Length Height^4' 'Length Height^3 Width' 'Length Height^2 Width^2'\n",
      " 'Length Height Width^3' 'Length Width^4' 'Height^5' 'Height^4 Width'\n",
      " 'Height^3 Width^2' 'Height^2 Width^3' 'Height Width^4' 'Width^5']\n"
     ]
    }
   ],
   "source": [
    "print(f'특성추가 => {poly_feature.shape}\\n{poly.feature_names_in_} => {poly.get_feature_names_out()}')"
   ],
   "metadata": {
    "collapsed": false,
    "ExecuteTime": {
     "end_time": "2024-03-05T04:35:03.814098600Z",
     "start_time": "2024-03-05T04:35:03.786098600Z"
    }
   },
   "id": "f5d3a42f324840e6",
   "execution_count": 32
  },
  {
   "cell_type": "markdown",
   "source": [
    "[3-2] 피쳐 스케일링"
   ],
   "metadata": {
    "collapsed": false
   },
   "id": "9988391d92910131"
  },
  {
   "cell_type": "code",
   "outputs": [],
   "source": [
    "## 훈련용& 테스트용 분리"
   ],
   "metadata": {
    "collapsed": false,
    "ExecuteTime": {
     "end_time": "2024-03-05T04:35:03.815099400Z",
     "start_time": "2024-03-05T04:35:03.800098900Z"
    }
   },
   "id": "d8c83ed200c97a4d",
   "execution_count": 33
  },
  {
   "cell_type": "code",
   "outputs": [],
   "source": [
    "from sklearn.model_selection import train_test_split"
   ],
   "metadata": {
    "collapsed": false,
    "ExecuteTime": {
     "end_time": "2024-03-05T04:35:03.859097900Z",
     "start_time": "2024-03-05T04:35:03.817098400Z"
    }
   },
   "id": "e1281e843e4857c4",
   "execution_count": 34
  },
  {
   "cell_type": "code",
   "outputs": [],
   "source": [
    "X_train, X_test, y_train, y_test = train_test_split(poly_feature, targetSR, random_state=108)"
   ],
   "metadata": {
    "collapsed": false,
    "ExecuteTime": {
     "end_time": "2024-03-05T04:35:03.860098400Z",
     "start_time": "2024-03-05T04:35:03.832100Z"
    }
   },
   "id": "4ac82cea5dd2f2e5",
   "execution_count": 35
  },
  {
   "cell_type": "code",
   "outputs": [
    {
     "name": "stdout",
     "output_type": "stream",
     "text": [
      "Train => (42, 55), (42,) Test => (14, 55), (14,)\n"
     ]
    }
   ],
   "source": [
    "print(f'Train => {X_train.shape}, {y_train.shape} Test => {X_test.shape}, {y_test.shape}')"
   ],
   "metadata": {
    "collapsed": false,
    "ExecuteTime": {
     "end_time": "2024-03-05T04:35:03.887344200Z",
     "start_time": "2024-03-05T04:35:03.847099400Z"
    }
   },
   "id": "f63ed97c7f889060",
   "execution_count": 36
  },
  {
   "cell_type": "markdown",
   "source": [
    "- 스케일링 진행"
   ],
   "metadata": {
    "collapsed": false
   },
   "id": "17a3d4a7dc3442b5"
  },
  {
   "cell_type": "code",
   "outputs": [
    {
     "data": {
      "text/plain": "StandardScaler()",
      "text/html": "<style>#sk-container-id-3 {color: black;}#sk-container-id-3 pre{padding: 0;}#sk-container-id-3 div.sk-toggleable {background-color: white;}#sk-container-id-3 label.sk-toggleable__label {cursor: pointer;display: block;width: 100%;margin-bottom: 0;padding: 0.3em;box-sizing: border-box;text-align: center;}#sk-container-id-3 label.sk-toggleable__label-arrow:before {content: \"▸\";float: left;margin-right: 0.25em;color: #696969;}#sk-container-id-3 label.sk-toggleable__label-arrow:hover:before {color: black;}#sk-container-id-3 div.sk-estimator:hover label.sk-toggleable__label-arrow:before {color: black;}#sk-container-id-3 div.sk-toggleable__content {max-height: 0;max-width: 0;overflow: hidden;text-align: left;background-color: #f0f8ff;}#sk-container-id-3 div.sk-toggleable__content pre {margin: 0.2em;color: black;border-radius: 0.25em;background-color: #f0f8ff;}#sk-container-id-3 input.sk-toggleable__control:checked~div.sk-toggleable__content {max-height: 200px;max-width: 100%;overflow: auto;}#sk-container-id-3 input.sk-toggleable__control:checked~label.sk-toggleable__label-arrow:before {content: \"▾\";}#sk-container-id-3 div.sk-estimator input.sk-toggleable__control:checked~label.sk-toggleable__label {background-color: #d4ebff;}#sk-container-id-3 div.sk-label input.sk-toggleable__control:checked~label.sk-toggleable__label {background-color: #d4ebff;}#sk-container-id-3 input.sk-hidden--visually {border: 0;clip: rect(1px 1px 1px 1px);clip: rect(1px, 1px, 1px, 1px);height: 1px;margin: -1px;overflow: hidden;padding: 0;position: absolute;width: 1px;}#sk-container-id-3 div.sk-estimator {font-family: monospace;background-color: #f0f8ff;border: 1px dotted black;border-radius: 0.25em;box-sizing: border-box;margin-bottom: 0.5em;}#sk-container-id-3 div.sk-estimator:hover {background-color: #d4ebff;}#sk-container-id-3 div.sk-parallel-item::after {content: \"\";width: 100%;border-bottom: 1px solid gray;flex-grow: 1;}#sk-container-id-3 div.sk-label:hover label.sk-toggleable__label {background-color: #d4ebff;}#sk-container-id-3 div.sk-serial::before {content: \"\";position: absolute;border-left: 1px solid gray;box-sizing: border-box;top: 0;bottom: 0;left: 50%;z-index: 0;}#sk-container-id-3 div.sk-serial {display: flex;flex-direction: column;align-items: center;background-color: white;padding-right: 0.2em;padding-left: 0.2em;position: relative;}#sk-container-id-3 div.sk-item {position: relative;z-index: 1;}#sk-container-id-3 div.sk-parallel {display: flex;align-items: stretch;justify-content: center;background-color: white;position: relative;}#sk-container-id-3 div.sk-item::before, #sk-container-id-3 div.sk-parallel-item::before {content: \"\";position: absolute;border-left: 1px solid gray;box-sizing: border-box;top: 0;bottom: 0;left: 50%;z-index: -1;}#sk-container-id-3 div.sk-parallel-item {display: flex;flex-direction: column;z-index: 1;position: relative;background-color: white;}#sk-container-id-3 div.sk-parallel-item:first-child::after {align-self: flex-end;width: 50%;}#sk-container-id-3 div.sk-parallel-item:last-child::after {align-self: flex-start;width: 50%;}#sk-container-id-3 div.sk-parallel-item:only-child::after {width: 0;}#sk-container-id-3 div.sk-dashed-wrapped {border: 1px dashed gray;margin: 0 0.4em 0.5em 0.4em;box-sizing: border-box;padding-bottom: 0.4em;background-color: white;}#sk-container-id-3 div.sk-label label {font-family: monospace;font-weight: bold;display: inline-block;line-height: 1.2em;}#sk-container-id-3 div.sk-label-container {text-align: center;}#sk-container-id-3 div.sk-container {/* jupyter's `normalize.less` sets `[hidden] { display: none; }` but bootstrap.min.css set `[hidden] { display: none !important; }` so we also need the `!important` here to be able to override the default hidden behavior on the sphinx rendered scikit-learn.org. See: https://github.com/scikit-learn/scikit-learn/issues/21755 */display: inline-block !important;position: relative;}#sk-container-id-3 div.sk-text-repr-fallback {display: none;}</style><div id=\"sk-container-id-3\" class=\"sk-top-container\"><div class=\"sk-text-repr-fallback\"><pre>StandardScaler()</pre><b>In a Jupyter environment, please rerun this cell to show the HTML representation or trust the notebook. <br />On GitHub, the HTML representation is unable to render, please try loading this page with nbviewer.org.</b></div><div class=\"sk-container\" hidden><div class=\"sk-item\"><div class=\"sk-estimator sk-toggleable\"><input class=\"sk-toggleable__control sk-hidden--visually\" id=\"sk-estimator-id-3\" type=\"checkbox\" checked><label for=\"sk-estimator-id-3\" class=\"sk-toggleable__label sk-toggleable__label-arrow\">StandardScaler</label><div class=\"sk-toggleable__content\"><pre>StandardScaler()</pre></div></div></div></div></div>"
     },
     "execution_count": 37,
     "metadata": {},
     "output_type": "execute_result"
    }
   ],
   "source": [
    "from sklearn.preprocessing import StandardScaler\n",
    "std_scaler=StandardScaler()\n",
    "std_scaler.fit(X_train)"
   ],
   "metadata": {
    "collapsed": false,
    "ExecuteTime": {
     "end_time": "2024-03-05T04:35:03.888431900Z",
     "start_time": "2024-03-05T04:35:03.864567700Z"
    }
   },
   "id": "997735c1a59041f6",
   "execution_count": 37
  },
  {
   "cell_type": "code",
   "outputs": [],
   "source": [
    "scaled_X_train=std_scaler.transform(X_train)\n",
    "scaled_X_test=std_scaler.transform(X_test)"
   ],
   "metadata": {
    "collapsed": false,
    "ExecuteTime": {
     "end_time": "2024-03-05T04:35:03.917435200Z",
     "start_time": "2024-03-05T04:35:03.879711800Z"
    }
   },
   "id": "8b326ac4e96b7ac5",
   "execution_count": 38
  },
  {
   "cell_type": "markdown",
   "source": [
    "[4] 학습 진행 => 회귀"
   ],
   "metadata": {
    "collapsed": false
   },
   "id": "1cbc59af7f7784fe"
  },
  {
   "cell_type": "code",
   "outputs": [
    {
     "data": {
      "text/plain": "LinearRegression()",
      "text/html": "<style>#sk-container-id-4 {color: black;}#sk-container-id-4 pre{padding: 0;}#sk-container-id-4 div.sk-toggleable {background-color: white;}#sk-container-id-4 label.sk-toggleable__label {cursor: pointer;display: block;width: 100%;margin-bottom: 0;padding: 0.3em;box-sizing: border-box;text-align: center;}#sk-container-id-4 label.sk-toggleable__label-arrow:before {content: \"▸\";float: left;margin-right: 0.25em;color: #696969;}#sk-container-id-4 label.sk-toggleable__label-arrow:hover:before {color: black;}#sk-container-id-4 div.sk-estimator:hover label.sk-toggleable__label-arrow:before {color: black;}#sk-container-id-4 div.sk-toggleable__content {max-height: 0;max-width: 0;overflow: hidden;text-align: left;background-color: #f0f8ff;}#sk-container-id-4 div.sk-toggleable__content pre {margin: 0.2em;color: black;border-radius: 0.25em;background-color: #f0f8ff;}#sk-container-id-4 input.sk-toggleable__control:checked~div.sk-toggleable__content {max-height: 200px;max-width: 100%;overflow: auto;}#sk-container-id-4 input.sk-toggleable__control:checked~label.sk-toggleable__label-arrow:before {content: \"▾\";}#sk-container-id-4 div.sk-estimator input.sk-toggleable__control:checked~label.sk-toggleable__label {background-color: #d4ebff;}#sk-container-id-4 div.sk-label input.sk-toggleable__control:checked~label.sk-toggleable__label {background-color: #d4ebff;}#sk-container-id-4 input.sk-hidden--visually {border: 0;clip: rect(1px 1px 1px 1px);clip: rect(1px, 1px, 1px, 1px);height: 1px;margin: -1px;overflow: hidden;padding: 0;position: absolute;width: 1px;}#sk-container-id-4 div.sk-estimator {font-family: monospace;background-color: #f0f8ff;border: 1px dotted black;border-radius: 0.25em;box-sizing: border-box;margin-bottom: 0.5em;}#sk-container-id-4 div.sk-estimator:hover {background-color: #d4ebff;}#sk-container-id-4 div.sk-parallel-item::after {content: \"\";width: 100%;border-bottom: 1px solid gray;flex-grow: 1;}#sk-container-id-4 div.sk-label:hover label.sk-toggleable__label {background-color: #d4ebff;}#sk-container-id-4 div.sk-serial::before {content: \"\";position: absolute;border-left: 1px solid gray;box-sizing: border-box;top: 0;bottom: 0;left: 50%;z-index: 0;}#sk-container-id-4 div.sk-serial {display: flex;flex-direction: column;align-items: center;background-color: white;padding-right: 0.2em;padding-left: 0.2em;position: relative;}#sk-container-id-4 div.sk-item {position: relative;z-index: 1;}#sk-container-id-4 div.sk-parallel {display: flex;align-items: stretch;justify-content: center;background-color: white;position: relative;}#sk-container-id-4 div.sk-item::before, #sk-container-id-4 div.sk-parallel-item::before {content: \"\";position: absolute;border-left: 1px solid gray;box-sizing: border-box;top: 0;bottom: 0;left: 50%;z-index: -1;}#sk-container-id-4 div.sk-parallel-item {display: flex;flex-direction: column;z-index: 1;position: relative;background-color: white;}#sk-container-id-4 div.sk-parallel-item:first-child::after {align-self: flex-end;width: 50%;}#sk-container-id-4 div.sk-parallel-item:last-child::after {align-self: flex-start;width: 50%;}#sk-container-id-4 div.sk-parallel-item:only-child::after {width: 0;}#sk-container-id-4 div.sk-dashed-wrapped {border: 1px dashed gray;margin: 0 0.4em 0.5em 0.4em;box-sizing: border-box;padding-bottom: 0.4em;background-color: white;}#sk-container-id-4 div.sk-label label {font-family: monospace;font-weight: bold;display: inline-block;line-height: 1.2em;}#sk-container-id-4 div.sk-label-container {text-align: center;}#sk-container-id-4 div.sk-container {/* jupyter's `normalize.less` sets `[hidden] { display: none; }` but bootstrap.min.css set `[hidden] { display: none !important; }` so we also need the `!important` here to be able to override the default hidden behavior on the sphinx rendered scikit-learn.org. See: https://github.com/scikit-learn/scikit-learn/issues/21755 */display: inline-block !important;position: relative;}#sk-container-id-4 div.sk-text-repr-fallback {display: none;}</style><div id=\"sk-container-id-4\" class=\"sk-top-container\"><div class=\"sk-text-repr-fallback\"><pre>LinearRegression()</pre><b>In a Jupyter environment, please rerun this cell to show the HTML representation or trust the notebook. <br />On GitHub, the HTML representation is unable to render, please try loading this page with nbviewer.org.</b></div><div class=\"sk-container\" hidden><div class=\"sk-item\"><div class=\"sk-estimator sk-toggleable\"><input class=\"sk-toggleable__control sk-hidden--visually\" id=\"sk-estimator-id-4\" type=\"checkbox\" checked><label for=\"sk-estimator-id-4\" class=\"sk-toggleable__label sk-toggleable__label-arrow\">LinearRegression</label><div class=\"sk-toggleable__content\"><pre>LinearRegression()</pre></div></div></div></div></div>"
     },
     "execution_count": 39,
     "metadata": {},
     "output_type": "execute_result"
    }
   ],
   "source": [
    "from sklearn.linear_model import LinearRegression\n",
    "\n",
    "lr_model=LinearRegression()\n",
    "lr_model.fit(scaled_X_train,y_train)"
   ],
   "metadata": {
    "collapsed": false,
    "ExecuteTime": {
     "end_time": "2024-03-05T04:35:03.918504300Z",
     "start_time": "2024-03-05T04:35:03.897226200Z"
    }
   },
   "id": "9ce23e9288b97c8c",
   "execution_count": 39
  },
  {
   "cell_type": "code",
   "outputs": [
    {
     "name": "stdout",
     "output_type": "stream",
     "text": [
      "Train score => 1.0 Test score => -22509.877213131535\n"
     ]
    }
   ],
   "source": [
    "train_score = lr_model.score(scaled_X_train,y_train)\n",
    "test_score = lr_model.score(scaled_X_test,y_test)\n",
    "\n",
    "print(f'Train score => {train_score} Test score => {test_score}')"
   ],
   "metadata": {
    "collapsed": false,
    "ExecuteTime": {
     "end_time": "2024-03-05T04:35:03.955856Z",
     "start_time": "2024-03-05T04:35:03.909728600Z"
    }
   },
   "id": "984370b45fc9bf50",
   "execution_count": 40
  },
  {
   "cell_type": "markdown",
   "source": [
    "### 규제 : 가중치 값을 조절해서 과대적합 문제 해결\n",
    "- Ridge : 모든 피쳐에 가중치를 0에 가깝게 조절\n",
    "- Lasso : 특정 피쳐의 가중치를 0으로 해서 차원 축소 부여\n",
    "- [규제 1] Ridge"
   ],
   "metadata": {
    "collapsed": false
   },
   "id": "eed901f11403081e"
  },
  {
   "cell_type": "code",
   "outputs": [],
   "source": [
    "from sklearn.linear_model import Ridge"
   ],
   "metadata": {
    "collapsed": false,
    "ExecuteTime": {
     "end_time": "2024-03-05T04:38:56.578017400Z",
     "start_time": "2024-03-05T04:38:56.550107700Z"
    }
   },
   "id": "2aa6fc2f65358d4c",
   "execution_count": 41
  },
  {
   "cell_type": "code",
   "outputs": [
    {
     "data": {
      "text/plain": "Ridge()",
      "text/html": "<style>#sk-container-id-5 {color: black;}#sk-container-id-5 pre{padding: 0;}#sk-container-id-5 div.sk-toggleable {background-color: white;}#sk-container-id-5 label.sk-toggleable__label {cursor: pointer;display: block;width: 100%;margin-bottom: 0;padding: 0.3em;box-sizing: border-box;text-align: center;}#sk-container-id-5 label.sk-toggleable__label-arrow:before {content: \"▸\";float: left;margin-right: 0.25em;color: #696969;}#sk-container-id-5 label.sk-toggleable__label-arrow:hover:before {color: black;}#sk-container-id-5 div.sk-estimator:hover label.sk-toggleable__label-arrow:before {color: black;}#sk-container-id-5 div.sk-toggleable__content {max-height: 0;max-width: 0;overflow: hidden;text-align: left;background-color: #f0f8ff;}#sk-container-id-5 div.sk-toggleable__content pre {margin: 0.2em;color: black;border-radius: 0.25em;background-color: #f0f8ff;}#sk-container-id-5 input.sk-toggleable__control:checked~div.sk-toggleable__content {max-height: 200px;max-width: 100%;overflow: auto;}#sk-container-id-5 input.sk-toggleable__control:checked~label.sk-toggleable__label-arrow:before {content: \"▾\";}#sk-container-id-5 div.sk-estimator input.sk-toggleable__control:checked~label.sk-toggleable__label {background-color: #d4ebff;}#sk-container-id-5 div.sk-label input.sk-toggleable__control:checked~label.sk-toggleable__label {background-color: #d4ebff;}#sk-container-id-5 input.sk-hidden--visually {border: 0;clip: rect(1px 1px 1px 1px);clip: rect(1px, 1px, 1px, 1px);height: 1px;margin: -1px;overflow: hidden;padding: 0;position: absolute;width: 1px;}#sk-container-id-5 div.sk-estimator {font-family: monospace;background-color: #f0f8ff;border: 1px dotted black;border-radius: 0.25em;box-sizing: border-box;margin-bottom: 0.5em;}#sk-container-id-5 div.sk-estimator:hover {background-color: #d4ebff;}#sk-container-id-5 div.sk-parallel-item::after {content: \"\";width: 100%;border-bottom: 1px solid gray;flex-grow: 1;}#sk-container-id-5 div.sk-label:hover label.sk-toggleable__label {background-color: #d4ebff;}#sk-container-id-5 div.sk-serial::before {content: \"\";position: absolute;border-left: 1px solid gray;box-sizing: border-box;top: 0;bottom: 0;left: 50%;z-index: 0;}#sk-container-id-5 div.sk-serial {display: flex;flex-direction: column;align-items: center;background-color: white;padding-right: 0.2em;padding-left: 0.2em;position: relative;}#sk-container-id-5 div.sk-item {position: relative;z-index: 1;}#sk-container-id-5 div.sk-parallel {display: flex;align-items: stretch;justify-content: center;background-color: white;position: relative;}#sk-container-id-5 div.sk-item::before, #sk-container-id-5 div.sk-parallel-item::before {content: \"\";position: absolute;border-left: 1px solid gray;box-sizing: border-box;top: 0;bottom: 0;left: 50%;z-index: -1;}#sk-container-id-5 div.sk-parallel-item {display: flex;flex-direction: column;z-index: 1;position: relative;background-color: white;}#sk-container-id-5 div.sk-parallel-item:first-child::after {align-self: flex-end;width: 50%;}#sk-container-id-5 div.sk-parallel-item:last-child::after {align-self: flex-start;width: 50%;}#sk-container-id-5 div.sk-parallel-item:only-child::after {width: 0;}#sk-container-id-5 div.sk-dashed-wrapped {border: 1px dashed gray;margin: 0 0.4em 0.5em 0.4em;box-sizing: border-box;padding-bottom: 0.4em;background-color: white;}#sk-container-id-5 div.sk-label label {font-family: monospace;font-weight: bold;display: inline-block;line-height: 1.2em;}#sk-container-id-5 div.sk-label-container {text-align: center;}#sk-container-id-5 div.sk-container {/* jupyter's `normalize.less` sets `[hidden] { display: none; }` but bootstrap.min.css set `[hidden] { display: none !important; }` so we also need the `!important` here to be able to override the default hidden behavior on the sphinx rendered scikit-learn.org. See: https://github.com/scikit-learn/scikit-learn/issues/21755 */display: inline-block !important;position: relative;}#sk-container-id-5 div.sk-text-repr-fallback {display: none;}</style><div id=\"sk-container-id-5\" class=\"sk-top-container\"><div class=\"sk-text-repr-fallback\"><pre>Ridge()</pre><b>In a Jupyter environment, please rerun this cell to show the HTML representation or trust the notebook. <br />On GitHub, the HTML representation is unable to render, please try loading this page with nbviewer.org.</b></div><div class=\"sk-container\" hidden><div class=\"sk-item\"><div class=\"sk-estimator sk-toggleable\"><input class=\"sk-toggleable__control sk-hidden--visually\" id=\"sk-estimator-id-5\" type=\"checkbox\" checked><label for=\"sk-estimator-id-5\" class=\"sk-toggleable__label sk-toggleable__label-arrow\">Ridge</label><div class=\"sk-toggleable__content\"><pre>Ridge()</pre></div></div></div></div></div>"
     },
     "execution_count": 42,
     "metadata": {},
     "output_type": "execute_result"
    }
   ],
   "source": [
    "ridge_model = Ridge()\n",
    "ridge_model.fit(scaled_X_train,y_train)"
   ],
   "metadata": {
    "collapsed": false,
    "ExecuteTime": {
     "end_time": "2024-03-05T04:39:30.594828500Z",
     "start_time": "2024-03-05T04:39:30.558203500Z"
    }
   },
   "id": "9a846e97aab7ba93",
   "execution_count": 42
  },
  {
   "cell_type": "code",
   "outputs": [
    {
     "name": "stdout",
     "output_type": "stream",
     "text": [
      "Train score => 0.9876200595077226 Test score => 0.9884997674750157\n"
     ]
    }
   ],
   "source": [
    "train_score = ridge_model.score(scaled_X_train,y_train)\n",
    "test_score = ridge_model.score(scaled_X_test,y_test)\n",
    "\n",
    "print(f'Train score => {train_score} Test score => {test_score}')"
   ],
   "metadata": {
    "collapsed": false,
    "ExecuteTime": {
     "end_time": "2024-03-05T04:39:55.487094500Z",
     "start_time": "2024-03-05T04:39:55.447772200Z"
    }
   },
   "id": "1ede1dc8c0afd2f7",
   "execution_count": 43
  },
  {
   "cell_type": "code",
   "outputs": [
    {
     "name": "stdout",
     "output_type": "stream",
     "text": [
      "None [ 10.65604822   3.50926902   7.31477371  17.29578511  15.17446263\n",
      "  17.82201962  13.29598542  13.72880792  17.76289745  16.08195819\n",
      "  16.23561029  16.78898605  16.30673579  14.96594624  16.85728159\n",
      "  16.11084117  12.96822748  13.18645285  16.64607894   9.12842939\n",
      "  10.90149219   8.87385825  12.54262721   8.77443127   8.10203056\n",
      "  13.89754157   8.45511197   6.21367172   7.14015041  14.8276814\n",
      "   7.78969182   4.03502868   3.56973217   6.27052677  -1.7170244\n",
      "   1.38476232  -3.45525063   4.40382644  -2.10665833  -5.55372024\n",
      "   7.19845546  -0.92617073  -5.89906214  -7.6984933    9.63247123\n",
      "  -0.03416969  -6.48336757  -9.65509824  -9.61861186  11.57841494\n",
      "   0.45625148  -7.40513528 -11.90758676 -13.08881552 -11.09613218] 375.8452380952381\n"
     ]
    }
   ],
   "source": [
    "# 모델 파라미터\n",
    "print(ridge_model.n_iter_, ridge_model.coef_, ridge_model.intercept_)"
   ],
   "metadata": {
    "collapsed": false,
    "ExecuteTime": {
     "end_time": "2024-03-05T04:41:36.149190600Z",
     "start_time": "2024-03-05T04:41:36.123684400Z"
    }
   },
   "id": "726a1c50cd4c375",
   "execution_count": 45
  },
  {
   "cell_type": "code",
   "outputs": [],
   "source": [
    "# ====> 최적의 규제 강도 설정 값 찾기\n",
    "alphas=[0.1,1.0, 10.0, 20., 30.]\n",
    "ridge_score=[[], []]\n",
    "\n",
    "for a in alphas:\n",
    "    ridge_model = Ridge(alpha=a)\n",
    "    ridge_model.fit(scaled_X_train,y_train)\n",
    "    train_score = ridge_model.score(scaled_X_train,y_train)\n",
    "    test_score = ridge_model.score(scaled_X_test,y_test)\n",
    "    \n",
    "    ridge_score[0].append(train_score)\n",
    "    ridge_score[1].append(test_score)\n",
    "\n"
   ],
   "metadata": {
    "collapsed": false,
    "ExecuteTime": {
     "end_time": "2024-03-05T04:47:19.306336Z",
     "start_time": "2024-03-05T04:47:19.281812Z"
    }
   },
   "id": "b977179cb5db3c90",
   "execution_count": 47
  },
  {
   "cell_type": "code",
   "outputs": [
    {
     "data": {
      "text/plain": "20.0"
     },
     "execution_count": 50,
     "metadata": {},
     "output_type": "execute_result"
    }
   ],
   "source": [
    "# 테스트 점수가 가장 높은 알파\n",
    "best_alphas = alphas[ridge_score[1].index(max(ridge_score[1]))]\n",
    "best_alphas"
   ],
   "metadata": {
    "collapsed": false,
    "ExecuteTime": {
     "end_time": "2024-03-05T04:50:59.722395400Z",
     "start_time": "2024-03-05T04:50:59.700918100Z"
    }
   },
   "id": "b8d5aef14b1de87d",
   "execution_count": 50
  },
  {
   "cell_type": "code",
   "outputs": [
    {
     "data": {
      "text/plain": "<Figure size 640x480 with 1 Axes>",
      "image/png": "[encoded data removed]"
     },
     "metadata": {},
     "output_type": "display_data"
    }
   ],
   "source": [
    "# 학습 및 테스트 점수 기반 시각화\n",
    "import matplotlib.pyplot as plt\n",
    "\n",
    "plt.plot(alphas, ridge_score[0], label='Train')\n",
    "plt.plot(alphas, ridge_score[1], label='Test')\n",
    "plt.axvline(best_alphas, linestyle='--', color='red', label=f'alpha = {best_alphas}')\n",
    "plt.legend()\n",
    "plt.title('alpha & RIdge')\n",
    "plt.show()"
   ],
   "metadata": {
    "collapsed": false,
    "ExecuteTime": {
     "end_time": "2024-03-05T04:54:41.074104100Z",
     "start_time": "2024-03-05T04:54:40.953574700Z"
    }
   },
   "id": "cd3332a6e05f6101",
   "execution_count": 54
  },
  {
   "cell_type": "markdown",
   "source": [
    "[규제 2] Lasso"
   ],
   "metadata": {
    "collapsed": false
   },
   "id": "cce485e2869ab086"
  },
  {
   "cell_type": "code",
   "outputs": [],
   "source": [
    "from sklearn.linear_model import Lasso"
   ],
   "metadata": {
    "collapsed": false,
    "ExecuteTime": {
     "end_time": "2024-03-05T04:55:48.933414900Z",
     "start_time": "2024-03-05T04:55:48.914310800Z"
    }
   },
   "id": "da20a5c2168fee06",
   "execution_count": 55
  },
  {
   "cell_type": "code",
   "outputs": [
    {
     "name": "stderr",
     "output_type": "stream",
     "text": [
      "C:\\ProgramData\\anaconda3\\envs\\EXAM_ML\\lib\\site-packages\\sklearn\\linear_model\\_coordinate_descent.py:628: ConvergenceWarning: Objective did not converge. You might want to increase the number of iterations, check the scale of the features or consider increasing regularisation. Duality gap: 7.126e+02, tolerance: 4.927e+02\n",
      "  model = cd_fast.enet_coordinate_descent(\n"
     ]
    },
    {
     "data": {
      "text/plain": "Lasso()",
      "text/html": "<style>#sk-container-id-6 {color: black;}#sk-container-id-6 pre{padding: 0;}#sk-container-id-6 div.sk-toggleable {background-color: white;}#sk-container-id-6 label.sk-toggleable__label {cursor: pointer;display: block;width: 100%;margin-bottom: 0;padding: 0.3em;box-sizing: border-box;text-align: center;}#sk-container-id-6 label.sk-toggleable__label-arrow:before {content: \"▸\";float: left;margin-right: 0.25em;color: #696969;}#sk-container-id-6 label.sk-toggleable__label-arrow:hover:before {color: black;}#sk-container-id-6 div.sk-estimator:hover label.sk-toggleable__label-arrow:before {color: black;}#sk-container-id-6 div.sk-toggleable__content {max-height: 0;max-width: 0;overflow: hidden;text-align: left;background-color: #f0f8ff;}#sk-container-id-6 div.sk-toggleable__content pre {margin: 0.2em;color: black;border-radius: 0.25em;background-color: #f0f8ff;}#sk-container-id-6 input.sk-toggleable__control:checked~div.sk-toggleable__content {max-height: 200px;max-width: 100%;overflow: auto;}#sk-container-id-6 input.sk-toggleable__control:checked~label.sk-toggleable__label-arrow:before {content: \"▾\";}#sk-container-id-6 div.sk-estimator input.sk-toggleable__control:checked~label.sk-toggleable__label {background-color: #d4ebff;}#sk-container-id-6 div.sk-label input.sk-toggleable__control:checked~label.sk-toggleable__label {background-color: #d4ebff;}#sk-container-id-6 input.sk-hidden--visually {border: 0;clip: rect(1px 1px 1px 1px);clip: rect(1px, 1px, 1px, 1px);height: 1px;margin: -1px;overflow: hidden;padding: 0;position: absolute;width: 1px;}#sk-container-id-6 div.sk-estimator {font-family: monospace;background-color: #f0f8ff;border: 1px dotted black;border-radius: 0.25em;box-sizing: border-box;margin-bottom: 0.5em;}#sk-container-id-6 div.sk-estimator:hover {background-color: #d4ebff;}#sk-container-id-6 div.sk-parallel-item::after {content: \"\";width: 100%;border-bottom: 1px solid gray;flex-grow: 1;}#sk-container-id-6 div.sk-label:hover label.sk-toggleable__label {background-color: #d4ebff;}#sk-container-id-6 div.sk-serial::before {content: \"\";position: absolute;border-left: 1px solid gray;box-sizing: border-box;top: 0;bottom: 0;left: 50%;z-index: 0;}#sk-container-id-6 div.sk-serial {display: flex;flex-direction: column;align-items: center;background-color: white;padding-right: 0.2em;padding-left: 0.2em;position: relative;}#sk-container-id-6 div.sk-item {position: relative;z-index: 1;}#sk-container-id-6 div.sk-parallel {display: flex;align-items: stretch;justify-content: center;background-color: white;position: relative;}#sk-container-id-6 div.sk-item::before, #sk-container-id-6 div.sk-parallel-item::before {content: \"\";position: absolute;border-left: 1px solid gray;box-sizing: border-box;top: 0;bottom: 0;left: 50%;z-index: -1;}#sk-container-id-6 div.sk-parallel-item {display: flex;flex-direction: column;z-index: 1;position: relative;background-color: white;}#sk-container-id-6 div.sk-parallel-item:first-child::after {align-self: flex-end;width: 50%;}#sk-container-id-6 div.sk-parallel-item:last-child::after {align-self: flex-start;width: 50%;}#sk-container-id-6 div.sk-parallel-item:only-child::after {width: 0;}#sk-container-id-6 div.sk-dashed-wrapped {border: 1px dashed gray;margin: 0 0.4em 0.5em 0.4em;box-sizing: border-box;padding-bottom: 0.4em;background-color: white;}#sk-container-id-6 div.sk-label label {font-family: monospace;font-weight: bold;display: inline-block;line-height: 1.2em;}#sk-container-id-6 div.sk-label-container {text-align: center;}#sk-container-id-6 div.sk-container {/* jupyter's `normalize.less` sets `[hidden] { display: none; }` but bootstrap.min.css set `[hidden] { display: none !important; }` so we also need the `!important` here to be able to override the default hidden behavior on the sphinx rendered scikit-learn.org. See: https://github.com/scikit-learn/scikit-learn/issues/21755 */display: inline-block !important;position: relative;}#sk-container-id-6 div.sk-text-repr-fallback {display: none;}</style><div id=\"sk-container-id-6\" class=\"sk-top-container\"><div class=\"sk-text-repr-fallback\"><pre>Lasso()</pre><b>In a Jupyter environment, please rerun this cell to show the HTML representation or trust the notebook. <br />On GitHub, the HTML representation is unable to render, please try loading this page with nbviewer.org.</b></div><div class=\"sk-container\" hidden><div class=\"sk-item\"><div class=\"sk-estimator sk-toggleable\"><input class=\"sk-toggleable__control sk-hidden--visually\" id=\"sk-estimator-id-6\" type=\"checkbox\" checked><label for=\"sk-estimator-id-6\" class=\"sk-toggleable__label sk-toggleable__label-arrow\">Lasso</label><div class=\"sk-toggleable__content\"><pre>Lasso()</pre></div></div></div></div></div>"
     },
     "execution_count": 56,
     "metadata": {},
     "output_type": "execute_result"
    }
   ],
   "source": [
    "lasso_model = Lasso()\n",
    "lasso_model.fit(scaled_X_train,y_train)"
   ],
   "metadata": {
    "collapsed": false,
    "ExecuteTime": {
     "end_time": "2024-03-05T04:56:01.514077900Z",
     "start_time": "2024-03-05T04:56:01.479758300Z"
    }
   },
   "id": "bbdf14bf927672d5",
   "execution_count": 56
  },
  {
   "cell_type": "code",
   "outputs": [],
   "source": [
    "train_score = lasso_model.score(scaled_X_train,y_train)\n",
    "test_score = lasso_model.score(scaled_X_test,y_test)"
   ],
   "metadata": {
    "collapsed": false,
    "ExecuteTime": {
     "end_time": "2024-03-05T04:57:04.624339100Z",
     "start_time": "2024-03-05T04:57:04.594442600Z"
    }
   },
   "id": "34894fe5824095ed",
   "execution_count": 57
  },
  {
   "cell_type": "code",
   "outputs": [
    {
     "name": "stdout",
     "output_type": "stream",
     "text": [
      "Train score => 0.9871356048713946 Test score => 0.9883429517816835\n"
     ]
    }
   ],
   "source": [
    "print(f'Train score => {train_score} Test score => {test_score}')"
   ],
   "metadata": {
    "collapsed": false,
    "ExecuteTime": {
     "end_time": "2024-03-05T04:58:10.759343800Z",
     "start_time": "2024-03-05T04:58:10.725102200Z"
    }
   },
   "id": "8b0f7b9df5d73a25",
   "execution_count": 59
  },
  {
   "cell_type": "code",
   "outputs": [
    {
     "name": "stdout",
     "output_type": "stream",
     "text": [
      "1000 [ 0.          0.          0.         30.36652062 45.22679814 34.71528955\n",
      "  0.          0.         39.14340343 21.23759932 46.99642204  0.\n",
      " 52.86747703  0.          0.         38.589189    0.          0.\n",
      "  0.          0.          0.          0.          0.          0.\n",
      "  0.          0.          0.          0.          0.         32.18228483\n",
      "  0.          0.          0.          0.          0.          0.\n",
      "  0.          0.          0.          0.          0.          0.\n",
      "  0.          0.          0.          0.          0.          0.\n",
      "  0.          0.          0.          0.          0.         -0.\n",
      " -0.        ] 375.845238095238\n"
     ]
    }
   ],
   "source": [
    "# 모델 파라미터\n",
    "print(lasso_model.n_iter_, lasso_model.coef_, lasso_model.intercept_)"
   ],
   "metadata": {
    "collapsed": false,
    "ExecuteTime": {
     "end_time": "2024-03-05T04:58:12.105579400Z",
     "start_time": "2024-03-05T04:58:12.074061700Z"
    }
   },
   "id": "f3b22b27a2540cfe",
   "execution_count": 60
  },
  {
   "cell_type": "code",
   "outputs": [],
   "source": [
    "# ====> 최적의 규제 강도 설정 값 찾기\n",
    "alphas=[0.1,1.0, 10.0, 20., 30.]\n",
    "lasso_score=[[], []]\n",
    "\n",
    "for a in alphas:\n",
    "    lasso_model = Lasso(alpha=a, max_iter=30000)\n",
    "    lasso_model.fit(scaled_X_train,y_train)\n",
    "    train_score = lasso_model.score(scaled_X_train,y_train)\n",
    "    test_score = lasso_model.score(scaled_X_test,y_test)\n",
    "    \n",
    "    lasso_score[0].append(train_score)\n",
    "    lasso_score[1].append(test_score)\n",
    "\n"
   ],
   "metadata": {
    "collapsed": false,
    "ExecuteTime": {
     "end_time": "2024-03-05T05:02:26.030164800Z",
     "start_time": "2024-03-05T05:02:25.970090300Z"
    }
   },
   "id": "652b92b2d461b51c",
   "execution_count": 63
  },
  {
   "cell_type": "code",
   "outputs": [
    {
     "data": {
      "text/plain": "1.0"
     },
     "execution_count": 65,
     "metadata": {},
     "output_type": "execute_result"
    }
   ],
   "source": [
    "best_alphas = alphas[lasso_score[1].index(max(lasso_score[1]))]\n",
    "best_alphas"
   ],
   "metadata": {
    "collapsed": false,
    "ExecuteTime": {
     "end_time": "2024-03-05T05:04:57.305046100Z",
     "start_time": "2024-03-05T05:04:57.281969900Z"
    }
   },
   "id": "fd199ca4c9409dfd",
   "execution_count": 65
  },
  {
   "cell_type": "code",
   "outputs": [
    {
     "data": {
      "text/plain": "<Figure size 640x480 with 1 Axes>",
      "image/png": "[encoded data removed]"
     },
     "metadata": {},
     "output_type": "display_data"
    }
   ],
   "source": [
    "# 학습 및 테스트 점수 기반 시각화\n",
    "\n",
    "plt.plot(alphas, lasso_score[0], label='Train')\n",
    "plt.plot(alphas, lasso_score[1], label='Test')\n",
    "plt.axvline(best_alphas, linestyle='--', color='red', label=f'alpha = {best_alphas}')\n",
    "plt.legend()\n",
    "plt.title('alpha & Lasso')\n",
    "plt.show()"
   ],
   "metadata": {
    "collapsed": false,
    "ExecuteTime": {
     "end_time": "2024-03-05T05:04:58.843361400Z",
     "start_time": "2024-03-05T05:04:58.716937600Z"
    }
   },
   "id": "dc951f98848cde03",
   "execution_count": 66
  },
  {
   "cell_type": "code",
   "outputs": [
    {
     "ename": "NameError",
     "evalue": "name 'nope' is not defined",
     "output_type": "error",
     "traceback": [
      "\u001B[1;31m---------------------------------------------------------------------------\u001B[0m",
      "\u001B[1;31mNameError\u001B[0m                                 Traceback (most recent call last)",
      "Cell \u001B[1;32mIn[67], line 1\u001B[0m\n\u001B[1;32m----> 1\u001B[0m \u001B[38;5;28mprint\u001B[39m(\u001B[43mnope\u001B[49m)\n",
      "\u001B[1;31mNameError\u001B[0m: name 'nope' is not defined"
     ]
    }
   ],
   "source": [
    "print(nope)"
   ],
   "metadata": {
    "collapsed": false,
    "ExecuteTime": {
     "end_time": "2024-03-05T09:23:01.088261100Z",
     "start_time": "2024-03-05T09:23:00.993312800Z"
    }
   },
   "id": "65db7807b046a605",
   "execution_count": 67
  },
  {
   "cell_type": "code",
   "outputs": [],
   "source": [],
   "metadata": {
    "collapsed": false
   },
   "id": "4ce1b1ed2786ade1"
  }
 ],
 "metadata": {
  "kernelspec": {
   "display_name": "Python 3",
   "language": "python",
   "name": "python3"
  },
  "language_info": {
   "codemirror_mode": {
    "name": "ipython",
    "version": 2
   },
   "file_extension": ".py",
   "mimetype": "text/x-python",
   "name": "python",
   "nbconvert_exporter": "python",
   "pygments_lexer": "ipython2",
   "version": "2.7.6"
  }
 },
 "nbformat": 4,
 "nbformat_minor": 5
}
