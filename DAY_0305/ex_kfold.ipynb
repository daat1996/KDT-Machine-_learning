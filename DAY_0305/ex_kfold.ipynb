{
 "cells": [
  {
   "cell_type": "markdown",
   "source": [
    "### 교차 검증\n",
    "- 부족한 데이터 셋 및 특정 데이터에 과대적합되는 문제 해결하기 위한 방안\n",
    "- 학습 데이터셋을 일정 크기의 데이터로 n개 분리 후 1/n은 검증용, 나머지는 학습용으로 사용 "
   ],
   "metadata": {
    "collapsed": false
   },
   "id": "74a81c54a4a1dae0"
  },
  {
   "cell_type": "markdown",
   "source": [
    "[1] 모듈 로딩 및 데이터 준비 <hr>"
   ],
   "metadata": {
    "collapsed": false
   },
   "id": "cbc3d1f6d6386b49"
  },
  {
   "cell_type": "code",
   "outputs": [],
   "source": [
    "import numpy as np\n",
    "from sklearn.linear_model import LogisticRegression\n",
    "from sklearn.model_selection import KFold, StratifiedKFold\n",
    "\n",
    "X = np.array([[1, 2], [3, 4], [1, 2], [3, 4]])\n",
    "y = np.array([1, 2, 3, 4])\n"
   ],
   "metadata": {
    "collapsed": false,
    "ExecuteTime": {
     "end_time": "2024-03-05T06:33:51.964910400Z",
     "start_time": "2024-03-05T06:33:51.934815100Z"
    }
   },
   "id": "872063d65414a687",
   "execution_count": 84
  },
  {
   "cell_type": "code",
   "outputs": [],
   "source": [
    "# KFold 인스턴스 생성 => 데이터를 2개로 분할해주는 객체\n",
    "k_fold = KFold(n_splits=2)\n"
   ],
   "metadata": {
    "collapsed": false,
    "ExecuteTime": {
     "end_time": "2024-03-05T06:33:51.982943Z",
     "start_time": "2024-03-05T06:33:51.968910900Z"
    }
   },
   "id": "dcaac37febc4b4cd",
   "execution_count": 85
  },
  {
   "cell_type": "code",
   "outputs": [
    {
     "name": "stdout",
     "output_type": "stream",
     "text": [
      "[2 3] [0 1]\n",
      "[0 1] [2 3]\n"
     ]
    }
   ],
   "source": [
    "# 데이터 분할\n",
    "datasets = k_fold.split(X)\n",
    "\n",
    "for train, test in datasets:\n",
    "    print(train, test)"
   ],
   "metadata": {
    "collapsed": false,
    "ExecuteTime": {
     "end_time": "2024-03-05T06:33:52.008922300Z",
     "start_time": "2024-03-05T06:33:51.978910700Z"
    }
   },
   "id": "3fd90f4e51639c63",
   "execution_count": 86
  },
  {
   "cell_type": "code",
   "outputs": [
    {
     "name": "stdout",
     "output_type": "stream",
     "text": [
      "<class 'pandas.core.frame.DataFrame'>\n",
      "RangeIndex: 56 entries, 0 to 55\n",
      "Data columns (total 4 columns):\n",
      " #   Column  Non-Null Count  Dtype  \n",
      "---  ------  --------------  -----  \n",
      " 0   Weight  56 non-null     float64\n",
      " 1   Length  56 non-null     float64\n",
      " 2   Height  56 non-null     float64\n",
      " 3   Width   56 non-null     float64\n",
      "dtypes: float64(4)\n",
      "memory usage: 1.9 KB\n"
     ]
    }
   ],
   "source": [
    "### perch.csv 파일 데이터 기본 5등분\n",
    "import pandas as pd\n",
    "\n",
    "perchDF = pd.read_csv('../data/perch3.csv')\n",
    "perchDF.info()"
   ],
   "metadata": {
    "collapsed": false,
    "ExecuteTime": {
     "end_time": "2024-03-05T06:33:52.008922300Z",
     "start_time": "2024-03-05T06:33:51.995920700Z"
    }
   },
   "id": "12aed2af775d0e4a",
   "execution_count": 87
  },
  {
   "cell_type": "code",
   "outputs": [
    {
     "name": "stdout",
     "output_type": "stream",
     "text": [
      "0=> (37,) (19,)\n",
      "1=> (37,) (19,)\n",
      "2=> (38,) (18,)\n"
     ]
    }
   ],
   "source": [
    "# perchDF => 5등분\n",
    "fold_5 = KFold(n_splits=3)\n",
    "datasets = fold_5.split(perchDF)\n",
    "\n",
    "for index, (train, test) in enumerate(datasets):\n",
    "    print(f'{index}=> {train.shape} {test.shape}')"
   ],
   "metadata": {
    "collapsed": false,
    "ExecuteTime": {
     "end_time": "2024-03-05T06:33:52.055152900Z",
     "start_time": "2024-03-05T06:33:52.010921900Z"
    }
   },
   "id": "5d54d3f033fcd30a",
   "execution_count": 88
  },
  {
   "cell_type": "code",
   "outputs": [],
   "source": [
    "\n",
    "import numpy as np"
   ],
   "metadata": {
    "collapsed": false,
    "ExecuteTime": {
     "end_time": "2024-03-05T06:33:52.056153200Z",
     "start_time": "2024-03-05T06:33:52.027922200Z"
    }
   },
   "id": "786d2e60072c4d09",
   "execution_count": 89
  },
  {
   "cell_type": "code",
   "outputs": [
    {
     "name": "stdout",
     "output_type": "stream",
     "text": [
      "<class 'pandas.core.frame.DataFrame'>\n",
      "RangeIndex: 150 entries, 0 to 149\n",
      "Data columns (total 5 columns):\n",
      " #   Column        Non-Null Count  Dtype  \n",
      "---  ------        --------------  -----  \n",
      " 0   sepal_length  150 non-null    float64\n",
      " 1   sepal_width   150 non-null    float64\n",
      " 2   petal_length  150 non-null    float64\n",
      " 3   petal_width   150 non-null    float64\n",
      " 4   species       150 non-null    object \n",
      "dtypes: float64(4), object(1)\n",
      "memory usage: 6.0+ KB\n"
     ]
    }
   ],
   "source": [
    "## 타겟이 분류인 경우\n",
    "irisDF = pd.read_csv('../data/iris.csv')\n",
    "irisDF.info()"
   ],
   "metadata": {
    "collapsed": false,
    "ExecuteTime": {
     "end_time": "2024-03-05T06:49:17.592916800Z",
     "start_time": "2024-03-05T06:49:17.569073800Z"
    }
   },
   "id": "7e143ceab9724547",
   "execution_count": 95
  },
  {
   "cell_type": "code",
   "outputs": [],
   "source": [
    "k_fold = KFold(n_splits=3, shuffle=True)\n",
    "ret=k_fold.split(irisDF[irisDF.columns[:-1]])"
   ],
   "metadata": {
    "collapsed": false,
    "ExecuteTime": {
     "end_time": "2024-03-05T06:49:17.918051400Z",
     "start_time": "2024-03-05T06:49:17.899550100Z"
    }
   },
   "id": "5cbb0c87094f6b56",
   "execution_count": 96
  },
  {
   "cell_type": "code",
   "outputs": [
    {
     "name": "stdout",
     "output_type": "stream",
     "text": [
      "species\n",
      "versicolor    0.34\n",
      "setosa        0.33\n",
      "virginica     0.33\n",
      "Name: count, dtype: float64\n",
      "species\n",
      "setosa        0.34\n",
      "virginica     0.34\n",
      "versicolor    0.32\n",
      "Name: count, dtype: float64\n",
      "species\n",
      "versicolor    0.35\n",
      "virginica     0.33\n",
      "setosa        0.32\n",
      "Name: count, dtype: float64\n",
      "species\n",
      "setosa        0.36\n",
      "virginica     0.34\n",
      "versicolor    0.30\n",
      "Name: count, dtype: float64\n",
      "species\n",
      "setosa        0.35\n",
      "virginica     0.34\n",
      "versicolor    0.31\n",
      "Name: count, dtype: float64\n",
      "species\n",
      "versicolor    0.38\n",
      "virginica     0.32\n",
      "setosa        0.30\n",
      "Name: count, dtype: float64\n"
     ]
    }
   ],
   "source": [
    "train_score3 = []\n",
    "\n",
    "for p_name in ['L1', 'L2', 'elasticnet']:\n",
    "\n",
    "    for idx, (train , test) in enumerate(ret):\n",
    "        # 학습용, 테스트용 인덱스 반환\n",
    "        train_idx = train.tolist()\n",
    "        test_idx = test.tolist()\n",
    "        \n",
    "        # 인덱스에 해당하는 데이터 셋 추출\n",
    "        trainDF = irisDF.iloc[train_idx]\n",
    "        \n",
    "        testDF = irisDF.iloc[test_idx]\n",
    "        print(trainDF['species'].value_counts()/trainDF.shape[0])\n",
    "        print(testDF['species'].value_counts()/testDF.shape[0])\n",
    "        \n",
    "        X_train = trainDF[trainDF.columns[:-1]]\n",
    "        y_train = trainDF[trainDF.columns[-1]]\n",
    "        \n",
    "        X_test = testDF[testDF.columns[:-1]]\n",
    "        y_test = testDF[testDF.columns[-1]]\n",
    "        \n",
    "        # 분류 모델 학습\n",
    "        log_model = LogisticRegression(max_iter=1000, solver='liblinear', penalty=p_name)\n",
    "        log_model.fit(X_train, y_train)\n",
    "        \n",
    "        # 훈련 및 검증용 성능\n",
    "        train_score = log_model.score(X_train, y_train)\n",
    "        test_score = log_model.score(X_test, y_test)\n",
    "        \n",
    "        # 예측\n",
    "        pre_y = log_model.predict(X_test)\n",
    "        \n",
    "        \n",
    "        train_score3.append(train_score)"
   ],
   "metadata": {
    "collapsed": false,
    "ExecuteTime": {
     "end_time": "2024-03-05T06:33:52.129153500Z",
     "start_time": "2024-03-05T06:33:52.079152800Z"
    }
   },
   "id": "ac833610cc080bb9",
   "execution_count": 92
  },
  {
   "cell_type": "code",
   "outputs": [
    {
     "data": {
      "text/plain": "0.96"
     },
     "execution_count": 93,
     "metadata": {},
     "output_type": "execute_result"
    }
   ],
   "source": [
    "sum(train_score3)/3"
   ],
   "metadata": {
    "collapsed": false,
    "ExecuteTime": {
     "end_time": "2024-03-05T06:33:52.143154300Z",
     "start_time": "2024-03-05T06:33:52.119156400Z"
    }
   },
   "id": "7af3b5926c5156cb",
   "execution_count": 93
  },
  {
   "cell_type": "code",
   "outputs": [
    {
     "ename": "SyntaxError",
     "evalue": "invalid syntax (2880492808.py, line 2)",
     "output_type": "error",
     "traceback": [
      "\u001B[1;36m  Cell \u001B[1;32mIn[94], line 2\u001B[1;36m\u001B[0m\n\u001B[1;33m    s_fold =\u001B[0m\n\u001B[1;37m             ^\u001B[0m\n\u001B[1;31mSyntaxError\u001B[0m\u001B[1;31m:\u001B[0m invalid syntax\n"
     ]
    }
   ],
   "source": [
    "s_fold = StratifiedKFold(n_splits=3, shuffle=True)\n",
    "\n",
    "ret2=s_fold.split(irisDF[irisDF.columns[:-1]])"
   ],
   "metadata": {
    "collapsed": false,
    "ExecuteTime": {
     "end_time": "2024-03-05T06:33:52.178162800Z",
     "start_time": "2024-03-05T06:33:52.134156200Z"
    }
   },
   "id": "5a594dbb48bbd9e5",
   "execution_count": 94
  },
  {
   "cell_type": "code",
   "outputs": [],
   "source": [],
   "metadata": {
    "collapsed": false,
    "ExecuteTime": {
     "start_time": "2024-03-05T06:33:52.151230Z"
    }
   },
   "id": "a2b8e6d7e8366c9d"
  }
 ],
 "metadata": {
  "kernelspec": {
   "display_name": "Python 3",
   "language": "python",
   "name": "python3"
  },
  "language_info": {
   "codemirror_mode": {
    "name": "ipython",
    "version": 2
   },
   "file_extension": ".py",
   "mimetype": "text/x-python",
   "name": "python",
   "nbconvert_exporter": "python",
   "pygments_lexer": "ipython2",
   "version": "2.7.6"
  }
 },
 "nbformat": 4,
 "nbformat_minor": 5
}
