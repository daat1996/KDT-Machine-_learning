{
 "cells": [
  {
   "cell_type": "markdown",
   "source": [
    "### 교차 검증 단순화\n",
    "- scikit-learn의 model_selection 모듈 내에 모델 검증관련 기능 활용\n",
    "- 교차 검증 데이터기반 검증 결과 처리"
   ],
   "metadata": {
    "collapsed": false
   },
   "id": "d1072654b3dfb791"
  },
  {
   "cell_type": "markdown",
   "source": [
    "[1] 모듈 로딩 및 데이터 준비 <hr>"
   ],
   "metadata": {
    "collapsed": false
   },
   "id": "dbf2400213d09277"
  },
  {
   "cell_type": "code",
   "outputs": [],
   "source": [
    "# 모듈 로딩\n",
    "import pandas as pd\n",
    "import numpy as np\n",
    "import matplotlib.pyplot as plt\n"
   ],
   "metadata": {
    "collapsed": false,
    "ExecuteTime": {
     "end_time": "2024-03-05T07:35:08.095158600Z",
     "start_time": "2024-03-05T07:35:08.088883900Z"
    }
   },
   "id": "e1a7d8ef35e4fae1",
   "execution_count": 2
  },
  {
   "cell_type": "code",
   "outputs": [],
   "source": [
    "# 생선 데이터 준비\n",
    "fishDF = pd.read_csv('../data/fish.csv')"
   ],
   "metadata": {
    "collapsed": false,
    "ExecuteTime": {
     "end_time": "2024-03-05T07:35:21.082597500Z",
     "start_time": "2024-03-05T07:35:21.058147800Z"
    }
   },
   "id": "6978fc2d5c22a69a",
   "execution_count": 4
  },
  {
   "cell_type": "code",
   "outputs": [],
   "source": [
    "# 붓꽃 데이터 준비\n",
    "irisDF = pd.read_csv('../data/iris2.csv', header=None)"
   ],
   "metadata": {
    "collapsed": false,
    "ExecuteTime": {
     "end_time": "2024-03-05T07:36:18.718216600Z",
     "start_time": "2024-03-05T07:36:18.702889500Z"
    }
   },
   "id": "aa0db455a6b62023",
   "execution_count": 8
  },
  {
   "cell_type": "code",
   "outputs": [
    {
     "data": {
      "text/plain": "  Species  Weight  Length  Diagonal  Height   Width\n0   Bream   242.0    25.4      30.0   11.52  4.0200\n1   Bream   290.0    26.3      31.2   12.48  4.3056",
      "text/html": "<div>\n<style scoped>\n    .dataframe tbody tr th:only-of-type {\n        vertical-align: middle;\n    }\n\n    .dataframe tbody tr th {\n        vertical-align: top;\n    }\n\n    .dataframe thead th {\n        text-align: right;\n    }\n</style>\n<table border=\"1\" class=\"dataframe\">\n  <thead>\n    <tr style=\"text-align: right;\">\n      <th></th>\n      <th>Species</th>\n      <th>Weight</th>\n      <th>Length</th>\n      <th>Diagonal</th>\n      <th>Height</th>\n      <th>Width</th>\n    </tr>\n  </thead>\n  <tbody>\n    <tr>\n      <th>0</th>\n      <td>Bream</td>\n      <td>242.0</td>\n      <td>25.4</td>\n      <td>30.0</td>\n      <td>11.52</td>\n      <td>4.0200</td>\n    </tr>\n    <tr>\n      <th>1</th>\n      <td>Bream</td>\n      <td>290.0</td>\n      <td>26.3</td>\n      <td>31.2</td>\n      <td>12.48</td>\n      <td>4.3056</td>\n    </tr>\n  </tbody>\n</table>\n</div>"
     },
     "execution_count": 9,
     "metadata": {},
     "output_type": "execute_result"
    }
   ],
   "source": [
    "fishDF.head(2)"
   ],
   "metadata": {
    "collapsed": false,
    "ExecuteTime": {
     "end_time": "2024-03-05T07:36:19.123937400Z",
     "start_time": "2024-03-05T07:36:19.095937400Z"
    }
   },
   "id": "d762aaae31662b",
   "execution_count": 9
  },
  {
   "cell_type": "code",
   "outputs": [
    {
     "data": {
      "text/plain": "     0    1    2    3            4\n0  5.1  3.5  1.4  0.2  Iris-setosa\n1  4.9  3.0  1.4  0.2  Iris-setosa",
      "text/html": "<div>\n<style scoped>\n    .dataframe tbody tr th:only-of-type {\n        vertical-align: middle;\n    }\n\n    .dataframe tbody tr th {\n        vertical-align: top;\n    }\n\n    .dataframe thead th {\n        text-align: right;\n    }\n</style>\n<table border=\"1\" class=\"dataframe\">\n  <thead>\n    <tr style=\"text-align: right;\">\n      <th></th>\n      <th>0</th>\n      <th>1</th>\n      <th>2</th>\n      <th>3</th>\n      <th>4</th>\n    </tr>\n  </thead>\n  <tbody>\n    <tr>\n      <th>0</th>\n      <td>5.1</td>\n      <td>3.5</td>\n      <td>1.4</td>\n      <td>0.2</td>\n      <td>Iris-setosa</td>\n    </tr>\n    <tr>\n      <th>1</th>\n      <td>4.9</td>\n      <td>3.0</td>\n      <td>1.4</td>\n      <td>0.2</td>\n      <td>Iris-setosa</td>\n    </tr>\n  </tbody>\n</table>\n</div>"
     },
     "execution_count": 10,
     "metadata": {},
     "output_type": "execute_result"
    }
   ],
   "source": [
    "irisDF.head(2)"
   ],
   "metadata": {
    "collapsed": false,
    "ExecuteTime": {
     "end_time": "2024-03-05T07:36:19.301362400Z",
     "start_time": "2024-03-05T07:36:19.295057300Z"
    }
   },
   "id": "9f19d28ed324ea76",
   "execution_count": 10
  },
  {
   "cell_type": "markdown",
   "source": [
    "[2] 데이터 준비 => 피쳐 & 타겟 분리 <hr>"
   ],
   "metadata": {
    "collapsed": false
   },
   "id": "4c38c7c7ca4a51b8"
  },
  {
   "cell_type": "code",
   "outputs": [
    {
     "data": {
      "text/plain": "(0    242.0\n 1    290.0\n Name: Weight, dtype: float64,\n    Length  Diagonal  Height   Width\n 0    25.4      30.0   11.52  4.0200\n 1    26.3      31.2   12.48  4.3056)"
     },
     "execution_count": 11,
     "metadata": {},
     "output_type": "execute_result"
    }
   ],
   "source": [
    "# 타겟 : Weight, 피쳐 : Length Diagonal Height Width\n",
    "fish_targetSR = fishDF[fishDF.columns[1]]\n",
    "fish_featureSDF = fishDF[fishDF.columns[2:]]\n",
    "\n",
    "fish_targetSR.head(2), fish_featureSDF.head(2)"
   ],
   "metadata": {
    "collapsed": false,
    "ExecuteTime": {
     "end_time": "2024-03-05T07:38:49.527825Z",
     "start_time": "2024-03-05T07:38:49.496814400Z"
    }
   },
   "id": "54ff7896fea69c4",
   "execution_count": 11
  },
  {
   "cell_type": "code",
   "outputs": [
    {
     "data": {
      "text/plain": "(0    Iris-setosa\n 1    Iris-setosa\n Name: 4, dtype: object,\n      0    1    2    3\n 0  5.1  3.5  1.4  0.2\n 1  4.9  3.0  1.4  0.2)"
     },
     "execution_count": 12,
     "metadata": {},
     "output_type": "execute_result"
    }
   ],
   "source": [
    "# 타겟 : 4번컬럼, 피쳐 : 0~3 번 컬럼\n",
    "iris_targetSR = irisDF[irisDF.columns[-1]]\n",
    "iris_featureSDF = irisDF[irisDF.columns[:-1]]\n",
    "\n",
    "iris_targetSR.head(2), iris_featureSDF.head(2)"
   ],
   "metadata": {
    "collapsed": false,
    "ExecuteTime": {
     "end_time": "2024-03-05T07:40:26.401788300Z",
     "start_time": "2024-03-05T07:40:26.363780300Z"
    }
   },
   "id": "e192ad43e96988a8",
   "execution_count": 12
  },
  {
   "cell_type": "markdown",
   "source": [
    "[3] 데이터 전처리 <hr>\n",
    "- 피쳐 스케일링"
   ],
   "metadata": {
    "collapsed": false
   },
   "id": "f240c30cbac67eae"
  },
  {
   "cell_type": "code",
   "outputs": [],
   "source": [
    "# 학습용 테스트용 데이터 분리\n",
    "from sklearn.model_selection import train_test_split\n",
    "\n",
    "# 생선 데이터 => 학습용 데이터셋, 테스트용 데이터셋 ==> 회귀\n",
    "fish_X_train, fish_X_test, fish_y_train, fish_y_test = train_test_split(fish_featureSDF, fish_targetSR, test_size=0.2 ,random_state=5)\n",
    "\n",
    "# 붓꽃 데이터 => 학습용 데이터셋, 테스트용 데이터셋 ==> 분류\n",
    "iris_X_train, iris_X_test, iris_y_train, iris_test = train_test_split(iris_featureSDF, iris_targetSR, test_size=0.2 ,random_state=5, stratify=iris_targetSR)"
   ],
   "metadata": {
    "collapsed": false,
    "ExecuteTime": {
     "end_time": "2024-03-05T07:47:48.261235100Z",
     "start_time": "2024-03-05T07:47:47.693609900Z"
    }
   },
   "id": "fb8073aba20cf109",
   "execution_count": 14
  },
  {
   "cell_type": "code",
   "outputs": [],
   "source": [
    "from sklearn.preprocessing import StandardScaler\n",
    "\n",
    "# 생선 데이터셋 피쳐 스케일링\n",
    "fish_Scaler = StandardScaler()\n",
    "fish_Scaler.fit(fish_X_train)\n",
    "\n",
    "scaled_fish_X_train = fish_Scaler.transform(fish_X_train)\n",
    "scaled_fish_X_test = fish_Scaler.transform(fish_X_test)"
   ],
   "metadata": {
    "collapsed": false,
    "ExecuteTime": {
     "end_time": "2024-03-05T07:49:35.852681Z",
     "start_time": "2024-03-05T07:49:35.829606600Z"
    }
   },
   "id": "7cdd3876ef36533f",
   "execution_count": 15
  },
  {
   "cell_type": "code",
   "outputs": [],
   "source": [],
   "metadata": {
    "collapsed": false
   },
   "id": "fe99f88fbf081163"
  },
  {
   "cell_type": "code",
   "outputs": [],
   "source": [
    "\n",
    "\n",
    "# 붓꽃 데이터셋 피쳐 스케일링\n",
    "iris_Scaler = StandardScaler()\n",
    "iris_Scaler.fit(iris_X_train)\n",
    "\n",
    "scaled_iris_X_train = iris_Scaler.transform(iris_X_train)\n",
    "scaled_iris_X_test = iris_Scaler.transform(iris_X_test)"
   ],
   "metadata": {
    "collapsed": false,
    "ExecuteTime": {
     "end_time": "2024-03-05T07:50:33.604008Z",
     "start_time": "2024-03-05T07:50:33.598009Z"
    }
   },
   "id": "ed66342280d66ca1",
   "execution_count": 16
  },
  {
   "cell_type": "markdown",
   "source": [
    "[4] 학습 <hr>\n",
    "[4-1] 생선 무게 예측 모델"
   ],
   "metadata": {
    "collapsed": false
   },
   "id": "7903f02827e87f24"
  },
  {
   "cell_type": "code",
   "outputs": [],
   "source": [
    "# 모델 로딩\n",
    "from sklearn.linear_model import LinearRegression, Ridge, Lasso\n",
    "from sklearn.model_selection import cross_validate, cross_val_score, cross_val_predict"
   ],
   "metadata": {
    "collapsed": false,
    "ExecuteTime": {
     "end_time": "2024-03-05T07:52:22.991297800Z",
     "start_time": "2024-03-05T07:52:22.973289600Z"
    }
   },
   "id": "92884bda9f97403d",
   "execution_count": 18
  },
  {
   "cell_type": "code",
   "outputs": [],
   "source": [
    "# 교차 검증으로 학습 진행\n",
    "# => 준비 : 모델 인스턴스, 학습용 피쳐 데이터, 학습용 라벨 데이터\n",
    "\n",
    "lr_model=LinearRegression()"
   ],
   "metadata": {
    "collapsed": false,
    "ExecuteTime": {
     "end_time": "2024-03-05T07:53:23.657564900Z",
     "start_time": "2024-03-05T07:53:23.637555200Z"
    }
   },
   "id": "6336d2bb9752070a",
   "execution_count": 20
  },
  {
   "cell_type": "code",
   "outputs": [
    {
     "data": {
      "text/plain": "{'fit_time': array([0.00200033, 0.0010035 , 0.00099993, 0.0009985 , 0.00099921]),\n 'score_time': array([0.00099802, 0.00103664, 0.00200105, 0.        , 0.00099921]),\n 'estimator': [LinearRegression(),\n  LinearRegression(),\n  LinearRegression(),\n  LinearRegression(),\n  LinearRegression()],\n 'test_r2': array([0.92104683, 0.84385378, 0.88592423, 0.64671954, 0.79031905]),\n 'train_r2': array([0.87426416, 0.88779401, 0.88061108, 0.90297504, 0.89833592]),\n 'test_neg_mean_squared_error': array([ -8767.84902315, -17815.75093903, -12344.87825138, -22006.47049028,\n        -39450.52608702]),\n 'train_neg_mean_squared_error': array([-16078.44783606, -13972.57866943, -15268.42472495, -13223.98109532,\n        -10586.01039978])}"
     },
     "execution_count": 30,
     "metadata": {},
     "output_type": "execute_result"
    }
   ],
   "source": [
    "# 학습/검증에 대한 평가 모든 결과에 대한 처리\n",
    "result = cross_validate(lr_model, scaled_fish_X_train, fish_y_train, return_train_score=True,\n",
    "                        return_estimator=True, scoring=('r2','neg_mean_squared_error'))\n",
    "\n",
    "result"
   ],
   "metadata": {
    "collapsed": false,
    "ExecuteTime": {
     "end_time": "2024-03-05T08:01:36.790478400Z",
     "start_time": "2024-03-05T08:01:36.756212600Z"
    }
   },
   "id": "bc446b458f24beb5",
   "execution_count": 30
  },
  {
   "cell_type": "code",
   "outputs": [
    {
     "data": {
      "text/plain": "   fit_time  score_time           estimator   test_r2  train_r2  \\\n0  0.002000    0.000998  LinearRegression()  0.921047  0.874264   \n1  0.001004    0.001037  LinearRegression()  0.843854  0.887794   \n2  0.001000    0.002001  LinearRegression()  0.885924  0.880611   \n3  0.000998    0.000000  LinearRegression()  0.646720  0.902975   \n4  0.000999    0.000999  LinearRegression()  0.790319  0.898336   \n\n   test_neg_mean_squared_error  train_neg_mean_squared_error  \n0                 -8767.849023                 -16078.447836  \n1                -17815.750939                 -13972.578669  \n2                -12344.878251                 -15268.424725  \n3                -22006.470490                 -13223.981095  \n4                -39450.526087                 -10586.010400  ",
      "text/html": "<div>\n<style scoped>\n    .dataframe tbody tr th:only-of-type {\n        vertical-align: middle;\n    }\n\n    .dataframe tbody tr th {\n        vertical-align: top;\n    }\n\n    .dataframe thead th {\n        text-align: right;\n    }\n</style>\n<table border=\"1\" class=\"dataframe\">\n  <thead>\n    <tr style=\"text-align: right;\">\n      <th></th>\n      <th>fit_time</th>\n      <th>score_time</th>\n      <th>estimator</th>\n      <th>test_r2</th>\n      <th>train_r2</th>\n      <th>test_neg_mean_squared_error</th>\n      <th>train_neg_mean_squared_error</th>\n    </tr>\n  </thead>\n  <tbody>\n    <tr>\n      <th>0</th>\n      <td>0.002000</td>\n      <td>0.000998</td>\n      <td>LinearRegression()</td>\n      <td>0.921047</td>\n      <td>0.874264</td>\n      <td>-8767.849023</td>\n      <td>-16078.447836</td>\n    </tr>\n    <tr>\n      <th>1</th>\n      <td>0.001004</td>\n      <td>0.001037</td>\n      <td>LinearRegression()</td>\n      <td>0.843854</td>\n      <td>0.887794</td>\n      <td>-17815.750939</td>\n      <td>-13972.578669</td>\n    </tr>\n    <tr>\n      <th>2</th>\n      <td>0.001000</td>\n      <td>0.002001</td>\n      <td>LinearRegression()</td>\n      <td>0.885924</td>\n      <td>0.880611</td>\n      <td>-12344.878251</td>\n      <td>-15268.424725</td>\n    </tr>\n    <tr>\n      <th>3</th>\n      <td>0.000998</td>\n      <td>0.000000</td>\n      <td>LinearRegression()</td>\n      <td>0.646720</td>\n      <td>0.902975</td>\n      <td>-22006.470490</td>\n      <td>-13223.981095</td>\n    </tr>\n    <tr>\n      <th>4</th>\n      <td>0.000999</td>\n      <td>0.000999</td>\n      <td>LinearRegression()</td>\n      <td>0.790319</td>\n      <td>0.898336</td>\n      <td>-39450.526087</td>\n      <td>-10586.010400</td>\n    </tr>\n  </tbody>\n</table>\n</div>"
     },
     "execution_count": 31,
     "metadata": {},
     "output_type": "execute_result"
    }
   ],
   "source": [
    "resultDF = pd.DataFrame(result)\n",
    "resultDF"
   ],
   "metadata": {
    "collapsed": false,
    "ExecuteTime": {
     "end_time": "2024-03-05T08:01:37.364694800Z",
     "start_time": "2024-03-05T08:01:37.356683100Z"
    }
   },
   "id": "c1d7b218f04891aa",
   "execution_count": 31
  },
  {
   "cell_type": "code",
   "outputs": [
    {
     "data": {
      "text/plain": "(array([ 373.98470744, -159.77931033,   90.53431501,   50.22123874]),\n 408.52250924970195)"
     },
     "execution_count": 32,
     "metadata": {},
     "output_type": "execute_result"
    }
   ],
   "source": [
    "best_model = resultDF.iloc[0]['estimator']\n",
    "best_model.coef_, best_model.intercept_"
   ],
   "metadata": {
    "collapsed": false,
    "ExecuteTime": {
     "end_time": "2024-03-05T08:01:40.774585100Z",
     "start_time": "2024-03-05T08:01:40.746683300Z"
    }
   },
   "id": "f01cc7c61e4ad981",
   "execution_count": 32
  },
  {
   "cell_type": "code",
   "outputs": [
    {
     "data": {
      "text/plain": "array([0.92104683, 0.84385378, 0.88592423, 0.64671954, 0.79031905])"
     },
     "execution_count": 33,
     "metadata": {},
     "output_type": "execute_result"
    }
   ],
   "source": [
    "### CV에 score만 추출\n",
    "cross_val_score(lr_model, scaled_fish_X_train, fish_y_train)"
   ],
   "metadata": {
    "collapsed": false,
    "ExecuteTime": {
     "end_time": "2024-03-05T08:03:47.296873500Z",
     "start_time": "2024-03-05T08:03:47.265638200Z"
    }
   },
   "id": "8590303d2a3a9286",
   "execution_count": 33
  },
  {
   "cell_type": "code",
   "outputs": [
    {
     "data": {
      "text/plain": "array([ 9.09792517e+01,  9.85612151e+01,  3.87029719e+02,  1.13011547e+02,\n        6.81676563e+02,  2.82456988e+02,  5.34379642e+02,  3.61848302e+02,\n        6.12934598e+02,  1.70756130e+02,  5.53222970e+02,  1.69433076e+01,\n       -2.53895688e+01,  8.14926155e+02,  6.97225129e+01,  3.38157931e+02,\n        4.76306355e+02,  7.67659158e+02,  6.55686457e+02,  1.80300946e+02,\n        8.45315559e+02,  2.92145322e+02,  6.08539351e+02,  9.02782406e+02,\n        6.99788981e+02,  9.40316876e+02,  7.47628344e+02,  3.28419355e+02,\n        7.89622699e+02,  9.09130831e+02, -1.98986854e+02,  1.81089559e+02,\n        6.36731679e+02, -1.09209894e+02,  3.57087822e+02,  7.88250361e+02,\n        3.25180589e+02,  6.56473977e+02, -2.37032025e+02,  4.55882834e+01,\n        9.57130255e+01, -2.10830505e+02,  1.28969696e+02, -2.21199132e+02,\n       -1.10282630e+02,  6.39911566e+02,  2.12288357e+02,  2.41098815e+02,\n        2.61932359e+02, -2.58301758e+02,  2.93250859e+01,  8.87950700e+02,\n        2.46460034e+02,  5.55564851e+02,  6.71006008e+02,  7.04637891e+02,\n        2.29677895e+02,  8.49746634e+02,  7.24031103e+02, -5.70994192e+01,\n        2.22728797e+02,  9.41173359e+02,  5.25995612e+02,  7.74853524e+02,\n        2.17941892e+02,  5.74873742e+02,  2.17397906e+02,  5.98772429e+02,\n        8.13391991e+02,  1.93602150e+02,  2.00834243e+02,  8.85719610e+02,\n        7.94930726e+02,  4.91188615e+02,  1.11555582e+02,  2.15505969e+02,\n        4.55682558e+02,  3.27230281e+02, -2.54736199e+02,  2.14499169e+02,\n        4.32295967e+02,  5.29619314e+02,  3.11672406e-01, -2.77216256e+02,\n        6.55329442e+02,  4.59082390e+02,  3.18928562e+02, -2.27015547e+02,\n        7.74464230e+02, -2.40117603e+02,  6.37572206e+02,  6.23647648e+02,\n        1.58228119e+02,  5.16093336e+02,  8.12222679e+01,  2.27883952e+02,\n        3.92943741e+02,  8.47396913e+02, -2.24559795e+02,  3.94415997e+02,\n        6.81290262e+02,  5.82109256e+02,  3.57665080e+02,  5.94846811e+02,\n        5.14375584e+02,  3.62255513e+02,  3.41676651e+02,  1.69523793e+02,\n        3.79453524e+02,  5.85425213e+02,  8.26535922e+02,  8.65537588e+02,\n        2.04176403e+02,  8.17998531e+02,  2.25074947e+02,  2.07081163e+02,\n        7.19337633e+02,  1.31467393e+02,  6.85638198e+02,  9.06351710e+02,\n        4.79431463e+02,  7.01957458e+02,  5.22269464e+02, -4.60942099e+01,\n        1.04657155e+03,  8.10571851e+02,  2.69273973e+02])"
     },
     "execution_count": 34,
     "metadata": {},
     "output_type": "execute_result"
    }
   ],
   "source": [
    "## CV에 predict만 추출\n",
    "cross_val_predict(lr_model, scaled_fish_X_train, fish_y_train)"
   ],
   "metadata": {
    "collapsed": false,
    "ExecuteTime": {
     "end_time": "2024-03-05T08:05:52.531109200Z",
     "start_time": "2024-03-05T08:05:52.489814Z"
    }
   },
   "id": "d34fd81a51d06627",
   "execution_count": 34
  },
  {
   "cell_type": "markdown",
   "source": [
    "## 교차검증과 튜닝까지 한꺼번에 진행\n",
    "- 단점 : 시간이 오래걸림"
   ],
   "metadata": {
    "collapsed": false
   },
   "id": "26fb026b21b578c6"
  },
  {
   "cell_type": "code",
   "outputs": [],
   "source": [
    "from sklearn.model_selection import GridSearchCV, RandomizedSearchCV\n",
    "from sklearn.linear_model import LogisticRegression"
   ],
   "metadata": {
    "collapsed": false,
    "ExecuteTime": {
     "end_time": "2024-03-05T08:48:15.753642200Z",
     "start_time": "2024-03-05T08:48:15.735634500Z"
    }
   },
   "id": "30d217b5acf39dae",
   "execution_count": 37
  },
  {
   "cell_type": "code",
   "outputs": [],
   "source": [
    "est=LogisticRegression(max_iter=1000, solver='liblinear')\n",
    "params = {\n",
    "        'penalty': ['l1', 'l2']}"
   ],
   "metadata": {
    "collapsed": false,
    "ExecuteTime": {
     "end_time": "2024-03-05T08:53:00.625847400Z",
     "start_time": "2024-03-05T08:53:00.612847600Z"
    }
   },
   "id": "d7bd3ffb05802391",
   "execution_count": 45
  },
  {
   "cell_type": "code",
   "outputs": [
    {
     "data": {
      "text/plain": "GridSearchCV(estimator=LogisticRegression(max_iter=1000, solver='liblinear'),\n             param_grid={'penalty': ['l1', 'l2']}, return_train_score=True)",
      "text/html": "<style>#sk-container-id-4 {color: black;}#sk-container-id-4 pre{padding: 0;}#sk-container-id-4 div.sk-toggleable {background-color: white;}#sk-container-id-4 label.sk-toggleable__label {cursor: pointer;display: block;width: 100%;margin-bottom: 0;padding: 0.3em;box-sizing: border-box;text-align: center;}#sk-container-id-4 label.sk-toggleable__label-arrow:before {content: \"▸\";float: left;margin-right: 0.25em;color: #696969;}#sk-container-id-4 label.sk-toggleable__label-arrow:hover:before {color: black;}#sk-container-id-4 div.sk-estimator:hover label.sk-toggleable__label-arrow:before {color: black;}#sk-container-id-4 div.sk-toggleable__content {max-height: 0;max-width: 0;overflow: hidden;text-align: left;background-color: #f0f8ff;}#sk-container-id-4 div.sk-toggleable__content pre {margin: 0.2em;color: black;border-radius: 0.25em;background-color: #f0f8ff;}#sk-container-id-4 input.sk-toggleable__control:checked~div.sk-toggleable__content {max-height: 200px;max-width: 100%;overflow: auto;}#sk-container-id-4 input.sk-toggleable__control:checked~label.sk-toggleable__label-arrow:before {content: \"▾\";}#sk-container-id-4 div.sk-estimator input.sk-toggleable__control:checked~label.sk-toggleable__label {background-color: #d4ebff;}#sk-container-id-4 div.sk-label input.sk-toggleable__control:checked~label.sk-toggleable__label {background-color: #d4ebff;}#sk-container-id-4 input.sk-hidden--visually {border: 0;clip: rect(1px 1px 1px 1px);clip: rect(1px, 1px, 1px, 1px);height: 1px;margin: -1px;overflow: hidden;padding: 0;position: absolute;width: 1px;}#sk-container-id-4 div.sk-estimator {font-family: monospace;background-color: #f0f8ff;border: 1px dotted black;border-radius: 0.25em;box-sizing: border-box;margin-bottom: 0.5em;}#sk-container-id-4 div.sk-estimator:hover {background-color: #d4ebff;}#sk-container-id-4 div.sk-parallel-item::after {content: \"\";width: 100%;border-bottom: 1px solid gray;flex-grow: 1;}#sk-container-id-4 div.sk-label:hover label.sk-toggleable__label {background-color: #d4ebff;}#sk-container-id-4 div.sk-serial::before {content: \"\";position: absolute;border-left: 1px solid gray;box-sizing: border-box;top: 0;bottom: 0;left: 50%;z-index: 0;}#sk-container-id-4 div.sk-serial {display: flex;flex-direction: column;align-items: center;background-color: white;padding-right: 0.2em;padding-left: 0.2em;position: relative;}#sk-container-id-4 div.sk-item {position: relative;z-index: 1;}#sk-container-id-4 div.sk-parallel {display: flex;align-items: stretch;justify-content: center;background-color: white;position: relative;}#sk-container-id-4 div.sk-item::before, #sk-container-id-4 div.sk-parallel-item::before {content: \"\";position: absolute;border-left: 1px solid gray;box-sizing: border-box;top: 0;bottom: 0;left: 50%;z-index: -1;}#sk-container-id-4 div.sk-parallel-item {display: flex;flex-direction: column;z-index: 1;position: relative;background-color: white;}#sk-container-id-4 div.sk-parallel-item:first-child::after {align-self: flex-end;width: 50%;}#sk-container-id-4 div.sk-parallel-item:last-child::after {align-self: flex-start;width: 50%;}#sk-container-id-4 div.sk-parallel-item:only-child::after {width: 0;}#sk-container-id-4 div.sk-dashed-wrapped {border: 1px dashed gray;margin: 0 0.4em 0.5em 0.4em;box-sizing: border-box;padding-bottom: 0.4em;background-color: white;}#sk-container-id-4 div.sk-label label {font-family: monospace;font-weight: bold;display: inline-block;line-height: 1.2em;}#sk-container-id-4 div.sk-label-container {text-align: center;}#sk-container-id-4 div.sk-container {/* jupyter's `normalize.less` sets `[hidden] { display: none; }` but bootstrap.min.css set `[hidden] { display: none !important; }` so we also need the `!important` here to be able to override the default hidden behavior on the sphinx rendered scikit-learn.org. See: https://github.com/scikit-learn/scikit-learn/issues/21755 */display: inline-block !important;position: relative;}#sk-container-id-4 div.sk-text-repr-fallback {display: none;}</style><div id=\"sk-container-id-4\" class=\"sk-top-container\"><div class=\"sk-text-repr-fallback\"><pre>GridSearchCV(estimator=LogisticRegression(max_iter=1000, solver=&#x27;liblinear&#x27;),\n             param_grid={&#x27;penalty&#x27;: [&#x27;l1&#x27;, &#x27;l2&#x27;]}, return_train_score=True)</pre><b>In a Jupyter environment, please rerun this cell to show the HTML representation or trust the notebook. <br />On GitHub, the HTML representation is unable to render, please try loading this page with nbviewer.org.</b></div><div class=\"sk-container\" hidden><div class=\"sk-item sk-dashed-wrapped\"><div class=\"sk-label-container\"><div class=\"sk-label sk-toggleable\"><input class=\"sk-toggleable__control sk-hidden--visually\" id=\"sk-estimator-id-10\" type=\"checkbox\" ><label for=\"sk-estimator-id-10\" class=\"sk-toggleable__label sk-toggleable__label-arrow\">GridSearchCV</label><div class=\"sk-toggleable__content\"><pre>GridSearchCV(estimator=LogisticRegression(max_iter=1000, solver=&#x27;liblinear&#x27;),\n             param_grid={&#x27;penalty&#x27;: [&#x27;l1&#x27;, &#x27;l2&#x27;]}, return_train_score=True)</pre></div></div></div><div class=\"sk-parallel\"><div class=\"sk-parallel-item\"><div class=\"sk-item\"><div class=\"sk-label-container\"><div class=\"sk-label sk-toggleable\"><input class=\"sk-toggleable__control sk-hidden--visually\" id=\"sk-estimator-id-11\" type=\"checkbox\" ><label for=\"sk-estimator-id-11\" class=\"sk-toggleable__label sk-toggleable__label-arrow\">estimator: LogisticRegression</label><div class=\"sk-toggleable__content\"><pre>LogisticRegression(max_iter=1000, solver=&#x27;liblinear&#x27;)</pre></div></div></div><div class=\"sk-serial\"><div class=\"sk-item\"><div class=\"sk-estimator sk-toggleable\"><input class=\"sk-toggleable__control sk-hidden--visually\" id=\"sk-estimator-id-12\" type=\"checkbox\" ><label for=\"sk-estimator-id-12\" class=\"sk-toggleable__label sk-toggleable__label-arrow\">LogisticRegression</label><div class=\"sk-toggleable__content\"><pre>LogisticRegression(max_iter=1000, solver=&#x27;liblinear&#x27;)</pre></div></div></div></div></div></div></div></div></div></div>"
     },
     "execution_count": 46,
     "metadata": {},
     "output_type": "execute_result"
    }
   ],
   "source": [
    "gscv=GridSearchCV(est,param_grid=params, return_train_score=True)\n",
    "gscv.fit(scaled_iris_X_train,iris_y_train)"
   ],
   "metadata": {
    "collapsed": false,
    "ExecuteTime": {
     "end_time": "2024-03-05T08:53:02.130244200Z",
     "start_time": "2024-03-05T08:53:02.088244700Z"
    }
   },
   "id": "d34cd56b6d2b3ae1",
   "execution_count": 46
  },
  {
   "cell_type": "code",
   "outputs": [],
   "source": [
    "cv_resultsDF=pd.DataFrame(gscv.cv_results_)"
   ],
   "metadata": {
    "collapsed": false,
    "ExecuteTime": {
     "end_time": "2024-03-05T08:54:30.126926300Z",
     "start_time": "2024-03-05T08:54:30.103668800Z"
    }
   },
   "id": "8d8ce52d58e92316",
   "execution_count": 47
  },
  {
   "cell_type": "code",
   "outputs": [
    {
     "data": {
      "text/plain": "   mean_fit_time  std_fit_time  mean_score_time  std_score_time param_penalty  \\\n0       0.001200      0.000400         0.000202        0.000404            l1   \n1       0.001201      0.000399         0.000399        0.000489            l2   \n\n              params  split0_test_score  split1_test_score  split2_test_score  \\\n0  {'penalty': 'l1'}              0.875           1.000000           0.958333   \n1  {'penalty': 'l2'}              0.875           0.958333           0.958333   \n\n   split3_test_score  ...  mean_test_score  std_test_score  rank_test_score  \\\n0           0.958333  ...         0.941667        0.042492                1   \n1           0.958333  ...         0.908333        0.066667                2   \n\n   split0_train_score  split1_train_score  split2_train_score  \\\n0             0.93750            0.927083            0.937500   \n1             0.90625            0.916667            0.916667   \n\n   split3_train_score  split4_train_score  mean_train_score  std_train_score  \n0            0.947917             0.93750          0.937500         0.006588  \n1            0.927083             0.90625          0.914583         0.007795  \n\n[2 rows x 21 columns]",
      "text/html": "<div>\n<style scoped>\n    .dataframe tbody tr th:only-of-type {\n        vertical-align: middle;\n    }\n\n    .dataframe tbody tr th {\n        vertical-align: top;\n    }\n\n    .dataframe thead th {\n        text-align: right;\n    }\n</style>\n<table border=\"1\" class=\"dataframe\">\n  <thead>\n    <tr style=\"text-align: right;\">\n      <th></th>\n      <th>mean_fit_time</th>\n      <th>std_fit_time</th>\n      <th>mean_score_time</th>\n      <th>std_score_time</th>\n      <th>param_penalty</th>\n      <th>params</th>\n      <th>split0_test_score</th>\n      <th>split1_test_score</th>\n      <th>split2_test_score</th>\n      <th>split3_test_score</th>\n      <th>...</th>\n      <th>mean_test_score</th>\n      <th>std_test_score</th>\n      <th>rank_test_score</th>\n      <th>split0_train_score</th>\n      <th>split1_train_score</th>\n      <th>split2_train_score</th>\n      <th>split3_train_score</th>\n      <th>split4_train_score</th>\n      <th>mean_train_score</th>\n      <th>std_train_score</th>\n    </tr>\n  </thead>\n  <tbody>\n    <tr>\n      <th>0</th>\n      <td>0.001200</td>\n      <td>0.000400</td>\n      <td>0.000202</td>\n      <td>0.000404</td>\n      <td>l1</td>\n      <td>{'penalty': 'l1'}</td>\n      <td>0.875</td>\n      <td>1.000000</td>\n      <td>0.958333</td>\n      <td>0.958333</td>\n      <td>...</td>\n      <td>0.941667</td>\n      <td>0.042492</td>\n      <td>1</td>\n      <td>0.93750</td>\n      <td>0.927083</td>\n      <td>0.937500</td>\n      <td>0.947917</td>\n      <td>0.93750</td>\n      <td>0.937500</td>\n      <td>0.006588</td>\n    </tr>\n    <tr>\n      <th>1</th>\n      <td>0.001201</td>\n      <td>0.000399</td>\n      <td>0.000399</td>\n      <td>0.000489</td>\n      <td>l2</td>\n      <td>{'penalty': 'l2'}</td>\n      <td>0.875</td>\n      <td>0.958333</td>\n      <td>0.958333</td>\n      <td>0.958333</td>\n      <td>...</td>\n      <td>0.908333</td>\n      <td>0.066667</td>\n      <td>2</td>\n      <td>0.90625</td>\n      <td>0.916667</td>\n      <td>0.916667</td>\n      <td>0.927083</td>\n      <td>0.90625</td>\n      <td>0.914583</td>\n      <td>0.007795</td>\n    </tr>\n  </tbody>\n</table>\n<p>2 rows × 21 columns</p>\n</div>"
     },
     "execution_count": 48,
     "metadata": {},
     "output_type": "execute_result"
    }
   ],
   "source": [
    "cv_resultsDF  "
   ],
   "metadata": {
    "collapsed": false,
    "ExecuteTime": {
     "end_time": "2024-03-05T08:54:33.071283200Z",
     "start_time": "2024-03-05T08:54:33.049280300Z"
    }
   },
   "id": "3925eb4ff2fb1c97",
   "execution_count": 48
  },
  {
   "cell_type": "code",
   "outputs": [
    {
     "data": {
      "text/plain": "{'penalty': 'l1'}"
     },
     "execution_count": 49,
     "metadata": {},
     "output_type": "execute_result"
    }
   ],
   "source": [
    "gscv.best_params_"
   ],
   "metadata": {
    "collapsed": false,
    "ExecuteTime": {
     "end_time": "2024-03-05T08:54:53.023524100Z",
     "start_time": "2024-03-05T08:54:52.986004500Z"
    }
   },
   "id": "63a9e3a52af4bc1",
   "execution_count": 49
  },
  {
   "cell_type": "code",
   "outputs": [
    {
     "data": {
      "text/plain": "0"
     },
     "execution_count": 50,
     "metadata": {},
     "output_type": "execute_result"
    }
   ],
   "source": [
    "gscv.best_index_"
   ],
   "metadata": {
    "collapsed": false,
    "ExecuteTime": {
     "end_time": "2024-03-05T08:54:59.953517500Z",
     "start_time": "2024-03-05T08:54:59.920987500Z"
    }
   },
   "id": "d37bfc01ab224cc1",
   "execution_count": 50
  },
  {
   "cell_type": "code",
   "outputs": [
    {
     "data": {
      "text/plain": "0.9416666666666668"
     },
     "execution_count": 51,
     "metadata": {},
     "output_type": "execute_result"
    }
   ],
   "source": [
    "gscv.best_score_"
   ],
   "metadata": {
    "collapsed": false,
    "ExecuteTime": {
     "end_time": "2024-03-05T08:55:05.926817900Z",
     "start_time": "2024-03-05T08:55:05.912849100Z"
    }
   },
   "id": "534236a6663edced",
   "execution_count": 51
  },
  {
   "cell_type": "code",
   "outputs": [
    {
     "data": {
      "text/plain": "LogisticRegression(max_iter=1000, penalty='l1', solver='liblinear')",
      "text/html": "<style>#sk-container-id-5 {color: black;}#sk-container-id-5 pre{padding: 0;}#sk-container-id-5 div.sk-toggleable {background-color: white;}#sk-container-id-5 label.sk-toggleable__label {cursor: pointer;display: block;width: 100%;margin-bottom: 0;padding: 0.3em;box-sizing: border-box;text-align: center;}#sk-container-id-5 label.sk-toggleable__label-arrow:before {content: \"▸\";float: left;margin-right: 0.25em;color: #696969;}#sk-container-id-5 label.sk-toggleable__label-arrow:hover:before {color: black;}#sk-container-id-5 div.sk-estimator:hover label.sk-toggleable__label-arrow:before {color: black;}#sk-container-id-5 div.sk-toggleable__content {max-height: 0;max-width: 0;overflow: hidden;text-align: left;background-color: #f0f8ff;}#sk-container-id-5 div.sk-toggleable__content pre {margin: 0.2em;color: black;border-radius: 0.25em;background-color: #f0f8ff;}#sk-container-id-5 input.sk-toggleable__control:checked~div.sk-toggleable__content {max-height: 200px;max-width: 100%;overflow: auto;}#sk-container-id-5 input.sk-toggleable__control:checked~label.sk-toggleable__label-arrow:before {content: \"▾\";}#sk-container-id-5 div.sk-estimator input.sk-toggleable__control:checked~label.sk-toggleable__label {background-color: #d4ebff;}#sk-container-id-5 div.sk-label input.sk-toggleable__control:checked~label.sk-toggleable__label {background-color: #d4ebff;}#sk-container-id-5 input.sk-hidden--visually {border: 0;clip: rect(1px 1px 1px 1px);clip: rect(1px, 1px, 1px, 1px);height: 1px;margin: -1px;overflow: hidden;padding: 0;position: absolute;width: 1px;}#sk-container-id-5 div.sk-estimator {font-family: monospace;background-color: #f0f8ff;border: 1px dotted black;border-radius: 0.25em;box-sizing: border-box;margin-bottom: 0.5em;}#sk-container-id-5 div.sk-estimator:hover {background-color: #d4ebff;}#sk-container-id-5 div.sk-parallel-item::after {content: \"\";width: 100%;border-bottom: 1px solid gray;flex-grow: 1;}#sk-container-id-5 div.sk-label:hover label.sk-toggleable__label {background-color: #d4ebff;}#sk-container-id-5 div.sk-serial::before {content: \"\";position: absolute;border-left: 1px solid gray;box-sizing: border-box;top: 0;bottom: 0;left: 50%;z-index: 0;}#sk-container-id-5 div.sk-serial {display: flex;flex-direction: column;align-items: center;background-color: white;padding-right: 0.2em;padding-left: 0.2em;position: relative;}#sk-container-id-5 div.sk-item {position: relative;z-index: 1;}#sk-container-id-5 div.sk-parallel {display: flex;align-items: stretch;justify-content: center;background-color: white;position: relative;}#sk-container-id-5 div.sk-item::before, #sk-container-id-5 div.sk-parallel-item::before {content: \"\";position: absolute;border-left: 1px solid gray;box-sizing: border-box;top: 0;bottom: 0;left: 50%;z-index: -1;}#sk-container-id-5 div.sk-parallel-item {display: flex;flex-direction: column;z-index: 1;position: relative;background-color: white;}#sk-container-id-5 div.sk-parallel-item:first-child::after {align-self: flex-end;width: 50%;}#sk-container-id-5 div.sk-parallel-item:last-child::after {align-self: flex-start;width: 50%;}#sk-container-id-5 div.sk-parallel-item:only-child::after {width: 0;}#sk-container-id-5 div.sk-dashed-wrapped {border: 1px dashed gray;margin: 0 0.4em 0.5em 0.4em;box-sizing: border-box;padding-bottom: 0.4em;background-color: white;}#sk-container-id-5 div.sk-label label {font-family: monospace;font-weight: bold;display: inline-block;line-height: 1.2em;}#sk-container-id-5 div.sk-label-container {text-align: center;}#sk-container-id-5 div.sk-container {/* jupyter's `normalize.less` sets `[hidden] { display: none; }` but bootstrap.min.css set `[hidden] { display: none !important; }` so we also need the `!important` here to be able to override the default hidden behavior on the sphinx rendered scikit-learn.org. See: https://github.com/scikit-learn/scikit-learn/issues/21755 */display: inline-block !important;position: relative;}#sk-container-id-5 div.sk-text-repr-fallback {display: none;}</style><div id=\"sk-container-id-5\" class=\"sk-top-container\"><div class=\"sk-text-repr-fallback\"><pre>LogisticRegression(max_iter=1000, penalty=&#x27;l1&#x27;, solver=&#x27;liblinear&#x27;)</pre><b>In a Jupyter environment, please rerun this cell to show the HTML representation or trust the notebook. <br />On GitHub, the HTML representation is unable to render, please try loading this page with nbviewer.org.</b></div><div class=\"sk-container\" hidden><div class=\"sk-item\"><div class=\"sk-estimator sk-toggleable\"><input class=\"sk-toggleable__control sk-hidden--visually\" id=\"sk-estimator-id-13\" type=\"checkbox\" checked><label for=\"sk-estimator-id-13\" class=\"sk-toggleable__label sk-toggleable__label-arrow\">LogisticRegression</label><div class=\"sk-toggleable__content\"><pre>LogisticRegression(max_iter=1000, penalty=&#x27;l1&#x27;, solver=&#x27;liblinear&#x27;)</pre></div></div></div></div></div>"
     },
     "execution_count": 52,
     "metadata": {},
     "output_type": "execute_result"
    }
   ],
   "source": [
    "best_model=gscv.best_estimator_\n",
    "best_model"
   ],
   "metadata": {
    "collapsed": false,
    "ExecuteTime": {
     "end_time": "2024-03-05T08:55:36.498618500Z",
     "start_time": "2024-03-05T08:55:36.466433200Z"
    }
   },
   "id": "83971243e9d0a84",
   "execution_count": 52
  },
  {
   "cell_type": "markdown",
   "source": [
    "### 데이터에 적합한 모델 찾기"
   ],
   "metadata": {
    "collapsed": false
   },
   "id": "463f53adddcac7e8"
  },
  {
   "cell_type": "code",
   "outputs": [],
   "source": [
    "from sklearn.utils.discovery import all_estimators"
   ],
   "metadata": {
    "collapsed": false,
    "ExecuteTime": {
     "end_time": "2024-03-05T08:58:28.073517400Z",
     "start_time": "2024-03-05T08:58:28.052448500Z"
    }
   },
   "id": "3af1483bc1076baf",
   "execution_count": 53
  },
  {
   "cell_type": "code",
   "outputs": [
    {
     "name": "stdout",
     "output_type": "stream",
     "text": [
      "__init__() got an unexpected keyword argument 'max_iter'\n",
      "__init__() got an unexpected keyword argument 'max_iter'\n",
      "__init__() got an unexpected keyword argument 'max_iter'\n",
      "__init__() got an unexpected keyword argument 'max_iter'\n",
      "__init__() got an unexpected keyword argument 'max_iter'\n",
      "__init__() got an unexpected keyword argument 'max_iter'\n",
      "__init__() got an unexpected keyword argument 'max_iter'\n",
      "__init__() got an unexpected keyword argument 'max_iter'\n",
      "__init__() got an unexpected keyword argument 'max_iter'\n",
      "__init__() got an unexpected keyword argument 'max_iter'\n",
      "__init__() got an unexpected keyword argument 'max_iter'\n",
      "__init__() got an unexpected keyword argument 'max_iter'\n",
      "__init__() got an unexpected keyword argument 'max_iter'\n",
      "__init__() got an unexpected keyword argument 'max_iter'\n",
      "HistGradientBoostingClassifier(max_iter=10000)\n",
      "__init__() got an unexpected keyword argument 'max_iter'\n",
      "LabelPropagation(max_iter=10000)\n",
      "LabelSpreading(max_iter=10000)\n",
      "__init__() got an unexpected keyword argument 'max_iter'\n",
      "LinearSVC(max_iter=10000)\n",
      "LogisticRegression(max_iter=10000)\n",
      "LogisticRegressionCV(max_iter=10000)\n"
     ]
    },
    {
     "name": "stderr",
     "output_type": "stream",
     "text": [
      "C:\\ProgramData\\anaconda3\\envs\\EXAM_ML\\lib\\site-packages\\sklearn\\svm\\_classes.py:32: FutureWarning: The default value of `dual` will change from `True` to `'auto'` in 1.5. Set the value of `dual` explicitly to suppress the warning.\n",
      "  warnings.warn(\n"
     ]
    },
    {
     "name": "stdout",
     "output_type": "stream",
     "text": [
      "MLPClassifier(max_iter=10000)\n",
      "__init__() got an unexpected keyword argument 'max_iter'\n",
      "__init__() got an unexpected keyword argument 'max_iter'\n",
      "__init__() got an unexpected keyword argument 'max_iter'\n",
      "NuSVC(max_iter=10000)\n",
      "__init__() got an unexpected keyword argument 'max_iter'\n",
      "__init__() got an unexpected keyword argument 'max_iter'\n",
      "__init__() got an unexpected keyword argument 'max_iter'\n",
      "PassiveAggressiveClassifier(max_iter=10000)\n",
      "Perceptron(max_iter=10000)\n",
      "__init__() got an unexpected keyword argument 'max_iter'\n",
      "__init__() got an unexpected keyword argument 'max_iter'\n",
      "__init__() got an unexpected keyword argument 'max_iter'\n",
      "RidgeClassifier(max_iter=10000)\n",
      "__init__() got an unexpected keyword argument 'max_iter'\n",
      "SGDClassifier(max_iter=10000)\n",
      "SVC(max_iter=10000)\n",
      "__init__() got an unexpected keyword argument 'max_iter'\n",
      "__init__() got an unexpected keyword argument 'max_iter'\n"
     ]
    }
   ],
   "source": [
    "models = all_estimators(\"classifier\")\n",
    "for model_name, model in models:\n",
    "    try:\n",
    "        print(model(max_iter=10000).fit(scaled_iris_X_train, iris_y_train))\n",
    "    except Exception as e:\n",
    "        print(e)"
   ],
   "metadata": {
    "collapsed": false,
    "ExecuteTime": {
     "end_time": "2024-03-05T09:03:11.649259Z",
     "start_time": "2024-03-05T09:03:07.219345Z"
    }
   },
   "id": "afdd5bf1d7195097",
   "execution_count": 59
  },
  {
   "cell_type": "code",
   "outputs": [],
   "source": [],
   "metadata": {
    "collapsed": false
   },
   "id": "7fb657af27ae3b17"
  }
 ],
 "metadata": {
  "kernelspec": {
   "display_name": "Python 3",
   "language": "python",
   "name": "python3"
  },
  "language_info": {
   "codemirror_mode": {
    "name": "ipython",
    "version": 2
   },
   "file_extension": ".py",
   "mimetype": "text/x-python",
   "name": "python",
   "nbconvert_exporter": "python",
   "pygments_lexer": "ipython2",
   "version": "2.7.6"
  }
 },
 "nbformat": 4,
 "nbformat_minor": 5
}
