{
 "cells": [
  {
   "cell_type": "code",
   "execution_count": 1,
   "id": "initial_id",
   "metadata": {
    "collapsed": true,
    "ExecuteTime": {
     "end_time": "2024-03-07T08:44:13.808536500Z",
     "start_time": "2024-03-07T08:44:13.055605900Z"
    }
   },
   "outputs": [],
   "source": [
    "import numpy as np\n",
    "import pandas as pd\n",
    "import matplotlib.pyplot as plt\n"
   ]
  },
  {
   "cell_type": "code",
   "outputs": [
    {
     "data": {
      "text/plain": "                 family               name class cap-diameter  cap-shape  \\\n0        Amanita Family         Fly Agaric     p     [10, 20]     [x, f]   \n1        Amanita Family        Panther Cap     p      [5, 10]     [p, x]   \n2        Amanita Family  False Panther Cap     p     [10, 15]     [x, f]   \n3        Amanita Family        The Blusher     e      [5, 15]     [x, f]   \n4        Amanita Family          Death Cap     p      [5, 12]     [x, f]   \n..                  ...                ...   ...          ...        ...   \n168   Saddle-Cup Family       White Saddle     p       [2, 6]        [o]   \n169       Bracket Fungi     Elfin's Saddle     p       [2, 4]        [o]   \n170       Bracket Fungi      Turban Fungus     p      [5, 15]        [o]   \n171        Morel Family       Common Morel     e       [3, 8]  [p, c, o]   \n172  Jelly Discs Family       Jelly Babies     p     [1, 1.5]  [x, f, s]   \n\n    Cap-surface cap-color does-bruise-or-bleed gill-attachment gill-spacing  \\\n0        [g, h]    [e, o]                  [f]             [e]          NaN   \n1           [g]       [n]                  [f]             [e]          NaN   \n2           NaN    [g, n]                  [f]             [e]          NaN   \n3           NaN       [n]                  [t]             NaN          NaN   \n4           [h]       [r]                  [f]             NaN          [c]   \n..          ...       ...                  ...             ...          ...   \n168         NaN       [w]                  [f]             [f]          [f]   \n169         NaN    [g, k]                  [f]             [f]          [f]   \n170         NaN    [n, e]                  [f]             [f]          [f]   \n171         NaN    [n, g]                  [f]             [f]          [f]   \n172         [s]       [y]                  [f]             [f]          [f]   \n\n     ... stem-root stem-surface stem-color veil-type veil-color has-ring  \\\n0    ...       [s]          [y]        [w]       [u]        [w]      [t]   \n1    ...       NaN          [y]        [w]       [u]        [w]      [t]   \n2    ...       NaN          NaN        [w]       [u]        [w]      [t]   \n3    ...       [b]          NaN        [w]       [u]        [w]      [t]   \n4    ...       NaN          NaN        [w]       [u]        [w]      [t]   \n..   ...       ...          ...        ...       ...        ...      ...   \n168  ...       NaN          [g]        [w]       NaN        NaN      [t]   \n169  ...       NaN          [g]     [g, n]       NaN        NaN      [f]   \n170  ...       NaN          [g]        [n]       NaN        NaN      [f]   \n171  ...       NaN          NaN        [n]       NaN        NaN      [f]   \n172  ...       NaN          NaN        [y]       NaN        NaN      [f]   \n\n    ring-type Spore-print-color habitat     season  \n0      [g, p]               NaN     [d]  [u, a, w]  \n1         [p]               NaN     [d]     [u, a]  \n2      [e, g]               NaN     [d]     [u, a]  \n3         [g]               NaN     [d]     [u, a]  \n4      [g, p]               NaN     [d]     [u, a]  \n..        ...               ...     ...        ...  \n168       [f]               NaN  [p, d]     [u, a]  \n169       [f]               NaN     [d]     [u, a]  \n170       [f]               NaN     [d]     [s, u]  \n171       [f]               NaN  [l, d]        [s]  \n172       [f]               NaN     [d]     [u, a]  \n\n[173 rows x 23 columns]",
      "text/html": "<div>\n<style scoped>\n    .dataframe tbody tr th:only-of-type {\n        vertical-align: middle;\n    }\n\n    .dataframe tbody tr th {\n        vertical-align: top;\n    }\n\n    .dataframe thead th {\n        text-align: right;\n    }\n</style>\n<table border=\"1\" class=\"dataframe\">\n  <thead>\n    <tr style=\"text-align: right;\">\n      <th></th>\n      <th>family</th>\n      <th>name</th>\n      <th>class</th>\n      <th>cap-diameter</th>\n      <th>cap-shape</th>\n      <th>Cap-surface</th>\n      <th>cap-color</th>\n      <th>does-bruise-or-bleed</th>\n      <th>gill-attachment</th>\n      <th>gill-spacing</th>\n      <th>...</th>\n      <th>stem-root</th>\n      <th>stem-surface</th>\n      <th>stem-color</th>\n      <th>veil-type</th>\n      <th>veil-color</th>\n      <th>has-ring</th>\n      <th>ring-type</th>\n      <th>Spore-print-color</th>\n      <th>habitat</th>\n      <th>season</th>\n    </tr>\n  </thead>\n  <tbody>\n    <tr>\n      <th>0</th>\n      <td>Amanita Family</td>\n      <td>Fly Agaric</td>\n      <td>p</td>\n      <td>[10, 20]</td>\n      <td>[x, f]</td>\n      <td>[g, h]</td>\n      <td>[e, o]</td>\n      <td>[f]</td>\n      <td>[e]</td>\n      <td>NaN</td>\n      <td>...</td>\n      <td>[s]</td>\n      <td>[y]</td>\n      <td>[w]</td>\n      <td>[u]</td>\n      <td>[w]</td>\n      <td>[t]</td>\n      <td>[g, p]</td>\n      <td>NaN</td>\n      <td>[d]</td>\n      <td>[u, a, w]</td>\n    </tr>\n    <tr>\n      <th>1</th>\n      <td>Amanita Family</td>\n      <td>Panther Cap</td>\n      <td>p</td>\n      <td>[5, 10]</td>\n      <td>[p, x]</td>\n      <td>[g]</td>\n      <td>[n]</td>\n      <td>[f]</td>\n      <td>[e]</td>\n      <td>NaN</td>\n      <td>...</td>\n      <td>NaN</td>\n      <td>[y]</td>\n      <td>[w]</td>\n      <td>[u]</td>\n      <td>[w]</td>\n      <td>[t]</td>\n      <td>[p]</td>\n      <td>NaN</td>\n      <td>[d]</td>\n      <td>[u, a]</td>\n    </tr>\n    <tr>\n      <th>2</th>\n      <td>Amanita Family</td>\n      <td>False Panther Cap</td>\n      <td>p</td>\n      <td>[10, 15]</td>\n      <td>[x, f]</td>\n      <td>NaN</td>\n      <td>[g, n]</td>\n      <td>[f]</td>\n      <td>[e]</td>\n      <td>NaN</td>\n      <td>...</td>\n      <td>NaN</td>\n      <td>NaN</td>\n      <td>[w]</td>\n      <td>[u]</td>\n      <td>[w]</td>\n      <td>[t]</td>\n      <td>[e, g]</td>\n      <td>NaN</td>\n      <td>[d]</td>\n      <td>[u, a]</td>\n    </tr>\n    <tr>\n      <th>3</th>\n      <td>Amanita Family</td>\n      <td>The Blusher</td>\n      <td>e</td>\n      <td>[5, 15]</td>\n      <td>[x, f]</td>\n      <td>NaN</td>\n      <td>[n]</td>\n      <td>[t]</td>\n      <td>NaN</td>\n      <td>NaN</td>\n      <td>...</td>\n      <td>[b]</td>\n      <td>NaN</td>\n      <td>[w]</td>\n      <td>[u]</td>\n      <td>[w]</td>\n      <td>[t]</td>\n      <td>[g]</td>\n      <td>NaN</td>\n      <td>[d]</td>\n      <td>[u, a]</td>\n    </tr>\n    <tr>\n      <th>4</th>\n      <td>Amanita Family</td>\n      <td>Death Cap</td>\n      <td>p</td>\n      <td>[5, 12]</td>\n      <td>[x, f]</td>\n      <td>[h]</td>\n      <td>[r]</td>\n      <td>[f]</td>\n      <td>NaN</td>\n      <td>[c]</td>\n      <td>...</td>\n      <td>NaN</td>\n      <td>NaN</td>\n      <td>[w]</td>\n      <td>[u]</td>\n      <td>[w]</td>\n      <td>[t]</td>\n      <td>[g, p]</td>\n      <td>NaN</td>\n      <td>[d]</td>\n      <td>[u, a]</td>\n    </tr>\n    <tr>\n      <th>...</th>\n      <td>...</td>\n      <td>...</td>\n      <td>...</td>\n      <td>...</td>\n      <td>...</td>\n      <td>...</td>\n      <td>...</td>\n      <td>...</td>\n      <td>...</td>\n      <td>...</td>\n      <td>...</td>\n      <td>...</td>\n      <td>...</td>\n      <td>...</td>\n      <td>...</td>\n      <td>...</td>\n      <td>...</td>\n      <td>...</td>\n      <td>...</td>\n      <td>...</td>\n      <td>...</td>\n    </tr>\n    <tr>\n      <th>168</th>\n      <td>Saddle-Cup Family</td>\n      <td>White Saddle</td>\n      <td>p</td>\n      <td>[2, 6]</td>\n      <td>[o]</td>\n      <td>NaN</td>\n      <td>[w]</td>\n      <td>[f]</td>\n      <td>[f]</td>\n      <td>[f]</td>\n      <td>...</td>\n      <td>NaN</td>\n      <td>[g]</td>\n      <td>[w]</td>\n      <td>NaN</td>\n      <td>NaN</td>\n      <td>[t]</td>\n      <td>[f]</td>\n      <td>NaN</td>\n      <td>[p, d]</td>\n      <td>[u, a]</td>\n    </tr>\n    <tr>\n      <th>169</th>\n      <td>Bracket Fungi</td>\n      <td>Elfin's Saddle</td>\n      <td>p</td>\n      <td>[2, 4]</td>\n      <td>[o]</td>\n      <td>NaN</td>\n      <td>[g, k]</td>\n      <td>[f]</td>\n      <td>[f]</td>\n      <td>[f]</td>\n      <td>...</td>\n      <td>NaN</td>\n      <td>[g]</td>\n      <td>[g, n]</td>\n      <td>NaN</td>\n      <td>NaN</td>\n      <td>[f]</td>\n      <td>[f]</td>\n      <td>NaN</td>\n      <td>[d]</td>\n      <td>[u, a]</td>\n    </tr>\n    <tr>\n      <th>170</th>\n      <td>Bracket Fungi</td>\n      <td>Turban Fungus</td>\n      <td>p</td>\n      <td>[5, 15]</td>\n      <td>[o]</td>\n      <td>NaN</td>\n      <td>[n, e]</td>\n      <td>[f]</td>\n      <td>[f]</td>\n      <td>[f]</td>\n      <td>...</td>\n      <td>NaN</td>\n      <td>[g]</td>\n      <td>[n]</td>\n      <td>NaN</td>\n      <td>NaN</td>\n      <td>[f]</td>\n      <td>[f]</td>\n      <td>NaN</td>\n      <td>[d]</td>\n      <td>[s, u]</td>\n    </tr>\n    <tr>\n      <th>171</th>\n      <td>Morel Family</td>\n      <td>Common Morel</td>\n      <td>e</td>\n      <td>[3, 8]</td>\n      <td>[p, c, o]</td>\n      <td>NaN</td>\n      <td>[n, g]</td>\n      <td>[f]</td>\n      <td>[f]</td>\n      <td>[f]</td>\n      <td>...</td>\n      <td>NaN</td>\n      <td>NaN</td>\n      <td>[n]</td>\n      <td>NaN</td>\n      <td>NaN</td>\n      <td>[f]</td>\n      <td>[f]</td>\n      <td>NaN</td>\n      <td>[l, d]</td>\n      <td>[s]</td>\n    </tr>\n    <tr>\n      <th>172</th>\n      <td>Jelly Discs Family</td>\n      <td>Jelly Babies</td>\n      <td>p</td>\n      <td>[1, 1.5]</td>\n      <td>[x, f, s]</td>\n      <td>[s]</td>\n      <td>[y]</td>\n      <td>[f]</td>\n      <td>[f]</td>\n      <td>[f]</td>\n      <td>...</td>\n      <td>NaN</td>\n      <td>NaN</td>\n      <td>[y]</td>\n      <td>NaN</td>\n      <td>NaN</td>\n      <td>[f]</td>\n      <td>[f]</td>\n      <td>NaN</td>\n      <td>[d]</td>\n      <td>[u, a]</td>\n    </tr>\n  </tbody>\n</table>\n<p>173 rows × 23 columns</p>\n</div>"
     },
     "execution_count": 2,
     "metadata": {},
     "output_type": "execute_result"
    }
   ],
   "source": [
    "DF1 = pd.read_csv('../data/MushroomDataset/primary_data.csv', sep=';')\n",
    "DF1"
   ],
   "metadata": {
    "collapsed": false,
    "ExecuteTime": {
     "end_time": "2024-03-07T08:46:28.165716300Z",
     "start_time": "2024-03-07T08:46:28.123704Z"
    }
   },
   "id": "80ad7cecdf6c4782",
   "execution_count": 2
  },
  {
   "cell_type": "code",
   "outputs": [
    {
     "name": "stdout",
     "output_type": "stream",
     "text": [
      "<class 'pandas.core.frame.DataFrame'>\n",
      "RangeIndex: 61069 entries, 0 to 61068\n",
      "Data columns (total 21 columns):\n",
      " #   Column                Non-Null Count  Dtype  \n",
      "---  ------                --------------  -----  \n",
      " 0   class                 61069 non-null  object \n",
      " 1   cap-diameter          61069 non-null  float64\n",
      " 2   cap-shape             61069 non-null  object \n",
      " 3   cap-surface           46949 non-null  object \n",
      " 4   cap-color             61069 non-null  object \n",
      " 5   does-bruise-or-bleed  61069 non-null  object \n",
      " 6   gill-attachment       51185 non-null  object \n",
      " 7   gill-spacing          36006 non-null  object \n",
      " 8   gill-color            61069 non-null  object \n",
      " 9   stem-height           61069 non-null  float64\n",
      " 10  stem-width            61069 non-null  float64\n",
      " 11  stem-root             9531 non-null   object \n",
      " 12  stem-surface          22945 non-null  object \n",
      " 13  stem-color            61069 non-null  object \n",
      " 14  veil-type             3177 non-null   object \n",
      " 15  veil-color            7413 non-null   object \n",
      " 16  has-ring              61069 non-null  object \n",
      " 17  ring-type             58598 non-null  object \n",
      " 18  spore-print-color     6354 non-null   object \n",
      " 19  habitat               61069 non-null  object \n",
      " 20  season                61069 non-null  object \n",
      "dtypes: float64(3), object(18)\n",
      "memory usage: 9.8+ MB\n"
     ]
    }
   ],
   "source": [
    "DF2 = pd.read_csv('../data/MushroomDataset/secondary_data.csv', sep=';')\n",
    "DF2.info()"
   ],
   "metadata": {
    "collapsed": false,
    "ExecuteTime": {
     "end_time": "2024-03-07T08:47:42.039944400Z",
     "start_time": "2024-03-07T08:47:41.926630300Z"
    }
   },
   "id": "bbfb27ff798bc506",
   "execution_count": 4
  },
  {
   "cell_type": "code",
   "outputs": [
    {
     "name": "stdout",
     "output_type": "stream",
     "text": [
      "<class 'pandas.core.frame.DataFrame'>\n",
      "RangeIndex: 8124 entries, 0 to 8123\n",
      "Data columns (total 23 columns):\n",
      " #   Column                    Non-Null Count  Dtype \n",
      "---  ------                    --------------  ----- \n",
      " 0   type                      8124 non-null   object\n",
      " 1   cap_shape                 8124 non-null   object\n",
      " 2   cap_surface               8124 non-null   object\n",
      " 3   cap_color                 8124 non-null   object\n",
      " 4   bruises                   8124 non-null   object\n",
      " 5   odor                      8124 non-null   object\n",
      " 6   gill_attachment           8124 non-null   object\n",
      " 7   gill_spacing              8124 non-null   object\n",
      " 8   gill_size                 8124 non-null   object\n",
      " 9   gill_color                8124 non-null   object\n",
      " 10  stalk_shape               8124 non-null   object\n",
      " 11  stalk_root                8124 non-null   object\n",
      " 12  stalk_surface_above_ring  8124 non-null   object\n",
      " 13  stalk_surface_below_ring  8124 non-null   object\n",
      " 14  stalk_color_above_ring    8124 non-null   object\n",
      " 15  stalk_color_below_ring    8124 non-null   object\n",
      " 16  veil_type                 8124 non-null   object\n",
      " 17  veil_color                8124 non-null   object\n",
      " 18  ring_number               8124 non-null   object\n",
      " 19  ring_type                 8124 non-null   object\n",
      " 20  spore_print_color         8124 non-null   object\n",
      " 21  population                8124 non-null   object\n",
      " 22  habitat                   8124 non-null   object\n",
      "dtypes: object(23)\n",
      "memory usage: 1.4+ MB\n"
     ]
    }
   ],
   "source": [
    "mushroomDF = pd.read_csv('../data/mushrooms.csv')\n",
    "mushroomDF.info()"
   ],
   "metadata": {
    "collapsed": false,
    "ExecuteTime": {
     "end_time": "2024-03-07T10:31:23.193455200Z",
     "start_time": "2024-03-07T10:31:23.147390400Z"
    }
   },
   "id": "de3990215e0bd256",
   "execution_count": 6
  },
  {
   "cell_type": "code",
   "outputs": [],
   "source": [],
   "metadata": {
    "collapsed": false
   },
   "id": "d1972f7b37a23c65"
  }
 ],
 "metadata": {
  "kernelspec": {
   "display_name": "Python 3",
   "language": "python",
   "name": "python3"
  },
  "language_info": {
   "codemirror_mode": {
    "name": "ipython",
    "version": 2
   },
   "file_extension": ".py",
   "mimetype": "text/x-python",
   "name": "python",
   "nbconvert_exporter": "python",
   "pygments_lexer": "ipython2",
   "version": "2.7.6"
  }
 },
 "nbformat": 4,
 "nbformat_minor": 5
}
