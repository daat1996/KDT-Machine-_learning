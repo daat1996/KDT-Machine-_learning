{
 "cells": [
  {
   "cell_type": "markdown",
   "source": [
    "### 의사결정나무(DT)\n",
    "- if-else 방식의 질문에 대한 답변으로 문제를 해결하는 알고리즘\n",
    "- 피쳐(특성) 중에서 선택한 기준으로 데이터 분할\n",
    "    * 엔트로피 (불순정도) => 낮아지는 방향 \n",
    "    * 정보이득 : 1-엔트로피 => 높아지는 방향\n",
    "    * 지니계수 : 불평등 수치값(높을수록 불평등) => 낮아지는 방향\n",
    "- 단점 : 과대적합이 될 가능성이 높다. 성능이 좋지 않음\n",
    "- 장점 : 전처리 영향을 받지 않음 / 직관성이 높음 / 피쳐들 중 주요 피쳐 확인 가능\n",
    "- 주의\n",
    "    * 여기서의 주요 피쳐는 데이터 분할을 위한 주요피쳐\n",
    "    * 100% 데이터의 주요 피쳐가 아닐 수도 있음 => 다른 검사(상관계수, 시각화 등등)와 함께 평가"
   ],
   "metadata": {
    "collapsed": false
   },
   "id": "8233fc8463d790b2"
  },
  {
   "cell_type": "markdown",
   "source": [
    "[1] 모듈 로딩 및 데이터 준비 <hr>"
   ],
   "metadata": {
    "collapsed": false
   },
   "id": "4279da5d01261a98"
  },
  {
   "cell_type": "code",
   "outputs": [],
   "source": [
    "import pandas as pd\n"
   ],
   "metadata": {
    "collapsed": false,
    "ExecuteTime": {
     "end_time": "2024-03-07T02:16:13.136556800Z",
     "start_time": "2024-03-07T02:16:13.076557400Z"
    }
   },
   "id": "f7c385dc31e904bf",
   "execution_count": 82
  },
  {
   "cell_type": "code",
   "outputs": [],
   "source": [
    "irisDF=pd.read_csv('../data/iris.csv')"
   ],
   "metadata": {
    "collapsed": false,
    "ExecuteTime": {
     "end_time": "2024-03-07T02:16:13.139558500Z",
     "start_time": "2024-03-07T02:16:13.111557700Z"
    }
   },
   "id": "9b3e97201cc90b7c",
   "execution_count": 83
  },
  {
   "cell_type": "markdown",
   "source": [
    "[2] 학습용 데이터 셋 준비 \n",
    "<hr>\n",
    "[2-1] 피쳐와 타겟 분리"
   ],
   "metadata": {
    "collapsed": false
   },
   "id": "4a8d8a99bbf42e91"
  },
  {
   "cell_type": "code",
   "outputs": [
    {
     "data": {
      "text/plain": "     sepal_length  sepal_width  petal_length  petal_width\n0             5.1          3.5           1.4          0.2\n1             4.9          3.0           1.4          0.2\n2             4.7          3.2           1.3          0.2\n3             4.6          3.1           1.5          0.2\n4             5.0          3.6           1.4          0.2\n..            ...          ...           ...          ...\n145           6.7          3.0           5.2          2.3\n146           6.3          2.5           5.0          1.9\n147           6.5          3.0           5.2          2.0\n148           6.2          3.4           5.4          2.3\n149           5.9          3.0           5.1          1.8\n\n[150 rows x 4 columns]",
      "text/html": "<div>\n<style scoped>\n    .dataframe tbody tr th:only-of-type {\n        vertical-align: middle;\n    }\n\n    .dataframe tbody tr th {\n        vertical-align: top;\n    }\n\n    .dataframe thead th {\n        text-align: right;\n    }\n</style>\n<table border=\"1\" class=\"dataframe\">\n  <thead>\n    <tr style=\"text-align: right;\">\n      <th></th>\n      <th>sepal_length</th>\n      <th>sepal_width</th>\n      <th>petal_length</th>\n      <th>petal_width</th>\n    </tr>\n  </thead>\n  <tbody>\n    <tr>\n      <th>0</th>\n      <td>5.1</td>\n      <td>3.5</td>\n      <td>1.4</td>\n      <td>0.2</td>\n    </tr>\n    <tr>\n      <th>1</th>\n      <td>4.9</td>\n      <td>3.0</td>\n      <td>1.4</td>\n      <td>0.2</td>\n    </tr>\n    <tr>\n      <th>2</th>\n      <td>4.7</td>\n      <td>3.2</td>\n      <td>1.3</td>\n      <td>0.2</td>\n    </tr>\n    <tr>\n      <th>3</th>\n      <td>4.6</td>\n      <td>3.1</td>\n      <td>1.5</td>\n      <td>0.2</td>\n    </tr>\n    <tr>\n      <th>4</th>\n      <td>5.0</td>\n      <td>3.6</td>\n      <td>1.4</td>\n      <td>0.2</td>\n    </tr>\n    <tr>\n      <th>...</th>\n      <td>...</td>\n      <td>...</td>\n      <td>...</td>\n      <td>...</td>\n    </tr>\n    <tr>\n      <th>145</th>\n      <td>6.7</td>\n      <td>3.0</td>\n      <td>5.2</td>\n      <td>2.3</td>\n    </tr>\n    <tr>\n      <th>146</th>\n      <td>6.3</td>\n      <td>2.5</td>\n      <td>5.0</td>\n      <td>1.9</td>\n    </tr>\n    <tr>\n      <th>147</th>\n      <td>6.5</td>\n      <td>3.0</td>\n      <td>5.2</td>\n      <td>2.0</td>\n    </tr>\n    <tr>\n      <th>148</th>\n      <td>6.2</td>\n      <td>3.4</td>\n      <td>5.4</td>\n      <td>2.3</td>\n    </tr>\n    <tr>\n      <th>149</th>\n      <td>5.9</td>\n      <td>3.0</td>\n      <td>5.1</td>\n      <td>1.8</td>\n    </tr>\n  </tbody>\n</table>\n<p>150 rows × 4 columns</p>\n</div>"
     },
     "execution_count": 84,
     "metadata": {},
     "output_type": "execute_result"
    }
   ],
   "source": [
    "feature=irisDF[irisDF.columns[:4]]\n",
    "target=irisDF[irisDF.columns[4]]\n",
    "feature"
   ],
   "metadata": {
    "collapsed": false,
    "ExecuteTime": {
     "end_time": "2024-03-07T02:16:13.163557Z",
     "start_time": "2024-03-07T02:16:13.142559Z"
    }
   },
   "id": "a0ffd531c02c4111",
   "execution_count": 84
  },
  {
   "cell_type": "markdown",
   "source": [
    "[2-2] 훈련용과 테스트용 데이터셋 분리"
   ],
   "metadata": {
    "collapsed": false
   },
   "id": "13786877cc34c3f7"
  },
  {
   "cell_type": "code",
   "outputs": [],
   "source": [
    "from sklearn.model_selection import train_test_split"
   ],
   "metadata": {
    "collapsed": false,
    "ExecuteTime": {
     "end_time": "2024-03-07T02:16:13.188556700Z",
     "start_time": "2024-03-07T02:16:13.165558Z"
    }
   },
   "id": "17d65c490f06d5f9",
   "execution_count": 85
  },
  {
   "cell_type": "code",
   "outputs": [],
   "source": [
    "X_train, X_test, y_train, y_test = train_test_split(feature, target, test_size=0.2, stratify=target)"
   ],
   "metadata": {
    "collapsed": false,
    "ExecuteTime": {
     "end_time": "2024-03-07T02:16:13.208557200Z",
     "start_time": "2024-03-07T02:16:13.178557500Z"
    }
   },
   "id": "ae9105403517164e",
   "execution_count": 86
  },
  {
   "cell_type": "markdown",
   "source": [
    "[3] 기계학습 진행 <hr>\n",
    "- 타겟 데이터 확인 결과 : 3개의 분류\n",
    "- 학습 유형 : 지도학습 + 분류\n",
    "    * 분류 알고리즘 => KNN, LogisticRegression, SVM-SVC, DecisionTree"
   ],
   "metadata": {
    "collapsed": false
   },
   "id": "684d682a70fdaa43"
  },
  {
   "cell_type": "markdown",
   "source": [
    "[3-1] 의사결정 알고리즘으로 분류"
   ],
   "metadata": {
    "collapsed": false
   },
   "id": "faa15b07325af892"
  },
  {
   "cell_type": "code",
   "outputs": [],
   "source": [
    "from sklearn.tree import DecisionTreeClassifier"
   ],
   "metadata": {
    "collapsed": false,
    "ExecuteTime": {
     "end_time": "2024-03-07T02:16:13.257014Z",
     "start_time": "2024-03-07T02:16:13.194556700Z"
    }
   },
   "id": "5bca1cf1f69b8f18",
   "execution_count": 87
  },
  {
   "cell_type": "code",
   "outputs": [
    {
     "data": {
      "text/plain": "DecisionTreeClassifier()",
      "text/html": "<style>#sk-container-id-8 {color: black;}#sk-container-id-8 pre{padding: 0;}#sk-container-id-8 div.sk-toggleable {background-color: white;}#sk-container-id-8 label.sk-toggleable__label {cursor: pointer;display: block;width: 100%;margin-bottom: 0;padding: 0.3em;box-sizing: border-box;text-align: center;}#sk-container-id-8 label.sk-toggleable__label-arrow:before {content: \"▸\";float: left;margin-right: 0.25em;color: #696969;}#sk-container-id-8 label.sk-toggleable__label-arrow:hover:before {color: black;}#sk-container-id-8 div.sk-estimator:hover label.sk-toggleable__label-arrow:before {color: black;}#sk-container-id-8 div.sk-toggleable__content {max-height: 0;max-width: 0;overflow: hidden;text-align: left;background-color: #f0f8ff;}#sk-container-id-8 div.sk-toggleable__content pre {margin: 0.2em;color: black;border-radius: 0.25em;background-color: #f0f8ff;}#sk-container-id-8 input.sk-toggleable__control:checked~div.sk-toggleable__content {max-height: 200px;max-width: 100%;overflow: auto;}#sk-container-id-8 input.sk-toggleable__control:checked~label.sk-toggleable__label-arrow:before {content: \"▾\";}#sk-container-id-8 div.sk-estimator input.sk-toggleable__control:checked~label.sk-toggleable__label {background-color: #d4ebff;}#sk-container-id-8 div.sk-label input.sk-toggleable__control:checked~label.sk-toggleable__label {background-color: #d4ebff;}#sk-container-id-8 input.sk-hidden--visually {border: 0;clip: rect(1px 1px 1px 1px);clip: rect(1px, 1px, 1px, 1px);height: 1px;margin: -1px;overflow: hidden;padding: 0;position: absolute;width: 1px;}#sk-container-id-8 div.sk-estimator {font-family: monospace;background-color: #f0f8ff;border: 1px dotted black;border-radius: 0.25em;box-sizing: border-box;margin-bottom: 0.5em;}#sk-container-id-8 div.sk-estimator:hover {background-color: #d4ebff;}#sk-container-id-8 div.sk-parallel-item::after {content: \"\";width: 100%;border-bottom: 1px solid gray;flex-grow: 1;}#sk-container-id-8 div.sk-label:hover label.sk-toggleable__label {background-color: #d4ebff;}#sk-container-id-8 div.sk-serial::before {content: \"\";position: absolute;border-left: 1px solid gray;box-sizing: border-box;top: 0;bottom: 0;left: 50%;z-index: 0;}#sk-container-id-8 div.sk-serial {display: flex;flex-direction: column;align-items: center;background-color: white;padding-right: 0.2em;padding-left: 0.2em;position: relative;}#sk-container-id-8 div.sk-item {position: relative;z-index: 1;}#sk-container-id-8 div.sk-parallel {display: flex;align-items: stretch;justify-content: center;background-color: white;position: relative;}#sk-container-id-8 div.sk-item::before, #sk-container-id-8 div.sk-parallel-item::before {content: \"\";position: absolute;border-left: 1px solid gray;box-sizing: border-box;top: 0;bottom: 0;left: 50%;z-index: -1;}#sk-container-id-8 div.sk-parallel-item {display: flex;flex-direction: column;z-index: 1;position: relative;background-color: white;}#sk-container-id-8 div.sk-parallel-item:first-child::after {align-self: flex-end;width: 50%;}#sk-container-id-8 div.sk-parallel-item:last-child::after {align-self: flex-start;width: 50%;}#sk-container-id-8 div.sk-parallel-item:only-child::after {width: 0;}#sk-container-id-8 div.sk-dashed-wrapped {border: 1px dashed gray;margin: 0 0.4em 0.5em 0.4em;box-sizing: border-box;padding-bottom: 0.4em;background-color: white;}#sk-container-id-8 div.sk-label label {font-family: monospace;font-weight: bold;display: inline-block;line-height: 1.2em;}#sk-container-id-8 div.sk-label-container {text-align: center;}#sk-container-id-8 div.sk-container {/* jupyter's `normalize.less` sets `[hidden] { display: none; }` but bootstrap.min.css set `[hidden] { display: none !important; }` so we also need the `!important` here to be able to override the default hidden behavior on the sphinx rendered scikit-learn.org. See: https://github.com/scikit-learn/scikit-learn/issues/21755 */display: inline-block !important;position: relative;}#sk-container-id-8 div.sk-text-repr-fallback {display: none;}</style><div id=\"sk-container-id-8\" class=\"sk-top-container\"><div class=\"sk-text-repr-fallback\"><pre>DecisionTreeClassifier()</pre><b>In a Jupyter environment, please rerun this cell to show the HTML representation or trust the notebook. <br />On GitHub, the HTML representation is unable to render, please try loading this page with nbviewer.org.</b></div><div class=\"sk-container\" hidden><div class=\"sk-item\"><div class=\"sk-estimator sk-toggleable\"><input class=\"sk-toggleable__control sk-hidden--visually\" id=\"sk-estimator-id-10\" type=\"checkbox\" checked><label for=\"sk-estimator-id-10\" class=\"sk-toggleable__label sk-toggleable__label-arrow\">DecisionTreeClassifier</label><div class=\"sk-toggleable__content\"><pre>DecisionTreeClassifier()</pre></div></div></div></div></div>"
     },
     "execution_count": 88,
     "metadata": {},
     "output_type": "execute_result"
    }
   ],
   "source": [
    "# 인스턴스 생성 및 학습\n",
    "model = DecisionTreeClassifier()\n",
    "model.fit(X_train, y_train)"
   ],
   "metadata": {
    "collapsed": false,
    "ExecuteTime": {
     "end_time": "2024-03-07T02:16:13.274012600Z",
     "start_time": "2024-03-07T02:16:13.213884Z"
    }
   },
   "id": "28e5bc444c848e21",
   "execution_count": 88
  },
  {
   "cell_type": "code",
   "outputs": [
    {
     "name": "stdout",
     "output_type": "stream",
     "text": [
      "None\n"
     ]
    }
   ],
   "source": [
    "# 생성된 모델 구조 시각화\n",
    "\n",
    "from sklearn.tree import export_graphviz\n",
    "print(export_graphviz(model,'iris_dt_model.txt'))\n"
   ],
   "metadata": {
    "collapsed": false,
    "ExecuteTime": {
     "end_time": "2024-03-07T02:16:13.277013800Z",
     "start_time": "2024-03-07T02:16:13.264013Z"
    }
   },
   "id": "7b04d331ad908fea",
   "execution_count": 89
  },
  {
   "cell_type": "code",
   "outputs": [
    {
     "name": "stdout",
     "output_type": "stream",
     "text": [
      "None\n"
     ]
    }
   ],
   "source": [
    "# DT 모델의 시각화 정보를 dot언어로 작성해서 파일로 저장\n",
    "print(export_graphviz(model,'iris_dt_model.dot', feature_names=irisDF.columns[:-1], filled=True, rounded=True, class_names=irisDF.species.unique()))"
   ],
   "metadata": {
    "collapsed": false,
    "ExecuteTime": {
     "end_time": "2024-03-07T02:16:13.334493400Z",
     "start_time": "2024-03-07T02:16:13.281013700Z"
    }
   },
   "id": "406103d16f201611",
   "execution_count": 90
  },
  {
   "cell_type": "code",
   "outputs": [
    {
     "data": {
      "image/svg+xml": "<?xml version=\"1.0\" encoding=\"UTF-8\" standalone=\"no\"?>\n<!DOCTYPE svg PUBLIC \"-//W3C//DTD SVG 1.1//EN\"\n \"http://www.w3.org/Graphics/SVG/1.1/DTD/svg11.dtd\">\n<!-- Generated by graphviz version 2.50.0 (0)\n -->\n<!-- Title: Tree Pages: 1 -->\n<svg width=\"805pt\" height=\"552pt\"\n viewBox=\"0.00 0.00 805.00 552.00\" xmlns=\"http://www.w3.org/2000/svg\" xmlns:xlink=\"http://www.w3.org/1999/xlink\">\n<g id=\"graph0\" class=\"graph\" transform=\"scale(1 1) rotate(0) translate(4 548)\">\n<title>Tree</title>\n<polygon fill=\"white\" stroke=\"transparent\" points=\"-4,4 -4,-548 801,-548 801,4 -4,4\"/>\n<!-- 0 -->\n<g id=\"node1\" class=\"node\">\n<title>0</title>\n<path fill=\"#ffffff\" stroke=\"black\" d=\"M482.5,-544C482.5,-544 366.5,-544 366.5,-544 360.5,-544 354.5,-538 354.5,-532 354.5,-532 354.5,-473 354.5,-473 354.5,-467 360.5,-461 366.5,-461 366.5,-461 482.5,-461 482.5,-461 488.5,-461 494.5,-467 494.5,-473 494.5,-473 494.5,-532 494.5,-532 494.5,-538 488.5,-544 482.5,-544\"/>\n<text text-anchor=\"middle\" x=\"424.5\" y=\"-528.8\" font-family=\"Helvetica,sans-Serif\" font-size=\"14.00\">petal_length &lt;= 2.45</text>\n<text text-anchor=\"middle\" x=\"424.5\" y=\"-513.8\" font-family=\"Helvetica,sans-Serif\" font-size=\"14.00\">gini = 0.667</text>\n<text text-anchor=\"middle\" x=\"424.5\" y=\"-498.8\" font-family=\"Helvetica,sans-Serif\" font-size=\"14.00\">samples = 120</text>\n<text text-anchor=\"middle\" x=\"424.5\" y=\"-483.8\" font-family=\"Helvetica,sans-Serif\" font-size=\"14.00\">value = [40, 40, 40]</text>\n<text text-anchor=\"middle\" x=\"424.5\" y=\"-468.8\" font-family=\"Helvetica,sans-Serif\" font-size=\"14.00\">class = setosa</text>\n</g>\n<!-- 1 -->\n<g id=\"node2\" class=\"node\">\n<title>1</title>\n<path fill=\"#e58139\" stroke=\"black\" d=\"M399,-417.5C399,-417.5 306,-417.5 306,-417.5 300,-417.5 294,-411.5 294,-405.5 294,-405.5 294,-361.5 294,-361.5 294,-355.5 300,-349.5 306,-349.5 306,-349.5 399,-349.5 399,-349.5 405,-349.5 411,-355.5 411,-361.5 411,-361.5 411,-405.5 411,-405.5 411,-411.5 405,-417.5 399,-417.5\"/>\n<text text-anchor=\"middle\" x=\"352.5\" y=\"-402.3\" font-family=\"Helvetica,sans-Serif\" font-size=\"14.00\">gini = 0.0</text>\n<text text-anchor=\"middle\" x=\"352.5\" y=\"-387.3\" font-family=\"Helvetica,sans-Serif\" font-size=\"14.00\">samples = 40</text>\n<text text-anchor=\"middle\" x=\"352.5\" y=\"-372.3\" font-family=\"Helvetica,sans-Serif\" font-size=\"14.00\">value = [40, 0, 0]</text>\n<text text-anchor=\"middle\" x=\"352.5\" y=\"-357.3\" font-family=\"Helvetica,sans-Serif\" font-size=\"14.00\">class = setosa</text>\n</g>\n<!-- 0&#45;&gt;1 -->\n<g id=\"edge1\" class=\"edge\">\n<title>0&#45;&gt;1</title>\n<path fill=\"none\" stroke=\"black\" d=\"M399.52,-460.91C392.66,-449.76 385.21,-437.66 378.31,-426.44\"/>\n<polygon fill=\"black\" stroke=\"black\" points=\"381.13,-424.35 372.91,-417.67 375.17,-428.02 381.13,-424.35\"/>\n<text text-anchor=\"middle\" x=\"367.12\" y=\"-438.29\" font-family=\"Helvetica,sans-Serif\" font-size=\"14.00\">True</text>\n</g>\n<!-- 2 -->\n<g id=\"node3\" class=\"node\">\n<title>2</title>\n<path fill=\"#ffffff\" stroke=\"black\" d=\"M552,-425C552,-425 441,-425 441,-425 435,-425 429,-419 429,-413 429,-413 429,-354 429,-354 429,-348 435,-342 441,-342 441,-342 552,-342 552,-342 558,-342 564,-348 564,-354 564,-354 564,-413 564,-413 564,-419 558,-425 552,-425\"/>\n<text text-anchor=\"middle\" x=\"496.5\" y=\"-409.8\" font-family=\"Helvetica,sans-Serif\" font-size=\"14.00\">petal_width &lt;= 1.75</text>\n<text text-anchor=\"middle\" x=\"496.5\" y=\"-394.8\" font-family=\"Helvetica,sans-Serif\" font-size=\"14.00\">gini = 0.5</text>\n<text text-anchor=\"middle\" x=\"496.5\" y=\"-379.8\" font-family=\"Helvetica,sans-Serif\" font-size=\"14.00\">samples = 80</text>\n<text text-anchor=\"middle\" x=\"496.5\" y=\"-364.8\" font-family=\"Helvetica,sans-Serif\" font-size=\"14.00\">value = [0, 40, 40]</text>\n<text text-anchor=\"middle\" x=\"496.5\" y=\"-349.8\" font-family=\"Helvetica,sans-Serif\" font-size=\"14.00\">class = versicolor</text>\n</g>\n<!-- 0&#45;&gt;2 -->\n<g id=\"edge2\" class=\"edge\">\n<title>0&#45;&gt;2</title>\n<path fill=\"none\" stroke=\"black\" d=\"M449.48,-460.91C454.9,-452.1 460.68,-442.7 466.28,-433.61\"/>\n<polygon fill=\"black\" stroke=\"black\" points=\"469.3,-435.37 471.56,-425.02 463.34,-431.7 469.3,-435.37\"/>\n<text text-anchor=\"middle\" x=\"477.35\" y=\"-445.64\" font-family=\"Helvetica,sans-Serif\" font-size=\"14.00\">False</text>\n</g>\n<!-- 3 -->\n<g id=\"node4\" class=\"node\">\n<title>3</title>\n<path fill=\"#4de88e\" stroke=\"black\" d=\"M453.5,-306C453.5,-306 337.5,-306 337.5,-306 331.5,-306 325.5,-300 325.5,-294 325.5,-294 325.5,-235 325.5,-235 325.5,-229 331.5,-223 337.5,-223 337.5,-223 453.5,-223 453.5,-223 459.5,-223 465.5,-229 465.5,-235 465.5,-235 465.5,-294 465.5,-294 465.5,-300 459.5,-306 453.5,-306\"/>\n<text text-anchor=\"middle\" x=\"395.5\" y=\"-290.8\" font-family=\"Helvetica,sans-Serif\" font-size=\"14.00\">petal_length &lt;= 5.05</text>\n<text text-anchor=\"middle\" x=\"395.5\" y=\"-275.8\" font-family=\"Helvetica,sans-Serif\" font-size=\"14.00\">gini = 0.169</text>\n<text text-anchor=\"middle\" x=\"395.5\" y=\"-260.8\" font-family=\"Helvetica,sans-Serif\" font-size=\"14.00\">samples = 43</text>\n<text text-anchor=\"middle\" x=\"395.5\" y=\"-245.8\" font-family=\"Helvetica,sans-Serif\" font-size=\"14.00\">value = [0, 39, 4]</text>\n<text text-anchor=\"middle\" x=\"395.5\" y=\"-230.8\" font-family=\"Helvetica,sans-Serif\" font-size=\"14.00\">class = versicolor</text>\n</g>\n<!-- 2&#45;&gt;3 -->\n<g id=\"edge3\" class=\"edge\">\n<title>2&#45;&gt;3</title>\n<path fill=\"none\" stroke=\"black\" d=\"M461.46,-341.91C453.62,-332.83 445.24,-323.12 437.17,-313.77\"/>\n<polygon fill=\"black\" stroke=\"black\" points=\"439.66,-311.3 430.48,-306.02 434.36,-315.88 439.66,-311.3\"/>\n</g>\n<!-- 10 -->\n<g id=\"node11\" class=\"node\">\n<title>10</title>\n<path fill=\"#843ee6\" stroke=\"black\" d=\"M654.5,-306C654.5,-306 538.5,-306 538.5,-306 532.5,-306 526.5,-300 526.5,-294 526.5,-294 526.5,-235 526.5,-235 526.5,-229 532.5,-223 538.5,-223 538.5,-223 654.5,-223 654.5,-223 660.5,-223 666.5,-229 666.5,-235 666.5,-235 666.5,-294 666.5,-294 666.5,-300 660.5,-306 654.5,-306\"/>\n<text text-anchor=\"middle\" x=\"596.5\" y=\"-290.8\" font-family=\"Helvetica,sans-Serif\" font-size=\"14.00\">petal_length &lt;= 4.85</text>\n<text text-anchor=\"middle\" x=\"596.5\" y=\"-275.8\" font-family=\"Helvetica,sans-Serif\" font-size=\"14.00\">gini = 0.053</text>\n<text text-anchor=\"middle\" x=\"596.5\" y=\"-260.8\" font-family=\"Helvetica,sans-Serif\" font-size=\"14.00\">samples = 37</text>\n<text text-anchor=\"middle\" x=\"596.5\" y=\"-245.8\" font-family=\"Helvetica,sans-Serif\" font-size=\"14.00\">value = [0, 1, 36]</text>\n<text text-anchor=\"middle\" x=\"596.5\" y=\"-230.8\" font-family=\"Helvetica,sans-Serif\" font-size=\"14.00\">class = virginica</text>\n</g>\n<!-- 2&#45;&gt;10 -->\n<g id=\"edge10\" class=\"edge\">\n<title>2&#45;&gt;10</title>\n<path fill=\"none\" stroke=\"black\" d=\"M531.19,-341.91C538.95,-332.83 547.25,-323.12 555.24,-313.77\"/>\n<polygon fill=\"black\" stroke=\"black\" points=\"558.03,-315.9 561.87,-306.02 552.71,-311.35 558.03,-315.9\"/>\n</g>\n<!-- 4 -->\n<g id=\"node5\" class=\"node\">\n<title>4</title>\n<path fill=\"#3ee684\" stroke=\"black\" d=\"M251,-187C251,-187 132,-187 132,-187 126,-187 120,-181 120,-175 120,-175 120,-116 120,-116 120,-110 126,-104 132,-104 132,-104 251,-104 251,-104 257,-104 263,-110 263,-116 263,-116 263,-175 263,-175 263,-181 257,-187 251,-187\"/>\n<text text-anchor=\"middle\" x=\"191.5\" y=\"-171.8\" font-family=\"Helvetica,sans-Serif\" font-size=\"14.00\">sepal_length &lt;= 4.95</text>\n<text text-anchor=\"middle\" x=\"191.5\" y=\"-156.8\" font-family=\"Helvetica,sans-Serif\" font-size=\"14.00\">gini = 0.05</text>\n<text text-anchor=\"middle\" x=\"191.5\" y=\"-141.8\" font-family=\"Helvetica,sans-Serif\" font-size=\"14.00\">samples = 39</text>\n<text text-anchor=\"middle\" x=\"191.5\" y=\"-126.8\" font-family=\"Helvetica,sans-Serif\" font-size=\"14.00\">value = [0, 38, 1]</text>\n<text text-anchor=\"middle\" x=\"191.5\" y=\"-111.8\" font-family=\"Helvetica,sans-Serif\" font-size=\"14.00\">class = versicolor</text>\n</g>\n<!-- 3&#45;&gt;4 -->\n<g id=\"edge4\" class=\"edge\">\n<title>3&#45;&gt;4</title>\n<path fill=\"none\" stroke=\"black\" d=\"M325.29,-223.24C307.76,-213.18 288.84,-202.33 270.9,-192.04\"/>\n<polygon fill=\"black\" stroke=\"black\" points=\"272.6,-188.98 262.18,-187.04 269.11,-195.05 272.6,-188.98\"/>\n</g>\n<!-- 7 -->\n<g id=\"node8\" class=\"node\">\n<title>7</title>\n<path fill=\"#ab7bee\" stroke=\"black\" d=\"M455,-187C455,-187 336,-187 336,-187 330,-187 324,-181 324,-175 324,-175 324,-116 324,-116 324,-110 330,-104 336,-104 336,-104 455,-104 455,-104 461,-104 467,-110 467,-116 467,-116 467,-175 467,-175 467,-181 461,-187 455,-187\"/>\n<text text-anchor=\"middle\" x=\"395.5\" y=\"-171.8\" font-family=\"Helvetica,sans-Serif\" font-size=\"14.00\">sepal_length &lt;= 6.05</text>\n<text text-anchor=\"middle\" x=\"395.5\" y=\"-156.8\" font-family=\"Helvetica,sans-Serif\" font-size=\"14.00\">gini = 0.375</text>\n<text text-anchor=\"middle\" x=\"395.5\" y=\"-141.8\" font-family=\"Helvetica,sans-Serif\" font-size=\"14.00\">samples = 4</text>\n<text text-anchor=\"middle\" x=\"395.5\" y=\"-126.8\" font-family=\"Helvetica,sans-Serif\" font-size=\"14.00\">value = [0, 1, 3]</text>\n<text text-anchor=\"middle\" x=\"395.5\" y=\"-111.8\" font-family=\"Helvetica,sans-Serif\" font-size=\"14.00\">class = virginica</text>\n</g>\n<!-- 3&#45;&gt;7 -->\n<g id=\"edge7\" class=\"edge\">\n<title>3&#45;&gt;7</title>\n<path fill=\"none\" stroke=\"black\" d=\"M395.5,-222.91C395.5,-214.65 395.5,-205.86 395.5,-197.3\"/>\n<polygon fill=\"black\" stroke=\"black\" points=\"399,-197.02 395.5,-187.02 392,-197.02 399,-197.02\"/>\n</g>\n<!-- 5 -->\n<g id=\"node6\" class=\"node\">\n<title>5</title>\n<path fill=\"#8139e5\" stroke=\"black\" d=\"M101,-68C101,-68 12,-68 12,-68 6,-68 0,-62 0,-56 0,-56 0,-12 0,-12 0,-6 6,0 12,0 12,0 101,0 101,0 107,0 113,-6 113,-12 113,-12 113,-56 113,-56 113,-62 107,-68 101,-68\"/>\n<text text-anchor=\"middle\" x=\"56.5\" y=\"-52.8\" font-family=\"Helvetica,sans-Serif\" font-size=\"14.00\">gini = 0.0</text>\n<text text-anchor=\"middle\" x=\"56.5\" y=\"-37.8\" font-family=\"Helvetica,sans-Serif\" font-size=\"14.00\">samples = 1</text>\n<text text-anchor=\"middle\" x=\"56.5\" y=\"-22.8\" font-family=\"Helvetica,sans-Serif\" font-size=\"14.00\">value = [0, 0, 1]</text>\n<text text-anchor=\"middle\" x=\"56.5\" y=\"-7.8\" font-family=\"Helvetica,sans-Serif\" font-size=\"14.00\">class = virginica</text>\n</g>\n<!-- 4&#45;&gt;5 -->\n<g id=\"edge5\" class=\"edge\">\n<title>4&#45;&gt;5</title>\n<path fill=\"none\" stroke=\"black\" d=\"M141.23,-103.73C129.54,-94.24 117.1,-84.16 105.46,-74.72\"/>\n<polygon fill=\"black\" stroke=\"black\" points=\"107.53,-71.88 97.55,-68.3 103.12,-77.32 107.53,-71.88\"/>\n</g>\n<!-- 6 -->\n<g id=\"node7\" class=\"node\">\n<title>6</title>\n<path fill=\"#39e581\" stroke=\"black\" d=\"M240,-68C240,-68 143,-68 143,-68 137,-68 131,-62 131,-56 131,-56 131,-12 131,-12 131,-6 137,0 143,0 143,0 240,0 240,0 246,0 252,-6 252,-12 252,-12 252,-56 252,-56 252,-62 246,-68 240,-68\"/>\n<text text-anchor=\"middle\" x=\"191.5\" y=\"-52.8\" font-family=\"Helvetica,sans-Serif\" font-size=\"14.00\">gini = 0.0</text>\n<text text-anchor=\"middle\" x=\"191.5\" y=\"-37.8\" font-family=\"Helvetica,sans-Serif\" font-size=\"14.00\">samples = 38</text>\n<text text-anchor=\"middle\" x=\"191.5\" y=\"-22.8\" font-family=\"Helvetica,sans-Serif\" font-size=\"14.00\">value = [0, 38, 0]</text>\n<text text-anchor=\"middle\" x=\"191.5\" y=\"-7.8\" font-family=\"Helvetica,sans-Serif\" font-size=\"14.00\">class = versicolor</text>\n</g>\n<!-- 4&#45;&gt;6 -->\n<g id=\"edge6\" class=\"edge\">\n<title>4&#45;&gt;6</title>\n<path fill=\"none\" stroke=\"black\" d=\"M191.5,-103.73C191.5,-95.52 191.5,-86.86 191.5,-78.56\"/>\n<polygon fill=\"black\" stroke=\"black\" points=\"195,-78.3 191.5,-68.3 188,-78.3 195,-78.3\"/>\n</g>\n<!-- 8 -->\n<g id=\"node9\" class=\"node\">\n<title>8</title>\n<path fill=\"#39e581\" stroke=\"black\" d=\"M379,-68C379,-68 282,-68 282,-68 276,-68 270,-62 270,-56 270,-56 270,-12 270,-12 270,-6 276,0 282,0 282,0 379,0 379,0 385,0 391,-6 391,-12 391,-12 391,-56 391,-56 391,-62 385,-68 379,-68\"/>\n<text text-anchor=\"middle\" x=\"330.5\" y=\"-52.8\" font-family=\"Helvetica,sans-Serif\" font-size=\"14.00\">gini = 0.0</text>\n<text text-anchor=\"middle\" x=\"330.5\" y=\"-37.8\" font-family=\"Helvetica,sans-Serif\" font-size=\"14.00\">samples = 1</text>\n<text text-anchor=\"middle\" x=\"330.5\" y=\"-22.8\" font-family=\"Helvetica,sans-Serif\" font-size=\"14.00\">value = [0, 1, 0]</text>\n<text text-anchor=\"middle\" x=\"330.5\" y=\"-7.8\" font-family=\"Helvetica,sans-Serif\" font-size=\"14.00\">class = versicolor</text>\n</g>\n<!-- 7&#45;&gt;8 -->\n<g id=\"edge8\" class=\"edge\">\n<title>7&#45;&gt;8</title>\n<path fill=\"none\" stroke=\"black\" d=\"M371.3,-103.73C366.1,-94.97 360.6,-85.7 355.38,-76.91\"/>\n<polygon fill=\"black\" stroke=\"black\" points=\"358.38,-75.11 350.27,-68.3 352.36,-78.69 358.38,-75.11\"/>\n</g>\n<!-- 9 -->\n<g id=\"node10\" class=\"node\">\n<title>9</title>\n<path fill=\"#8139e5\" stroke=\"black\" d=\"M510,-68C510,-68 421,-68 421,-68 415,-68 409,-62 409,-56 409,-56 409,-12 409,-12 409,-6 415,0 421,0 421,0 510,0 510,0 516,0 522,-6 522,-12 522,-12 522,-56 522,-56 522,-62 516,-68 510,-68\"/>\n<text text-anchor=\"middle\" x=\"465.5\" y=\"-52.8\" font-family=\"Helvetica,sans-Serif\" font-size=\"14.00\">gini = 0.0</text>\n<text text-anchor=\"middle\" x=\"465.5\" y=\"-37.8\" font-family=\"Helvetica,sans-Serif\" font-size=\"14.00\">samples = 3</text>\n<text text-anchor=\"middle\" x=\"465.5\" y=\"-22.8\" font-family=\"Helvetica,sans-Serif\" font-size=\"14.00\">value = [0, 0, 3]</text>\n<text text-anchor=\"middle\" x=\"465.5\" y=\"-7.8\" font-family=\"Helvetica,sans-Serif\" font-size=\"14.00\">class = virginica</text>\n</g>\n<!-- 7&#45;&gt;9 -->\n<g id=\"edge9\" class=\"edge\">\n<title>7&#45;&gt;9</title>\n<path fill=\"none\" stroke=\"black\" d=\"M421.57,-103.73C427.16,-94.97 433.09,-85.7 438.71,-76.91\"/>\n<polygon fill=\"black\" stroke=\"black\" points=\"441.78,-78.61 444.21,-68.3 435.88,-74.84 441.78,-78.61\"/>\n</g>\n<!-- 11 -->\n<g id=\"node12\" class=\"node\">\n<title>11</title>\n<path fill=\"#c09cf2\" stroke=\"black\" d=\"M650,-187C650,-187 543,-187 543,-187 537,-187 531,-181 531,-175 531,-175 531,-116 531,-116 531,-110 537,-104 543,-104 543,-104 650,-104 650,-104 656,-104 662,-110 662,-116 662,-116 662,-175 662,-175 662,-181 656,-187 650,-187\"/>\n<text text-anchor=\"middle\" x=\"596.5\" y=\"-171.8\" font-family=\"Helvetica,sans-Serif\" font-size=\"14.00\">sepal_width &lt;= 3.1</text>\n<text text-anchor=\"middle\" x=\"596.5\" y=\"-156.8\" font-family=\"Helvetica,sans-Serif\" font-size=\"14.00\">gini = 0.444</text>\n<text text-anchor=\"middle\" x=\"596.5\" y=\"-141.8\" font-family=\"Helvetica,sans-Serif\" font-size=\"14.00\">samples = 3</text>\n<text text-anchor=\"middle\" x=\"596.5\" y=\"-126.8\" font-family=\"Helvetica,sans-Serif\" font-size=\"14.00\">value = [0, 1, 2]</text>\n<text text-anchor=\"middle\" x=\"596.5\" y=\"-111.8\" font-family=\"Helvetica,sans-Serif\" font-size=\"14.00\">class = virginica</text>\n</g>\n<!-- 10&#45;&gt;11 -->\n<g id=\"edge11\" class=\"edge\">\n<title>10&#45;&gt;11</title>\n<path fill=\"none\" stroke=\"black\" d=\"M596.5,-222.91C596.5,-214.65 596.5,-205.86 596.5,-197.3\"/>\n<polygon fill=\"black\" stroke=\"black\" points=\"600,-197.02 596.5,-187.02 593,-197.02 600,-197.02\"/>\n</g>\n<!-- 14 -->\n<g id=\"node15\" class=\"node\">\n<title>14</title>\n<path fill=\"#8139e5\" stroke=\"black\" d=\"M785,-179.5C785,-179.5 692,-179.5 692,-179.5 686,-179.5 680,-173.5 680,-167.5 680,-167.5 680,-123.5 680,-123.5 680,-117.5 686,-111.5 692,-111.5 692,-111.5 785,-111.5 785,-111.5 791,-111.5 797,-117.5 797,-123.5 797,-123.5 797,-167.5 797,-167.5 797,-173.5 791,-179.5 785,-179.5\"/>\n<text text-anchor=\"middle\" x=\"738.5\" y=\"-164.3\" font-family=\"Helvetica,sans-Serif\" font-size=\"14.00\">gini = 0.0</text>\n<text text-anchor=\"middle\" x=\"738.5\" y=\"-149.3\" font-family=\"Helvetica,sans-Serif\" font-size=\"14.00\">samples = 34</text>\n<text text-anchor=\"middle\" x=\"738.5\" y=\"-134.3\" font-family=\"Helvetica,sans-Serif\" font-size=\"14.00\">value = [0, 0, 34]</text>\n<text text-anchor=\"middle\" x=\"738.5\" y=\"-119.3\" font-family=\"Helvetica,sans-Serif\" font-size=\"14.00\">class = virginica</text>\n</g>\n<!-- 10&#45;&gt;14 -->\n<g id=\"edge14\" class=\"edge\">\n<title>10&#45;&gt;14</title>\n<path fill=\"none\" stroke=\"black\" d=\"M645.77,-222.91C660.23,-210.99 676.03,-197.98 690.41,-186.12\"/>\n<polygon fill=\"black\" stroke=\"black\" points=\"692.75,-188.73 698.25,-179.67 688.3,-183.32 692.75,-188.73\"/>\n</g>\n<!-- 12 -->\n<g id=\"node13\" class=\"node\">\n<title>12</title>\n<path fill=\"#8139e5\" stroke=\"black\" d=\"M641,-68C641,-68 552,-68 552,-68 546,-68 540,-62 540,-56 540,-56 540,-12 540,-12 540,-6 546,0 552,0 552,0 641,0 641,0 647,0 653,-6 653,-12 653,-12 653,-56 653,-56 653,-62 647,-68 641,-68\"/>\n<text text-anchor=\"middle\" x=\"596.5\" y=\"-52.8\" font-family=\"Helvetica,sans-Serif\" font-size=\"14.00\">gini = 0.0</text>\n<text text-anchor=\"middle\" x=\"596.5\" y=\"-37.8\" font-family=\"Helvetica,sans-Serif\" font-size=\"14.00\">samples = 2</text>\n<text text-anchor=\"middle\" x=\"596.5\" y=\"-22.8\" font-family=\"Helvetica,sans-Serif\" font-size=\"14.00\">value = [0, 0, 2]</text>\n<text text-anchor=\"middle\" x=\"596.5\" y=\"-7.8\" font-family=\"Helvetica,sans-Serif\" font-size=\"14.00\">class = virginica</text>\n</g>\n<!-- 11&#45;&gt;12 -->\n<g id=\"edge12\" class=\"edge\">\n<title>11&#45;&gt;12</title>\n<path fill=\"none\" stroke=\"black\" d=\"M596.5,-103.73C596.5,-95.52 596.5,-86.86 596.5,-78.56\"/>\n<polygon fill=\"black\" stroke=\"black\" points=\"600,-78.3 596.5,-68.3 593,-78.3 600,-78.3\"/>\n</g>\n<!-- 13 -->\n<g id=\"node14\" class=\"node\">\n<title>13</title>\n<path fill=\"#39e581\" stroke=\"black\" d=\"M780,-68C780,-68 683,-68 683,-68 677,-68 671,-62 671,-56 671,-56 671,-12 671,-12 671,-6 677,0 683,0 683,0 780,0 780,0 786,0 792,-6 792,-12 792,-12 792,-56 792,-56 792,-62 786,-68 780,-68\"/>\n<text text-anchor=\"middle\" x=\"731.5\" y=\"-52.8\" font-family=\"Helvetica,sans-Serif\" font-size=\"14.00\">gini = 0.0</text>\n<text text-anchor=\"middle\" x=\"731.5\" y=\"-37.8\" font-family=\"Helvetica,sans-Serif\" font-size=\"14.00\">samples = 1</text>\n<text text-anchor=\"middle\" x=\"731.5\" y=\"-22.8\" font-family=\"Helvetica,sans-Serif\" font-size=\"14.00\">value = [0, 1, 0]</text>\n<text text-anchor=\"middle\" x=\"731.5\" y=\"-7.8\" font-family=\"Helvetica,sans-Serif\" font-size=\"14.00\">class = versicolor</text>\n</g>\n<!-- 11&#45;&gt;13 -->\n<g id=\"edge13\" class=\"edge\">\n<title>11&#45;&gt;13</title>\n<path fill=\"none\" stroke=\"black\" d=\"M646.77,-103.73C658.46,-94.24 670.9,-84.16 682.54,-74.72\"/>\n<polygon fill=\"black\" stroke=\"black\" points=\"684.88,-77.32 690.45,-68.3 680.47,-71.88 684.88,-77.32\"/>\n</g>\n</g>\n</svg>\n",
      "text/plain": "<graphviz.sources.Source at 0x2233db3dc10>"
     },
     "execution_count": 91,
     "metadata": {},
     "output_type": "execute_result"
    }
   ],
   "source": [
    "# dot 언어로 작성된 내용을 시각화 해주는 모듈 graphviz\n",
    "import graphviz as gz\n",
    "from graphviz import Source\n",
    "Source.from_file('iris_dt_model.dot')"
   ],
   "metadata": {
    "collapsed": false,
    "ExecuteTime": {
     "end_time": "2024-03-07T02:16:13.543332400Z",
     "start_time": "2024-03-07T02:16:13.305014Z"
    }
   },
   "id": "16eb1373f26c682b",
   "execution_count": 91
  },
  {
   "cell_type": "markdown",
   "source": [
    "[4] 모델 평가 <hr>"
   ],
   "metadata": {
    "collapsed": false
   },
   "id": "e76315e8e766b1fb"
  },
  {
   "cell_type": "code",
   "outputs": [
    {
     "name": "stdout",
     "output_type": "stream",
     "text": [
      "Train score: 1.0, Test score: 0.9333333333333333\n"
     ]
    }
   ],
   "source": [
    "train_score = model.score(X_train, y_train)\n",
    "test_score = model.score(X_test, y_test)\n",
    "\n",
    "print(f'Train score: {train_score}, Test score: {test_score}')"
   ],
   "metadata": {
    "collapsed": false,
    "ExecuteTime": {
     "end_time": "2024-03-07T02:16:13.559333100Z",
     "start_time": "2024-03-07T02:16:13.542343900Z"
    }
   },
   "id": "591d9338147e319d",
   "execution_count": 92
  },
  {
   "cell_type": "markdown",
   "source": [
    "[5] 문제 해결 및 성능 향상 즉, 튜닝 <hr>\n",
    "- 원인 예상\n",
    "    * 데이터 셋 부족 => cv\n",
    "    * DT의 여러가지 하이퍼파라미터 기본값으로만 사용 => 다양한 값 조절\n",
    "- 해결 방법\n",
    "    * 2개의 원인을 한꺼번에 해결하기 위해서 GridSearchCV"
   ],
   "metadata": {
    "collapsed": false
   },
   "id": "dbb8f25c75e366f1"
  },
  {
   "cell_type": "code",
   "outputs": [],
   "source": [
    "# 모듈 로딩\n",
    "from sklearn.model_selection import GridSearchCV, RandomizedSearchCV"
   ],
   "metadata": {
    "collapsed": false,
    "ExecuteTime": {
     "end_time": "2024-03-07T02:16:13.597342700Z",
     "start_time": "2024-03-07T02:16:13.556334200Z"
    }
   },
   "id": "dd7c9bda358e794",
   "execution_count": 93
  },
  {
   "cell_type": "code",
   "outputs": [],
   "source": [
    "# 모델 조합 조건\n",
    "# cv => 기본 5, ...\n",
    "# DT(결정나무)의 하이퍼파라미터 => gini, max_depth, ...\n",
    "\n",
    "dt_model = DecisionTreeClassifier()\n",
    "n_cv = 5\n",
    "params = {'criterion':['gini', 'entropy', 'log_loss'], \n",
    "          'max_depth':[5, 10, 15],\n",
    "          'min_samples_split':[2,4,6]\n",
    "          }\n",
    "# 하이퍼파라미터 조합된 모델 생성 후 교차검증 데이터셋으로 학습\n",
    "# 진행해주는 인스턴스\n",
    "gs = GridSearchCV(dt_model, param_grid=params, cv=n_cv)"
   ],
   "metadata": {
    "collapsed": false,
    "ExecuteTime": {
     "end_time": "2024-03-07T02:16:13.598342900Z",
     "start_time": "2024-03-07T02:16:13.573333200Z"
    }
   },
   "id": "6df4cbd35a6a082e",
   "execution_count": 94
  },
  {
   "cell_type": "code",
   "outputs": [],
   "source": [
    "# 조합된 모델들의 학습 진행\n",
    "result=gs.fit(X_train, y_train)"
   ],
   "metadata": {
    "collapsed": false,
    "ExecuteTime": {
     "end_time": "2024-03-07T02:16:13.997175600Z",
     "start_time": "2024-03-07T02:16:13.589332900Z"
    }
   },
   "id": "60bff42118d9d053",
   "execution_count": 95
  },
  {
   "cell_type": "code",
   "outputs": [
    {
     "data": {
      "text/plain": "GridSearchCV(cv=5, estimator=DecisionTreeClassifier(),\n             param_grid={'criterion': ['gini', 'entropy', 'log_loss'],\n                         'max_depth': [5, 10, 15],\n                         'min_samples_split': [2, 4, 6]})",
      "text/html": "<style>#sk-container-id-9 {color: black;}#sk-container-id-9 pre{padding: 0;}#sk-container-id-9 div.sk-toggleable {background-color: white;}#sk-container-id-9 label.sk-toggleable__label {cursor: pointer;display: block;width: 100%;margin-bottom: 0;padding: 0.3em;box-sizing: border-box;text-align: center;}#sk-container-id-9 label.sk-toggleable__label-arrow:before {content: \"▸\";float: left;margin-right: 0.25em;color: #696969;}#sk-container-id-9 label.sk-toggleable__label-arrow:hover:before {color: black;}#sk-container-id-9 div.sk-estimator:hover label.sk-toggleable__label-arrow:before {color: black;}#sk-container-id-9 div.sk-toggleable__content {max-height: 0;max-width: 0;overflow: hidden;text-align: left;background-color: #f0f8ff;}#sk-container-id-9 div.sk-toggleable__content pre {margin: 0.2em;color: black;border-radius: 0.25em;background-color: #f0f8ff;}#sk-container-id-9 input.sk-toggleable__control:checked~div.sk-toggleable__content {max-height: 200px;max-width: 100%;overflow: auto;}#sk-container-id-9 input.sk-toggleable__control:checked~label.sk-toggleable__label-arrow:before {content: \"▾\";}#sk-container-id-9 div.sk-estimator input.sk-toggleable__control:checked~label.sk-toggleable__label {background-color: #d4ebff;}#sk-container-id-9 div.sk-label input.sk-toggleable__control:checked~label.sk-toggleable__label {background-color: #d4ebff;}#sk-container-id-9 input.sk-hidden--visually {border: 0;clip: rect(1px 1px 1px 1px);clip: rect(1px, 1px, 1px, 1px);height: 1px;margin: -1px;overflow: hidden;padding: 0;position: absolute;width: 1px;}#sk-container-id-9 div.sk-estimator {font-family: monospace;background-color: #f0f8ff;border: 1px dotted black;border-radius: 0.25em;box-sizing: border-box;margin-bottom: 0.5em;}#sk-container-id-9 div.sk-estimator:hover {background-color: #d4ebff;}#sk-container-id-9 div.sk-parallel-item::after {content: \"\";width: 100%;border-bottom: 1px solid gray;flex-grow: 1;}#sk-container-id-9 div.sk-label:hover label.sk-toggleable__label {background-color: #d4ebff;}#sk-container-id-9 div.sk-serial::before {content: \"\";position: absolute;border-left: 1px solid gray;box-sizing: border-box;top: 0;bottom: 0;left: 50%;z-index: 0;}#sk-container-id-9 div.sk-serial {display: flex;flex-direction: column;align-items: center;background-color: white;padding-right: 0.2em;padding-left: 0.2em;position: relative;}#sk-container-id-9 div.sk-item {position: relative;z-index: 1;}#sk-container-id-9 div.sk-parallel {display: flex;align-items: stretch;justify-content: center;background-color: white;position: relative;}#sk-container-id-9 div.sk-item::before, #sk-container-id-9 div.sk-parallel-item::before {content: \"\";position: absolute;border-left: 1px solid gray;box-sizing: border-box;top: 0;bottom: 0;left: 50%;z-index: -1;}#sk-container-id-9 div.sk-parallel-item {display: flex;flex-direction: column;z-index: 1;position: relative;background-color: white;}#sk-container-id-9 div.sk-parallel-item:first-child::after {align-self: flex-end;width: 50%;}#sk-container-id-9 div.sk-parallel-item:last-child::after {align-self: flex-start;width: 50%;}#sk-container-id-9 div.sk-parallel-item:only-child::after {width: 0;}#sk-container-id-9 div.sk-dashed-wrapped {border: 1px dashed gray;margin: 0 0.4em 0.5em 0.4em;box-sizing: border-box;padding-bottom: 0.4em;background-color: white;}#sk-container-id-9 div.sk-label label {font-family: monospace;font-weight: bold;display: inline-block;line-height: 1.2em;}#sk-container-id-9 div.sk-label-container {text-align: center;}#sk-container-id-9 div.sk-container {/* jupyter's `normalize.less` sets `[hidden] { display: none; }` but bootstrap.min.css set `[hidden] { display: none !important; }` so we also need the `!important` here to be able to override the default hidden behavior on the sphinx rendered scikit-learn.org. See: https://github.com/scikit-learn/scikit-learn/issues/21755 */display: inline-block !important;position: relative;}#sk-container-id-9 div.sk-text-repr-fallback {display: none;}</style><div id=\"sk-container-id-9\" class=\"sk-top-container\"><div class=\"sk-text-repr-fallback\"><pre>GridSearchCV(cv=5, estimator=DecisionTreeClassifier(),\n             param_grid={&#x27;criterion&#x27;: [&#x27;gini&#x27;, &#x27;entropy&#x27;, &#x27;log_loss&#x27;],\n                         &#x27;max_depth&#x27;: [5, 10, 15],\n                         &#x27;min_samples_split&#x27;: [2, 4, 6]})</pre><b>In a Jupyter environment, please rerun this cell to show the HTML representation or trust the notebook. <br />On GitHub, the HTML representation is unable to render, please try loading this page with nbviewer.org.</b></div><div class=\"sk-container\" hidden><div class=\"sk-item sk-dashed-wrapped\"><div class=\"sk-label-container\"><div class=\"sk-label sk-toggleable\"><input class=\"sk-toggleable__control sk-hidden--visually\" id=\"sk-estimator-id-11\" type=\"checkbox\" ><label for=\"sk-estimator-id-11\" class=\"sk-toggleable__label sk-toggleable__label-arrow\">GridSearchCV</label><div class=\"sk-toggleable__content\"><pre>GridSearchCV(cv=5, estimator=DecisionTreeClassifier(),\n             param_grid={&#x27;criterion&#x27;: [&#x27;gini&#x27;, &#x27;entropy&#x27;, &#x27;log_loss&#x27;],\n                         &#x27;max_depth&#x27;: [5, 10, 15],\n                         &#x27;min_samples_split&#x27;: [2, 4, 6]})</pre></div></div></div><div class=\"sk-parallel\"><div class=\"sk-parallel-item\"><div class=\"sk-item\"><div class=\"sk-label-container\"><div class=\"sk-label sk-toggleable\"><input class=\"sk-toggleable__control sk-hidden--visually\" id=\"sk-estimator-id-12\" type=\"checkbox\" ><label for=\"sk-estimator-id-12\" class=\"sk-toggleable__label sk-toggleable__label-arrow\">estimator: DecisionTreeClassifier</label><div class=\"sk-toggleable__content\"><pre>DecisionTreeClassifier()</pre></div></div></div><div class=\"sk-serial\"><div class=\"sk-item\"><div class=\"sk-estimator sk-toggleable\"><input class=\"sk-toggleable__control sk-hidden--visually\" id=\"sk-estimator-id-13\" type=\"checkbox\" ><label for=\"sk-estimator-id-13\" class=\"sk-toggleable__label sk-toggleable__label-arrow\">DecisionTreeClassifier</label><div class=\"sk-toggleable__content\"><pre>DecisionTreeClassifier()</pre></div></div></div></div></div></div></div></div></div></div>"
     },
     "execution_count": 96,
     "metadata": {},
     "output_type": "execute_result"
    }
   ],
   "source": [
    "# 결과 확인\n",
    "result"
   ],
   "metadata": {
    "collapsed": false,
    "ExecuteTime": {
     "end_time": "2024-03-07T02:16:14.014671300Z",
     "start_time": "2024-03-07T02:16:13.999189100Z"
    }
   },
   "id": "9c56174003d9abe9",
   "execution_count": 96
  },
  {
   "cell_type": "code",
   "outputs": [
    {
     "data": {
      "text/plain": "    mean_fit_time  std_fit_time  mean_score_time  std_score_time  \\\n0        0.001202      0.000406         0.001000    9.556273e-06   \n1        0.001996      0.000005         0.001803    4.008056e-04   \n2        0.001198      0.000402         0.001001    5.560829e-07   \n3        0.001001      0.000002         0.000833    4.213109e-04   \n4        0.001783      0.000394         0.001417    5.089960e-04   \n5        0.001385      0.000473         0.001214    3.937855e-04   \n6        0.001796      0.000398         0.000805    4.027706e-04   \n7        0.001001      0.000001         0.001015    3.150461e-05   \n8        0.001604      0.000510         0.000592    4.835257e-04   \n9        0.001402      0.000488         0.001000    7.404653e-06   \n10       0.000997      0.000003         0.001004    7.608504e-06   \n11       0.001010      0.000024         0.000994    1.603903e-05   \n12       0.001197      0.000365         0.001011    2.890121e-05   \n13       0.001193      0.000371         0.000799    3.996412e-04   \n14       0.001388      0.000507         0.000400    4.898630e-04   \n15       0.001398      0.000489         0.000801    4.005246e-04   \n16       0.001201      0.000397         0.000800    4.001462e-04   \n17       0.001009      0.000028         0.000989    2.737668e-05   \n18       0.001398      0.000496         0.001015    3.626145e-05   \n19       0.000990      0.000030         0.001000    5.743068e-06   \n20       0.001185      0.000374         0.000805    4.027619e-04   \n21       0.001203      0.000407         0.000800    4.002571e-04   \n22       0.001195      0.000388         0.000812    4.065766e-04   \n23       0.001001      0.000002         0.000999    2.657485e-06   \n24       0.001209      0.000408         0.000991    1.928310e-05   \n25       0.009590      0.010289         0.004449    4.017771e-03   \n26       0.001977      0.000922         0.000836    4.202216e-04   \n\n   param_criterion param_max_depth param_min_samples_split  \\\n0             gini               5                       2   \n1             gini               5                       4   \n2             gini               5                       6   \n3             gini              10                       2   \n4             gini              10                       4   \n5             gini              10                       6   \n6             gini              15                       2   \n7             gini              15                       4   \n8             gini              15                       6   \n9          entropy               5                       2   \n10         entropy               5                       4   \n11         entropy               5                       6   \n12         entropy              10                       2   \n13         entropy              10                       4   \n14         entropy              10                       6   \n15         entropy              15                       2   \n16         entropy              15                       4   \n17         entropy              15                       6   \n18        log_loss               5                       2   \n19        log_loss               5                       4   \n20        log_loss               5                       6   \n21        log_loss              10                       2   \n22        log_loss              10                       4   \n23        log_loss              10                       6   \n24        log_loss              15                       2   \n25        log_loss              15                       4   \n26        log_loss              15                       6   \n\n                                               params  split0_test_score  \\\n0   {'criterion': 'gini', 'max_depth': 5, 'min_sam...           0.958333   \n1   {'criterion': 'gini', 'max_depth': 5, 'min_sam...           0.958333   \n2   {'criterion': 'gini', 'max_depth': 5, 'min_sam...           0.958333   \n3   {'criterion': 'gini', 'max_depth': 10, 'min_sa...           0.958333   \n4   {'criterion': 'gini', 'max_depth': 10, 'min_sa...           0.958333   \n5   {'criterion': 'gini', 'max_depth': 10, 'min_sa...           0.958333   \n6   {'criterion': 'gini', 'max_depth': 15, 'min_sa...           0.958333   \n7   {'criterion': 'gini', 'max_depth': 15, 'min_sa...           0.958333   \n8   {'criterion': 'gini', 'max_depth': 15, 'min_sa...           0.958333   \n9   {'criterion': 'entropy', 'max_depth': 5, 'min_...           0.958333   \n10  {'criterion': 'entropy', 'max_depth': 5, 'min_...           0.958333   \n11  {'criterion': 'entropy', 'max_depth': 5, 'min_...           0.958333   \n12  {'criterion': 'entropy', 'max_depth': 10, 'min...           0.958333   \n13  {'criterion': 'entropy', 'max_depth': 10, 'min...           0.958333   \n14  {'criterion': 'entropy', 'max_depth': 10, 'min...           0.958333   \n15  {'criterion': 'entropy', 'max_depth': 15, 'min...           0.958333   \n16  {'criterion': 'entropy', 'max_depth': 15, 'min...           0.958333   \n17  {'criterion': 'entropy', 'max_depth': 15, 'min...           0.958333   \n18  {'criterion': 'log_loss', 'max_depth': 5, 'min...           0.958333   \n19  {'criterion': 'log_loss', 'max_depth': 5, 'min...           0.958333   \n20  {'criterion': 'log_loss', 'max_depth': 5, 'min...           0.958333   \n21  {'criterion': 'log_loss', 'max_depth': 10, 'mi...           0.958333   \n22  {'criterion': 'log_loss', 'max_depth': 10, 'mi...           0.958333   \n23  {'criterion': 'log_loss', 'max_depth': 10, 'mi...           0.958333   \n24  {'criterion': 'log_loss', 'max_depth': 15, 'mi...           0.958333   \n25  {'criterion': 'log_loss', 'max_depth': 15, 'mi...           0.958333   \n26  {'criterion': 'log_loss', 'max_depth': 15, 'mi...           0.958333   \n\n    split1_test_score  split2_test_score  split3_test_score  \\\n0            1.000000           0.916667           0.916667   \n1            0.958333           0.916667           0.916667   \n2            0.958333           0.916667           0.916667   \n3            1.000000           0.958333           0.916667   \n4            0.958333           0.916667           0.916667   \n5            0.958333           0.916667           0.916667   \n6            1.000000           0.875000           0.916667   \n7            0.958333           0.875000           0.916667   \n8            0.958333           0.916667           0.916667   \n9            1.000000           0.875000           0.916667   \n10           0.958333           0.916667           0.916667   \n11           0.958333           0.916667           0.916667   \n12           1.000000           0.875000           0.916667   \n13           0.958333           0.916667           0.916667   \n14           0.958333           0.875000           0.916667   \n15           1.000000           0.916667           0.916667   \n16           0.958333           0.875000           0.916667   \n17           0.958333           0.875000           0.916667   \n18           1.000000           0.875000           0.916667   \n19           0.958333           0.916667           0.916667   \n20           0.958333           0.875000           0.916667   \n21           1.000000           0.916667           0.916667   \n22           0.958333           0.875000           0.916667   \n23           0.958333           0.916667           0.916667   \n24           1.000000           0.916667           0.916667   \n25           0.958333           0.916667           0.916667   \n26           0.958333           0.916667           0.916667   \n\n    split4_test_score  mean_test_score  std_test_score  rank_test_score  \n0            0.958333         0.950000        0.031180                2  \n1            0.958333         0.941667        0.020412                4  \n2            0.958333         0.941667        0.020412                4  \n3            0.958333         0.958333        0.026352                1  \n4            0.958333         0.941667        0.020412                4  \n5            0.958333         0.941667        0.020412                4  \n6            0.916667         0.933333        0.042492               21  \n7            0.958333         0.933333        0.033333               21  \n8            0.958333         0.941667        0.020412                4  \n9            0.958333         0.941667        0.042492                4  \n10           0.958333         0.941667        0.020412                4  \n11           0.958333         0.941667        0.020412                4  \n12           0.958333         0.941667        0.042492                4  \n13           0.958333         0.941667        0.020412                4  \n14           0.958333         0.933333        0.033333               21  \n15           0.916667         0.941667        0.033333                4  \n16           0.958333         0.933333        0.033333               21  \n17           0.958333         0.933333        0.033333               21  \n18           0.958333         0.941667        0.042492                4  \n19           0.958333         0.941667        0.020412                4  \n20           0.958333         0.933333        0.033333               21  \n21           0.916667         0.941667        0.033333                4  \n22           0.958333         0.933333        0.033333               21  \n23           0.958333         0.941667        0.020412                4  \n24           0.958333         0.950000        0.031180                2  \n25           0.958333         0.941667        0.020412                4  \n26           0.958333         0.941667        0.020412                4  ",
      "text/html": "<div>\n<style scoped>\n    .dataframe tbody tr th:only-of-type {\n        vertical-align: middle;\n    }\n\n    .dataframe tbody tr th {\n        vertical-align: top;\n    }\n\n    .dataframe thead th {\n        text-align: right;\n    }\n</style>\n<table border=\"1\" class=\"dataframe\">\n  <thead>\n    <tr style=\"text-align: right;\">\n      <th></th>\n      <th>mean_fit_time</th>\n      <th>std_fit_time</th>\n      <th>mean_score_time</th>\n      <th>std_score_time</th>\n      <th>param_criterion</th>\n      <th>param_max_depth</th>\n      <th>param_min_samples_split</th>\n      <th>params</th>\n      <th>split0_test_score</th>\n      <th>split1_test_score</th>\n      <th>split2_test_score</th>\n      <th>split3_test_score</th>\n      <th>split4_test_score</th>\n      <th>mean_test_score</th>\n      <th>std_test_score</th>\n      <th>rank_test_score</th>\n    </tr>\n  </thead>\n  <tbody>\n    <tr>\n      <th>0</th>\n      <td>0.001202</td>\n      <td>0.000406</td>\n      <td>0.001000</td>\n      <td>9.556273e-06</td>\n      <td>gini</td>\n      <td>5</td>\n      <td>2</td>\n      <td>{'criterion': 'gini', 'max_depth': 5, 'min_sam...</td>\n      <td>0.958333</td>\n      <td>1.000000</td>\n      <td>0.916667</td>\n      <td>0.916667</td>\n      <td>0.958333</td>\n      <td>0.950000</td>\n      <td>0.031180</td>\n      <td>2</td>\n    </tr>\n    <tr>\n      <th>1</th>\n      <td>0.001996</td>\n      <td>0.000005</td>\n      <td>0.001803</td>\n      <td>4.008056e-04</td>\n      <td>gini</td>\n      <td>5</td>\n      <td>4</td>\n      <td>{'criterion': 'gini', 'max_depth': 5, 'min_sam...</td>\n      <td>0.958333</td>\n      <td>0.958333</td>\n      <td>0.916667</td>\n      <td>0.916667</td>\n      <td>0.958333</td>\n      <td>0.941667</td>\n      <td>0.020412</td>\n      <td>4</td>\n    </tr>\n    <tr>\n      <th>2</th>\n      <td>0.001198</td>\n      <td>0.000402</td>\n      <td>0.001001</td>\n      <td>5.560829e-07</td>\n      <td>gini</td>\n      <td>5</td>\n      <td>6</td>\n      <td>{'criterion': 'gini', 'max_depth': 5, 'min_sam...</td>\n      <td>0.958333</td>\n      <td>0.958333</td>\n      <td>0.916667</td>\n      <td>0.916667</td>\n      <td>0.958333</td>\n      <td>0.941667</td>\n      <td>0.020412</td>\n      <td>4</td>\n    </tr>\n    <tr>\n      <th>3</th>\n      <td>0.001001</td>\n      <td>0.000002</td>\n      <td>0.000833</td>\n      <td>4.213109e-04</td>\n      <td>gini</td>\n      <td>10</td>\n      <td>2</td>\n      <td>{'criterion': 'gini', 'max_depth': 10, 'min_sa...</td>\n      <td>0.958333</td>\n      <td>1.000000</td>\n      <td>0.958333</td>\n      <td>0.916667</td>\n      <td>0.958333</td>\n      <td>0.958333</td>\n      <td>0.026352</td>\n      <td>1</td>\n    </tr>\n    <tr>\n      <th>4</th>\n      <td>0.001783</td>\n      <td>0.000394</td>\n      <td>0.001417</td>\n      <td>5.089960e-04</td>\n      <td>gini</td>\n      <td>10</td>\n      <td>4</td>\n      <td>{'criterion': 'gini', 'max_depth': 10, 'min_sa...</td>\n      <td>0.958333</td>\n      <td>0.958333</td>\n      <td>0.916667</td>\n      <td>0.916667</td>\n      <td>0.958333</td>\n      <td>0.941667</td>\n      <td>0.020412</td>\n      <td>4</td>\n    </tr>\n    <tr>\n      <th>5</th>\n      <td>0.001385</td>\n      <td>0.000473</td>\n      <td>0.001214</td>\n      <td>3.937855e-04</td>\n      <td>gini</td>\n      <td>10</td>\n      <td>6</td>\n      <td>{'criterion': 'gini', 'max_depth': 10, 'min_sa...</td>\n      <td>0.958333</td>\n      <td>0.958333</td>\n      <td>0.916667</td>\n      <td>0.916667</td>\n      <td>0.958333</td>\n      <td>0.941667</td>\n      <td>0.020412</td>\n      <td>4</td>\n    </tr>\n    <tr>\n      <th>6</th>\n      <td>0.001796</td>\n      <td>0.000398</td>\n      <td>0.000805</td>\n      <td>4.027706e-04</td>\n      <td>gini</td>\n      <td>15</td>\n      <td>2</td>\n      <td>{'criterion': 'gini', 'max_depth': 15, 'min_sa...</td>\n      <td>0.958333</td>\n      <td>1.000000</td>\n      <td>0.875000</td>\n      <td>0.916667</td>\n      <td>0.916667</td>\n      <td>0.933333</td>\n      <td>0.042492</td>\n      <td>21</td>\n    </tr>\n    <tr>\n      <th>7</th>\n      <td>0.001001</td>\n      <td>0.000001</td>\n      <td>0.001015</td>\n      <td>3.150461e-05</td>\n      <td>gini</td>\n      <td>15</td>\n      <td>4</td>\n      <td>{'criterion': 'gini', 'max_depth': 15, 'min_sa...</td>\n      <td>0.958333</td>\n      <td>0.958333</td>\n      <td>0.875000</td>\n      <td>0.916667</td>\n      <td>0.958333</td>\n      <td>0.933333</td>\n      <td>0.033333</td>\n      <td>21</td>\n    </tr>\n    <tr>\n      <th>8</th>\n      <td>0.001604</td>\n      <td>0.000510</td>\n      <td>0.000592</td>\n      <td>4.835257e-04</td>\n      <td>gini</td>\n      <td>15</td>\n      <td>6</td>\n      <td>{'criterion': 'gini', 'max_depth': 15, 'min_sa...</td>\n      <td>0.958333</td>\n      <td>0.958333</td>\n      <td>0.916667</td>\n      <td>0.916667</td>\n      <td>0.958333</td>\n      <td>0.941667</td>\n      <td>0.020412</td>\n      <td>4</td>\n    </tr>\n    <tr>\n      <th>9</th>\n      <td>0.001402</td>\n      <td>0.000488</td>\n      <td>0.001000</td>\n      <td>7.404653e-06</td>\n      <td>entropy</td>\n      <td>5</td>\n      <td>2</td>\n      <td>{'criterion': 'entropy', 'max_depth': 5, 'min_...</td>\n      <td>0.958333</td>\n      <td>1.000000</td>\n      <td>0.875000</td>\n      <td>0.916667</td>\n      <td>0.958333</td>\n      <td>0.941667</td>\n      <td>0.042492</td>\n      <td>4</td>\n    </tr>\n    <tr>\n      <th>10</th>\n      <td>0.000997</td>\n      <td>0.000003</td>\n      <td>0.001004</td>\n      <td>7.608504e-06</td>\n      <td>entropy</td>\n      <td>5</td>\n      <td>4</td>\n      <td>{'criterion': 'entropy', 'max_depth': 5, 'min_...</td>\n      <td>0.958333</td>\n      <td>0.958333</td>\n      <td>0.916667</td>\n      <td>0.916667</td>\n      <td>0.958333</td>\n      <td>0.941667</td>\n      <td>0.020412</td>\n      <td>4</td>\n    </tr>\n    <tr>\n      <th>11</th>\n      <td>0.001010</td>\n      <td>0.000024</td>\n      <td>0.000994</td>\n      <td>1.603903e-05</td>\n      <td>entropy</td>\n      <td>5</td>\n      <td>6</td>\n      <td>{'criterion': 'entropy', 'max_depth': 5, 'min_...</td>\n      <td>0.958333</td>\n      <td>0.958333</td>\n      <td>0.916667</td>\n      <td>0.916667</td>\n      <td>0.958333</td>\n      <td>0.941667</td>\n      <td>0.020412</td>\n      <td>4</td>\n    </tr>\n    <tr>\n      <th>12</th>\n      <td>0.001197</td>\n      <td>0.000365</td>\n      <td>0.001011</td>\n      <td>2.890121e-05</td>\n      <td>entropy</td>\n      <td>10</td>\n      <td>2</td>\n      <td>{'criterion': 'entropy', 'max_depth': 10, 'min...</td>\n      <td>0.958333</td>\n      <td>1.000000</td>\n      <td>0.875000</td>\n      <td>0.916667</td>\n      <td>0.958333</td>\n      <td>0.941667</td>\n      <td>0.042492</td>\n      <td>4</td>\n    </tr>\n    <tr>\n      <th>13</th>\n      <td>0.001193</td>\n      <td>0.000371</td>\n      <td>0.000799</td>\n      <td>3.996412e-04</td>\n      <td>entropy</td>\n      <td>10</td>\n      <td>4</td>\n      <td>{'criterion': 'entropy', 'max_depth': 10, 'min...</td>\n      <td>0.958333</td>\n      <td>0.958333</td>\n      <td>0.916667</td>\n      <td>0.916667</td>\n      <td>0.958333</td>\n      <td>0.941667</td>\n      <td>0.020412</td>\n      <td>4</td>\n    </tr>\n    <tr>\n      <th>14</th>\n      <td>0.001388</td>\n      <td>0.000507</td>\n      <td>0.000400</td>\n      <td>4.898630e-04</td>\n      <td>entropy</td>\n      <td>10</td>\n      <td>6</td>\n      <td>{'criterion': 'entropy', 'max_depth': 10, 'min...</td>\n      <td>0.958333</td>\n      <td>0.958333</td>\n      <td>0.875000</td>\n      <td>0.916667</td>\n      <td>0.958333</td>\n      <td>0.933333</td>\n      <td>0.033333</td>\n      <td>21</td>\n    </tr>\n    <tr>\n      <th>15</th>\n      <td>0.001398</td>\n      <td>0.000489</td>\n      <td>0.000801</td>\n      <td>4.005246e-04</td>\n      <td>entropy</td>\n      <td>15</td>\n      <td>2</td>\n      <td>{'criterion': 'entropy', 'max_depth': 15, 'min...</td>\n      <td>0.958333</td>\n      <td>1.000000</td>\n      <td>0.916667</td>\n      <td>0.916667</td>\n      <td>0.916667</td>\n      <td>0.941667</td>\n      <td>0.033333</td>\n      <td>4</td>\n    </tr>\n    <tr>\n      <th>16</th>\n      <td>0.001201</td>\n      <td>0.000397</td>\n      <td>0.000800</td>\n      <td>4.001462e-04</td>\n      <td>entropy</td>\n      <td>15</td>\n      <td>4</td>\n      <td>{'criterion': 'entropy', 'max_depth': 15, 'min...</td>\n      <td>0.958333</td>\n      <td>0.958333</td>\n      <td>0.875000</td>\n      <td>0.916667</td>\n      <td>0.958333</td>\n      <td>0.933333</td>\n      <td>0.033333</td>\n      <td>21</td>\n    </tr>\n    <tr>\n      <th>17</th>\n      <td>0.001009</td>\n      <td>0.000028</td>\n      <td>0.000989</td>\n      <td>2.737668e-05</td>\n      <td>entropy</td>\n      <td>15</td>\n      <td>6</td>\n      <td>{'criterion': 'entropy', 'max_depth': 15, 'min...</td>\n      <td>0.958333</td>\n      <td>0.958333</td>\n      <td>0.875000</td>\n      <td>0.916667</td>\n      <td>0.958333</td>\n      <td>0.933333</td>\n      <td>0.033333</td>\n      <td>21</td>\n    </tr>\n    <tr>\n      <th>18</th>\n      <td>0.001398</td>\n      <td>0.000496</td>\n      <td>0.001015</td>\n      <td>3.626145e-05</td>\n      <td>log_loss</td>\n      <td>5</td>\n      <td>2</td>\n      <td>{'criterion': 'log_loss', 'max_depth': 5, 'min...</td>\n      <td>0.958333</td>\n      <td>1.000000</td>\n      <td>0.875000</td>\n      <td>0.916667</td>\n      <td>0.958333</td>\n      <td>0.941667</td>\n      <td>0.042492</td>\n      <td>4</td>\n    </tr>\n    <tr>\n      <th>19</th>\n      <td>0.000990</td>\n      <td>0.000030</td>\n      <td>0.001000</td>\n      <td>5.743068e-06</td>\n      <td>log_loss</td>\n      <td>5</td>\n      <td>4</td>\n      <td>{'criterion': 'log_loss', 'max_depth': 5, 'min...</td>\n      <td>0.958333</td>\n      <td>0.958333</td>\n      <td>0.916667</td>\n      <td>0.916667</td>\n      <td>0.958333</td>\n      <td>0.941667</td>\n      <td>0.020412</td>\n      <td>4</td>\n    </tr>\n    <tr>\n      <th>20</th>\n      <td>0.001185</td>\n      <td>0.000374</td>\n      <td>0.000805</td>\n      <td>4.027619e-04</td>\n      <td>log_loss</td>\n      <td>5</td>\n      <td>6</td>\n      <td>{'criterion': 'log_loss', 'max_depth': 5, 'min...</td>\n      <td>0.958333</td>\n      <td>0.958333</td>\n      <td>0.875000</td>\n      <td>0.916667</td>\n      <td>0.958333</td>\n      <td>0.933333</td>\n      <td>0.033333</td>\n      <td>21</td>\n    </tr>\n    <tr>\n      <th>21</th>\n      <td>0.001203</td>\n      <td>0.000407</td>\n      <td>0.000800</td>\n      <td>4.002571e-04</td>\n      <td>log_loss</td>\n      <td>10</td>\n      <td>2</td>\n      <td>{'criterion': 'log_loss', 'max_depth': 10, 'mi...</td>\n      <td>0.958333</td>\n      <td>1.000000</td>\n      <td>0.916667</td>\n      <td>0.916667</td>\n      <td>0.916667</td>\n      <td>0.941667</td>\n      <td>0.033333</td>\n      <td>4</td>\n    </tr>\n    <tr>\n      <th>22</th>\n      <td>0.001195</td>\n      <td>0.000388</td>\n      <td>0.000812</td>\n      <td>4.065766e-04</td>\n      <td>log_loss</td>\n      <td>10</td>\n      <td>4</td>\n      <td>{'criterion': 'log_loss', 'max_depth': 10, 'mi...</td>\n      <td>0.958333</td>\n      <td>0.958333</td>\n      <td>0.875000</td>\n      <td>0.916667</td>\n      <td>0.958333</td>\n      <td>0.933333</td>\n      <td>0.033333</td>\n      <td>21</td>\n    </tr>\n    <tr>\n      <th>23</th>\n      <td>0.001001</td>\n      <td>0.000002</td>\n      <td>0.000999</td>\n      <td>2.657485e-06</td>\n      <td>log_loss</td>\n      <td>10</td>\n      <td>6</td>\n      <td>{'criterion': 'log_loss', 'max_depth': 10, 'mi...</td>\n      <td>0.958333</td>\n      <td>0.958333</td>\n      <td>0.916667</td>\n      <td>0.916667</td>\n      <td>0.958333</td>\n      <td>0.941667</td>\n      <td>0.020412</td>\n      <td>4</td>\n    </tr>\n    <tr>\n      <th>24</th>\n      <td>0.001209</td>\n      <td>0.000408</td>\n      <td>0.000991</td>\n      <td>1.928310e-05</td>\n      <td>log_loss</td>\n      <td>15</td>\n      <td>2</td>\n      <td>{'criterion': 'log_loss', 'max_depth': 15, 'mi...</td>\n      <td>0.958333</td>\n      <td>1.000000</td>\n      <td>0.916667</td>\n      <td>0.916667</td>\n      <td>0.958333</td>\n      <td>0.950000</td>\n      <td>0.031180</td>\n      <td>2</td>\n    </tr>\n    <tr>\n      <th>25</th>\n      <td>0.009590</td>\n      <td>0.010289</td>\n      <td>0.004449</td>\n      <td>4.017771e-03</td>\n      <td>log_loss</td>\n      <td>15</td>\n      <td>4</td>\n      <td>{'criterion': 'log_loss', 'max_depth': 15, 'mi...</td>\n      <td>0.958333</td>\n      <td>0.958333</td>\n      <td>0.916667</td>\n      <td>0.916667</td>\n      <td>0.958333</td>\n      <td>0.941667</td>\n      <td>0.020412</td>\n      <td>4</td>\n    </tr>\n    <tr>\n      <th>26</th>\n      <td>0.001977</td>\n      <td>0.000922</td>\n      <td>0.000836</td>\n      <td>4.202216e-04</td>\n      <td>log_loss</td>\n      <td>15</td>\n      <td>6</td>\n      <td>{'criterion': 'log_loss', 'max_depth': 15, 'mi...</td>\n      <td>0.958333</td>\n      <td>0.958333</td>\n      <td>0.916667</td>\n      <td>0.916667</td>\n      <td>0.958333</td>\n      <td>0.941667</td>\n      <td>0.020412</td>\n      <td>4</td>\n    </tr>\n  </tbody>\n</table>\n</div>"
     },
     "execution_count": 97,
     "metadata": {},
     "output_type": "execute_result"
    }
   ],
   "source": [
    "# 학습 후 저장된 모델 파라미터 확인\n",
    "# 교차학습 결과 => 조합된 모델의 갯수만큼 나온다\n",
    "cv_resultsDF=pd.DataFrame(gs.cv_results_)\n",
    "cv_resultsDF"
   ],
   "metadata": {
    "collapsed": false,
    "ExecuteTime": {
     "end_time": "2024-03-07T02:16:14.056658300Z",
     "start_time": "2024-03-07T02:16:14.014671300Z"
    }
   },
   "id": "d665ddccfd40a6d1",
   "execution_count": 97
  },
  {
   "cell_type": "code",
   "outputs": [
    {
     "data": {
      "text/plain": "{'criterion': 'gini', 'max_depth': 10, 'min_samples_split': 2}"
     },
     "execution_count": 98,
     "metadata": {},
     "output_type": "execute_result"
    }
   ],
   "source": [
    "# 조합된 모델 중 최고의 성능을 내는 하이퍼파라미터 값\n",
    "gs.best_params_"
   ],
   "metadata": {
    "collapsed": false,
    "ExecuteTime": {
     "end_time": "2024-03-07T02:16:14.060656600Z",
     "start_time": "2024-03-07T02:16:14.048655900Z"
    }
   },
   "id": "5129868b70d2b767",
   "execution_count": 98
  },
  {
   "cell_type": "code",
   "outputs": [],
   "source": [
    "# 조합된 모델 중 최고의 성능을 내는 모델 인스턴스\n",
    "my_best_model = gs.best_estimator_"
   ],
   "metadata": {
    "collapsed": false,
    "ExecuteTime": {
     "end_time": "2024-03-07T02:16:14.106787800Z",
     "start_time": "2024-03-07T02:16:14.061655700Z"
    }
   },
   "id": "913e9a9af9a196f7",
   "execution_count": 99
  },
  {
   "cell_type": "code",
   "outputs": [
    {
     "data": {
      "text/plain": "0.9583333333333334"
     },
     "execution_count": 100,
     "metadata": {},
     "output_type": "execute_result"
    }
   ],
   "source": [
    "# 조합된 모델 중 최고의 점수   (test score기준)\n",
    "gs.best_score_"
   ],
   "metadata": {
    "collapsed": false,
    "ExecuteTime": {
     "end_time": "2024-03-07T02:16:14.123413Z",
     "start_time": "2024-03-07T02:16:14.077656Z"
    }
   },
   "id": "c9c1ce52d2fb82de",
   "execution_count": 100
  },
  {
   "cell_type": "markdown",
   "source": [
    "[6] 학습 및 튜닝 후 모델 저장 <hr>\n",
    "- 다른 파일에서 활용이 가능한 파일 형태로 저장\n",
    "- 웹, 앱 원는 곳에서 활용 가능\n",
    "- scikit-lean 에서는 pickle 포맥으로 저장\n",
    "- joblib 모듈에 해당 기능 포함되어 있음"
   ],
   "metadata": {
    "collapsed": false
   },
   "id": "1a7dcd2c4efec01b"
  },
  {
   "cell_type": "code",
   "outputs": [],
   "source": [
    "import joblib\n",
    "import os"
   ],
   "metadata": {
    "collapsed": false,
    "ExecuteTime": {
     "end_time": "2024-03-07T02:19:26.130532300Z",
     "start_time": "2024-03-07T02:19:26.104138200Z"
    }
   },
   "id": "6877d262f93256ac",
   "execution_count": 103
  },
  {
   "cell_type": "code",
   "outputs": [
    {
     "data": {
      "text/plain": "['../model/iris_dt.pkl']"
     },
     "execution_count": 106,
     "metadata": {},
     "output_type": "execute_result"
    }
   ],
   "source": [
    "# 모델 저장\n",
    "model_dir = '../model/'\n",
    "model_filename = model_dir+'iris_dt.pkl'\n",
    "\n",
    "# 저장 폴더 존재여부 확인 후 저장\n",
    "if not os.path.exists(model_dir):\n",
    "    os.mkdir(model_dir)\n",
    "joblib.dump(my_best_model, model_filename)"
   ],
   "metadata": {
    "collapsed": false,
    "ExecuteTime": {
     "end_time": "2024-03-07T02:21:41.069427600Z",
     "start_time": "2024-03-07T02:21:41.044185200Z"
    }
   },
   "id": "fcbffd9d8fdd02a0",
   "execution_count": 106
  },
  {
   "cell_type": "code",
   "outputs": [],
   "source": [],
   "metadata": {
    "collapsed": false
   },
   "id": "abb08d8fc103607d"
  }
 ],
 "metadata": {
  "kernelspec": {
   "display_name": "Python 3",
   "language": "python",
   "name": "python3"
  },
  "language_info": {
   "codemirror_mode": {
    "name": "ipython",
    "version": 2
   },
   "file_extension": ".py",
   "mimetype": "text/x-python",
   "name": "python",
   "nbconvert_exporter": "python",
   "pygments_lexer": "ipython2",
   "version": "2.7.6"
  }
 },
 "nbformat": 4,
 "nbformat_minor": 5
}
