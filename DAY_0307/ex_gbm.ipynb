{
 "cells": [
  {
   "cell_type": "markdown",
   "source": [
    "### 그레디언트 부스팅 계열의 앙상블 모델\n",
    "- 대표적인 모델 : XGBoost, LightGBM\n",
    "- 추가 설치 및 사용법 숫지 필요"
   ],
   "metadata": {
    "collapsed": false
   },
   "id": "e55e99cf02124f1"
  },
  {
   "cell_type": "markdown",
   "source": [
    "- 설치 여부 확인"
   ],
   "metadata": {
    "collapsed": false
   },
   "id": "9883bf5c62f8a017"
  },
  {
   "cell_type": "code",
   "outputs": [
    {
     "name": "stdout",
     "output_type": "stream",
     "text": [
      "xgboost : 1.7.3\n",
      "lightgbm : 4.1.0\n"
     ]
    }
   ],
   "source": [
    "import xgboost, lightgbm\n",
    "\n",
    "print(f'xgboost : {xgboost.__version__}')\n",
    "print(f'lightgbm : {lightgbm.__version__}')"
   ],
   "metadata": {
    "collapsed": false,
    "ExecuteTime": {
     "end_time": "2024-03-07T07:11:57.703572600Z",
     "start_time": "2024-03-07T07:11:57.672126400Z"
    }
   },
   "id": "86c9955c5e8c3d5f",
   "execution_count": 28
  },
  {
   "cell_type": "markdown",
   "source": [
    "[1] 모듈 로딩 및 데이터 준비 <hr>"
   ],
   "metadata": {
    "collapsed": false
   },
   "id": "186fd88b1bc2bf2c"
  },
  {
   "cell_type": "code",
   "outputs": [],
   "source": [
    "## 데이터 파일 변수 선언\n",
    "feature_name_file = '../data/human_activity/features.txt'\n",
    "label_file = '../data/human_activity/activity_labels.txt'\n",
    "\n",
    "x_train_file = '../data/human_activity/train/X_train.txt'\n",
    "y_train_file = '../data/human_activity/train/y_train.txt'\n",
    "\n",
    "x_tes_file = '../data/human_activity/test/X_test.txt'\n",
    "y_test_file = '../data/human_activity/test/y_test.txt'"
   ],
   "metadata": {
    "collapsed": false,
    "ExecuteTime": {
     "end_time": "2024-03-07T07:11:57.703572600Z",
     "start_time": "2024-03-07T07:11:57.689127300Z"
    }
   },
   "id": "ee6d2ecec2e1eb2d",
   "execution_count": 29
  },
  {
   "cell_type": "code",
   "outputs": [],
   "source": [
    "## 데이터 로딩\n",
    "import pandas as pd\n",
    "import numpy as np\n",
    "feature_nameDF = pd.read_csv(feature_name_file, \n",
    "                             sep='\\s+',\n",
    "                             header=None, names=['col_id', 'col_name'])"
   ],
   "metadata": {
    "collapsed": false,
    "ExecuteTime": {
     "end_time": "2024-03-07T07:11:57.729813600Z",
     "start_time": "2024-03-07T07:11:57.705581100Z"
    }
   },
   "id": "88524bd0562a9eef",
   "execution_count": 30
  },
  {
   "cell_type": "code",
   "outputs": [
    {
     "name": "stdout",
     "output_type": "stream",
     "text": [
      "<class 'pandas.core.frame.DataFrame'>\n",
      "RangeIndex: 561 entries, 0 to 560\n",
      "Data columns (total 2 columns):\n",
      " #   Column    Non-Null Count  Dtype \n",
      "---  ------    --------------  ----- \n",
      " 0   col_id    561 non-null    int64 \n",
      " 1   col_name  561 non-null    object\n",
      "dtypes: int64(1), object(1)\n",
      "memory usage: 8.9+ KB\n"
     ]
    }
   ],
   "source": [
    "# 데이터 확인\n",
    "feature_nameDF.info()"
   ],
   "metadata": {
    "collapsed": false,
    "ExecuteTime": {
     "end_time": "2024-03-07T07:11:57.733801200Z",
     "start_time": "2024-03-07T07:11:57.723797300Z"
    }
   },
   "id": "6f7400244c23fba",
   "execution_count": 31
  },
  {
   "cell_type": "code",
   "outputs": [
    {
     "data": {
      "text/plain": "84"
     },
     "execution_count": 32,
     "metadata": {},
     "output_type": "execute_result"
    }
   ],
   "source": [
    "# 중복 체크\n",
    "feature_nameDF.col_name.duplicated().sum()"
   ],
   "metadata": {
    "collapsed": false,
    "ExecuteTime": {
     "end_time": "2024-03-07T07:11:57.787244100Z",
     "start_time": "2024-03-07T07:11:57.734800500Z"
    }
   },
   "id": "b75f66499667816a",
   "execution_count": 32
  },
  {
   "cell_type": "code",
   "outputs": [],
   "source": [],
   "metadata": {
    "collapsed": false,
    "ExecuteTime": {
     "end_time": "2024-03-07T07:11:57.789244300Z",
     "start_time": "2024-03-07T07:11:57.750800800Z"
    }
   },
   "id": "a8a1207b39c001f8",
   "execution_count": 32
  },
  {
   "cell_type": "code",
   "outputs": [
    {
     "data": {
      "text/plain": "Index([316, 317, 318, 319, 320, 321, 322, 323, 324, 325, 326, 327, 328, 329,\n       330, 331, 332, 333, 334, 335, 336, 337, 338, 339, 340, 341, 342, 343,\n       395, 396, 397, 398, 399, 400, 401, 402, 403, 404, 405, 406, 407, 408,\n       409, 410, 411, 412, 413, 414, 415, 416, 417, 418, 419, 420, 421, 422,\n       474, 475, 476, 477, 478, 479, 480, 481, 482, 483, 484, 485, 486, 487,\n       488, 489, 490, 491, 492, 493, 494, 495, 496, 497, 498, 499, 500, 501],\n      dtype='int64')"
     },
     "execution_count": 33,
     "metadata": {},
     "output_type": "execute_result"
    }
   ],
   "source": [
    "drop_index = feature_nameDF[feature_nameDF.col_name.duplicated()].index\n",
    "drop_index"
   ],
   "metadata": {
    "collapsed": false,
    "ExecuteTime": {
     "end_time": "2024-03-07T07:11:57.790243900Z",
     "start_time": "2024-03-07T07:11:57.767802200Z"
    }
   },
   "id": "21619f074d0cbe20",
   "execution_count": 33
  },
  {
   "cell_type": "code",
   "outputs": [
    {
     "name": "stdout",
     "output_type": "stream",
     "text": [
      "<class 'pandas.core.frame.DataFrame'>\n",
      "RangeIndex: 7352 entries, 0 to 7351\n",
      "Columns: 561 entries, 0 to 560\n",
      "dtypes: float64(561)\n",
      "memory usage: 31.5 MB\n"
     ]
    }
   ],
   "source": [
    "## => 데이터 로딩\n",
    "X_trainDF = pd.read_csv(x_train_file, sep='\\s+', header=None)\n",
    "X_trainDF.info()"
   ],
   "metadata": {
    "collapsed": false,
    "ExecuteTime": {
     "end_time": "2024-03-07T07:11:59.883138900Z",
     "start_time": "2024-03-07T07:11:57.784245600Z"
    }
   },
   "id": "c6dca368da18427d",
   "execution_count": 34
  },
  {
   "cell_type": "code",
   "outputs": [
    {
     "data": {
      "text/plain": "           0         1         2         3         4         5         6    \\\n0     0.288585 -0.020294 -0.132905 -0.995279 -0.983111 -0.913526 -0.995112   \n1     0.278419 -0.016411 -0.123520 -0.998245 -0.975300 -0.960322 -0.998807   \n2     0.279653 -0.019467 -0.113462 -0.995380 -0.967187 -0.978944 -0.996520   \n3     0.279174 -0.026201 -0.123283 -0.996091 -0.983403 -0.990675 -0.997099   \n4     0.276629 -0.016570 -0.115362 -0.998139 -0.980817 -0.990482 -0.998321   \n...        ...       ...       ...       ...       ...       ...       ...   \n7347  0.299665 -0.057193 -0.181233 -0.195387  0.039905  0.077078 -0.282301   \n7348  0.273853 -0.007749 -0.147468 -0.235309  0.004816  0.059280 -0.322552   \n7349  0.273387 -0.017011 -0.045022 -0.218218 -0.103822  0.274533 -0.304515   \n7350  0.289654 -0.018843 -0.158281 -0.219139 -0.111412  0.268893 -0.310487   \n7351  0.351503 -0.012423 -0.203867 -0.269270 -0.087212  0.177404 -0.377404   \n\n           7         8         9    ...       551       552       553  \\\n0    -0.983185 -0.923527 -0.934724  ... -0.074323 -0.298676 -0.710304   \n1    -0.974914 -0.957686 -0.943068  ...  0.158075 -0.595051 -0.861499   \n2    -0.963668 -0.977469 -0.938692  ...  0.414503 -0.390748 -0.760104   \n3    -0.982750 -0.989302 -0.938692  ...  0.404573 -0.117290 -0.482845   \n4    -0.979672 -0.990441 -0.942469  ...  0.087753 -0.351471 -0.699205   \n...        ...       ...       ...  ...       ...       ...       ...   \n7347  0.043616  0.060410  0.210795  ... -0.070157 -0.588433 -0.880324   \n7348 -0.029456  0.080585  0.117440  ...  0.165259 -0.390738 -0.680744   \n7349 -0.098913  0.332584  0.043999  ...  0.195034  0.025145 -0.304029   \n7350 -0.068200  0.319473  0.101702  ...  0.013865  0.063907 -0.344314   \n7351 -0.038678  0.229430  0.269013  ... -0.058402 -0.387052 -0.740738   \n\n           554       555       556       557       558       559       560  \n0    -0.112754  0.030400 -0.464761 -0.018446 -0.841247  0.179941 -0.058627  \n1     0.053477 -0.007435 -0.732626  0.703511 -0.844788  0.180289 -0.054317  \n2    -0.118559  0.177899  0.100699  0.808529 -0.848933  0.180637 -0.049118  \n3    -0.036788 -0.012892  0.640011 -0.485366 -0.848649  0.181935 -0.047663  \n4     0.123320  0.122542  0.693578 -0.615971 -0.847865  0.185151 -0.043892  \n...        ...       ...       ...       ...       ...       ...       ...  \n7347 -0.190437  0.829718  0.206972 -0.425619 -0.791883  0.238604  0.049819  \n7348  0.064907  0.875679 -0.879033  0.400219 -0.771840  0.252676  0.050053  \n7349  0.052806 -0.266724  0.864404  0.701169 -0.779133  0.249145  0.040811  \n7350 -0.101360  0.700740  0.936674 -0.589479 -0.785181  0.246432  0.025339  \n7351 -0.280088 -0.007739 -0.056088 -0.616956 -0.783267  0.246809  0.036695  \n\n[7352 rows x 477 columns]",
      "text/html": "<div>\n<style scoped>\n    .dataframe tbody tr th:only-of-type {\n        vertical-align: middle;\n    }\n\n    .dataframe tbody tr th {\n        vertical-align: top;\n    }\n\n    .dataframe thead th {\n        text-align: right;\n    }\n</style>\n<table border=\"1\" class=\"dataframe\">\n  <thead>\n    <tr style=\"text-align: right;\">\n      <th></th>\n      <th>0</th>\n      <th>1</th>\n      <th>2</th>\n      <th>3</th>\n      <th>4</th>\n      <th>5</th>\n      <th>6</th>\n      <th>7</th>\n      <th>8</th>\n      <th>9</th>\n      <th>...</th>\n      <th>551</th>\n      <th>552</th>\n      <th>553</th>\n      <th>554</th>\n      <th>555</th>\n      <th>556</th>\n      <th>557</th>\n      <th>558</th>\n      <th>559</th>\n      <th>560</th>\n    </tr>\n  </thead>\n  <tbody>\n    <tr>\n      <th>0</th>\n      <td>0.288585</td>\n      <td>-0.020294</td>\n      <td>-0.132905</td>\n      <td>-0.995279</td>\n      <td>-0.983111</td>\n      <td>-0.913526</td>\n      <td>-0.995112</td>\n      <td>-0.983185</td>\n      <td>-0.923527</td>\n      <td>-0.934724</td>\n      <td>...</td>\n      <td>-0.074323</td>\n      <td>-0.298676</td>\n      <td>-0.710304</td>\n      <td>-0.112754</td>\n      <td>0.030400</td>\n      <td>-0.464761</td>\n      <td>-0.018446</td>\n      <td>-0.841247</td>\n      <td>0.179941</td>\n      <td>-0.058627</td>\n    </tr>\n    <tr>\n      <th>1</th>\n      <td>0.278419</td>\n      <td>-0.016411</td>\n      <td>-0.123520</td>\n      <td>-0.998245</td>\n      <td>-0.975300</td>\n      <td>-0.960322</td>\n      <td>-0.998807</td>\n      <td>-0.974914</td>\n      <td>-0.957686</td>\n      <td>-0.943068</td>\n      <td>...</td>\n      <td>0.158075</td>\n      <td>-0.595051</td>\n      <td>-0.861499</td>\n      <td>0.053477</td>\n      <td>-0.007435</td>\n      <td>-0.732626</td>\n      <td>0.703511</td>\n      <td>-0.844788</td>\n      <td>0.180289</td>\n      <td>-0.054317</td>\n    </tr>\n    <tr>\n      <th>2</th>\n      <td>0.279653</td>\n      <td>-0.019467</td>\n      <td>-0.113462</td>\n      <td>-0.995380</td>\n      <td>-0.967187</td>\n      <td>-0.978944</td>\n      <td>-0.996520</td>\n      <td>-0.963668</td>\n      <td>-0.977469</td>\n      <td>-0.938692</td>\n      <td>...</td>\n      <td>0.414503</td>\n      <td>-0.390748</td>\n      <td>-0.760104</td>\n      <td>-0.118559</td>\n      <td>0.177899</td>\n      <td>0.100699</td>\n      <td>0.808529</td>\n      <td>-0.848933</td>\n      <td>0.180637</td>\n      <td>-0.049118</td>\n    </tr>\n    <tr>\n      <th>3</th>\n      <td>0.279174</td>\n      <td>-0.026201</td>\n      <td>-0.123283</td>\n      <td>-0.996091</td>\n      <td>-0.983403</td>\n      <td>-0.990675</td>\n      <td>-0.997099</td>\n      <td>-0.982750</td>\n      <td>-0.989302</td>\n      <td>-0.938692</td>\n      <td>...</td>\n      <td>0.404573</td>\n      <td>-0.117290</td>\n      <td>-0.482845</td>\n      <td>-0.036788</td>\n      <td>-0.012892</td>\n      <td>0.640011</td>\n      <td>-0.485366</td>\n      <td>-0.848649</td>\n      <td>0.181935</td>\n      <td>-0.047663</td>\n    </tr>\n    <tr>\n      <th>4</th>\n      <td>0.276629</td>\n      <td>-0.016570</td>\n      <td>-0.115362</td>\n      <td>-0.998139</td>\n      <td>-0.980817</td>\n      <td>-0.990482</td>\n      <td>-0.998321</td>\n      <td>-0.979672</td>\n      <td>-0.990441</td>\n      <td>-0.942469</td>\n      <td>...</td>\n      <td>0.087753</td>\n      <td>-0.351471</td>\n      <td>-0.699205</td>\n      <td>0.123320</td>\n      <td>0.122542</td>\n      <td>0.693578</td>\n      <td>-0.615971</td>\n      <td>-0.847865</td>\n      <td>0.185151</td>\n      <td>-0.043892</td>\n    </tr>\n    <tr>\n      <th>...</th>\n      <td>...</td>\n      <td>...</td>\n      <td>...</td>\n      <td>...</td>\n      <td>...</td>\n      <td>...</td>\n      <td>...</td>\n      <td>...</td>\n      <td>...</td>\n      <td>...</td>\n      <td>...</td>\n      <td>...</td>\n      <td>...</td>\n      <td>...</td>\n      <td>...</td>\n      <td>...</td>\n      <td>...</td>\n      <td>...</td>\n      <td>...</td>\n      <td>...</td>\n      <td>...</td>\n    </tr>\n    <tr>\n      <th>7347</th>\n      <td>0.299665</td>\n      <td>-0.057193</td>\n      <td>-0.181233</td>\n      <td>-0.195387</td>\n      <td>0.039905</td>\n      <td>0.077078</td>\n      <td>-0.282301</td>\n      <td>0.043616</td>\n      <td>0.060410</td>\n      <td>0.210795</td>\n      <td>...</td>\n      <td>-0.070157</td>\n      <td>-0.588433</td>\n      <td>-0.880324</td>\n      <td>-0.190437</td>\n      <td>0.829718</td>\n      <td>0.206972</td>\n      <td>-0.425619</td>\n      <td>-0.791883</td>\n      <td>0.238604</td>\n      <td>0.049819</td>\n    </tr>\n    <tr>\n      <th>7348</th>\n      <td>0.273853</td>\n      <td>-0.007749</td>\n      <td>-0.147468</td>\n      <td>-0.235309</td>\n      <td>0.004816</td>\n      <td>0.059280</td>\n      <td>-0.322552</td>\n      <td>-0.029456</td>\n      <td>0.080585</td>\n      <td>0.117440</td>\n      <td>...</td>\n      <td>0.165259</td>\n      <td>-0.390738</td>\n      <td>-0.680744</td>\n      <td>0.064907</td>\n      <td>0.875679</td>\n      <td>-0.879033</td>\n      <td>0.400219</td>\n      <td>-0.771840</td>\n      <td>0.252676</td>\n      <td>0.050053</td>\n    </tr>\n    <tr>\n      <th>7349</th>\n      <td>0.273387</td>\n      <td>-0.017011</td>\n      <td>-0.045022</td>\n      <td>-0.218218</td>\n      <td>-0.103822</td>\n      <td>0.274533</td>\n      <td>-0.304515</td>\n      <td>-0.098913</td>\n      <td>0.332584</td>\n      <td>0.043999</td>\n      <td>...</td>\n      <td>0.195034</td>\n      <td>0.025145</td>\n      <td>-0.304029</td>\n      <td>0.052806</td>\n      <td>-0.266724</td>\n      <td>0.864404</td>\n      <td>0.701169</td>\n      <td>-0.779133</td>\n      <td>0.249145</td>\n      <td>0.040811</td>\n    </tr>\n    <tr>\n      <th>7350</th>\n      <td>0.289654</td>\n      <td>-0.018843</td>\n      <td>-0.158281</td>\n      <td>-0.219139</td>\n      <td>-0.111412</td>\n      <td>0.268893</td>\n      <td>-0.310487</td>\n      <td>-0.068200</td>\n      <td>0.319473</td>\n      <td>0.101702</td>\n      <td>...</td>\n      <td>0.013865</td>\n      <td>0.063907</td>\n      <td>-0.344314</td>\n      <td>-0.101360</td>\n      <td>0.700740</td>\n      <td>0.936674</td>\n      <td>-0.589479</td>\n      <td>-0.785181</td>\n      <td>0.246432</td>\n      <td>0.025339</td>\n    </tr>\n    <tr>\n      <th>7351</th>\n      <td>0.351503</td>\n      <td>-0.012423</td>\n      <td>-0.203867</td>\n      <td>-0.269270</td>\n      <td>-0.087212</td>\n      <td>0.177404</td>\n      <td>-0.377404</td>\n      <td>-0.038678</td>\n      <td>0.229430</td>\n      <td>0.269013</td>\n      <td>...</td>\n      <td>-0.058402</td>\n      <td>-0.387052</td>\n      <td>-0.740738</td>\n      <td>-0.280088</td>\n      <td>-0.007739</td>\n      <td>-0.056088</td>\n      <td>-0.616956</td>\n      <td>-0.783267</td>\n      <td>0.246809</td>\n      <td>0.036695</td>\n    </tr>\n  </tbody>\n</table>\n<p>7352 rows × 477 columns</p>\n</div>"
     },
     "execution_count": 35,
     "metadata": {},
     "output_type": "execute_result"
    }
   ],
   "source": [
    "X_trainDF.drop(drop_index, axis='columns', inplace=True)\n",
    "X_trainDF"
   ],
   "metadata": {
    "collapsed": false,
    "ExecuteTime": {
     "end_time": "2024-03-07T07:11:59.919146500Z",
     "start_time": "2024-03-07T07:11:59.887106Z"
    }
   },
   "id": "c8d80651ddfa899a",
   "execution_count": 35
  },
  {
   "cell_type": "code",
   "outputs": [],
   "source": [
    "X_trainDF = (X_trainDF.T.reset_index(drop=True)).T"
   ],
   "metadata": {
    "collapsed": false,
    "ExecuteTime": {
     "end_time": "2024-03-07T07:12:29.259655900Z",
     "start_time": "2024-03-07T07:12:29.237264100Z"
    }
   },
   "id": "e255b676e98f0ac4",
   "execution_count": 37
  },
  {
   "cell_type": "code",
   "outputs": [
    {
     "data": {
      "text/plain": "RangeIndex(start=0, stop=477, step=1)"
     },
     "execution_count": 38,
     "metadata": {},
     "output_type": "execute_result"
    }
   ],
   "source": [
    "X_trainDF.columns"
   ],
   "metadata": {
    "collapsed": false,
    "ExecuteTime": {
     "end_time": "2024-03-07T07:12:31.190489900Z",
     "start_time": "2024-03-07T07:12:31.181489700Z"
    }
   },
   "id": "9462080f17e49d7e",
   "execution_count": 38
  },
  {
   "cell_type": "code",
   "outputs": [
    {
     "data": {
      "text/plain": "        0         1         2         3         4         5         6    \\\n0  0.288585 -0.020294 -0.132905 -0.995279 -0.983111 -0.913526 -0.995112   \n1  0.278419 -0.016411 -0.123520 -0.998245 -0.975300 -0.960322 -0.998807   \n2  0.279653 -0.019467 -0.113462 -0.995380 -0.967187 -0.978944 -0.996520   \n3  0.279174 -0.026201 -0.123283 -0.996091 -0.983403 -0.990675 -0.997099   \n4  0.276629 -0.016570 -0.115362 -0.998139 -0.980817 -0.990482 -0.998321   \n\n        7         8         9    ...       467       468       469       470  \\\n0 -0.983185 -0.923527 -0.934724  ... -0.074323 -0.298676 -0.710304 -0.112754   \n1 -0.974914 -0.957686 -0.943068  ...  0.158075 -0.595051 -0.861499  0.053477   \n2 -0.963668 -0.977469 -0.938692  ...  0.414503 -0.390748 -0.760104 -0.118559   \n3 -0.982750 -0.989302 -0.938692  ...  0.404573 -0.117290 -0.482845 -0.036788   \n4 -0.979672 -0.990441 -0.942469  ...  0.087753 -0.351471 -0.699205  0.123320   \n\n        471       472       473       474       475       476  \n0  0.030400 -0.464761 -0.018446 -0.841247  0.179941 -0.058627  \n1 -0.007435 -0.732626  0.703511 -0.844788  0.180289 -0.054317  \n2  0.177899  0.100699  0.808529 -0.848933  0.180637 -0.049118  \n3 -0.012892  0.640011 -0.485366 -0.848649  0.181935 -0.047663  \n4  0.122542  0.693578 -0.615971 -0.847865  0.185151 -0.043892  \n\n[5 rows x 477 columns]",
      "text/html": "<div>\n<style scoped>\n    .dataframe tbody tr th:only-of-type {\n        vertical-align: middle;\n    }\n\n    .dataframe tbody tr th {\n        vertical-align: top;\n    }\n\n    .dataframe thead th {\n        text-align: right;\n    }\n</style>\n<table border=\"1\" class=\"dataframe\">\n  <thead>\n    <tr style=\"text-align: right;\">\n      <th></th>\n      <th>0</th>\n      <th>1</th>\n      <th>2</th>\n      <th>3</th>\n      <th>4</th>\n      <th>5</th>\n      <th>6</th>\n      <th>7</th>\n      <th>8</th>\n      <th>9</th>\n      <th>...</th>\n      <th>467</th>\n      <th>468</th>\n      <th>469</th>\n      <th>470</th>\n      <th>471</th>\n      <th>472</th>\n      <th>473</th>\n      <th>474</th>\n      <th>475</th>\n      <th>476</th>\n    </tr>\n  </thead>\n  <tbody>\n    <tr>\n      <th>0</th>\n      <td>0.288585</td>\n      <td>-0.020294</td>\n      <td>-0.132905</td>\n      <td>-0.995279</td>\n      <td>-0.983111</td>\n      <td>-0.913526</td>\n      <td>-0.995112</td>\n      <td>-0.983185</td>\n      <td>-0.923527</td>\n      <td>-0.934724</td>\n      <td>...</td>\n      <td>-0.074323</td>\n      <td>-0.298676</td>\n      <td>-0.710304</td>\n      <td>-0.112754</td>\n      <td>0.030400</td>\n      <td>-0.464761</td>\n      <td>-0.018446</td>\n      <td>-0.841247</td>\n      <td>0.179941</td>\n      <td>-0.058627</td>\n    </tr>\n    <tr>\n      <th>1</th>\n      <td>0.278419</td>\n      <td>-0.016411</td>\n      <td>-0.123520</td>\n      <td>-0.998245</td>\n      <td>-0.975300</td>\n      <td>-0.960322</td>\n      <td>-0.998807</td>\n      <td>-0.974914</td>\n      <td>-0.957686</td>\n      <td>-0.943068</td>\n      <td>...</td>\n      <td>0.158075</td>\n      <td>-0.595051</td>\n      <td>-0.861499</td>\n      <td>0.053477</td>\n      <td>-0.007435</td>\n      <td>-0.732626</td>\n      <td>0.703511</td>\n      <td>-0.844788</td>\n      <td>0.180289</td>\n      <td>-0.054317</td>\n    </tr>\n    <tr>\n      <th>2</th>\n      <td>0.279653</td>\n      <td>-0.019467</td>\n      <td>-0.113462</td>\n      <td>-0.995380</td>\n      <td>-0.967187</td>\n      <td>-0.978944</td>\n      <td>-0.996520</td>\n      <td>-0.963668</td>\n      <td>-0.977469</td>\n      <td>-0.938692</td>\n      <td>...</td>\n      <td>0.414503</td>\n      <td>-0.390748</td>\n      <td>-0.760104</td>\n      <td>-0.118559</td>\n      <td>0.177899</td>\n      <td>0.100699</td>\n      <td>0.808529</td>\n      <td>-0.848933</td>\n      <td>0.180637</td>\n      <td>-0.049118</td>\n    </tr>\n    <tr>\n      <th>3</th>\n      <td>0.279174</td>\n      <td>-0.026201</td>\n      <td>-0.123283</td>\n      <td>-0.996091</td>\n      <td>-0.983403</td>\n      <td>-0.990675</td>\n      <td>-0.997099</td>\n      <td>-0.982750</td>\n      <td>-0.989302</td>\n      <td>-0.938692</td>\n      <td>...</td>\n      <td>0.404573</td>\n      <td>-0.117290</td>\n      <td>-0.482845</td>\n      <td>-0.036788</td>\n      <td>-0.012892</td>\n      <td>0.640011</td>\n      <td>-0.485366</td>\n      <td>-0.848649</td>\n      <td>0.181935</td>\n      <td>-0.047663</td>\n    </tr>\n    <tr>\n      <th>4</th>\n      <td>0.276629</td>\n      <td>-0.016570</td>\n      <td>-0.115362</td>\n      <td>-0.998139</td>\n      <td>-0.980817</td>\n      <td>-0.990482</td>\n      <td>-0.998321</td>\n      <td>-0.979672</td>\n      <td>-0.990441</td>\n      <td>-0.942469</td>\n      <td>...</td>\n      <td>0.087753</td>\n      <td>-0.351471</td>\n      <td>-0.699205</td>\n      <td>0.123320</td>\n      <td>0.122542</td>\n      <td>0.693578</td>\n      <td>-0.615971</td>\n      <td>-0.847865</td>\n      <td>0.185151</td>\n      <td>-0.043892</td>\n    </tr>\n  </tbody>\n</table>\n<p>5 rows × 477 columns</p>\n</div>"
     },
     "execution_count": 39,
     "metadata": {},
     "output_type": "execute_result"
    }
   ],
   "source": [
    "X_trainDF.head()"
   ],
   "metadata": {
    "collapsed": false,
    "ExecuteTime": {
     "end_time": "2024-03-07T07:12:40.147342500Z",
     "start_time": "2024-03-07T07:12:40.124356600Z"
    }
   },
   "id": "370df3e52581447b",
   "execution_count": 39
  },
  {
   "cell_type": "code",
   "outputs": [
    {
     "name": "stdout",
     "output_type": "stream",
     "text": [
      "<class 'pandas.core.frame.DataFrame'>\n",
      "RangeIndex: 7352 entries, 0 to 7351\n",
      "Columns: 477 entries, 0 to 476\n",
      "dtypes: float64(477)\n",
      "memory usage: 26.8 MB\n"
     ]
    }
   ],
   "source": [
    "X_trainDF.info()"
   ],
   "metadata": {
    "collapsed": false,
    "ExecuteTime": {
     "end_time": "2024-03-07T07:13:37.518656900Z",
     "start_time": "2024-03-07T07:13:37.500675200Z"
    }
   },
   "id": "2d8941587eda522d",
   "execution_count": 40
  },
  {
   "cell_type": "code",
   "outputs": [],
   "source": [
    "feature_nameDF.drop_duplicates('col_name',inplace=True)"
   ],
   "metadata": {
    "collapsed": false,
    "ExecuteTime": {
     "end_time": "2024-03-07T07:21:09.517531300Z",
     "start_time": "2024-03-07T07:21:09.508531500Z"
    }
   },
   "id": "5d2335ab4efb7b92",
   "execution_count": 44
  },
  {
   "cell_type": "code",
   "outputs": [],
   "source": [
    "feature_nameDF.reset_index(drop=True,inplace=True)"
   ],
   "metadata": {
    "collapsed": false,
    "ExecuteTime": {
     "end_time": "2024-03-07T07:21:31.510094900Z",
     "start_time": "2024-03-07T07:21:31.491082300Z"
    }
   },
   "id": "1ad01be27732803d",
   "execution_count": 46
  },
  {
   "cell_type": "code",
   "outputs": [
    {
     "name": "stdout",
     "output_type": "stream",
     "text": [
      "<class 'pandas.core.frame.DataFrame'>\n",
      "RangeIndex: 477 entries, 0 to 476\n",
      "Data columns (total 2 columns):\n",
      " #   Column    Non-Null Count  Dtype \n",
      "---  ------    --------------  ----- \n",
      " 0   col_id    477 non-null    int64 \n",
      " 1   col_name  477 non-null    object\n",
      "dtypes: int64(1), object(1)\n",
      "memory usage: 7.6+ KB\n"
     ]
    }
   ],
   "source": [
    "feature_nameDF.info()"
   ],
   "metadata": {
    "collapsed": false,
    "ExecuteTime": {
     "end_time": "2024-03-07T07:21:36.418390600Z",
     "start_time": "2024-03-07T07:21:36.410391300Z"
    }
   },
   "id": "3af1e6941077a424",
   "execution_count": 47
  },
  {
   "cell_type": "code",
   "outputs": [],
   "source": [],
   "metadata": {
    "collapsed": false
   },
   "id": "b2ce28c139d6f4d7"
  }
 ],
 "metadata": {
  "kernelspec": {
   "display_name": "Python 3",
   "language": "python",
   "name": "python3"
  },
  "language_info": {
   "codemirror_mode": {
    "name": "ipython",
    "version": 2
   },
   "file_extension": ".py",
   "mimetype": "text/x-python",
   "name": "python",
   "nbconvert_exporter": "python",
   "pygments_lexer": "ipython2",
   "version": "2.7.6"
  }
 },
 "nbformat": 4,
 "nbformat_minor": 5
}
